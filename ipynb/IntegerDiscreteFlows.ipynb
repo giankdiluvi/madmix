{
 "cells": [
  {
   "cell_type": "code",
   "execution_count": 1,
   "id": "82cf9bf8",
   "metadata": {},
   "outputs": [],
   "source": [
    "import numpy as np\n",
    "import pandas as pd\n",
    "import matplotlib.pyplot as plt\n",
    "import sys, time\n",
    "sys.path.insert(1, '../discrete_mixflows/')\n",
    "from discrete_mixflows import *\n",
    "from gibbs import *\n",
    "from concrete import *\n",
    "\n",
    "plt.rcParams.update({'figure.max_open_warning': 0})\n",
    "plt.rcParams[\"figure.figsize\"]=15,7.5\n",
    "plt.rcParams.update({'font.size': 24})"
   ]
  },
  {
   "cell_type": "code",
   "execution_count": 2,
   "id": "248117e9",
   "metadata": {},
   "outputs": [],
   "source": [
    "########################\n",
    "########################\n",
    "# target specification #\n",
    "########################\n",
    "########################\n",
    "np.random.seed(2023)\n",
    "K1=10\n",
    "prbs=np.random.rand(K1)\n",
    "prbs=prbs/np.sum(prbs)\n",
    "def lp(x,axis=None):\n",
    "    # compute the univariate log joint and conditional target pmfs\n",
    "    #\n",
    "    # inputs:\n",
    "    #    x    : (1,d) array with state values\n",
    "    #    axis : int, full conditional to calculate; returns joint if None\n",
    "    # outputs:\n",
    "    #   ext_lprb : if axis is None, (d,) array with log joint; else, (d,K1) array with d conditionals \n",
    "    \n",
    "    ext_lprb=np.log(np.repeat(prbs[:,np.newaxis],x.shape[1],axis=1).T)\n",
    "    if axis==None: return np.squeeze(ext_lprb[np.arange(0,x.shape[1]),x])\n",
    "    return ext_lprb"
   ]
  },
  {
   "cell_type": "markdown",
   "id": "221aa516",
   "metadata": {},
   "source": [
    "## IDF\n",
    "from https://github.com/jmtomczak/intro_dgm/blob/main/flows/idf_example.ipynb"
   ]
  },
  {
   "cell_type": "code",
   "execution_count": 4,
   "id": "b400d7e4",
   "metadata": {},
   "outputs": [],
   "source": [
    "import torch\n",
    "from torch.utils.data import Dataset, DataLoader\n",
    "import torch.nn as nn\n",
    "import torch.nn.functional as F"
   ]
  },
  {
   "cell_type": "code",
   "execution_count": 151,
   "id": "8ac9b2b0",
   "metadata": {},
   "outputs": [],
   "source": [
    "# Chakraborty & Chakravarty, \"A new discrete probability distribution with integer support on (−∞, ∞)\",\n",
    "#  Communications in Statistics - Theory and Methods, 45:2, 492-505, DOI: 10.1080/03610926.2013.830743\n",
    "\n",
    "def log_min_exp(a, b, epsilon=1e-8):\n",
    "    \"\"\"\n",
    "    Source: https://github.com/jornpeters/integer_discrete_flows\n",
    "    Computes the log of exp(a) - exp(b) in a (more) numerically stable fashion.\n",
    "    Using:\n",
    "     log(exp(a) - exp(b))\n",
    "     c + log(exp(a-c) - exp(b-c))\n",
    "     a + log(1 - exp(b-a))\n",
    "    And note that we assume b < a always.\n",
    "    \"\"\"\n",
    "    y = a + torch.log(1 - torch.exp(b - a) + epsilon)\n",
    "\n",
    "    return y\n",
    "\n",
    "def log_integer_probability(x, mean, logscale):\n",
    "    scale = torch.exp(logscale)\n",
    "\n",
    "    logp = log_min_exp(\n",
    "        F.logsigmoid((x + 0.5 - mean) / scale),\n",
    "        F.logsigmoid((x - 0.5 - mean) / scale))\n",
    "\n",
    "    return logp"
   ]
  },
  {
   "cell_type": "code",
   "execution_count": 152,
   "id": "722a91e5",
   "metadata": {},
   "outputs": [],
   "source": [
    "# Source: https://github.com/jornpeters/integer_discrete_flows\n",
    "class RoundStraightThrough(torch.autograd.Function):\n",
    "    \n",
    "    def __init__(self):\n",
    "        super().__init__()\n",
    "\n",
    "    @staticmethod\n",
    "    def forward(ctx, input):\n",
    "        rounded = torch.round(input, out=None)\n",
    "        return rounded\n",
    "\n",
    "    @staticmethod\n",
    "    def backward(ctx, grad_output):\n",
    "        grad_input = grad_output.clone()\n",
    "        return grad_input"
   ]
  },
  {
   "cell_type": "code",
   "execution_count": 352,
   "id": "67233cc7",
   "metadata": {},
   "outputs": [],
   "source": [
    "class IDF(nn.Module):\n",
    "    def __init__(self, netts, num_flows, D):\n",
    "        super(IDF, self).__init__()\n",
    "        \n",
    "        if len(netts) == 1:\n",
    "            self.t = torch.nn.ModuleList([netts[0]() for _ in range(num_flows)])\n",
    "            self.idf_git = 1\n",
    "        else:\n",
    "            raise ValueError('You can provide either 1 or 4 translation nets.')\n",
    "        \n",
    "        self.num_flows = num_flows\n",
    "\n",
    "        self.round = RoundStraightThrough.apply\n",
    "        \n",
    "        self.mean = nn.Parameter(torch.zeros(1, D))\n",
    "        self.logscale = nn.Parameter(torch.ones(1, D))\n",
    "\n",
    "        self.D = 1\n",
    "\n",
    "    def coupling(self, x, index, forward=True):\n",
    "        \n",
    "        xa=x\n",
    "        xb=x\n",
    "        if self.D>1: (xa, xb) = torch.chunk(x, 2, 0)\n",
    "        if forward:\n",
    "            yb = xb + self.round(self.t[index](xa))\n",
    "        else:\n",
    "            yb = xb - self.round(self.t[index](xa))\n",
    "        if self.D>1: return torch.cat((xa, yb), 0)\n",
    "        return yb\n",
    "\n",
    "    def permute(self, x):\n",
    "        return x.flip(1)\n",
    "\n",
    "    def f(self, x):\n",
    "        z = x\n",
    "        for i in range(self.num_flows):\n",
    "            z = self.coupling(z, i, forward=True)\n",
    "            z = self.permute(z)\n",
    "\n",
    "        return z\n",
    "\n",
    "    def f_inv(self, z):\n",
    "        x = z\n",
    "        for i in reversed(range(self.num_flows)):\n",
    "            x = self.permute(x)\n",
    "            x = self.coupling(x, i, forward=False)\n",
    "\n",
    "        return x\n",
    "\n",
    "    def forward(self, x, reduction='avg'):\n",
    "        z = self.f(x)\n",
    "        if reduction == 'sum':\n",
    "            return -self.log_prior(z).sum()\n",
    "        else:\n",
    "            return -self.log_prior(z).mean()\n",
    "\n",
    "    def sample(self, batchSize):\n",
    "        # sample z:\n",
    "        z = self.prior_sample(batchSize=batchSize, D=self.D)\n",
    "        # x = f^-1(z)\n",
    "        x = self.f_inv(z)\n",
    "        return x#.view(batchSize, 1, self.D)\n",
    "\n",
    "    def log_prior(self, x):\n",
    "        log_p = log_integer_probability(x, self.mean, self.logscale)\n",
    "        return log_p.sum(-1)\n",
    "\n",
    "    def prior_sample(self, batchSize, D=2):\n",
    "        # Sample from logistic\n",
    "        y = torch.rand(batchSize, self.D)\n",
    "        x = torch.exp(self.logscale) * torch.log(y / (1. - y)) + self.mean\n",
    "        # And then round it to an integer.\n",
    "        return torch.round(x)"
   ]
  },
  {
   "cell_type": "code",
   "execution_count": 353,
   "id": "2394cc5e",
   "metadata": {},
   "outputs": [],
   "source": [
    "def createIDF(depth,lprbs,layers=32):\n",
    "    dim=lprbs.ndim\n",
    "    \n",
    "    inlayers=1 if dim==1 else dim//2\n",
    "    nett = lambda: nn.Sequential(\n",
    "        nn.Linear(inlayers, layers), \n",
    "        nn.LeakyReLU(),\n",
    "        nn.Linear(layers, layers), \n",
    "        nn.LeakyReLU(),\n",
    "        nn.Linear(layers, inlayers)\n",
    "    )\n",
    "    netts = [nett]\n",
    "\n",
    "    # Init IDF\n",
    "    return IDF(netts, depth, D=dim)"
   ]
  },
  {
   "cell_type": "code",
   "execution_count": 354,
   "id": "9db0c618",
   "metadata": {},
   "outputs": [],
   "source": [
    "def trainIDF(depth,lprbs,layers=32,max_iters=1000,lr=1e-4,mc_ss=1000,seed=0,verbose=True):\n",
    "    \"\"\"\n",
    "    Train a RealNVP normalizing flow targeting lprbs using the Adam optimizer\n",
    "    \n",
    "    Input:\n",
    "        temp      : float, temperature of Concrete relaxation\n",
    "        depth     : int, number of couplings (transformations)\n",
    "        lprbs     : (dim,) array, target log probabilities\n",
    "        layers    : int, width of the linear layers\n",
    "        max_iters : int, max number of Adam iters\n",
    "        lr        : float, Adam learning rate\n",
    "        mc_ss     : int, number of samples to draw from target for training\n",
    "        seed      : int, for reproducinility\n",
    "        verbose   : boolean, indicating whether to print loss every 100 iterations of Adam\n",
    "    \"\"\"\n",
    "    torch.manual_seed(seed)\n",
    "    \n",
    "    # create flow\n",
    "    flow=createIDF(depth,lprbs,layers)\n",
    "    target = torch.distributions.categorical.Categorical(torch.tensor(np.exp(lprbs)))\n",
    "    \n",
    "    # train flow\n",
    "    sample=target.sample((mc_ss,1)).float()\n",
    "    optimizer = torch.optim.Adam([p for p in flow.parameters() if p.requires_grad==True], lr=lr)\n",
    "    losses=np.zeros(max_iters)\n",
    "    \n",
    "    for t in range(max_iters):\n",
    "        loss = -flow.forward(sample)#.mean()\n",
    "        losses[t]=loss\n",
    "        \n",
    "        optimizer.zero_grad()\n",
    "        loss.backward(retain_graph=True)\n",
    "        optimizer.step()\n",
    "        \n",
    "        if verbose and t%(max_iters//10) == 0: print('iter %s:' % t, 'loss = %.3f' % loss)\n",
    "    # end for\n",
    "    return flow,losses"
   ]
  },
  {
   "cell_type": "code",
   "execution_count": 355,
   "id": "9eec0ab1",
   "metadata": {},
   "outputs": [
    {
     "name": "stdout",
     "output_type": "stream",
     "text": [
      "iter 0: loss = -3.052\n",
      "iter 100: loss = -9.207\n",
      "iter 200: loss = -14.519\n",
      "iter 300: loss = -18.421\n",
      "iter 400: loss = -18.421\n",
      "iter 500: loss = -18.421\n",
      "iter 600: loss = -18.421\n",
      "iter 700: loss = -18.421\n",
      "iter 800: loss = -18.421\n",
      "iter 900: loss = -18.421\n",
      "iter 1000: loss = -18.421\n"
     ]
    }
   ],
   "source": [
    "max_iters=1001\n",
    "flow,losses=trainIDF(depth=10,lprbs=np.log(prbs),layers=32,max_iters=max_iters,lr=1e-4,mc_ss=1000,seed=2023,verbose=True)"
   ]
  },
  {
   "cell_type": "code",
   "execution_count": 356,
   "id": "ca55d2b1",
   "metadata": {},
   "outputs": [
    {
     "data": {
      "text/plain": [
       "[<matplotlib.lines.Line2D at 0x29e2fefd0>]"
      ]
     },
     "execution_count": 356,
     "metadata": {},
     "output_type": "execute_result"
    },
    {
     "data": {
      "image/png": "[encoded data removed]",
      "text/plain": [
       "<Figure size 1500x750 with 1 Axes>"
      ]
     },
     "metadata": {},
     "output_type": "display_data"
    }
   ],
   "source": [
    "plt.plot(np.arange(max_iters),losses,'-k',alpha=0.5)"
   ]
  },
  {
   "cell_type": "code",
   "execution_count": 306,
   "id": "6271b8af",
   "metadata": {},
   "outputs": [
    {
     "data": {
      "text/plain": [
       "tensor([[-2.],\n",
       "        [-3.],\n",
       "        [-3.],\n",
       "        [-3.],\n",
       "        [-3.],\n",
       "        [-3.],\n",
       "        [-2.],\n",
       "        [-3.],\n",
       "        [-2.],\n",
       "        [-2.]], grad_fn=<SubBackward0>)"
      ]
     },
     "execution_count": 306,
     "metadata": {},
     "output_type": "execute_result"
    }
   ],
   "source": [
    "flow.sample(10)"
   ]
  },
  {
   "cell_type": "code",
   "execution_count": 349,
   "id": "048f76b4",
   "metadata": {},
   "outputs": [
    {
     "data": {
      "text/plain": [
       "tensor([[7],\n",
       "        [2],\n",
       "        [7],\n",
       "        [5],\n",
       "        [1],\n",
       "        [8],\n",
       "        [0],\n",
       "        [7],\n",
       "        [1],\n",
       "        [7]])"
      ]
     },
     "execution_count": 349,
     "metadata": {},
     "output_type": "execute_result"
    }
   ],
   "source": [
    "ttt=torch.distributions.categorical.Categorical(torch.tensor(prbs))\n",
    "ttt.sample((10,1))"
   ]
  }
 ],
 "metadata": {
  "kernelspec": {
   "display_name": "Python 3 (ipykernel)",
   "language": "python",
   "name": "python3"
  },
  "language_info": {
   "codemirror_mode": {
    "name": "ipython",
    "version": 3
   },
   "file_extension": ".py",
   "mimetype": "text/x-python",
   "name": "python",
   "nbconvert_exporter": "python",
   "pygments_lexer": "ipython3",
   "version": "3.9.6"
  }
 },
 "nbformat": 4,
 "nbformat_minor": 5
}
