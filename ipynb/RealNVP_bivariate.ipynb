{
 "cells": [
  {
   "cell_type": "code",
   "execution_count": 1,
   "id": "640afd46",
   "metadata": {},
   "outputs": [],
   "source": [
    "import numpy as np\n",
    "import pandas as pd\n",
    "import matplotlib.pyplot as plt\n",
    "import sys, time\n",
    "sys.path.insert(1, '../discrete_mixflows/')\n",
    "from discrete_mixflows import *\n",
    "from gibbs import *\n",
    "from concrete import *\n",
    "\n",
    "plt.rcParams.update({'figure.max_open_warning': 0})\n",
    "plt.rcParams[\"figure.figsize\"]=15,7.5\n",
    "plt.rcParams.update({'font.size': 24})"
   ]
  },
  {
   "cell_type": "code",
   "execution_count": 2,
   "id": "fdeb81e2",
   "metadata": {},
   "outputs": [],
   "source": [
    "########################\n",
    "########################\n",
    "# target specification #\n",
    "########################\n",
    "########################\n",
    "np.random.seed(2023)\n",
    "K1=4\n",
    "K2=5\n",
    "prbs=np.random.rand(K1,K2)\n",
    "prbs=prbs/np.sum(prbs)\n",
    "def lp(x,axis=None):\n",
    "    # compute the univariate log joint and conditional target pmfs\n",
    "    #\n",
    "    # inputs:\n",
    "    #    x    : (2,d) array with state values\n",
    "    #    axis : int, full conditional to calculate; returns joint if None\n",
    "    # outputs:\n",
    "    #   ext_lprb : if axis is None, (d,) array with log joint; else, (d,K_{axis+1}) array with d conditionals \n",
    "    \n",
    "    ext_lprb=np.log(np.moveaxis(np.repeat(prbs[:,:,np.newaxis],x.shape[1],axis=-1),2,0)) # stack d copies of logp vertically\n",
    "    if axis==None: return np.squeeze(ext_lprb[np.arange(0,x.shape[1]),x[0,:],x[1,:]]) # for each d, return lp(x)\n",
    "    if axis==0: return ext_lprb[np.arange(0,x.shape[1]),:,x[1,:]]\n",
    "    if axis==1: return ext_lprb[np.arange(0,x.shape[1]),x[0,:],:]\n",
    "    raise Exception(\"Axis out of bounds - there aren't that many variables\")"
   ]
  },
  {
   "cell_type": "code",
   "execution_count": 4,
   "id": "beedc3a3",
   "metadata": {},
   "outputs": [],
   "source": [
    "lprbs=np.log(prbs)"
   ]
  },
  {
   "cell_type": "code",
   "execution_count": 41,
   "id": "0b53bb57",
   "metadata": {},
   "outputs": [],
   "source": [
    "def to_2d(x,K2):\n",
    "    \"\"\"\n",
    "    Each x_i is an integer in [0,K1*K2)\n",
    "    Converts to tuples in [0,K1]x[0,K2]\n",
    "    \n",
    "    Input:\n",
    "        x  : (d,) array, flattened array\n",
    "    Output:\n",
    "        x_ : (2,d) array, unflattened array\n",
    "    \"\"\"\n",
    "    return np.vstack((x//K2,x%K2))\n",
    "\n",
    "def to_1d(x,K2):\n",
    "    \"\"\"\n",
    "    Each x_ij is a tuple in [0,K1]x[0,K2]\n",
    "    Flattens to integers in [0,K1*K2)\n",
    "    \n",
    "    Input:\n",
    "        x  : (2,d) array, unflattened array\n",
    "    Output:\n",
    "        x_ : (d,) array, flatened array\n",
    "    \"\"\"\n",
    "    return x[0,:]*K2+x[1,:]"
   ]
  },
  {
   "cell_type": "code",
   "execution_count": 42,
   "id": "db827439",
   "metadata": {},
   "outputs": [
    {
     "name": "stdout",
     "output_type": "stream",
     "text": [
      "Initial: [ 0  1  2  3  4  5  6  7  8  9 10 11 12 13 14 15 16 17 18 19]\n",
      "Flattened: [[0 0 0 0 0 1 1 1 1 1 2 2 2 2 2 3 3 3 3 3]\n",
      " [0 1 2 3 4 0 1 2 3 4 0 1 2 3 4 0 1 2 3 4]]\n",
      "Final: [ 0  1  2  3  4  5  6  7  8  9 10 11 12 13 14 15 16 17 18 19]\n"
     ]
    }
   ],
   "source": [
    "init=np.arange(0,K1*K2)\n",
    "print('Initial: '+str(init))\n",
    "twodim=to_2d(init,K2)\n",
    "print('Flattened: '+str(twodim))\n",
    "onedim=to_1d(twodim,K2)\n",
    "print('Final: '+str(onedim))"
   ]
  }
 ],
 "metadata": {
  "kernelspec": {
   "display_name": "Python 3 (ipykernel)",
   "language": "python",
   "name": "python3"
  },
  "language_info": {
   "codemirror_mode": {
    "name": "ipython",
    "version": 3
   },
   "file_extension": ".py",
   "mimetype": "text/x-python",
   "name": "python",
   "nbconvert_exporter": "python",
   "pygments_lexer": "ipython3",
   "version": "3.9.6"
  }
 },
 "nbformat": 4,
 "nbformat_minor": 5
}
