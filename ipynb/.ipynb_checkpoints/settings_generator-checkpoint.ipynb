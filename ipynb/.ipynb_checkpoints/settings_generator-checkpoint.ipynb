{
 "cells": [
  {
   "cell_type": "markdown",
   "id": "fac74ef9",
   "metadata": {},
   "source": [
    "# Settings files\n",
    "\n",
    "Generate settings files for sockeye."
   ]
  },
  {
   "cell_type": "code",
   "execution_count": 1,
   "id": "6609a2c4",
   "metadata": {},
   "outputs": [],
   "source": [
    "import numpy as np\n",
    "import pandas as pd\n",
    "import sys\n",
    "sys.path.insert(1, '../src/')\n",
    "import aux"
   ]
  },
  {
   "cell_type": "code",
   "execution_count": 2,
   "id": "7d705f7e",
   "metadata": {},
   "outputs": [],
   "source": [
    "def settings_generator(temps,depths,widths,lrs,path='',target='gmm',init=False,):\n",
    "\n",
    "    total_size=temps.shape[0]*depths.shape[0]*widths.shape[0]*lrs.shape[0]\n",
    "    out = np.zeros((total_size,5))\n",
    "    out[:,0] = 1+np.arange(total_size)\n",
    "    i=0\n",
    "    for temp in temps:\n",
    "        for depth in depths:\n",
    "            for width in widths:\n",
    "                for lr in lrs:\n",
    "                    out[i,1]=temp\n",
    "                    out[i,2]=depth\n",
    "                    out[i,3]=width\n",
    "                    out[i,4]=lr\n",
    "                    i=i+1\n",
    "                # end for\n",
    "            # end for\n",
    "        # end for\n",
    "    # end for\n",
    "    np.savetxt(path+target+'/'+target+'_settings.txt',out)\n",
    "    \n",
    "    if init:\n",
    "        flows     = [0 for i in range(total_size)]\n",
    "        losses    = np.zeros((total_size,10001))\n",
    "        cpu_times = np.zeros(total_size)\n",
    "        \n",
    "        aux.pkl_save(flows,path+target+'/'+target+'_flows')\n",
    "        aux.pkl_save(losses,path+target+'/'+target+'_losses')\n",
    "        aux.pkl_save(cpu_times,path+target+'/'+target+'_cpu_times')\n",
    "    return out"
   ]
  },
  {
   "cell_type": "code",
   "execution_count": 3,
   "id": "28215417",
   "metadata": {},
   "outputs": [
    {
     "ename": "FileNotFoundError",
     "evalue": "[Errno 2] No such file or directory: '../examples/GMM/mixture/mixture_settings.txt'",
     "output_type": "error",
     "traceback": [
      "\u001b[0;31m---------------------------------------------------------------------------\u001b[0m",
      "\u001b[0;31mFileNotFoundError\u001b[0m                         Traceback (most recent call last)",
      "Cell \u001b[0;32mIn [3], line 5\u001b[0m\n\u001b[1;32m      3\u001b[0m widths \u001b[38;5;241m=\u001b[39m np\u001b[38;5;241m.\u001b[39marray([\u001b[38;5;241m10\u001b[39m,\u001b[38;5;241m50\u001b[39m,\u001b[38;5;241m100\u001b[39m])\n\u001b[1;32m      4\u001b[0m lrs    \u001b[38;5;241m=\u001b[39m np\u001b[38;5;241m.\u001b[39marray([\u001b[38;5;241m1e-5\u001b[39m,\u001b[38;5;241m1e-3\u001b[39m,\u001b[38;5;241m1e-1\u001b[39m])\n\u001b[0;32m----> 5\u001b[0m \u001b[43msettings_generator\u001b[49m\u001b[43m(\u001b[49m\u001b[43mtemps\u001b[49m\u001b[43m,\u001b[49m\u001b[43mdepths\u001b[49m\u001b[43m,\u001b[49m\u001b[43mwidths\u001b[49m\u001b[43m,\u001b[49m\u001b[43mlrs\u001b[49m\u001b[43m,\u001b[49m\n\u001b[1;32m      6\u001b[0m \u001b[43m                   \u001b[49m\u001b[43mpath\u001b[49m\u001b[38;5;241;43m=\u001b[39;49m\u001b[38;5;124;43m'\u001b[39;49m\u001b[38;5;124;43m../examples/GMM/\u001b[39;49m\u001b[38;5;124;43m'\u001b[39;49m\u001b[43m,\u001b[49m\n\u001b[1;32m      7\u001b[0m \u001b[43m                   \u001b[49m\u001b[43mtarget\u001b[49m\u001b[38;5;241;43m=\u001b[39;49m\u001b[38;5;124;43m'\u001b[39;49m\u001b[38;5;124;43mmixture\u001b[39;49m\u001b[38;5;124;43m'\u001b[39;49m\u001b[43m,\u001b[49m\u001b[43minit\u001b[49m\u001b[38;5;241;43m=\u001b[39;49m\u001b[38;5;28;43;01mTrue\u001b[39;49;00m\u001b[43m)\u001b[49m\n",
      "Cell \u001b[0;32mIn [2], line 20\u001b[0m, in \u001b[0;36msettings_generator\u001b[0;34m(temps, depths, widths, lrs, path, target, init)\u001b[0m\n\u001b[1;32m     15\u001b[0m                 i\u001b[38;5;241m=\u001b[39mi\u001b[38;5;241m+\u001b[39m\u001b[38;5;241m1\u001b[39m\n\u001b[1;32m     16\u001b[0m             \u001b[38;5;66;03m# end for\u001b[39;00m\n\u001b[1;32m     17\u001b[0m         \u001b[38;5;66;03m# end for\u001b[39;00m\n\u001b[1;32m     18\u001b[0m     \u001b[38;5;66;03m# end for\u001b[39;00m\n\u001b[1;32m     19\u001b[0m \u001b[38;5;66;03m# end for\u001b[39;00m\n\u001b[0;32m---> 20\u001b[0m \u001b[43mnp\u001b[49m\u001b[38;5;241;43m.\u001b[39;49m\u001b[43msavetxt\u001b[49m\u001b[43m(\u001b[49m\u001b[43mpath\u001b[49m\u001b[38;5;241;43m+\u001b[39;49m\u001b[43mtarget\u001b[49m\u001b[38;5;241;43m+\u001b[39;49m\u001b[38;5;124;43m'\u001b[39;49m\u001b[38;5;124;43m/\u001b[39;49m\u001b[38;5;124;43m'\u001b[39;49m\u001b[38;5;241;43m+\u001b[39;49m\u001b[43mtarget\u001b[49m\u001b[38;5;241;43m+\u001b[39;49m\u001b[38;5;124;43m'\u001b[39;49m\u001b[38;5;124;43m_settings.txt\u001b[39;49m\u001b[38;5;124;43m'\u001b[39;49m\u001b[43m,\u001b[49m\u001b[43mout\u001b[49m\u001b[43m)\u001b[49m\n\u001b[1;32m     22\u001b[0m \u001b[38;5;28;01mif\u001b[39;00m init:\n\u001b[1;32m     23\u001b[0m     flows     \u001b[38;5;241m=\u001b[39m [\u001b[38;5;241m0\u001b[39m \u001b[38;5;28;01mfor\u001b[39;00m i \u001b[38;5;129;01min\u001b[39;00m \u001b[38;5;28mrange\u001b[39m(total_size)]\n",
      "File \u001b[0;32m<__array_function__ internals>:180\u001b[0m, in \u001b[0;36msavetxt\u001b[0;34m(*args, **kwargs)\u001b[0m\n",
      "File \u001b[0;32m~/Library/Python/3.9/lib/python/site-packages/numpy/lib/npyio.py:1503\u001b[0m, in \u001b[0;36msavetxt\u001b[0;34m(fname, X, fmt, delimiter, newline, header, footer, comments, encoding)\u001b[0m\n\u001b[1;32m   1500\u001b[0m     fname \u001b[38;5;241m=\u001b[39m os_fspath(fname)\n\u001b[1;32m   1501\u001b[0m \u001b[38;5;28;01mif\u001b[39;00m _is_string_like(fname):\n\u001b[1;32m   1502\u001b[0m     \u001b[38;5;66;03m# datasource doesn't support creating a new file ...\u001b[39;00m\n\u001b[0;32m-> 1503\u001b[0m     \u001b[38;5;28;43mopen\u001b[39;49m\u001b[43m(\u001b[49m\u001b[43mfname\u001b[49m\u001b[43m,\u001b[49m\u001b[43m \u001b[49m\u001b[38;5;124;43m'\u001b[39;49m\u001b[38;5;124;43mwt\u001b[39;49m\u001b[38;5;124;43m'\u001b[39;49m\u001b[43m)\u001b[49m\u001b[38;5;241m.\u001b[39mclose()\n\u001b[1;32m   1504\u001b[0m     fh \u001b[38;5;241m=\u001b[39m np\u001b[38;5;241m.\u001b[39mlib\u001b[38;5;241m.\u001b[39m_datasource\u001b[38;5;241m.\u001b[39mopen(fname, \u001b[38;5;124m'\u001b[39m\u001b[38;5;124mwt\u001b[39m\u001b[38;5;124m'\u001b[39m, encoding\u001b[38;5;241m=\u001b[39mencoding)\n\u001b[1;32m   1505\u001b[0m     own_fh \u001b[38;5;241m=\u001b[39m \u001b[38;5;28;01mTrue\u001b[39;00m\n",
      "\u001b[0;31mFileNotFoundError\u001b[0m: [Errno 2] No such file or directory: '../examples/GMM/mixture/mixture_settings.txt'"
     ]
    }
   ],
   "source": [
    "temps  = np.array([0.1,0.5,1.,5.])\n",
    "depths = np.array([32,64,128,256])\n",
    "widths = np.array([10,50,100])\n",
    "lrs    = np.array([1e-5,1e-3,1e-1])\n",
    "settings_generator(temps,depths,widths,lrs,\n",
    "                   path='../examples/GMM/',\n",
    "                   target='mixture',init=True)"
   ]
  }
 ],
 "metadata": {
  "kernelspec": {
   "display_name": "Python 3 (ipykernel)",
   "language": "python",
   "name": "python3"
  },
  "language_info": {
   "codemirror_mode": {
    "name": "ipython",
    "version": 3
   },
   "file_extension": ".py",
   "mimetype": "text/x-python",
   "name": "python",
   "nbconvert_exporter": "python",
   "pygments_lexer": "ipython3",
   "version": "3.9.6"
  }
 },
 "nbformat": 4,
 "nbformat_minor": 5
}
