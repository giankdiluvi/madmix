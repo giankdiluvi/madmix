{
 "cells": [
  {
   "cell_type": "markdown",
   "id": "4bd513a0",
   "metadata": {},
   "source": [
    "# MAD Mix GMM extension\n",
    "\n",
    "To handle multivariate data and learn weights and covariance matrices."
   ]
  },
  {
   "cell_type": "code",
   "execution_count": 1,
   "id": "5ba11a32",
   "metadata": {},
   "outputs": [],
   "source": [
    "import numpy as np\n",
    "import pandas as pd\n",
    "import matplotlib.pyplot as plt\n",
    "import scipy.stats as stats\n",
    "import sys,time\n",
    "sys.path.insert(1, '../src/')\n",
    "import madmix\n",
    "import aux\n",
    "\n",
    "plt.rcParams.update({'figure.max_open_warning': 0})\n",
    "plt.rcParams[\"figure.figsize\"]=15,7.5\n",
    "plt.rcParams.update({'font.size': 40})"
   ]
  },
  {
   "cell_type": "code",
   "execution_count": 2,
   "id": "376ed7db",
   "metadata": {},
   "outputs": [],
   "source": [
    "####################\n",
    "####################\n",
    "#   auxiliary fns  #\n",
    "####################\n",
    "####################\n",
    "def madmix_gmm_flatten(ws,mus,Hs):\n",
    "    \"\"\"\n",
    "    Flatten weights, meand, and logCholeskys into 2D array\n",
    "    \n",
    "    Inputs:\n",
    "        ws  : (K,B) array, weights\n",
    "        mus : (K,D,B) array, cluster means\n",
    "        Hs  : (K,D,D,B) array, cluster logCholesky matrices\n",
    "    \n",
    "    Outpus:\n",
    "        xc  : (K',B) array, flattened values\n",
    "        \n",
    "    Note:\n",
    "    K is the number of clusters, D is data dimension, \n",
    "    and B is the number of data points (for vectorizing)\n",
    "    K'= K (weights) + KxD (means) + Kx(D+DChoose2) (covariances)\n",
    "    \"\"\"\n",
    "    K,D,B=mus.shape\n",
    "    \n",
    "    flat_mus=mus.reshape(K*D,B)\n",
    "    idx=np.tril_indices(D)\n",
    "    flat_Hs=Hs[:,idx[0],idx[1],:]                     # recover lower triangular entries\n",
    "    flat_Hs=flat_Hs.reshape(int(K*D*(1+0.5*(D-1))),B) # correct shape\n",
    "    return np.vstack((ws,flat_mus,flat_Hs))\n",
    "\n",
    "\n",
    "def madmix_gmm_unflatten(xc,K,D):\n",
    "    \"\"\"\n",
    "    Unflatten xc into weights, meand, and covariances\n",
    "    \n",
    "    Inputs:\n",
    "        xc  : (K',B) array, flattened values\n",
    "    \n",
    "    Outputs:\n",
    "        ws  : (K,B) array, weights\n",
    "        mus : (K,D,B) array, cluster means\n",
    "        Hs  : (K,D,D,B) array, cluster logCholesky matrices\n",
    "        \n",
    "    Note:\n",
    "    K is the number of clusters, D is data dimension, \n",
    "    and B is the number of data points (for vectorizing)\n",
    "    K'= K (weights) + KxD (means) + Kx(D+DChoose2) (covariances)\n",
    "    \"\"\"\n",
    "    B=xc.shape[-1]\n",
    "    \n",
    "    # recover each flattened var\n",
    "    ws=xc[:K,:]\n",
    "    flat_mus=xc[K:(K*D+K),:]\n",
    "    flat_Hs=xc[(K*D+K):,:].reshape(K,int(D*(1+0.5*(D-1))),B)\n",
    "    \n",
    "    # unflatten separately\n",
    "    mus=flat_mus.reshape(K,D,B)\n",
    "    Hs=np.zeros((K,D,D,B))\n",
    "    idx=np.tril_indices(D)\n",
    "    Hs[:,idx[0],idx[1],:]=flat_Hs\n",
    "    \n",
    "    return ws,mus,Hs\n",
    "\n",
    "\n",
    "def HtoSigma(Hs):\n",
    "    \"\"\"\n",
    "    Transform logCholesky factors into covariance matrices\n",
    "    \n",
    "    Inputs:\n",
    "        Hs : (K,D,D,B) array, B observations of the K cluster logCholesky factors\n",
    "        \n",
    "    Outpus:\n",
    "        Sigmas : (K,D,D,B) array, B observations of the K cluster covariances\n",
    "    \"\"\"\n",
    "    \n",
    "    idx=np.diag_indices(Hs.shape[1])\n",
    "    Ls=np.copy(Hs)\n",
    "    Ls[:,idx[0],idx[1],:]=np.exp(Hs[:,idx[0],idx[1],:])\n",
    "    Ls=np.moveaxis(Ls,3,1) # so matrices are stacked in last two axes for matmul\n",
    "    Sigmas=np.matmul(Ls,np.transpose(Ls,axes=(0,1,3,2)))\n",
    "    return np.moveaxis(Sigmas,1,3)\n",
    "\n",
    "def SigmatoH(Sigmas):\n",
    "    \"\"\"\n",
    "    Transform covariance matrices into logCholesky factors\n",
    "    \n",
    "    Inputs:\n",
    "        Sigmas : (K,D,D,B) array, B observations of the K cluster covariances\n",
    "        \n",
    "    Outpus:\n",
    "        Hs : (K,D,D,B) array, B observations of the K cluster logCholesky factors\n",
    "    \"\"\"\n",
    "    \n",
    "    idx=np.diag_indices(Sigmas.shape[1])\n",
    "    Ls=np.linalg.cholesky(np.moveaxis(Sigmas,3,1))\n",
    "    Hs=np.copy(Ls)\n",
    "    Hs[:,:,idx[0],idx[1]]=np.log(Ls[:,:,idx[0],idx[1]])\n",
    "    return np.moveaxis(Hs,1,3)"
   ]
  },
  {
   "cell_type": "code",
   "execution_count": 3,
   "id": "6e691fb9",
   "metadata": {},
   "outputs": [],
   "source": [
    "ws=np.array([[0.6,0.6],[0.4,0.4]])\n",
    "mus=np.zeros((2,2,2))\n",
    "for b in range(2): mus[:,:,b]=np.array([[2,60],[4.5,80]])\n",
    "Hs=np.zeros((2,2,2,2))\n",
    "for k in range(2):\n",
    "    for b in range(2):\n",
    "        #Hs[k,:,:,b]=np.eye(2)\n",
    "        Hs[k,:,:,b]=np.random.rand(2,2)\n",
    "        Hs[k,:,:,b]=np.tril(Hs[k,:,:,b])\n",
    "\n",
    "xc=madmix_gmm_flatten(ws,mus,Hs)"
   ]
  },
  {
   "cell_type": "code",
   "execution_count": 4,
   "id": "a25cf6cd",
   "metadata": {},
   "outputs": [
    {
     "name": "stdout",
     "output_type": "stream",
     "text": [
      "[[0.86913012 0.        ]\n",
      " [0.0416873  0.01693574]]\n"
     ]
    }
   ],
   "source": [
    "_,_,Hs_=madmix_gmm_unflatten(xc,2,2)\n",
    "print(Hs_[0,:,:,1])"
   ]
  },
  {
   "cell_type": "code",
   "execution_count": 5,
   "id": "7511b04d",
   "metadata": {},
   "outputs": [
    {
     "data": {
      "text/plain": [
       "array([[0.86913012, 0.        ],\n",
       "       [0.0416873 , 0.01693574]])"
      ]
     },
     "execution_count": 5,
     "metadata": {},
     "output_type": "execute_result"
    }
   ],
   "source": [
    "Hs[0,:,:,1]"
   ]
  },
  {
   "cell_type": "code",
   "execution_count": 6,
   "id": "67c7423f",
   "metadata": {},
   "outputs": [
    {
     "name": "stdout",
     "output_type": "stream",
     "text": [
      "[[5.68743999 0.09941735]\n",
      " [0.09941735 1.03618947]]\n"
     ]
    }
   ],
   "source": [
    "S=HtoSigma(Hs)\n",
    "print(S[0,:,:,1])"
   ]
  },
  {
   "cell_type": "code",
   "execution_count": 7,
   "id": "00d75949",
   "metadata": {},
   "outputs": [
    {
     "name": "stdout",
     "output_type": "stream",
     "text": [
      "[[0.86913012 0.        ]\n",
      " [0.0416873  0.01693574]]\n"
     ]
    }
   ],
   "source": [
    "newHs=SigmatoH(S)\n",
    "print(newHs[0,:,:,1])"
   ]
  },
  {
   "cell_type": "code",
   "execution_count": 22,
   "id": "3e09d024",
   "metadata": {},
   "outputs": [],
   "source": [
    "########################\n",
    "########################\n",
    "# target specification #\n",
    "########################\n",
    "########################\n",
    "def lp(xd,xc,axis=None):\n",
    "    # compute the univariate log joint and conditional target pmfs\n",
    "    #\n",
    "    # inputs:\n",
    "    #    xd     : (N,B) array with labels\n",
    "    #    xc     : (K',B) array with means\n",
    "    #    axis   : int (0<axis<N), axis to find full conditional; if None then returns the log joint\n",
    "    # outputs:\n",
    "    #   ext_lprb : if axis is None, (B,) array with log joint; else, (B,K) array with d conditionals \n",
    "    N,B=xd.shape\n",
    "    \n",
    "    ws,mus,Hs=madmix_gmm_unflatten(xc,K,D)\n",
    "    Sigmas=HtoSigma(Hs)\n",
    "    \n",
    "    lprbs=np.zeros((N,K,B))\n",
    "    for k in range(K): \n",
    "        for b in range(B):\n",
    "            lprbs[:,k,b]=stats.multivariate_normal(mus[k,:,b],Sigmas[k,:,:,b]).logpdf(y)\n",
    "        # end for\n",
    "    # end for\n",
    "    lprbs=lprbs-aux.LogSumExp(np.moveaxis(lprbs,1,0))[:,np.newaxis,:]\n",
    "    \n",
    "    ext_lprb=np.zeros((N,B))\n",
    "    if axis is None: \n",
    "        ext_lprb=np.zeros((N,B))\n",
    "        for b in range(B): ext_lprb[:,b]=lprbs[np.arange(0,N),xd[:,b],b]\n",
    "        return np.sum(ext_lprb,axis=0)\n",
    "    # end if\n",
    "    return lprbs[axis,:,:].T\n",
    "\n",
    "\n",
    "\n",
    "def gen_grad_lp(xd): \n",
    "    # generate the score function for Hamiltonian dynamics\n",
    "    #\n",
    "    # inputs:\n",
    "    #    xd     : (N,B) array with current labels\n",
    "    # outputs:\n",
    "    #   grad_lp : function, vectorized score function ((K',B)->(K',B))\n",
    "    #\n",
    "    # Note: K is the number of clusters, D is data dimension, \n",
    "    # and B is the number of data points (for vectorizing)\n",
    "    # K'= K (weights) + KxD (means) + KxDxD (covariances)\n",
    "    \n",
    "    idx=(xd[:,None,:]==np.arange(0,K,dtype=int)[None,:,None])               #(N,K,B)\n",
    "    N_pool=np.sum(idx,axis=0)                                               #(K,B)\n",
    "    y_pool=np.sum(y[:,:,None,None]*idx[:,None,:,:],axis=0)/N_pool[None,:,:] #(D,K,B)\n",
    "    diffs=y[:,:,None,None]-y_pool[None,:,:,:]                               #(N,D,K,B)\n",
    "    S_pool=np.sum(diffs[:,:,None,:,:]*diffs[:,None,:,:,:],axis=0)           #(D,D,K,B)\n",
    "    S_pool=S_pool/N_pool[None,None,:,:]                                     #(D,D,K,B)\n",
    "    S_pool=np.moveaxis(S_pool,2,0)                                          #(K,D,D,B)\n",
    "    S_poolT=np.transpose(S_pool,axes=(0,2,1,3)) # transpose DxD block, leave first and last axes untouched\n",
    "    \n",
    "    N_,D_,K_,B_= diffs.shape\n",
    "    \n",
    "    def mygrad_lp(xc): # in: (K',B)\n",
    "        # retrieve unflattened params and invert covariance matrices\n",
    "        ws,mus,Hs=madmix_gmm_unflatten(xc,K_,D_) #(K,B), (K,D,B),(K,D,D,B)\n",
    "        Sigmas=HtoSigma(Hs)\n",
    "        invSigmas=np.zeros((K_,D_,D_,B_))\n",
    "        for k in range(K_):\n",
    "            for b in range(B_):\n",
    "                invSigmas[k,:,:,b]=np.linalg.inv(Sigmas[k,:,:,b])\n",
    "            # end for\n",
    "        # end for\n",
    "        invSigmasT=np.transpose(invSigmas,axes=(0,2,1,3)) # transpose DxD block, leave first and last axes untouched\n",
    "        \n",
    "        # more quantities\n",
    "        cluster_diffs=np.moveaxis(y_pool,1,0)-mus #(K,D,B)\n",
    "        \n",
    "        # calculate separate gradients\n",
    "        grad_logw=N_pool/ws #(K,B)\n",
    "        grads_logmu=np.zeros((K_,D_,B_))\n",
    "        grads_logsigma=np.zeros((K_,D_,D_,B_))\n",
    "        #for k in range(K):\n",
    "        #    grads_logmu[k,:,:]=-N_pool[None,k,:]*np.sum(invSigmas[k,:,:,:]*cluster_diffs[k,None,:,:],axis=0) #(D,B)\n",
    "        #    grads_logsigma[k,:,:,:]=-0.5*(1+N_pool[k,None,None,:])*invSigmasT[k,:,:,:] #(D,D,B)\n",
    "        #    grads_logsigma[k,:,:,:]-=0.5*N_pool[k,None,None:]*cluster_diffs[k,:,None,:]*cluster_diffs[k,None,:,:] #(D,D,B)\n",
    "        #    grads_logsigma[k,:,:,:]+=0.5*np.matmul(invSigmasT[k,:,:,:],np.matmul(S_poolT[k,:,:,:],invSigmasT[k,:,:,:])) #(D,D,B)\n",
    "        # end for\n",
    "        \n",
    "        grads_logmu=-N_pool[k,None,:]*np.sum(invSigmas*cluster_diffs[:,None,:,:],axis=1) #(K,D,B)\n",
    "        grads_logsigma=-0.5*(1+N_pool[k,None,None,:])*invSigmasT #(K,D,D,B)\n",
    "        grads_logsigma-=0.5*N_pool[:,None,None:]*cluster_diffs[:,:,None,:]*cluster_diffs[:,None,:,:] #(K,D,D,B)\n",
    "        print(S_poolT.shape,invSigmasT.shape)\n",
    "        grads_logsigma+=0.5*np.matmul(invSigmasT,np.matmul(S_poolT,invSigmasT)) #(K,D,D,B)\n",
    "        grads_logsigma+=np.diag(D-np.arange(D)+1)\n",
    "        \n",
    "        return madmix_gmm_flatten(grad_logw,grads_logmu,grads_logsigma) # out: (K',B)\n",
    "    return mygrad_lp"
   ]
  },
  {
   "cell_type": "markdown",
   "id": "ebf4b7e6",
   "metadata": {},
   "source": [
    "### Test"
   ]
  },
  {
   "cell_type": "code",
   "execution_count": 14,
   "id": "c4816ae9",
   "metadata": {},
   "outputs": [],
   "source": [
    "y=dat\n",
    "K=2\n",
    "xd=np.random.randint(low=0,high=2,size=(y.shape[0],2))\n",
    "ws_=np.array([[0.6,0.6],[0.4,0.4]])\n",
    "mus_=np.zeros((2,2,2))\n",
    "for b in range(2): mus_[:,:,b]=np.array([[2,60],[4.5,80]])\n",
    "sigmas_=np.zeros((2,2,2,2))\n",
    "for k in range(2):\n",
    "    for b in range(2):\n",
    "        sigmas_[k,:,:,b]=np.eye(2)\n",
    "\n",
    "xc=madmix_gmm_flatten(ws_,mus_,sigmas_)"
   ]
  },
  {
   "cell_type": "code",
   "execution_count": 15,
   "id": "74f72728",
   "metadata": {},
   "outputs": [
    {
     "data": {
      "text/plain": [
       "array([[2.3388671e-11, 1.0000000e+00],\n",
       "       [2.3388671e-11, 1.0000000e+00]])"
      ]
     },
     "execution_count": 15,
     "metadata": {},
     "output_type": "execute_result"
    }
   ],
   "source": [
    "np.exp(lp(xd,xc,axis=0))"
   ]
  },
  {
   "cell_type": "code",
   "execution_count": 16,
   "id": "e2e61628",
   "metadata": {},
   "outputs": [
    {
     "data": {
      "text/plain": [
       "(array([[233.33333333, 205.        ],\n",
       "        [330.        , 372.5       ]]),\n",
       " array([[[ -25.7564311 ,  -30.16448078],\n",
       "         [-181.57741616, -212.14190748]],\n",
       " \n",
       "        [[  17.21099398,   20.5461967 ],\n",
       "         [ 148.73347628,  177.28922104]]]),\n",
       " array([[[[ -151.24050533,  -147.49567282],\n",
       "          [    0.        ,     0.        ]],\n",
       " \n",
       "         [[ -964.21164796, -1172.42207562],\n",
       "          [-6823.62424621, -8249.5906842 ]]],\n",
       " \n",
       " \n",
       "        [[[  -70.68580307,   -73.70951761],\n",
       "          [    0.        ,     0.        ]],\n",
       " \n",
       "         [[ -526.40578409,  -667.38345638],\n",
       "          [-4580.69073719, -5763.56213144]]]]))"
      ]
     },
     "execution_count": 16,
     "metadata": {},
     "output_type": "execute_result"
    }
   ],
   "source": [
    "ttgrad=gen_grad_lp(xd)\n",
    "tt=ttgrad(xc)\n",
    "madmix_gmm_unflatten(tt,2,2)"
   ]
  },
  {
   "cell_type": "markdown",
   "id": "71f6d8d9",
   "metadata": {},
   "source": [
    "## Old Faithful"
   ]
  },
  {
   "cell_type": "code",
   "execution_count": 10,
   "id": "76705d42",
   "metadata": {},
   "outputs": [
    {
     "data": {
      "text/plain": [
       "<AxesSubplot: xlabel='eruptions', ylabel='waiting'>"
      ]
     },
     "execution_count": 10,
     "metadata": {},
     "output_type": "execute_result"
    },
    {
     "data": {
      "image/png": "[encoded data removed]",
      "text/plain": [
       "<Figure size 1500x750 with 1 Axes>"
      ]
     },
     "metadata": {},
     "output_type": "display_data"
    }
   ],
   "source": [
    "####################\n",
    "####################\n",
    "#  data wrangling  #\n",
    "####################\n",
    "####################\n",
    "of_dat=pd.read_table('https://gist.githubusercontent.com/curran/4b59d1046d9e66f2787780ad51a1cd87/raw/9ec906b78a98cf300947a37b56cfe70d01183200/data.tsv')\n",
    "dat=np.array(of_dat)\n",
    "of_dat.plot.scatter('eruptions','waiting')"
   ]
  },
  {
   "cell_type": "code",
   "execution_count": 26,
   "id": "cc0a87c7",
   "metadata": {},
   "outputs": [],
   "source": [
    "########################\n",
    "########################\n",
    "#    Mad Mix approx    #\n",
    "########################\n",
    "########################\n",
    "\n",
    "# flow settings\n",
    "sample_size=2\n",
    "steps=100\n",
    "L=10\n",
    "epsilon=0.01\n",
    "xi=np.pi/16\n",
    "\n",
    "# initial arrays\n",
    "N,D=dat.shape\n",
    "K=2\n",
    "mu0=np.array([[2,50],[5,80]])\n",
    "sigma0=np.zeros((K,D,D))\n",
    "invsigma0=np.zeros((K,D,D))\n",
    "for k in range(K): \n",
    "    sigma0[k,:,:]=5.*np.eye(D)\n",
    "    invsigma0[k,:,:]=np.eye(D)/5.\n",
    "# end for\n",
    "nu0=1.\n",
    "w0=np.ones(K)/K\n",
    "\n",
    "# reference sampler\n",
    "def randq0(size):\n",
    "    # discrete vars\n",
    "    rxd  = np.random.randint(low=0,high=K,size=(N,size))\n",
    "    rud  = np.random.rand(N,size)\n",
    "    \n",
    "    # continuous vars\n",
    "    Kp=K+K*D+int(K*D*(1+0.5*(D-1)))\n",
    "    rrho = np.random.laplace(size=(Kp,size))\n",
    "    ruc  = np.random.rand(size)\n",
    "    \n",
    "    # weights, means, and covs separately\n",
    "    rws=np.random.dirichlet(alpha=np.ones(K),size=size).T\n",
    "    rmus=mu0[:,:,None]+np.sum(np.random.randn(K,D,1,size)*invsigma0[:,:,:,None],axis=2)\n",
    "    rSigmas=np.zeros((K,D,D,size))\n",
    "    for k in range(K): rSigmas[k,:,:,:]=np.moveaxis(stats.invwishart(int(N/K)-D-1,sigma0[k,:,:]).rvs(size=size),0,2)\n",
    "    rHs=SigmatoH(rSigmas)\n",
    "    rxc=madmix_gmm_flatten(rws,rmus,rHs)\n",
    "    return rxd,rud,rxc,rrho,ruc"
   ]
  },
  {
   "cell_type": "code",
   "execution_count": null,
   "id": "bc14d4a4",
   "metadata": {},
   "outputs": [
    {
     "name": "stdout",
     "output_type": "stream",
     "text": [
      "Sampling 1/100\r",
      "(2, 2, 2, 2) (2, 2, 2, 2)\n",
      "(2, 2, 2, 2) (2, 2, 2, 2)\n",
      "(2, 2, 2, 2) (2, 2, 2, 2)\n",
      "(2, 2, 2, 2) (2, 2, 2, 2)\n",
      "(2, 2, 2, 2) (2, 2, 2, 2)\n",
      "(2, 2, 2, 2) (2, 2, 2, 2)\n",
      "(2, 2, 2, 2) (2, 2, 2, 2)\n",
      "(2, 2, 2, 2) (2, 2, 2, 2)\n",
      "(2, 2, 2, 2) (2, 2, 2, 2)\n",
      "(2, 2, 2, 2) (2, 2, 2, 2)\n",
      "(2, 2, 2, 2) (2, 2, 2, 2)\n",
      "(2, 2, 2, 2) (2, 2, 2, 2)\n",
      "(2, 2, 2, 2) (2, 2, 2, 2)\n",
      "(2, 2, 2, 2) (2, 2, 2, 2)\n",
      "(2, 2, 2, 2) (2, 2, 2, 2)\n",
      "(2, 2, 2, 2) (2, 2, 2, 2)\n",
      "(2, 2, 2, 2) (2, 2, 2, 2)\n",
      "(2, 2, 2, 2) (2, 2, 2, 2)\n",
      "(2, 2, 2, 2) (2, 2, 2, 2)\n",
      "(2, 2, 2, 2) (2, 2, 2, 2)\n"
     ]
    }
   ],
   "source": [
    "xd_,ud_,xc_,rho_,uc_=madmix.randqN(sample_size,steps,randq0,L,epsilon,lp,gen_grad_lp,xi)"
   ]
  }
 ],
 "metadata": {
  "kernelspec": {
   "display_name": "Python 3 (ipykernel)",
   "language": "python",
   "name": "python3"
  },
  "language_info": {
   "codemirror_mode": {
    "name": "ipython",
    "version": 3
   },
   "file_extension": ".py",
   "mimetype": "text/x-python",
   "name": "python",
   "nbconvert_exporter": "python",
   "pygments_lexer": "ipython3",
   "version": "3.9.6"
  }
 },
 "nbformat": 4,
 "nbformat_minor": 5
}
