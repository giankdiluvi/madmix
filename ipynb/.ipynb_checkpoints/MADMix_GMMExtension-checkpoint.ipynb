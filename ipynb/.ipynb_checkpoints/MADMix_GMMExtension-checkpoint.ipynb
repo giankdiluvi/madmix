{
 "cells": [
  {
   "cell_type": "markdown",
   "id": "5fc9f320",
   "metadata": {},
   "source": [
    "# MAD Mix GMM extension\n",
    "\n",
    "To handle multivariate data and learn weights and covariance matrices."
   ]
  },
  {
   "cell_type": "code",
   "execution_count": 1,
   "id": "94472174",
   "metadata": {},
   "outputs": [],
   "source": [
    "import numpy as np\n",
    "import pandas as pd\n",
    "import matplotlib.pyplot as plt\n",
    "import scipy.stats as stats\n",
    "import sys,time\n",
    "sys.path.insert(1, '../src/')\n",
    "import madmix\n",
    "import aux\n",
    "\n",
    "plt.rcParams.update({'figure.max_open_warning': 0})\n",
    "plt.rcParams[\"figure.figsize\"]=15,7.5\n",
    "plt.rcParams.update({'font.size': 40})"
   ]
  },
  {
   "cell_type": "code",
   "execution_count": 19,
   "id": "aaef2b24",
   "metadata": {},
   "outputs": [],
   "source": [
    "####################\n",
    "####################\n",
    "#   auxiliary fns  #\n",
    "####################\n",
    "####################\n",
    "def madmix_gmm_flatten(ws,mus,sigmas):\n",
    "    \"\"\"\n",
    "    Flatten weights, meand, and covariances into 2D array.\n",
    "    \n",
    "    Inputs:\n",
    "        ws     : (K,B) array, weights\n",
    "        mus    : (K,D,B) array, cluster means\n",
    "        sigmas : (K,D,D,B) array, cluster covariances\n",
    "    \n",
    "    Outpus:\n",
    "        xc     : (K',B) array, flattened values\n",
    "        \n",
    "    Note:\n",
    "    K is the number of clusters and B is the number of data points (for vectorizing)\n",
    "    K'= K (weights) + KxD (means) + KxDxD (covariances)\n",
    "    \"\"\"\n",
    "    \n",
    "    flat_mus=mus.reshape(K*D,B)\n",
    "    flat_sigmas=sigmas.reshape(K*D*D,B)\n",
    "    return np.vstack((ws,flat_mus,flat_sigmas))"
   ]
  },
  {
   "cell_type": "code",
   "execution_count": 20,
   "id": "bca8f1cb",
   "metadata": {},
   "outputs": [],
   "source": [
    "K=3\n",
    "D=2\n",
    "B=4\n",
    "ws=0.1*np.arange(K*B).reshape(K,B)\n",
    "mus=np.arange(K*D*B).reshape(K,D,B)\n",
    "sigmas=10*np.arange(K*D*D*B).reshape(K,D,D,B)"
   ]
  },
  {
   "cell_type": "code",
   "execution_count": 22,
   "id": "ce2988ea",
   "metadata": {},
   "outputs": [
    {
     "name": "stdout",
     "output_type": "stream",
     "text": [
      "[[0.  0.1 0.2 0.3]\n",
      " [0.4 0.5 0.6 0.7]\n",
      " [0.8 0.9 1.  1.1]]\n",
      "[[[ 0  1  2  3]\n",
      "  [ 4  5  6  7]]\n",
      "\n",
      " [[ 8  9 10 11]\n",
      "  [12 13 14 15]]\n",
      "\n",
      " [[16 17 18 19]\n",
      "  [20 21 22 23]]]\n",
      "[[[[  0  10  20  30]\n",
      "   [ 40  50  60  70]]\n",
      "\n",
      "  [[ 80  90 100 110]\n",
      "   [120 130 140 150]]]\n",
      "\n",
      "\n",
      " [[[160 170 180 190]\n",
      "   [200 210 220 230]]\n",
      "\n",
      "  [[240 250 260 270]\n",
      "   [280 290 300 310]]]\n",
      "\n",
      "\n",
      " [[[320 330 340 350]\n",
      "   [360 370 380 390]]\n",
      "\n",
      "  [[400 410 420 430]\n",
      "   [440 450 460 470]]]]\n",
      "\n",
      "(21, 4)\n"
     ]
    }
   ],
   "source": [
    "print(ws)\n",
    "print(mus)\n",
    "print(sigmas)\n",
    "print()\n",
    "xc=madmix_gmm_flatten(ws,mus,sigmas)\n",
    "print(xc.shape)"
   ]
  },
  {
   "cell_type": "markdown",
   "id": "0748de54",
   "metadata": {},
   "source": [
    "## Old Faithful"
   ]
  },
  {
   "cell_type": "code",
   "execution_count": 2,
   "id": "612338de",
   "metadata": {},
   "outputs": [],
   "source": [
    "####################\n",
    "####################\n",
    "#  data wrangling  #\n",
    "####################\n",
    "####################\n",
    "of_dat=pd.read_table('https://gist.githubusercontent.com/curran/4b59d1046d9e66f2787780ad51a1cd87/raw/9ec906b78a98cf300947a37b56cfe70d01183200/data.tsv')\n",
    "dat=np.array(of_dat)"
   ]
  },
  {
   "cell_type": "code",
   "execution_count": null,
   "id": "3ba033e8",
   "metadata": {},
   "outputs": [],
   "source": []
  }
 ],
 "metadata": {
  "kernelspec": {
   "display_name": "Python 3 (ipykernel)",
   "language": "python",
   "name": "python3"
  },
  "language_info": {
   "codemirror_mode": {
    "name": "ipython",
    "version": 3
   },
   "file_extension": ".py",
   "mimetype": "text/x-python",
   "name": "python",
   "nbconvert_exporter": "python",
   "pygments_lexer": "ipython3",
   "version": "3.9.6"
  }
 },
 "nbformat": 4,
 "nbformat_minor": 5
}
