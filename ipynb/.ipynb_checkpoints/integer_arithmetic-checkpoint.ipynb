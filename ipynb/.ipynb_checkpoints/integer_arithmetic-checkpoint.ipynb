{
 "cells": [
  {
   "cell_type": "markdown",
   "id": "244ae3d5",
   "metadata": {},
   "source": [
    "# Deterministic slice flows with integer arithmetic\n",
    "\n",
    "Consider a target density $\\pi(x,u)=p(x)1_{[0,1]}(u)$ and let $F$ be the cdf of $p$.\n",
    "Here the idea is to update a pair $(x,u)$ via\n",
    "$$\n",
    "\\begin{pmatrix}x\\\\u\\end{pmatrix}=\n",
    "\\begin{pmatrix}\n",
    "    F^{-1}(\\rho(u,x)+\\xi\\mod 1)\\\\ \n",
    "    \\frac{1}{p(x')}((\\rho(u,x)+\\xi\\mod 1)-F(x'))\n",
    "\\end{pmatrix},\n",
    "$$\n",
    "where $\\rho(u,x)=F(x-1)+up(x)$ converts to proportions and $F(0)=0$ by convention.\n",
    "\n",
    "We consider a univariate and a bivariate examples, \n",
    "both taken from Trevor's ipynb.\n",
    "First we define all the necessary functions."
   ]
  },
  {
   "cell_type": "code",
   "execution_count": 10,
   "id": "af3848e2",
   "metadata": {},
   "outputs": [],
   "source": [
    "import numpy as np\n",
    "import scipy.stats as stats\n",
    "import pandas as pd\n",
    "import matplotlib.pyplot as plt\n",
    "\n",
    "plt.rcParams.update({'figure.max_open_warning': 0})\n",
    "plt.rcParams[\"figure.figsize\"]=15,7.5\n",
    "plt.rcParams.update({'font.size': 24})"
   ]
  },
  {
   "cell_type": "code",
   "execution_count": 72,
   "id": "246cabdf",
   "metadata": {},
   "outputs": [],
   "source": [
    "# main functions\n",
    "def int_update(x,u,prbs,xi=np.pi/16,bigint=1e1,direction='fwd'):\n",
    "    if direction=='bwd': xi=-xi \n",
    "    # integerize\n",
    "    Mu=int(u*bigint)\n",
    "    #Mprbs=(prbs*bigint).astype(int)\n",
    "        \n",
    "    Mp=int_getp(x,Mu,prbs,xi,bigint)\n",
    "    xp=Mquantile(Mp,prbs)\n",
    "    Mup=(Mp-M*cdf(xp-1,prbs))/(M*prbs[xp])\n",
    "    return xp,Mup\n",
    "    #return xp,up\n",
    "\n",
    "def int_getp(x,Mu,prbs,xi=np.pi/16,bigint=1):\n",
    "    Mp=Mu*prbs[x]\n",
    "    if x>0:  Mp+=bigint*np.sum(prbs[:x])\n",
    "    return (Mp+int(bigint*xi))%bigint\n",
    "    \n",
    "# auxiliary functions\n",
    "def cdf(x,prbs): return np.sum(prbs[:(x+1)])\n",
    "def quantile(u,prbs): return np.argmax(np.cumsum(prbs)>u)\n",
    "def Mquantile(Mu,prbs): return np.argmax(np.cumsum(M*prbs)>Mu)\n",
    "def lcg_update(u,m,a=1.,c=0.): return (a*u+c)%m"
   ]
  },
  {
   "cell_type": "markdown",
   "id": "23d3f775",
   "metadata": {},
   "source": [
    "## Univariate example"
   ]
  },
  {
   "cell_type": "code",
   "execution_count": 73,
   "id": "61bcc8f2",
   "metadata": {},
   "outputs": [
    {
     "data": {
      "text/plain": [
       "array([0.04748061, 0.4022488 , 0.2312702 , 0.31900039])"
      ]
     },
     "execution_count": 73,
     "metadata": {},
     "output_type": "execute_result"
    }
   ],
   "source": [
    "# generate the distribution\n",
    "np.random.seed(2022)\n",
    "K=4\n",
    "prbs=np.random.rand(K)\n",
    "prbs=np.array([0.047480609696438775, 0.40224879672133207, 0.23127020434512163, 0.31900038923710755]) # trevor's example\n",
    "prbs=prbs/np.sum(prbs)\n",
    "prbs"
   ]
  },
  {
   "cell_type": "code",
   "execution_count": 88,
   "id": "03e340e3",
   "metadata": {},
   "outputs": [
    {
     "name": "stdout",
     "output_type": "stream",
     "text": [
      "Initial (u,x)=(0.555,1)\n",
      "Final (u,x)=(0.937760388334492,4)\n"
     ]
    }
   ],
   "source": [
    "# demo\n",
    "n_iters=100000\n",
    "verbose = True if n_iters<=10 else False\n",
    "M=1e8\n",
    "xi=np.pi/16\n",
    "x=np.zeros(n_iters+1,dtype=int)\n",
    "u=np.zeros(n_iters+1)\n",
    "u[0]=np.random.rand()\n",
    "u[0]=0.10688645379435302 # trevor's example\n",
    "u[0]=0.555\n",
    "\n",
    "# forward map\n",
    "print('Initial (u,x)=('+str(u[0])+','+str(x[0]+1)+')')\n",
    "for it in range(n_iters):\n",
    "    if verbose: print(x[it],u[it])\n",
    "    tmpx,tmpu=int_update(x[it],u[it],prbs,xi,bigint=M)\n",
    "    x[it+1]=tmpx\n",
    "    u[it+1]=tmpu\n",
    "# end for\n",
    "print('Final (u,x)=('+str(u[-1])+','+str(x[-1]+1)+')')"
   ]
  },
  {
   "cell_type": "code",
   "execution_count": null,
   "id": "9d01a9a9",
   "metadata": {},
   "outputs": [
    {
     "name": "stdout",
     "output_type": "stream",
     "text": [
      "Final (u,x)=(0.937760388334492,4)\n"
     ]
    }
   ],
   "source": [
    "# backward map\n",
    "bx=np.zeros(n_iters+1,dtype=int)\n",
    "bu=np.zeros(n_iters+1)\n",
    "bu[-1]=u[-1]\n",
    "bx[-1]=x[-1]\n",
    "print('Final (u,x)=('+str(bu[-1])+','+str(bx[-1]+1)+')')\n",
    "for it in range(n_iters):\n",
    "    tx,tu=update(bx[-(it+1)],bu[-(it+1)],prbs,xi,'bwd')\n",
    "    bx[-(it+2)]=tx\n",
    "    bu[-(it+2)]=tu\n",
    "    if verbose: print(tx,tu)\n",
    "# end for\n",
    "print('Initial (u,x)=('+str(bu[0])+','+str(bx[0]+1)+')')"
   ]
  },
  {
   "cell_type": "code",
   "execution_count": null,
   "id": "6dee0401",
   "metadata": {},
   "outputs": [],
   "source": [
    "fig, ax1 = plt.subplots()\n",
    "ax2 = ax1.twinx()\n",
    "ax1.plot(np.arange(1,n_iters+2),np.abs(u-bu),alpha=0.8,label=r'$|u-u_b|$')\n",
    "ax2.scatter(np.arange(1,n_iters+2),x-bx, alpha=0.2,c='orange',label=r'$x-x_b$')\n",
    "\n",
    "ax1.set_xlabel('Iteration number')\n",
    "ax1.set_ylabel(r'$\\Delta$u')\n",
    "#ax1.set_ylim(-4e-14,4e-14)\n",
    "ax1.set_yscale('log')\n",
    "ax2.set_ylabel(r'$\\Delta$x')\n",
    "ax2.set_ylim(-prbs.shape[0],prbs.shape[0])\n",
    "\n",
    "#ax1.legend(frameon=False)\n",
    "#ax2.legend(loc=[0.8,0.75],frameon=False)\n",
    "plt.show()"
   ]
  }
 ],
 "metadata": {
  "kernelspec": {
   "display_name": "Python 3 (ipykernel)",
   "language": "python",
   "name": "python3"
  },
  "language_info": {
   "codemirror_mode": {
    "name": "ipython",
    "version": 3
   },
   "file_extension": ".py",
   "mimetype": "text/x-python",
   "name": "python",
   "nbconvert_exporter": "python",
   "pygments_lexer": "ipython3",
   "version": "3.9.6"
  }
 },
 "nbformat": 4,
 "nbformat_minor": 5
}
