{
 "cells": [
  {
   "cell_type": "markdown",
   "id": "583dee04",
   "metadata": {},
   "source": [
    "# Hamiltonian-based mixflows\n",
    "\n",
    "Here we develop the code for dealing with continuous data\n",
    "via mixflows using deterministic Hamiltonian dynamics."
   ]
  },
  {
   "cell_type": "code",
   "execution_count": null,
   "id": "e440d78b",
   "metadata": {},
   "outputs": [],
   "source": []
  }
 ],
 "metadata": {
  "kernelspec": {
   "display_name": "Python 3 (ipykernel)",
   "language": "python",
   "name": "python3"
  },
  "language_info": {
   "codemirror_mode": {
    "name": "ipython",
    "version": 3
   },
   "file_extension": ".py",
   "mimetype": "text/x-python",
   "name": "python",
   "nbconvert_exporter": "python",
   "pygments_lexer": "ipython3",
   "version": "3.9.6"
  }
 },
 "nbformat": 4,
 "nbformat_minor": 5
}
