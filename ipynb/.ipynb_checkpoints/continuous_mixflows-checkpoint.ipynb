{
 "cells": [
  {
   "cell_type": "markdown",
   "id": "ab3a3dac",
   "metadata": {},
   "source": [
    "# Hamiltonian-based mixflows\n",
    "\n",
    "Here we develop the code for dealing with continuous data\n",
    "via mixflows using deterministic Hamiltonian dynamics."
   ]
  },
  {
   "cell_type": "code",
   "execution_count": 1,
   "id": "62dc9629",
   "metadata": {},
   "outputs": [],
   "source": [
    "import numpy as np\n",
    "import scipy.stats as stats\n",
    "import pandas as pd\n",
    "import matplotlib.pyplot as plt\n",
    "\n",
    "plt.rcParams.update({'figure.max_open_warning': 0})\n",
    "plt.rcParams[\"figure.figsize\"]=15,7.5\n",
    "plt.rcParams.update({'font.size': 24})"
   ]
  },
  {
   "cell_type": "code",
   "execution_count": 47,
   "id": "a6a90329",
   "metadata": {},
   "outputs": [],
   "source": [
    "def flow(x,rho,u,steps,L,eps,gradlogp,momentum='laplace',direction='fwd',xi=np.pi/16):\n",
    "    if steps==0: return x,rho,u,np.zeros(x.shape[1])\n",
    "    \n",
    "    # define laplace functions\n",
    "    if momentum=='laplace':\n",
    "        logm = lambda rho : laplace_logm(rho)\n",
    "        gradlogm = lambda rho : laplace_gradlogm(rho)\n",
    "        Fm = lambda rho : laplace_Fm(rho)\n",
    "        Qm = lambda p : laplace_Qm(p)\n",
    "        \n",
    "    ljs=np.zeros(x.shape[1])\n",
    "    for t in range(steps):\n",
    "        if direction=='fwd': x,r,rho,tljs=T_Leps_fwd(x,rho,u,L,eps,gradlogp,logm,gradlogm,Fm,xi)\n",
    "        if direction=='bwd': x,r,rho,tljs=T_Leps_bwd(x,rho,u,L,eps,gradlogp,logm,gradlogm,Fm,xi)\n",
    "        ljs+=tljs\n",
    "    # end for\n",
    "    return x,rho,u,ljs\n",
    "    \n",
    "\n",
    "def T_Leps_fwd(x,rho,u,L,eps,gradlogp,logm,gradlogm,Fm,xi=np.pi/16):\n",
    "    x,rho=Hamiltonian_update(x,rho,L,eps,gradlogp,gradlogm)\n",
    "    u=(u+xi)&1\n",
    "    J=logm(rho)\n",
    "    rho=Qm((Fm(rho)+prz(x,u))&1)\n",
    "    return x,rho,u,J/logm(rho)\n",
    "\n",
    "def T_Leps_bwd(x,rho,u,L,eps,gradlogp,logm,gradlogm,Fm,xi=np.pi/16):\n",
    "    J=logm(rho)\n",
    "    rho=Qm((Fm(rho)-prz(x,u))&1)\n",
    "    u=(u-xi)&1\n",
    "    x,rho=Hamiltonian_update(x,rho,L,-eps,gradlogp,gradlogm)\n",
    "    return x,rho,u,J/logm(rho)\n",
    "\n",
    "def Hamiltonian_update(x,rho,L,eps,gradlogp,gradlogm):\n",
    "    for l in range(L):\n",
    "        rho+=eps*gradlogp(x)/2\n",
    "        x  -=eps*gradlogm(rho)\n",
    "        rho+=eps*gradlogp(x)/2\n",
    "    # end for\n",
    "    return r,rho\n",
    "    \n",
    "    \n",
    "def prz(x,u): return 0.5*np.sin(2*x+u[np.newaxis,:])+0.5\n",
    "def laplace_logm(rho): return -np.abs(rho)-np.log(2)\n",
    "def laplace_gradlogm(rho): return -np.sign(rho)\n",
    "def laplace_Fm(rho): return -0.5*np.sign(rho)*np.exp(-np.sign(rho)*rho)+0.5+0.5*np.sign(rho)\n",
    "def laplace_Qm(p): return -np.sign(p-0.5)*np.log1p(-2*np.abs(p-0.5))"
   ]
  },
  {
   "cell_type": "code",
   "execution_count": null,
   "id": "13326ad6",
   "metadata": {},
   "outputs": [],
   "source": []
  }
 ],
 "metadata": {
  "kernelspec": {
   "display_name": "Python 3 (ipykernel)",
   "language": "python",
   "name": "python3"
  },
  "language_info": {
   "codemirror_mode": {
    "name": "ipython",
    "version": 3
   },
   "file_extension": ".py",
   "mimetype": "text/x-python",
   "name": "python",
   "nbconvert_exporter": "python",
   "pygments_lexer": "ipython3",
   "version": "3.9.6"
  }
 },
 "nbformat": 4,
 "nbformat_minor": 5
}
