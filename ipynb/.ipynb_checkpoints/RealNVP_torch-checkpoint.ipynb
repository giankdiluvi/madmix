{
 "cells": [
  {
   "cell_type": "code",
   "execution_count": 812,
   "id": "caa205e4",
   "metadata": {},
   "outputs": [],
   "source": [
    "import numpy as np\n",
    "import pandas as pd\n",
    "import tensorflow as tf\n",
    "import tensorflow_probability as tfp\n",
    "import matplotlib.pyplot as plt\n",
    "import sys\n",
    "import random\n",
    "sys.path.insert(1, '../discrete_mixflows/')\n",
    "from discrete_mixflows import *\n",
    "from gibbs import *\n",
    "\n",
    "plt.rcParams.update({'figure.max_open_warning': 0})\n",
    "plt.rcParams[\"figure.figsize\"]=15,7.5\n",
    "plt.rcParams.update({'font.size': 24})"
   ]
  },
  {
   "cell_type": "code",
   "execution_count": 258,
   "id": "228bf3e6",
   "metadata": {},
   "outputs": [],
   "source": [
    "########################\n",
    "########################\n",
    "# target specification #\n",
    "########################\n",
    "########################\n",
    "np.random.seed(2023)\n",
    "K1=10\n",
    "prbs=np.random.rand(K1)\n",
    "prbs=prbs/np.sum(prbs)\n",
    "def lp(x,axis=None):\n",
    "    # compute the univariate log joint and conditional target pmfs\n",
    "    #\n",
    "    # inputs:\n",
    "    #    x    : (1,d) array with state values\n",
    "    #    axis : int, full conditional to calculate; returns joint if None\n",
    "    # outputs:\n",
    "    #   ext_lprb : if axis is None, (d,) array with log joint; else, (d,K1) array with d conditionals \n",
    "    \n",
    "    ext_lprb=np.log(np.repeat(prbs[:,np.newaxis],x.shape[1],axis=1).T)\n",
    "    if axis==None: return np.squeeze(ext_lprb[np.arange(0,x.shape[1]),x])\n",
    "    return ext_lprb"
   ]
  },
  {
   "cell_type": "code",
   "execution_count": 259,
   "id": "1971c41a",
   "metadata": {},
   "outputs": [],
   "source": [
    "import torch\n",
    "from torch import nn\n",
    "from torch import distributions\n",
    "from torch.nn.parameter import Parameter"
   ]
  },
  {
   "cell_type": "code",
   "execution_count": 591,
   "id": "1a740ac0",
   "metadata": {},
   "outputs": [],
   "source": [
    "class RealNVP(nn.Module):\n",
    "    def __init__(self, nets, nett, mask, prior):\n",
    "        super(RealNVP, self).__init__()\n",
    "        \n",
    "        self.prior = prior\n",
    "        self.mask = nn.Parameter(mask, requires_grad=False)\n",
    "        self.t = torch.nn.ModuleList([nett() for _ in range(len(masks))])\n",
    "        self.s = torch.nn.ModuleList([nets() for _ in range(len(masks))])\n",
    "        \n",
    "    def forward(self, z):\n",
    "        x = z\n",
    "        for i in range(len(self.t)):\n",
    "            x_ = x*self.mask[i]\n",
    "            s = self.s[i](x_)*(1 - self.mask[i])\n",
    "            t = self.t[i](x_)*(1 - self.mask[i])\n",
    "            x = x_ + (1 - self.mask[i]) * (x * torch.exp(s) + t)\n",
    "            #print('i: '+str(i))\n",
    "            #print('x_ : '+str(x_))\n",
    "            #print('s : '+str(s))\n",
    "            #print('t : '+str(t))\n",
    "            #print('x : '+str(x))\n",
    "            #print()\n",
    "        return x\n",
    "\n",
    "    def backward(self, x):\n",
    "        log_det_J, z = x.new_zeros(x.shape[0]), x\n",
    "        for i in reversed(range(len(self.t))):\n",
    "            z_ = self.mask[i] * z\n",
    "            s = self.s[i](z_) * (1-self.mask[i])\n",
    "            t = self.t[i](z_) * (1-self.mask[i])\n",
    "            z = (1 - self.mask[i]) * (z - t) * torch.exp(-s) + z_\n",
    "            #print('i: '+str(i))\n",
    "            #print('z_ : '+str(z_))\n",
    "            #print('s : '+str(s))\n",
    "            #print('t : '+str(t))\n",
    "            #print('z : '+str(z))\n",
    "            #print()\n",
    "            log_det_J -= s.sum(dim=-1)\n",
    "        return z, log_det_J\n",
    "    \n",
    "    def log_prob(self,x):\n",
    "        z, logp = self.backward(x)\n",
    "        return self.prior.log_prob(z) + logp\n",
    "        \n",
    "    def sample(self, batchSize): \n",
    "        z = self.prior.sample((batchSize, 1)).float()\n",
    "        logp = self.prior.log_prob(z)\n",
    "        x = self.forward(z)\n",
    "        return x"
   ]
  },
  {
   "cell_type": "code",
   "execution_count": 881,
   "id": "e5426925",
   "metadata": {},
   "outputs": [],
   "source": [
    "from torch.distributions import constraints\n",
    "from torch.distributions.categorical import Categorical\n",
    "from torch.distributions.utils import clamp_probs, broadcast_all\n",
    "from torch.distributions.distribution import Distribution\n",
    "from torch.distributions.transformed_distribution import TransformedDistribution\n",
    "from torch.distributions.transforms import ExpTransform\n",
    "\n",
    "class ExpRelaxedCategorical(Distribution):\n",
    "    r\"\"\"\n",
    "    Creates a ExpRelaxedCategorical parameterized by\n",
    "    :attr:`temperature`, and either :attr:`probs` or :attr:`logits` (but not both).\n",
    "    Returns the log of a point in the simplex. Based on the interface to\n",
    "    :class:`OneHotCategorical`.\n",
    "\n",
    "    Implementation based on [1].\n",
    "\n",
    "    See also: :func:`torch.distributions.OneHotCategorical`\n",
    "\n",
    "    Args:\n",
    "        temperature (Tensor): relaxation temperature\n",
    "        probs (Tensor): event probabilities\n",
    "        logits (Tensor): unnormalized log probability for each event\n",
    "\n",
    "    [1] The Concrete Distribution: A Continuous Relaxation of Discrete Random Variables\n",
    "    (Maddison et al, 2017)\n",
    "\n",
    "    [2] Categorical Reparametrization with Gumbel-Softmax\n",
    "    (Jang et al, 2017)\n",
    "    \"\"\"\n",
    "    arg_constraints = {'probs': constraints.simplex,\n",
    "                       'logits': constraints.real_vector}\n",
    "    support = constraints.real_vector  # The true support is actually a submanifold of this.\n",
    "    has_rsample = True\n",
    "\n",
    "    def __init__(self, temperature, probs=None, logits=None, validate_args=None):\n",
    "        self._categorical = Categorical(probs, logits)\n",
    "        self.temperature = temperature\n",
    "        batch_shape = self._categorical.batch_shape\n",
    "        event_shape = self._categorical.param_shape[-1:]\n",
    "        super().__init__(batch_shape, event_shape, validate_args=validate_args)\n",
    "\n",
    "    def expand(self, batch_shape, _instance=None):\n",
    "        new = self._get_checked_instance(ExpRelaxedCategorical, _instance)\n",
    "        batch_shape = torch.Size(batch_shape)\n",
    "        new.temperature = self.temperature\n",
    "        new._categorical = self._categorical.expand(batch_shape)\n",
    "        super(ExpRelaxedCategorical, new).__init__(batch_shape, self.event_shape, validate_args=False)\n",
    "        new._validate_args = self._validate_args\n",
    "        return new\n",
    "\n",
    "    def _new(self, *args, **kwargs):\n",
    "        return self._categorical._new(*args, **kwargs)\n",
    "\n",
    "    @property\n",
    "    def param_shape(self):\n",
    "        return self._categorical.param_shape\n",
    "\n",
    "    @property\n",
    "    def logits(self):\n",
    "        return self._categorical.logits\n",
    "\n",
    "    @property\n",
    "    def probs(self):\n",
    "        return self._categorical.probs\n",
    "\n",
    "    def rsample(self, sample_shape=torch.Size()):\n",
    "        shape = self._extended_shape(sample_shape)\n",
    "        uniforms = clamp_probs(torch.rand(shape, dtype=self.logits.dtype, device=self.logits.device))\n",
    "        gumbels = -((-(uniforms.log())).log())\n",
    "        scores = (self.logits + gumbels) / self.temperature\n",
    "        return scores - scores.logsumexp(dim=-1, keepdim=True)\n",
    "\n",
    "    def log_prob(self, value):\n",
    "        K = self._categorical._num_events\n",
    "        if self._validate_args:\n",
    "            self._validate_sample(value)\n",
    "        logits, value = broadcast_all(self.logits, value)\n",
    "        log_scale = (torch.full_like(self.temperature, float(K)).lgamma() -\n",
    "                     self.temperature.log().mul(-(K - 1)))\n",
    "        score = logits - value.mul(self.temperature)\n",
    "        score = (score - score.logsumexp(dim=-1, keepdim=True)).sum(-1)\n",
    "        return score + log_scale"
   ]
  },
  {
   "cell_type": "code",
   "execution_count": 957,
   "id": "3ad34b08",
   "metadata": {},
   "outputs": [],
   "source": [
    "layers=32\n",
    "nets = lambda: nn.Sequential(nn.Linear(K1, layers), nn.LeakyReLU(), nn.Linear(layers, layers), nn.LeakyReLU(), nn.Linear(layers, K1), nn.Tanh())\n",
    "nett = lambda: nn.Sequential(nn.Linear(K1, layers), nn.LeakyReLU(), nn.Linear(layers, layers), nn.LeakyReLU(), nn.Linear(layers, K1))\n",
    "m=np.tril(np.ones((K1,K1)))-np.eye(K1)\n",
    "m[0,0]=1\n",
    "masks = torch.from_numpy(m.astype(np.float32))\n",
    "mymat=torch.zeros((2,K1))\n",
    "mymat[0,:(K1//2)]=1\n",
    "mymat[1,(K1-(K1//2)):]=1\n",
    "masks=mymat.repeat(7//2,1)\n",
    "#prior = torch.distributions.RelaxedOneHotCategorical(torch.tensor([1.]),torch.tensor(np.ones(K1)/K1))\n",
    "#target = torch.distributions.RelaxedOneHotCategorical(torch.tensor([1.]),torch.tensor(prbs))\n",
    "\n",
    "\n",
    "prior = ExpRelaxedCategorical(torch.tensor([0.1]),torch.tensor(np.ones(K1)/K1))\n",
    "target = ExpRelaxedCategorical(torch.tensor([0.1]),torch.tensor(prbs))\n",
    "flow = RealNVP(nets, nett, masks, prior)"
   ]
  },
  {
   "cell_type": "code",
   "execution_count": 958,
   "id": "b9541167",
   "metadata": {},
   "outputs": [
    {
     "name": "stdout",
     "output_type": "stream",
     "text": [
      "Initial: tensor([-3.8163e+01, -2.5037e+01, -2.0757e+01, -2.8163e+01, -1.4587e+01,\n",
      "        -3.3252e+01, -2.8036e+01, -4.6335e-07, -2.2035e+01, -3.5016e+01])\n",
      "Final: tensor([-51.1720, -13.8535, -47.3671,  -8.6122, -41.7122,  -8.2861, -20.9186,\n",
      "         -0.8099, -49.5845, -50.3282], grad_fn=<AddBackward0>)\n",
      "Initial: (tensor([-3.8163e+01, -2.5037e+01, -2.0757e+01, -2.8163e+01, -1.4587e+01,\n",
      "        -3.3252e+01, -2.8036e+01,  5.1663e-06, -2.2035e+01, -3.5016e+01],\n",
      "       grad_fn=<AddBackward0>), tensor([2.5360, 2.5360, 2.5360, 2.5360, 2.5360, 2.5360, 2.5360, 2.5360, 2.5360,\n",
      "        2.5360], grad_fn=<SubBackward0>))\n"
     ]
    }
   ],
   "source": [
    "z=prior.sample().float()\n",
    "print('Initial: '+str(z))\n",
    "x=flow.forward(z)\n",
    "print('Final: '+str(x))\n",
    "z=flow.backward(x)\n",
    "print('Initial: '+str(z))"
   ]
  },
  {
   "cell_type": "code",
   "execution_count": null,
   "id": "725155bd",
   "metadata": {},
   "outputs": [
    {
     "name": "stdout",
     "output_type": "stream",
     "text": [
      "iter 0: loss = 198.044\n",
      "iter 100: loss = 39.040\n",
      "iter 200: loss = 37.401\n",
      "iter 300: loss = 36.065\n",
      "iter 400: loss = 34.919\n",
      "iter 500: loss = 34.434\n",
      "iter 600: loss = 33.921\n",
      "iter 700: loss = 34.036\n",
      "iter 800: loss = 33.416\n",
      "iter 900: loss = 32.821\n",
      "iter 1000: loss = 32.935\n",
      "iter 1100: loss = 32.601\n"
     ]
    }
   ],
   "source": [
    "seed=2023\n",
    "torch.manual_seed(seed)\n",
    "random.seed(seed)\n",
    "optimizer = torch.optim.Adam([p for p in flow.parameters() if p.requires_grad==True], lr=5*1e-3)\n",
    "n_iters=5000\n",
    "losses=np.zeros(n_iters)\n",
    "sample=target.sample((1000,)).float()\n",
    "for t in range(n_iters):\n",
    "    \n",
    "    loss = -flow.log_prob(sample).mean()\n",
    "    losses[t]=loss\n",
    "    \n",
    "    optimizer.zero_grad()\n",
    "    loss.backward(retain_graph=True)\n",
    "    optimizer.step()\n",
    "    \n",
    "    if t % 100 == 0: print('iter %s:' % t, 'loss = %.3f' % loss)"
   ]
  },
  {
   "cell_type": "code",
   "execution_count": null,
   "id": "a7d357ee",
   "metadata": {},
   "outputs": [],
   "source": [
    "plt.plot(np.arange(n_iters)[50:],losses[50:],'-k')"
   ]
  },
  {
   "cell_type": "code",
   "execution_count": null,
   "id": "7b96b72f",
   "metadata": {},
   "outputs": [],
   "source": [
    "tt=flow.sample(10000)\n",
    "tt=np.exp(np.squeeze(tt.detach().numpy()))\n",
    "tt=tt/np.sum(tt,axis=-1)[:,np.newaxis]"
   ]
  },
  {
   "cell_type": "code",
   "execution_count": null,
   "id": "ce785d32",
   "metadata": {},
   "outputs": [],
   "source": [
    "ttx=np.arange(0,K1)\n",
    "plt.plot(ttx+0.5,prbs,c=\"black\", label=r'$\\pi(x)$',lw=3,ms=15,marker='o')\n",
    "plt.hist(np.argmax(tt,axis=-1),density=True,bins=np.arange(0,K1+1),\n",
    "         alpha=0.35, label='Concrete', color=\"#FBB91FFF\",ec='black')\n",
    "plt.legend()\n",
    "#plt.ylim(0,0.5)"
   ]
  },
  {
   "cell_type": "code",
   "execution_count": null,
   "id": "e18a707f",
   "metadata": {},
   "outputs": [],
   "source": [
    "tt2=plt.hist(np.argmax(tt,axis=-1),density=True)\n",
    "plt.clf()"
   ]
  },
  {
   "cell_type": "code",
   "execution_count": null,
   "id": "7829b966",
   "metadata": {},
   "outputs": [],
   "source": [
    "tt2[0]/np.sum(tt2[0])"
   ]
  },
  {
   "cell_type": "code",
   "execution_count": null,
   "id": "86e58da8",
   "metadata": {},
   "outputs": [],
   "source": [
    "prbs"
   ]
  },
  {
   "cell_type": "markdown",
   "id": "7cf6d109",
   "metadata": {},
   "source": [
    "## Lyndon Duong\n",
    "https://www.lyndonduong.com/realnvp/"
   ]
  },
  {
   "cell_type": "code",
   "execution_count": 924,
   "id": "ae6f8b4a",
   "metadata": {},
   "outputs": [],
   "source": [
    "class Coupling(nn.Module):\n",
    "    \"\"\"Two fully-connected deep nets ``s`` and ``t``, each with num_layers layers and\n",
    "    The networks will expand the dimensionality up from 2D to 256D, then ultimately\n",
    "    push it back down to 2D.\n",
    "    \"\"\"\n",
    "    def __init__(self, input_dim=10, mid_channels=256, num_layers=5):\n",
    "        super().__init__()\n",
    "        self.input_dim = input_dim\n",
    "        self.mid_channels = mid_channels\n",
    "        self.num_layers = num_layers\n",
    "\n",
    "        #  scale and translation transforms\n",
    "        self.s = nn.Sequential(*self._sequential(), nn.Tanh())\n",
    "        self.t = nn.Sequential(*self._sequential())\n",
    "\n",
    "    def _sequential(self):\n",
    "        \"\"\"Compose sequential layers for s and t networks\"\"\"\n",
    "        input_dim, mid_channels, num_layers = self.input_dim, self.mid_channels, self.num_layers\n",
    "        sequence = [nn.Linear(input_dim, mid_channels), nn.ReLU()]  # first layer\n",
    "        for _ in range(num_layers - 2):  # intermediate layers\n",
    "            sequence.extend([nn.Linear(mid_channels, mid_channels), nn.ReLU()])\n",
    "        sequence.extend([nn.Linear(mid_channels, input_dim)])  # final layer\n",
    "        return sequence\n",
    "\n",
    "    def forward(self, x):\n",
    "        \"\"\"outputs of s and t networks\"\"\"\n",
    "        return self.s(x), self.t(x)\n",
    "\n",
    "\n",
    "class myRealNVP(nn.Module):\n",
    "    \"\"\"Creates an invertible network with ``num_coupling_layers`` coupling layers\n",
    "    We model the latent space as a N(0,I) Gaussian, and compute the loss of the\n",
    "    network as the negloglik in the latent space, minus the log det of the jacobian.\n",
    "    The network is carefully crafted such that the logdetjac is trivially computed.\n",
    "    \"\"\"\n",
    "    def __init__(self, num_coupling_layers):\n",
    "        super().__init__()\n",
    "        self.num_coupling_layers = num_coupling_layers\n",
    "\n",
    "        # model the latent as a\n",
    "        #self.distribution = dists.MultivariateNormal(loc=torch.zeros(2),\n",
    "        #                                             covariance_matrix=torch.eye(2))\n",
    "        self.distribution = ExpRelaxedCategorical(torch.tensor([0.1]),torch.tensor(np.ones(K1)/K1))\n",
    "        #self.masks = torch.tensor(\n",
    "        #   [[0, 1], [1, 0]] * (num_coupling_layers // 2), dtype=torch.float32\n",
    "        #)\n",
    "        m=np.tril(np.ones((K1,K1)))-np.eye(K1)\n",
    "        m[0,0]=1\n",
    "        self.masks = torch.from_numpy(m.astype(np.float32))\n",
    "\n",
    "        # create num_coupling_layers layers in the RealNVP network\n",
    "        self.layers_list = [Coupling() for _ in range(num_coupling_layers)]\n",
    "\n",
    "    def forward(self, x, training=True):\n",
    "        \"\"\"Compute the forward or inverse transform\n",
    "        The direction in which we go (input -> latent vs latent -> input) depends on\n",
    "        the ``training`` param.\n",
    "        \"\"\"\n",
    "        log_det_inv = 0.\n",
    "        direction = 1\n",
    "        if training:\n",
    "            direction = -1\n",
    "\n",
    "        # pass through each coupling layer (optionally in reverse)\n",
    "        for i in range(self.num_coupling_layers)[::direction]:\n",
    "            mask =  self.masks[i]\n",
    "            x_masked = x * mask\n",
    "            reversed_mask = 1. - mask\n",
    "            s, t = self.layers_list[i](x_masked)\n",
    "            s = s * reversed_mask\n",
    "            t = t * reversed_mask\n",
    "            gate = (direction - 1) / 2\n",
    "            x = (\n",
    "                reversed_mask\n",
    "                * (x * torch.exp(direction * s) + direction * t * torch.exp(gate * s))\n",
    "                + x_masked\n",
    "            )\n",
    "            # log det (and its inverse) are easily computed\n",
    "            log_det_inv = log_det_inv + gate * s.sum(dim=-1)\n",
    "        return x, log_det_inv\n",
    "\n",
    "    def log_loss(self, x):\n",
    "        \"\"\"log loss is the neg loglik minus the logdet\"\"\"\n",
    "        y, logdet = self(x)\n",
    "        log_likelihood = self.distribution.log_prob(y) + logdet\n",
    "        return -torch.mean(log_likelihood)\n",
    "\n",
    "mdl = myRealNVP(num_coupling_layers=3)"
   ]
  },
  {
   "cell_type": "code",
   "execution_count": 936,
   "id": "3fe1b668",
   "metadata": {},
   "outputs": [
    {
     "data": {
      "text/plain": [
       "tensor([[0., 1.],\n",
       "        [1., 0.],\n",
       "        [0., 1.],\n",
       "        [1., 0.],\n",
       "        [0., 1.],\n",
       "        [1., 0.]])"
      ]
     },
     "execution_count": 936,
     "metadata": {},
     "output_type": "execute_result"
    }
   ],
   "source": [
    "torch.tensor([[0, 1], [1, 0]] * (7 // 2), dtype=torch.float32)"
   ]
  },
  {
   "cell_type": "code",
   "execution_count": 956,
   "id": "b28606df",
   "metadata": {},
   "outputs": [
    {
     "data": {
      "text/plain": [
       "tensor([[1., 1., 1., 1., 1., 0., 0., 0., 0., 0.],\n",
       "        [0., 0., 0., 0., 0., 1., 1., 1., 1., 1.],\n",
       "        [1., 1., 1., 1., 1., 0., 0., 0., 0., 0.],\n",
       "        [0., 0., 0., 0., 0., 1., 1., 1., 1., 1.],\n",
       "        [1., 1., 1., 1., 1., 0., 0., 0., 0., 0.],\n",
       "        [0., 0., 0., 0., 0., 1., 1., 1., 1., 1.]])"
      ]
     },
     "execution_count": 956,
     "metadata": {},
     "output_type": "execute_result"
    }
   ],
   "source": [
    "mymat=torch.zeros((2,K1))\n",
    "mymat[0,:(K1//2)]=1\n",
    "mymat[1,(K1-(K1//2)):]=1\n",
    "mymat.repeat(7//2,1)"
   ]
  },
  {
   "cell_type": "code",
   "execution_count": 925,
   "id": "bc6ab269",
   "metadata": {},
   "outputs": [
    {
     "name": "stdout",
     "output_type": "stream",
     "text": [
      "iter 0: loss = 58.528\n",
      "iter 100: loss = 35.905\n",
      "iter 200: loss = 35.460\n",
      "iter 300: loss = 35.379\n",
      "iter 400: loss = 35.277\n",
      "iter 500: loss = 35.259\n",
      "iter 600: loss = 35.117\n",
      "iter 700: loss = 35.040\n",
      "iter 800: loss = 34.967\n",
      "iter 900: loss = 34.967\n"
     ]
    }
   ],
   "source": [
    "params = []\n",
    "for l in mdl.layers_list:\n",
    "    params.extend([p for p in l.parameters()])\n",
    "\n",
    "optim = torch.optim.Adam(params, lr=1e-3)\n",
    "\n",
    "losses = []\n",
    "\n",
    "num_epochs = 1000\n",
    "n_pts = 512\n",
    "x0 = target.sample((1000,)).float()\n",
    "for t in range(num_epochs):\n",
    "    loss = mdl.log_loss(x0)\n",
    "    optim.zero_grad()\n",
    "    loss.backward()\n",
    "    optim.step()\n",
    "    losses.append(loss.detach())\n",
    "    if t % 100 == 0: print('iter %s:' % t, 'loss = %.3f' % loss)"
   ]
  },
  {
   "cell_type": "code",
   "execution_count": 926,
   "id": "6e7895ad",
   "metadata": {},
   "outputs": [
    {
     "name": "stderr",
     "output_type": "stream",
     "text": [
      "/var/folders/k3/24b0dzl557v5m0_0658q2cxr0000gn/T/ipykernel_65701/1418362653.py:2: RuntimeWarning: overflow encountered in exp\n",
      "  samples=np.exp(np.squeeze(samples.detach().numpy()))\n",
      "/var/folders/k3/24b0dzl557v5m0_0658q2cxr0000gn/T/ipykernel_65701/1418362653.py:3: RuntimeWarning: invalid value encountered in divide\n",
      "  samples=samples/np.sum(samples,axis=-1)[:,np.newaxis]\n"
     ]
    }
   ],
   "source": [
    "samples,_=mdl.forward(prior.sample((1000,)).float())\n",
    "samples=np.exp(np.squeeze(samples.detach().numpy()))\n",
    "samples=samples/np.sum(samples,axis=-1)[:,np.newaxis]"
   ]
  },
  {
   "cell_type": "code",
   "execution_count": 929,
   "id": "32de6826",
   "metadata": {},
   "outputs": [
    {
     "data": {
      "text/plain": [
       "<matplotlib.legend.Legend at 0x30bdc0fa0>"
      ]
     },
     "execution_count": 929,
     "metadata": {},
     "output_type": "execute_result"
    },
    {
     "data": {
      "image/png": "[encoded data removed]",
      "text/plain": [
       "<Figure size 1500x750 with 1 Axes>"
      ]
     },
     "metadata": {},
     "output_type": "display_data"
    }
   ],
   "source": [
    "ttx=np.arange(0,K1)\n",
    "plt.plot(ttx+0.5,prbs,c=\"black\", label=r'$\\pi(x)$',lw=3,ms=15,marker='o')\n",
    "plt.hist(np.argmax(samples,axis=-1),density=True,bins=np.arange(0,K1+1),\n",
    "         alpha=0.35, label='Concrete', color=\"#FBB91FFF\",ec='black')\n",
    "plt.legend()\n",
    "#plt.ylim(0,0.5)"
   ]
  },
  {
   "cell_type": "markdown",
   "id": "8d54d71f",
   "metadata": {},
   "source": [
    "## Another one"
   ]
  },
  {
   "cell_type": "code",
   "execution_count": 151,
   "id": "31268e98",
   "metadata": {},
   "outputs": [],
   "source": [
    "import torch\n",
    "import flowtorch.bijectors as bij\n",
    "import flowtorch.distributions as dist"
   ]
  },
  {
   "cell_type": "code",
   "execution_count": null,
   "id": "212d83d2",
   "metadata": {},
   "outputs": [],
   "source": [
    "import flowtorch.parameters as params\n",
    "# Lazily instantiated flow plus base and target distributions\n",
    "params = params.DenseAutoregressive(hidden_dims=(32,))\n",
    "bijectors = bij.AffineAutoregressive(params)#params=params)\n",
    "base_dist = torch.distributions.Independent(torch.distributions.RelaxedOneHotCategorical(\n",
    "      torch.tensor([temperature]),\n",
    "      torch.tensor(np.ones(K1)/K1)),0)\n",
    "target_dist = torch.distributions.Independent(torch.distributions.RelaxedOneHotCategorical(\n",
    "      torch.tensor([temperature]),\n",
    "      torch.tensor(prbs)),0)\n",
    "\n",
    "# Instantiate transformed distribution and parameters\n",
    "flow = dist.Flow(base_dist, bijectors)\n",
    "\n",
    "# Training loop\n",
    "opt = torch.optim.Adam(flow.parameters(), lr=5e-3)\n",
    "frame = 0\n",
    "for idx in range(3001):\n",
    "    opt.zero_grad()\n",
    "\n",
    "    # Minimize KL(q || p)\n",
    "    y = base_dist.sample((1000,)).to(torch.float32)\n",
    "    print(flow.bijector.inverse(y))\n",
    "    loss = -flow.log_prob(y).mean()\n",
    "\n",
    "    if idx % 500 == 0:\n",
    "        print('epoch', idx, 'loss', loss)\n",
    "        \n",
    "    loss.backward()\n",
    "    opt.step()"
   ]
  }
 ],
 "metadata": {
  "kernelspec": {
   "display_name": "Python 3 (ipykernel)",
   "language": "python",
   "name": "python3"
  },
  "language_info": {
   "codemirror_mode": {
    "name": "ipython",
    "version": 3
   },
   "file_extension": ".py",
   "mimetype": "text/x-python",
   "name": "python",
   "nbconvert_exporter": "python",
   "pygments_lexer": "ipython3",
   "version": "3.9.6"
  }
 },
 "nbformat": 4,
 "nbformat_minor": 5
}
