{
 "cells": [
  {
   "cell_type": "markdown",
   "id": "21cef05e",
   "metadata": {},
   "source": [
    "# MAD Mix GMM extension\n",
    "\n",
    "To handle multivariate data and learn weights and covariance matrices."
   ]
  },
  {
   "cell_type": "code",
   "execution_count": 1,
   "id": "550f2939",
   "metadata": {},
   "outputs": [],
   "source": [
    "import numpy as np\n",
    "import pandas as pd\n",
    "import matplotlib.pyplot as plt\n",
    "import scipy.stats as stats\n",
    "import sys,time\n",
    "sys.path.insert(1, '../src/')\n",
    "import madmix\n",
    "import aux\n",
    "\n",
    "plt.rcParams.update({'figure.max_open_warning': 0})\n",
    "plt.rcParams[\"figure.figsize\"]=15,7.5\n",
    "plt.rcParams.update({'font.size': 40})"
   ]
  },
  {
   "cell_type": "code",
   "execution_count": 2,
   "id": "0fe0396a",
   "metadata": {},
   "outputs": [],
   "source": [
    "####################\n",
    "####################\n",
    "#   auxiliary fns  #\n",
    "####################\n",
    "####################\n",
    "def madmix_gmm_flatten(ws,mus,sigmas):\n",
    "    \"\"\"\n",
    "    Flatten weights, meand, and covariances into 2D array\n",
    "    \n",
    "    Inputs:\n",
    "        ws     : (K,B) array, weights\n",
    "        mus    : (K,D,B) array, cluster means\n",
    "        sigmas : (K,D,D,B) array, cluster covariances\n",
    "    \n",
    "    Outpus:\n",
    "        xc     : (K',B) array, flattened values\n",
    "        \n",
    "    Note:\n",
    "    K is the number of clusters, D is data dimension, \n",
    "    and B is the number of data points (for vectorizing)\n",
    "    K'= K (weights) + KxD (means) + KxDxD (covariances)\n",
    "    \"\"\"\n",
    "    K,D,B=mus.shape\n",
    "    \n",
    "    flat_mus=mus.reshape(K*D,B)\n",
    "    flat_sigmas=sigmas.reshape(K*D*D,B)\n",
    "    return np.vstack((ws,flat_mus,flat_sigmas))\n",
    "\n",
    "\n",
    "def madmix_gmm_unflatten(xc,K,D):\n",
    "    \"\"\"\n",
    "    Unflatten xc into weights, meand, and covariances\n",
    "    \n",
    "    Inputs:\n",
    "        xc     : (K',B) array, flattened values\n",
    "    \n",
    "    Outputs:\n",
    "        ws     : (K,B) array, weights\n",
    "        mus    : (K,D,B) array, cluster means\n",
    "        sigmas : (K,D,D,B) array, cluster covariances\n",
    "        \n",
    "    Note:\n",
    "    K is the number of clusters, D is data dimension, \n",
    "    and B is the number of data points (for vectorizing)\n",
    "    K'= K (weights) + KxD (means) + KxDxD (covariances)\n",
    "    \"\"\"\n",
    "    B=xc.shape[-1]\n",
    "    \n",
    "    # recover each flattened var\n",
    "    ws=xc[:K,:]\n",
    "    flat_mus=xc[K:(K*D+K),:]\n",
    "    flat_sigmas=xc[(K*D+K):,:]\n",
    "    \n",
    "    # unflatten separately\n",
    "    mus=flat_mus.reshape(K,D,B)\n",
    "    sigmas=flat_sigmas.reshape(K,D,D,B)\n",
    "    \n",
    "    return ws,mus,sigmas"
   ]
  },
  {
   "cell_type": "code",
   "execution_count": 12,
   "id": "0afb4b1e",
   "metadata": {},
   "outputs": [],
   "source": [
    "########################\n",
    "########################\n",
    "# target specification #\n",
    "########################\n",
    "########################\n",
    "def lp(xd,xc,axis=None):\n",
    "    # compute the univariate log joint and conditional target pmfs\n",
    "    #\n",
    "    # inputs:\n",
    "    #    xd     : (N,B) array with labels\n",
    "    #    xc     : (K',B) array with means\n",
    "    #    axis   : int (0<axis<N), axis to find full conditional; if None then returns the log joint\n",
    "    # outputs:\n",
    "    #   ext_lprb : if axis is None, (B,) array with log joint; else, (B,K) array with d conditionals \n",
    "    N,B=xd.shape\n",
    "    \n",
    "    ws,mus,sigmas=madmix_gmm_unflatten(xc,K,D)\n",
    "    lprbs=np.zeros((N,K,B))\n",
    "    for k in range(K): \n",
    "        for b in range(B):\n",
    "            lprbs[:,k,b]=stats.multivariate_normal(mus[k,:,b],sigmas[k,:,:,b]).logpdf(y)\n",
    "        # end for\n",
    "    # end for\n",
    "    lprbs=lprbs-aux.LogSumExp(np.moveaxis(lprbs,1,0))[:,np.newaxis,:]\n",
    "    #lprbs=lprbs-aux.LogSumExp2(lprbs,axis=1)\n",
    "    \n",
    "    ext_lprb=np.zeros((N,B))\n",
    "    if axis is None: \n",
    "        ext_lprb=np.zeros((N,B))\n",
    "        for b in range(B): ext_lprb[:,b]=lprbs[np.arange(0,N),xd[:,b],b]\n",
    "        return np.sum(ext_lprb,axis=0)\n",
    "    # end if\n",
    "    return lprbs[axis,:,:].T"
   ]
  },
  {
   "cell_type": "code",
   "execution_count": 13,
   "id": "06d84480",
   "metadata": {},
   "outputs": [],
   "source": [
    "y=dat\n",
    "K=2\n",
    "xd=np.random.randint(low=0,high=2,size=(y.shape[0],2))\n",
    "ws_=np.array([[0.6,0.6],[0.4,0.4]])\n",
    "mus_=np.zeros((2,2,2))\n",
    "for b in range(2): mus_[:,:,b]=np.array([[2,60],[4.5,80]])\n",
    "sigmas_=np.zeros((2,2,2,2))\n",
    "for k in range(2):\n",
    "    for b in range(2):\n",
    "        sigmas_[k,:,:,b]=np.eye(2)\n",
    "\n",
    "xc=madmix_gmm_flatten(ws_,mus_,sigmas_)"
   ]
  },
  {
   "cell_type": "code",
   "execution_count": 22,
   "id": "eebcfac2",
   "metadata": {},
   "outputs": [
    {
     "data": {
      "text/plain": [
       "array([[2.79888842e-79, 1.00000000e+00],\n",
       "       [2.79888842e-79, 1.00000000e+00]])"
      ]
     },
     "execution_count": 22,
     "metadata": {},
     "output_type": "execute_result"
    }
   ],
   "source": [
    "np.exp(lp(xd,xc,axis=0))"
   ]
  },
  {
   "cell_type": "markdown",
   "id": "c4a9bf46",
   "metadata": {},
   "source": [
    "## Old Faithful"
   ]
  },
  {
   "cell_type": "code",
   "execution_count": 4,
   "id": "de2b7cc9",
   "metadata": {},
   "outputs": [],
   "source": [
    "####################\n",
    "####################\n",
    "#  data wrangling  #\n",
    "####################\n",
    "####################\n",
    "of_dat=pd.read_table('https://gist.githubusercontent.com/curran/4b59d1046d9e66f2787780ad51a1cd87/raw/9ec906b78a98cf300947a37b56cfe70d01183200/data.tsv')\n",
    "dat=np.array(of_dat)\n",
    "N,D=dat.shape"
   ]
  }
 ],
 "metadata": {
  "kernelspec": {
   "display_name": "Python 3 (ipykernel)",
   "language": "python",
   "name": "python3"
  },
  "language_info": {
   "codemirror_mode": {
    "name": "ipython",
    "version": 3
   },
   "file_extension": ".py",
   "mimetype": "text/x-python",
   "name": "python",
   "nbconvert_exporter": "python",
   "pygments_lexer": "ipython3",
   "version": "3.9.6"
  }
 },
 "nbformat": 4,
 "nbformat_minor": 5
}
