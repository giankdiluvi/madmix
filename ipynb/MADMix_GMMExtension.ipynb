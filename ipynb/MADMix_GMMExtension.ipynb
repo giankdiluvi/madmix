{
 "cells": [
  {
   "cell_type": "markdown",
   "id": "fe9cf376",
   "metadata": {},
   "source": [
    "# MAD Mix GMM extension\n",
    "\n",
    "To handle multivariate data and learn weights and covariance matrices."
   ]
  },
  {
   "cell_type": "code",
   "execution_count": 1,
   "id": "2da41ac2",
   "metadata": {},
   "outputs": [],
   "source": [
    "import numpy as np\n",
    "import pandas as pd\n",
    "import matplotlib.pyplot as plt\n",
    "import scipy.stats as stats\n",
    "import sys,time\n",
    "sys.path.insert(1, '../src/')\n",
    "import madmix\n",
    "import aux\n",
    "\n",
    "plt.rcParams.update({'figure.max_open_warning': 0})\n",
    "plt.rcParams[\"figure.figsize\"]=15,7.5\n",
    "plt.rcParams.update({'font.size': 40})"
   ]
  },
  {
   "cell_type": "code",
   "execution_count": 30,
   "id": "86cf875b",
   "metadata": {},
   "outputs": [],
   "source": [
    "####################\n",
    "####################\n",
    "#   auxiliary fns  #\n",
    "####################\n",
    "####################\n",
    "def madmix_gmm_flatten(ws,mus,sigmas):\n",
    "    \"\"\"\n",
    "    Flatten weights, meand, and covariances into 2D array\n",
    "    \n",
    "    Inputs:\n",
    "        ws     : (K,B) array, weights\n",
    "        mus    : (K,D,B) array, cluster means\n",
    "        sigmas : (K,D,D,B) array, cluster covariances\n",
    "    \n",
    "    Outpus:\n",
    "        xc     : (K',B) array, flattened values\n",
    "        \n",
    "    Note:\n",
    "    K is the number of clusters, D is data dimension, \n",
    "    and B is the number of data points (for vectorizing)\n",
    "    K'= K (weights) + KxD (means) + KxDxD (covariances)\n",
    "    \"\"\"\n",
    "    \n",
    "    flat_mus=mus.reshape(K*D,B)\n",
    "    flat_sigmas=sigmas.reshape(K*D*D,B)\n",
    "    return np.vstack((ws,flat_mus,flat_sigmas))\n",
    "\n",
    "\n",
    "def madmix_gmm_unflatten(xc,K,D):\n",
    "    \"\"\"\n",
    "    Unflatten xc into weights, meand, and covariances\n",
    "    \n",
    "    Inputs:\n",
    "        xc     : (K',B) array, flattened values\n",
    "    \n",
    "    Outputs:\n",
    "        ws     : (K,B) array, weights\n",
    "        mus    : (K,D,B) array, cluster means\n",
    "        sigmas : (K,D,D,B) array, cluster covariances\n",
    "        \n",
    "    Note:\n",
    "    K is the number of clusters, D is data dimension, \n",
    "    and B is the number of data points (for vectorizing)\n",
    "    K'= K (weights) + KxD (means) + KxDxD (covariances)\n",
    "    \"\"\"\n",
    "    \n",
    "    # recover each flattened var\n",
    "    ws=xc[:K,:]\n",
    "    flat_mus=xc[K:(K*D+K),:]\n",
    "    flat_sigmas=xc[(K*D+K):,:]\n",
    "    \n",
    "    # unflatten separately\n",
    "    mus=flat_mus.reshape(K,D,B)\n",
    "    sigmas=flat_sigmas.reshape(K,D,D,B)\n",
    "    \n",
    "    return ws,mus,sigmas"
   ]
  },
  {
   "cell_type": "markdown",
   "id": "141b7b05",
   "metadata": {},
   "source": [
    "## Old Faithful"
   ]
  },
  {
   "cell_type": "code",
   "execution_count": 2,
   "id": "42e1e84b",
   "metadata": {},
   "outputs": [],
   "source": [
    "####################\n",
    "####################\n",
    "#  data wrangling  #\n",
    "####################\n",
    "####################\n",
    "of_dat=pd.read_table('https://gist.githubusercontent.com/curran/4b59d1046d9e66f2787780ad51a1cd87/raw/9ec906b78a98cf300947a37b56cfe70d01183200/data.tsv')\n",
    "dat=np.array(of_dat)"
   ]
  },
  {
   "cell_type": "code",
   "execution_count": null,
   "id": "e4228524",
   "metadata": {},
   "outputs": [],
   "source": []
  }
 ],
 "metadata": {
  "kernelspec": {
   "display_name": "Python 3 (ipykernel)",
   "language": "python",
   "name": "python3"
  },
  "language_info": {
   "codemirror_mode": {
    "name": "ipython",
    "version": 3
   },
   "file_extension": ".py",
   "mimetype": "text/x-python",
   "name": "python",
   "nbconvert_exporter": "python",
   "pygments_lexer": "ipython3",
   "version": "3.9.6"
  }
 },
 "nbformat": 4,
 "nbformat_minor": 5
}
