{
 "cells": [
  {
   "cell_type": "markdown",
   "id": "e333056b",
   "metadata": {},
   "source": [
    "# GMM for multivariate data and learning all parameters\n"
   ]
  },
  {
   "cell_type": "code",
   "execution_count": 1,
   "id": "f3dec9f0",
   "metadata": {},
   "outputs": [],
   "source": [
    "import numpy as np\n",
    "import pandas as pd\n",
    "import matplotlib.pyplot as plt\n",
    "import scipy.stats as stats\n",
    "import sys,time"
   ]
  },
  {
   "cell_type": "code",
   "execution_count": 4,
   "id": "bc7f6d33",
   "metadata": {},
   "outputs": [],
   "source": [
    "of_dat=pd.read_table('https://gist.githubusercontent.com/curran/4b59d1046d9e66f2787780ad51a1cd87/raw/9ec906b78a98cf300947a37b56cfe70d01183200/data.tsv')"
   ]
  },
  {
   "cell_type": "code",
   "execution_count": 12,
   "id": "63cda54d",
   "metadata": {},
   "outputs": [
    {
     "data": {
      "text/plain": [
       "<AxesSubplot: xlabel='eruptions', ylabel='waiting'>"
      ]
     },
     "execution_count": 12,
     "metadata": {},
     "output_type": "execute_result"
    },
    {
     "data": {
      "image/png": "[encoded data removed]",
      "text/plain": [
       "<Figure size 640x480 with 1 Axes>"
      ]
     },
     "metadata": {},
     "output_type": "display_data"
    }
   ],
   "source": [
    "of_dat.plot.scatter('eruptions','waiting')"
   ]
  },
  {
   "cell_type": "code",
   "execution_count": 20,
   "id": "2a5d5d4e",
   "metadata": {},
   "outputs": [
    {
     "data": {
      "text/plain": [
       "(272, 2)"
      ]
     },
     "execution_count": 20,
     "metadata": {},
     "output_type": "execute_result"
    }
   ],
   "source": [
    "np.array(of_dat).shape"
   ]
  },
  {
   "cell_type": "code",
   "execution_count": 181,
   "id": "6a1e2f20",
   "metadata": {},
   "outputs": [],
   "source": [
    "def gibbs_gmm(y,K,mu0,steps,burnin_pct):\n",
    "    \n",
    "    # get sizes, calculate steps\n",
    "    N,d=y.shape\n",
    "    burnin_steps=int(steps*burnin_pct/(1-burnin_pct))\n",
    "    total_steps=burnin_steps+steps+1\n",
    "    print(total_steps)\n",
    "    \n",
    "    # init params\n",
    "    xs=np.zeros((total_steps,N),dtype=int)\n",
    "    xs[0,:]=np.random.randint(low=0,high=K,size=N)\n",
    "    ws=np.ones((total_steps,K))/K\n",
    "    mus=np.zeros((total_steps,K,d))\n",
    "    mus[0,:,:]=mu0\n",
    "    sigmas=np.ones((total_steps,K,d,d))\n",
    "    for k in range(K): sigmas[0,k,:,:]=np.eye(d)\n",
    "    \n",
    "    for t in range(total_steps-1):\n",
    "        print(str(t+1)+'/'+str(total_steps-1))\n",
    "        \n",
    "        # update indices ###\n",
    "        # first obtain log probabilities\n",
    "        tmplprbs=np.ones((N,K))*np.log(ws[t,:])\n",
    "        for k in range(K): tmplprbs[:,k]+=stats.multivariate_normal(mus[t,k,:],sigmas[t,k,:,:]).logpdf(y)\n",
    "        # then sample using gumbel-max trick\n",
    "        G=np.random.gumbel(size=(N,K))\n",
    "        tmpx=np.argmax(tmplprbs+G,axis=1)\n",
    "        xs[t+1,:]=tmpx\n",
    "        \n",
    "        # get cluster summaries\n",
    "        x_tuple=np.zeros((N,K),dtype=int)\n",
    "        x_tuple[np.arange(N),tmpx]=1\n",
    "        Nks=np.sum(x_tuple,axis=0)\n",
    "        \n",
    "        # update weights ###\n",
    "        tmpw=np.random.dirichlet(Nks+1)\n",
    "        ws[t+1,:]=tmpw\n",
    "        \n",
    "        # update means ###\n",
    "        yks=np.sum(x_tuple[:,:,np.newaxis]*y[:,np.newaxis,:],axis=0)/Nks[:,np.newaxis] # cluster means\n",
    "        for k in range(K): mus[t+1,k,:]=np.random.multivariate_normal(yks[k,:],sigmas[t,k,:,:]/Nks[k])\n",
    "            \n",
    "        # update covariances ###\n",
    "        difs=y[:,np.newaxis,:]-mus[t+1,:,:].reshape(1,K,d)\n",
    "        for k in range(K):\n",
    "            tmpdif=difs[:,k,:]\n",
    "            Sk=np.sum(tmpdif[:,:,np.newaxis]*tmpdif[:,np.newaxis,:]*x_tuple[:,k].reshape(N,1,1),axis=0)\n",
    "            tmpsigma=stats.invwishart(N-d-1,Sk).rvs()\n",
    "            sigmas[t+1,k,:,:]=tmpsigma\n",
    "        # end for\n",
    "    # end for\n",
    "    return 0."
   ]
  },
  {
   "cell_type": "code",
   "execution_count": 182,
   "id": "8550c99d",
   "metadata": {},
   "outputs": [
    {
     "name": "stdout",
     "output_type": "stream",
     "text": [
      "2\n",
      "1/1\n"
     ]
    },
    {
     "data": {
      "text/plain": [
       "0.0"
      ]
     },
     "execution_count": 182,
     "metadata": {},
     "output_type": "execute_result"
    }
   ],
   "source": [
    "mu0=np.array([[2,50],[5,80]])\n",
    "gibbs_gmm(y=np.array(of_dat),K=2,mu0=mu0,steps=1,burnin_pct=0.)"
   ]
  },
  {
   "cell_type": "code",
   "execution_count": 32,
   "id": "1a1b5c6d",
   "metadata": {},
   "outputs": [
    {
     "data": {
      "text/plain": [
       "(272,)"
      ]
     },
     "execution_count": 32,
     "metadata": {},
     "output_type": "execute_result"
    }
   ],
   "source": [
    "mu=np.array([2.,50.])\n",
    "sigma=3*np.eye(2)\n",
    "y=np.array(of_dat)\n",
    "stats.multivariate_normal(mu,sigma).pdf(y).shape"
   ]
  }
 ],
 "metadata": {
  "kernelspec": {
   "display_name": "Python 3 (ipykernel)",
   "language": "python",
   "name": "python3"
  },
  "language_info": {
   "codemirror_mode": {
    "name": "ipython",
    "version": 3
   },
   "file_extension": ".py",
   "mimetype": "text/x-python",
   "name": "python",
   "nbconvert_exporter": "python",
   "pygments_lexer": "ipython3",
   "version": "3.9.6"
  }
 },
 "nbformat": 4,
 "nbformat_minor": 5
}
