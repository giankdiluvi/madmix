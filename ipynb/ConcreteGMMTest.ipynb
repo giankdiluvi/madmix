{
 "cells": [
  {
   "cell_type": "markdown",
   "id": "e0455818",
   "metadata": {},
   "source": [
    "# GMM multivariate Concrete test"
   ]
  },
  {
   "cell_type": "code",
   "execution_count": 1,
   "id": "24c5dc44",
   "metadata": {},
   "outputs": [],
   "source": [
    "import numpy as np\n",
    "import pandas as pd\n",
    "import matplotlib.pyplot as plt\n",
    "import scipy.stats as stats\n",
    "import sys,time\n",
    "sys.path.insert(1, '../src/')\n",
    "import gibbs\n",
    "from concrete import *\n",
    "import aux\n",
    "\n",
    "plt.rcParams.update({'figure.max_open_warning': 0})\n",
    "plt.rcParams[\"figure.figsize\"]=15,7.5\n",
    "plt.rcParams.update({'font.size': 40})"
   ]
  },
  {
   "cell_type": "markdown",
   "id": "ba42010a",
   "metadata": {},
   "source": [
    "## Penguin data set"
   ]
  },
  {
   "cell_type": "code",
   "execution_count": 2,
   "id": "5b9abceb",
   "metadata": {},
   "outputs": [],
   "source": [
    "########################\n",
    "########################\n",
    "# target specification #\n",
    "########################\n",
    "########################\n",
    "gibbs_path = '../examples/GMM/sockeye_run/penguin/'\n",
    "pred_x  = aux.pkl_load(gibbs_path+'pred_x')\n",
    "pred_w = aux.pkl_load(gibbs_path+'pred_w')\n",
    "pred_mu = aux.pkl_load(gibbs_path+'pred_mu')\n",
    "pred_sigma = aux.pkl_load(gibbs_path+'pred_sigma')\n",
    "\n",
    "# convert gibbs output to torch tensors\n",
    "xs_concrete = torch.from_numpy(pred_x)\n",
    "ws_concrete = torch.from_numpy(pred_w)\n",
    "mus_concrete = torch.from_numpy(pred_mu)\n",
    "sigmas_concrete = torch.from_numpy(pred_sigma)\n",
    "\n",
    "N,K,D = pred_x.shape[1], pred_mu.shape[1], pred_mu.shape[2] # 333, 3, 4\n",
    "tau0=0.1"
   ]
  },
  {
   "cell_type": "code",
   "execution_count": 3,
   "id": "a9c7d4ba",
   "metadata": {},
   "outputs": [],
   "source": [
    "########################\n",
    "########################\n",
    "#      settings        #\n",
    "########################\n",
    "########################\n",
    "temp=1.\n",
    "depth=10\n",
    "width=8\n",
    "\n",
    "max_iters=101\n",
    "lr=1e-5\n",
    "\n",
    "conc_sample=gmm_concrete_sample(xs_concrete,ws_concrete,mus_concrete,sigmas_concrete,temp)"
   ]
  },
  {
   "cell_type": "code",
   "execution_count": 4,
   "id": "34dd8c97",
   "metadata": {},
   "outputs": [
    {
     "name": "stdout",
     "output_type": "stream",
     "text": [
      "torch.Size([3, 4, 4, 1000])\n"
     ]
    }
   ],
   "source": [
    "_,_,_,ssigmas=concrete_gmm_unpack(conc_sample,N,K,D)\n",
    "print(ssigmas.shape)"
   ]
  },
  {
   "cell_type": "code",
   "execution_count": 5,
   "id": "7f904431",
   "metadata": {},
   "outputs": [
    {
     "name": "stdout",
     "output_type": "stream",
     "text": [
      "iter 0: loss = 5645.512\n",
      "iter 10: loss = 5475.270\n",
      "iter 20: loss = 5328.671\n",
      "iter 30: loss = 5202.303\n",
      "iter 40: loss = 5092.698\n",
      "iter 50: loss = 4995.297\n",
      "iter 60: loss = 4907.347\n",
      "iter 70: loss = 4826.084\n",
      "iter 80: loss = 4748.128\n",
      "iter 90: loss = 4670.965\n",
      "iter 100: loss = 4593.036\n"
     ]
    }
   ],
   "source": [
    "tmp_flow,tmp_loss=trainGMMRealNVP(\n",
    "    temp=temp,depth=depth,N=N,K=K,D=D,tau0=tau0,sample=conc_sample,width=width,max_iters=max_iters,lr=lr,seed=2023,verbose=True\n",
    ")"
   ]
  }
 ],
 "metadata": {
  "kernelspec": {
   "display_name": "Python 3 (ipykernel)",
   "language": "python",
   "name": "python3"
  },
  "language_info": {
   "codemirror_mode": {
    "name": "ipython",
    "version": 3
   },
   "file_extension": ".py",
   "mimetype": "text/x-python",
   "name": "python",
   "nbconvert_exporter": "python",
   "pygments_lexer": "ipython3",
   "version": "3.9.6"
  }
 },
 "nbformat": 4,
 "nbformat_minor": 5
}
