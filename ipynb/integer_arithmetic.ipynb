{
 "cells": [
  {
   "cell_type": "markdown",
   "id": "244ae3d5",
   "metadata": {},
   "source": [
    "# Deterministic slice flows with integer arithmetic\n",
    "\n",
    "Consider a target density $\\pi(x,u)=p(x)1_{[0,1]}(u)$ and let $F$ be the cdf of $p$.\n",
    "Here the idea is to update a pair $(x,u)$ via\n",
    "$$\n",
    "\\begin{pmatrix}x\\\\u\\end{pmatrix}=\n",
    "\\begin{pmatrix}\n",
    "    F^{-1}(\\rho(u,x)+\\xi\\mod 1)\\\\ \n",
    "    \\frac{1}{p(x')}((\\rho(u,x)+\\xi\\mod 1)-F(x'))\n",
    "\\end{pmatrix},\n",
    "$$\n",
    "where $\\rho(u,x)=F(x-1)+up(x)$ converts to proportions and $F(0)=0$ by convention.\n",
    "\n",
    "We consider a univariate and a bivariate examples, \n",
    "both taken from Trevor's ipynb.\n",
    "First we define all the necessary functions."
   ]
  },
  {
   "cell_type": "code",
   "execution_count": 1,
   "id": "af3848e2",
   "metadata": {},
   "outputs": [],
   "source": [
    "import numpy as np\n",
    "import scipy.stats as stats\n",
    "import pandas as pd\n",
    "import matplotlib.pyplot as plt\n",
    "\n",
    "plt.rcParams.update({'figure.max_open_warning': 0})\n",
    "plt.rcParams[\"figure.figsize\"]=15,7.5\n",
    "plt.rcParams.update({'font.size': 24})"
   ]
  },
  {
   "cell_type": "code",
   "execution_count": 2,
   "id": "246cabdf",
   "metadata": {},
   "outputs": [],
   "source": [
    "# main functions\n",
    "def update(x,u,prbs,xi=np.pi/16,direction='fwd'):\n",
    "    if direction=='bwd': xi=-xi\n",
    "    p=getp(x,u,prbs,xi)\n",
    "    xp=quantile(p,prbs)\n",
    "    up=(p-cdf(xp-1,prbs))/prbs[xp]\n",
    "    return xp,up\n",
    "\n",
    "\n",
    "def getp(x,u,prbs,xi=np.pi/16):\n",
    "    p=u*prbs[x]\n",
    "    if x>0:  p+=np.sum(prbs[:x])\n",
    "    #return lcg_update(p*2e32,m=2e32,a=1664525.,c=1013904223.)/2e32\n",
    "    return (p+xi)%1\n",
    "\n",
    "def int_update(x,u,prbs,xi=np.pi/16,bigint=1e1,direction='fwd'):\n",
    "    if direction=='bwd': xi=-xi \n",
    "    # integerize\n",
    "    Mu=int(u*bigint)\n",
    "    Mprbs=(prbs*bigint).astype(int)\n",
    "        \n",
    "    Mp=int_getp(x,Mu,Mprbs,xi,modulus=bigint)\n",
    "    xp=quantile(Mp,Mprbs)\n",
    "    Mup=M*(Mp-cdf(xp-1,Mprbs))/Mprbs[xp]\n",
    "    return xp,Mup/M\n",
    "    #return xp,up\n",
    "\n",
    "def int_getp(x,u,prbs,xi=np.pi/16,modulus=1):\n",
    "    p=int(u*prbs[x]/modulus)\n",
    "    if x>0:  p+=np.sum(prbs[:x])\n",
    "    #return lcg_update(p*2e32,m=2e32,a=1664525.,c=1013904223.)/2e32\n",
    "    return (p+int(modulus*xi))%modulus\n",
    "    \n",
    "# auxiliary functions\n",
    "def cdf(x,prbs): return np.sum(prbs[:(x+1)])\n",
    "def quantile(u,prbs): return np.argmax(np.cumsum(prbs)>u)\n",
    "def lcg_update(u,m,a=1.,c=0.): return (a*u+c)%m"
   ]
  },
  {
   "cell_type": "markdown",
   "id": "23d3f775",
   "metadata": {},
   "source": [
    "## Univariate example"
   ]
  },
  {
   "cell_type": "code",
   "execution_count": 3,
   "id": "61bcc8f2",
   "metadata": {},
   "outputs": [
    {
     "data": {
      "text/plain": [
       "array([0.04748061, 0.4022488 , 0.2312702 , 0.31900039])"
      ]
     },
     "execution_count": 3,
     "metadata": {},
     "output_type": "execute_result"
    }
   ],
   "source": [
    "# generate the distribution\n",
    "np.random.seed(2022)\n",
    "K=4\n",
    "prbs=np.random.rand(K)\n",
    "prbs=np.array([0.047480609696438775, 0.40224879672133207, 0.23127020434512163, 0.31900038923710755]) # trevor's example\n",
    "prbs=prbs/np.sum(prbs)\n",
    "prbs"
   ]
  },
  {
   "cell_type": "code",
   "execution_count": 4,
   "id": "03e340e3",
   "metadata": {},
   "outputs": [
    {
     "name": "stdout",
     "output_type": "stream",
     "text": [
      "Initial (u,x)=(0.555,1)\n",
      "0 0.555\n",
      "1 0.4356027273568679\n",
      "1 0.9237323001021333\n",
      "2 0.7163523013341105\n",
      "3 0.4098749662931436\n",
      "0 0.1705831434312119\n",
      "1 0.3902269538212906\n",
      "1 0.8783565265665559\n",
      "2 0.6374301142127261\n",
      "3 0.3526576363325962\n",
      "Final (u,x)=(0.9681726711422727,4)\n"
     ]
    }
   ],
   "source": [
    "# demo\n",
    "n_iters=10\n",
    "M=1e8\n",
    "xi=np.pi/16\n",
    "x=np.zeros(n_iters+1,dtype=int)\n",
    "u=np.zeros(n_iters+1)\n",
    "u[0]=np.random.rand()\n",
    "u[0]=0.10688645379435302 # trevor's example\n",
    "u[0]=0.555\n",
    "\n",
    "# forward map\n",
    "print('Initial (u,x)=('+str(u[0])+','+str(x[0]+1)+')')\n",
    "for it in range(n_iters):\n",
    "    print(x[it],u[it])\n",
    "    tmpx,tmpu=int_update(x[it],u[it],prbs,xi,bigint=M)\n",
    "    x[it+1]=tmpx\n",
    "    u[it+1]=tmpu\n",
    "# end for\n",
    "print('Final (u,x)=('+str(u[-1])+','+str(x[-1]+1)+')')"
   ]
  },
  {
   "cell_type": "code",
   "execution_count": 5,
   "id": "9d01a9a9",
   "metadata": {},
   "outputs": [
    {
     "name": "stdout",
     "output_type": "stream",
     "text": [
      "Final (u,x)=(0.9681726711422727,4)\n",
      "3 0.9681726711422727\n",
      "3 0.3526575736367461\n",
      "2 0.6374299412548612\n",
      "1 0.8783563774051377\n",
      "1 0.39022675493939957\n",
      "0 0.1705810373078689\n",
      "3 0.4098745901180431\n",
      "2 0.7163516959815834\n",
      "1 0.9237319023383513\n",
      "1 0.4356022798726132\n",
      "Initial (u,x)=(0.554995935181948,1)\n"
     ]
    }
   ],
   "source": [
    "# backward map\n",
    "tu=u[-1]\n",
    "tx=x[-1]\n",
    "print('Final (u,x)=('+str(tu)+','+str(tx+1)+')')\n",
    "for it in range(n_iters):\n",
    "    print(tx,tu)\n",
    "    tx,tu=int_update(tx,tu,prbs,xi,bigint=M,direction='bwd')\n",
    "# end for\n",
    "print('Initial (u,x)=('+str(tu)+','+str(tx+1)+')')"
   ]
  }
 ],
 "metadata": {
  "kernelspec": {
   "display_name": "Python 3 (ipykernel)",
   "language": "python",
   "name": "python3"
  },
  "language_info": {
   "codemirror_mode": {
    "name": "ipython",
    "version": 3
   },
   "file_extension": ".py",
   "mimetype": "text/x-python",
   "name": "python",
   "nbconvert_exporter": "python",
   "pygments_lexer": "ipython3",
   "version": "3.9.6"
  }
 },
 "nbformat": 4,
 "nbformat_minor": 5
}
