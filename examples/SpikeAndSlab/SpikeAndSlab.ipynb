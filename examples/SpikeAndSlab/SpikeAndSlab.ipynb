{
 "cells": [
  {
   "cell_type": "markdown",
   "id": "9a09ad0b",
   "metadata": {},
   "source": [
    "# Spike and Slab examples"
   ]
  },
  {
   "cell_type": "code",
   "execution_count": 1,
   "id": "0b19ae72",
   "metadata": {},
   "outputs": [],
   "source": [
    "import numpy as np\n",
    "import pandas as pd\n",
    "import matplotlib.pyplot as plt\n",
    "import scipy.stats as stats\n",
    "import os,sys,time\n",
    "\n",
    "sys.path.insert(1, '../../src/')\n",
    "import madmix\n",
    "import madmix_aux\n",
    "import gibbs\n",
    "from concrete import *\n",
    "import dequantization\n",
    "import meanfield\n",
    "import aux\n",
    "\n",
    "plt.rcParams.update({'figure.max_open_warning': 0})\n",
    "plt.rcParams[\"figure.figsize\"]=15,7.5\n",
    "plt.rcParams.update({'font.size': 40})\n",
    "fig_path='fig/'\n",
    "fig_path='../../../madmix-tex/fig/'"
   ]
  },
  {
   "cell_type": "code",
   "execution_count": 2,
   "id": "42b21d03",
   "metadata": {},
   "outputs": [],
   "source": [
    "def sas_lposterior(pi,theta,tau2,sigma2,beta,x,y):\n",
    "    \"\"\"\n",
    "    Evaluate the posterior log density of a spike and slab model\n",
    "    K = # of covariates\n",
    "    B = # of points to evaluate log pdf at\n",
    "    \n",
    "    Inputs:\n",
    "        pi     : (K,B) array, inclusion indicators of regression coefficients (one of {0,1})\n",
    "        theta  : (B,) array, Categorical probs\n",
    "        tau2   : (B,) array, beta variances\n",
    "        sigma2 : (B,) array, obs variances\n",
    "        beta   : (K,B) array, regression coefficients\n",
    "        x      : (N,K) array, covariates (N is no. of observations, K is no. of covariates)\n",
    "        y      : (N,) array, observations\n",
    "    \n",
    "    Outputs:\n",
    "        lp     : (B,) array, posterior \n",
    "    \"\"\"\n",
    "    K,B = pi.shape\n",
    "    N = x.shape[0]\n",
    "    \n",
    "    # set hyperparams\n",
    "    a,b=1.,1.\n",
    "    a1,a2=0.1,0.1\n",
    "    s=0.5\n",
    "    \n",
    "    lp  = np.zeros(B)\n",
    "    lp += stats.beta(a,b).logpdf(theta)\n",
    "    lp += stats.invgamma(a=0.5,scale=s**2/2).logpdf(tau2)\n",
    "    lp += stats.gamma(a=a1,scale=1./a2).logpdf(sigma2)\n",
    "    lp += np.sum(np.log(theta)*pi + np.log1p(-theta)*(1-pi),axis=0)\n",
    "    lp += -0.5*K*np.log(2*np.pi*sigma2*tau2)-0.5*np.sum(beta**2,axis=0)/sigma2*tau2\n",
    "    lp += -0.5*np.log(2*np.pi*sigma2) # log likelihood part 1\n",
    "    lp += -0.5*np.sum(y[None,:]-np.squeeze(np.matmul(x[None,:,:],beta.T[:,:,None])),axis=1)/sigma2 # ll part 2\n",
    "    \n",
    "    return lp"
   ]
  },
  {
   "cell_type": "markdown",
   "id": "90c8a03e",
   "metadata": {},
   "source": [
    "## Prostate cancer data"
   ]
  },
  {
   "cell_type": "code",
   "execution_count": 62,
   "id": "ccab4107",
   "metadata": {},
   "outputs": [
    {
     "data": {
      "text/html": [
       "<div>\n",
       "<style scoped>\n",
       "    .dataframe tbody tr th:only-of-type {\n",
       "        vertical-align: middle;\n",
       "    }\n",
       "\n",
       "    .dataframe tbody tr th {\n",
       "        vertical-align: top;\n",
       "    }\n",
       "\n",
       "    .dataframe thead th {\n",
       "        text-align: right;\n",
       "    }\n",
       "</style>\n",
       "<table border=\"1\" class=\"dataframe\">\n",
       "  <thead>\n",
       "    <tr style=\"text-align: right;\">\n",
       "      <th></th>\n",
       "      <th>Unnamed: 0</th>\n",
       "      <th>lcavol</th>\n",
       "      <th>lweight</th>\n",
       "      <th>age</th>\n",
       "      <th>lbph</th>\n",
       "      <th>svi</th>\n",
       "      <th>lcp</th>\n",
       "      <th>gleason</th>\n",
       "      <th>pgg45</th>\n",
       "      <th>lpsa</th>\n",
       "      <th>train</th>\n",
       "    </tr>\n",
       "  </thead>\n",
       "  <tbody>\n",
       "    <tr>\n",
       "      <th>0</th>\n",
       "      <td>1</td>\n",
       "      <td>-0.579818</td>\n",
       "      <td>2.769459</td>\n",
       "      <td>50</td>\n",
       "      <td>-1.386294</td>\n",
       "      <td>0</td>\n",
       "      <td>-1.386294</td>\n",
       "      <td>6</td>\n",
       "      <td>0</td>\n",
       "      <td>-0.430783</td>\n",
       "      <td>T</td>\n",
       "    </tr>\n",
       "    <tr>\n",
       "      <th>1</th>\n",
       "      <td>2</td>\n",
       "      <td>-0.994252</td>\n",
       "      <td>3.319626</td>\n",
       "      <td>58</td>\n",
       "      <td>-1.386294</td>\n",
       "      <td>0</td>\n",
       "      <td>-1.386294</td>\n",
       "      <td>6</td>\n",
       "      <td>0</td>\n",
       "      <td>-0.162519</td>\n",
       "      <td>T</td>\n",
       "    </tr>\n",
       "    <tr>\n",
       "      <th>2</th>\n",
       "      <td>3</td>\n",
       "      <td>-0.510826</td>\n",
       "      <td>2.691243</td>\n",
       "      <td>74</td>\n",
       "      <td>-1.386294</td>\n",
       "      <td>0</td>\n",
       "      <td>-1.386294</td>\n",
       "      <td>7</td>\n",
       "      <td>20</td>\n",
       "      <td>-0.162519</td>\n",
       "      <td>T</td>\n",
       "    </tr>\n",
       "    <tr>\n",
       "      <th>3</th>\n",
       "      <td>4</td>\n",
       "      <td>-1.203973</td>\n",
       "      <td>3.282789</td>\n",
       "      <td>58</td>\n",
       "      <td>-1.386294</td>\n",
       "      <td>0</td>\n",
       "      <td>-1.386294</td>\n",
       "      <td>6</td>\n",
       "      <td>0</td>\n",
       "      <td>-0.162519</td>\n",
       "      <td>T</td>\n",
       "    </tr>\n",
       "    <tr>\n",
       "      <th>4</th>\n",
       "      <td>5</td>\n",
       "      <td>0.751416</td>\n",
       "      <td>3.432373</td>\n",
       "      <td>62</td>\n",
       "      <td>-1.386294</td>\n",
       "      <td>0</td>\n",
       "      <td>-1.386294</td>\n",
       "      <td>6</td>\n",
       "      <td>0</td>\n",
       "      <td>0.371564</td>\n",
       "      <td>T</td>\n",
       "    </tr>\n",
       "    <tr>\n",
       "      <th>...</th>\n",
       "      <td>...</td>\n",
       "      <td>...</td>\n",
       "      <td>...</td>\n",
       "      <td>...</td>\n",
       "      <td>...</td>\n",
       "      <td>...</td>\n",
       "      <td>...</td>\n",
       "      <td>...</td>\n",
       "      <td>...</td>\n",
       "      <td>...</td>\n",
       "      <td>...</td>\n",
       "    </tr>\n",
       "    <tr>\n",
       "      <th>92</th>\n",
       "      <td>93</td>\n",
       "      <td>2.830268</td>\n",
       "      <td>3.876396</td>\n",
       "      <td>68</td>\n",
       "      <td>-1.386294</td>\n",
       "      <td>1</td>\n",
       "      <td>1.321756</td>\n",
       "      <td>7</td>\n",
       "      <td>60</td>\n",
       "      <td>4.385147</td>\n",
       "      <td>T</td>\n",
       "    </tr>\n",
       "    <tr>\n",
       "      <th>93</th>\n",
       "      <td>94</td>\n",
       "      <td>3.821004</td>\n",
       "      <td>3.896909</td>\n",
       "      <td>44</td>\n",
       "      <td>-1.386294</td>\n",
       "      <td>1</td>\n",
       "      <td>2.169054</td>\n",
       "      <td>7</td>\n",
       "      <td>40</td>\n",
       "      <td>4.684443</td>\n",
       "      <td>T</td>\n",
       "    </tr>\n",
       "    <tr>\n",
       "      <th>94</th>\n",
       "      <td>95</td>\n",
       "      <td>2.907447</td>\n",
       "      <td>3.396185</td>\n",
       "      <td>52</td>\n",
       "      <td>-1.386294</td>\n",
       "      <td>1</td>\n",
       "      <td>2.463853</td>\n",
       "      <td>7</td>\n",
       "      <td>10</td>\n",
       "      <td>5.143124</td>\n",
       "      <td>F</td>\n",
       "    </tr>\n",
       "    <tr>\n",
       "      <th>95</th>\n",
       "      <td>96</td>\n",
       "      <td>2.882564</td>\n",
       "      <td>3.773910</td>\n",
       "      <td>68</td>\n",
       "      <td>1.558145</td>\n",
       "      <td>1</td>\n",
       "      <td>1.558145</td>\n",
       "      <td>7</td>\n",
       "      <td>80</td>\n",
       "      <td>5.477509</td>\n",
       "      <td>T</td>\n",
       "    </tr>\n",
       "    <tr>\n",
       "      <th>96</th>\n",
       "      <td>97</td>\n",
       "      <td>3.471966</td>\n",
       "      <td>3.974998</td>\n",
       "      <td>68</td>\n",
       "      <td>0.438255</td>\n",
       "      <td>1</td>\n",
       "      <td>2.904165</td>\n",
       "      <td>7</td>\n",
       "      <td>20</td>\n",
       "      <td>5.582932</td>\n",
       "      <td>F</td>\n",
       "    </tr>\n",
       "  </tbody>\n",
       "</table>\n",
       "<p>97 rows × 11 columns</p>\n",
       "</div>"
      ],
      "text/plain": [
       "    Unnamed: 0    lcavol   lweight  age      lbph  svi       lcp  gleason  \\\n",
       "0            1 -0.579818  2.769459   50 -1.386294    0 -1.386294        6   \n",
       "1            2 -0.994252  3.319626   58 -1.386294    0 -1.386294        6   \n",
       "2            3 -0.510826  2.691243   74 -1.386294    0 -1.386294        7   \n",
       "3            4 -1.203973  3.282789   58 -1.386294    0 -1.386294        6   \n",
       "4            5  0.751416  3.432373   62 -1.386294    0 -1.386294        6   \n",
       "..         ...       ...       ...  ...       ...  ...       ...      ...   \n",
       "92          93  2.830268  3.876396   68 -1.386294    1  1.321756        7   \n",
       "93          94  3.821004  3.896909   44 -1.386294    1  2.169054        7   \n",
       "94          95  2.907447  3.396185   52 -1.386294    1  2.463853        7   \n",
       "95          96  2.882564  3.773910   68  1.558145    1  1.558145        7   \n",
       "96          97  3.471966  3.974998   68  0.438255    1  2.904165        7   \n",
       "\n",
       "    pgg45      lpsa train  \n",
       "0       0 -0.430783     T  \n",
       "1       0 -0.162519     T  \n",
       "2      20 -0.162519     T  \n",
       "3       0 -0.162519     T  \n",
       "4       0  0.371564     T  \n",
       "..    ...       ...   ...  \n",
       "92     60  4.385147     T  \n",
       "93     40  4.684443     T  \n",
       "94     10  5.143124     F  \n",
       "95     80  5.477509     T  \n",
       "96     20  5.582932     F  \n",
       "\n",
       "[97 rows x 11 columns]"
      ]
     },
     "execution_count": 62,
     "metadata": {},
     "output_type": "execute_result"
    }
   ],
   "source": [
    "prst_dat_raw = pd.read_table('https://hastie.su.domains/ElemStatLearn/datasets/prostate.data')\n",
    "prst_dat_raw"
   ]
  },
  {
   "cell_type": "code",
   "execution_count": 63,
   "id": "f0d9c93d",
   "metadata": {},
   "outputs": [],
   "source": [
    "# normalize data\n",
    "prst_dat_x = np.array(prst_dat_raw[prst_dat_raw.columns.difference(['Unnamed: 0','lpsa','train'])])\n",
    "prst_dat_x = (prst_dat_x-np.mean(prst_dat_x,axis=1)[:,None])/np.std(prst_dat_x,axis=1)[:,None]\n",
    "prst_dat_y = np.array(prst_dat_raw['lpsa'])\n",
    "prst_dat_y = (prst_dat_y-np.mean(prst_dat_y))/np.std(prst_dat_y)\n",
    "K = prst_dat_x.shape[1]"
   ]
  },
  {
   "cell_type": "code",
   "execution_count": 64,
   "id": "fc1fd452",
   "metadata": {},
   "outputs": [],
   "source": [
    "# save data\n",
    "np.savetxt(\"dat/prst_dat_x.csv\", prst_dat_x, delimiter=\",\")\n",
    "np.savetxt(\"dat/prst_dat_y.csv\", prst_dat_y, delimiter=\",\")"
   ]
  },
  {
   "cell_type": "markdown",
   "id": "8095afef",
   "metadata": {},
   "source": [
    "### Gibbs sampling"
   ]
  },
  {
   "cell_type": "code",
   "execution_count": 25,
   "id": "3a276783",
   "metadata": {},
   "outputs": [],
   "source": [
    "####################\n",
    "####################\n",
    "#      setup       #\n",
    "####################\n",
    "####################\n",
    "gibbs_cput  =  np.inf*np.ones(2)\n",
    "\n",
    "steps = 5000\n",
    "burnin_pct = 0.8"
   ]
  },
  {
   "cell_type": "code",
   "execution_count": 26,
   "id": "1a1db59f",
   "metadata": {},
   "outputs": [
    {
     "name": "stdout",
     "output_type": "stream",
     "text": [
      "Sampling: 5000/50000\r"
     ]
    }
   ],
   "source": [
    "####################\n",
    "####################\n",
    "#   run sampler    #\n",
    "####################\n",
    "####################\n",
    "seed=1\n",
    "\n",
    "t0=time.perf_counter()\n",
    "pis_prst,gbetas_prst,gthetas_prst,gsigmas2_prst,gtaus2_prst = gibbs.gibbs_sas(\n",
    "    y=prst_dat_y,x=prst_dat_x,steps=steps,burnin_pct=burnin_pct,seed=seed\n",
    ")\n",
    "gibbs_cput[0]=time.perf_counter()-t0"
   ]
  },
  {
   "cell_type": "code",
   "execution_count": 30,
   "id": "ff2c5049",
   "metadata": {},
   "outputs": [],
   "source": [
    "####################\n",
    "####################\n",
    "#    save data     #\n",
    "####################\n",
    "####################\n",
    "aux.pkl_save(pis_prst,'sockeye_run/prostatecancer/pred_pi')\n",
    "aux.pkl_save(gbetas_prst,'sockeye_run/prostatecancer/pred_beta')\n",
    "aux.pkl_save(gthetas_prst,'sockeye_run/prostatecancer/pred_theta')\n",
    "aux.pkl_save(gsigmas2_prst,'sockeye_run/prostatecancer/pred_sigma2')\n",
    "aux.pkl_save(gtaus2_prst,'sockeye_run/prostatecancer/pred_tau2')"
   ]
  },
  {
   "cell_type": "markdown",
   "id": "dc5f714e",
   "metadata": {},
   "source": [
    "### MAD Mix"
   ]
  },
  {
   "cell_type": "code",
   "execution_count": 229,
   "id": "39f52e74",
   "metadata": {},
   "outputs": [],
   "source": [
    "####################\n",
    "####################\n",
    "#      setup       #\n",
    "####################\n",
    "####################\n",
    "size = 100\n",
    "N = 500\n",
    "L = 15\n",
    "epsilon = 0.001\n",
    "xi = np.pi/16\n",
    "nu2 = 10\n",
    "\n",
    "# relevant functions\n",
    "lp = madmix_aux.sas_gen_lp(prst_dat_x,prst_dat_y)\n",
    "grad_lp = madmix_aux.sas_gen_grad_lp(prst_dat_x,prst_dat_y)\n",
    "lq0 = madmix_aux.sas_gen_lq0(prst_dat_x,prst_dat_y,nu2)\n",
    "randq0 = madmix_aux.sas_gen_randq0(prst_dat_x,prst_dat_y,nu2)"
   ]
  },
  {
   "cell_type": "code",
   "execution_count": 230,
   "id": "64cc48e7",
   "metadata": {},
   "outputs": [
    {
     "name": "stdout",
     "output_type": "stream",
     "text": [
      "Importing cached results\n",
      "Importing cached log density\n",
      "Done!\n"
     ]
    }
   ],
   "source": [
    "RUN=False # to control whether to run or to import saved results\n",
    "madmix_elbos = -np.inf*np.ones(2)\n",
    "\n",
    "if RUN:\n",
    "    madmix_cput  =  np.inf*np.ones(2)\n",
    "    \n",
    "    print('Sampling')\n",
    "    t0=time.perf_counter()\n",
    "    xd_,ud_,xc_,rho_,uc_=madmix.randqN(size,N,randq0,L,epsilon,lp,grad_lp,xi)\n",
    "    madmix_cput[0]=time.perf_counter()-t0\n",
    "    \n",
    "    mad_prst_results=madmix_aux.sas_pack(xd_,ud_,xc_,rho_,uc_)\n",
    "    print('Done!')\n",
    "    print('Saving sampling results')\n",
    "    aux.pkl_save(mad_prst_results,'results/mad_prst_results')\n",
    "    \n",
    "    print('Evaluating log density')\n",
    "    mad_lq_prst = madmix.lqN(xd_.astype(int),ud_,xc_,rho_,uc_,N,lq0,L,epsilon,lp,grad_lp,xi)\n",
    "    print('Saving log density results')\n",
    "    aux.pkl_save(mad_lq_prst,'results/mad_prst_lq')\n",
    "    print('Done!')\n",
    "else:\n",
    "    print('Importing cached results')\n",
    "    mad_prst_results=aux.pkl_load('results/mad_prst_results')\n",
    "    \n",
    "    print('Importing cached log density')\n",
    "    mad_lq_prst=aux.pkl_load('results/mad_prst_lq')\n",
    "    xd_,ud_,xc_,rho_,uc_=madmix_aux.sas_unpack(mad_prst_results,K=prst_dat_x.shape[1])\n",
    "    print('Done!')\n",
    "# end if"
   ]
  },
  {
   "cell_type": "code",
   "execution_count": 248,
   "id": "b829db37",
   "metadata": {},
   "outputs": [],
   "source": [
    "# format results\n",
    "madmix_pi_prst = np.copy(xd_)\n",
    "thetau,tau2u,sigma2u,madmix_beta_prst = madmix_aux.sas_unflatten(xc_)\n",
    "madmix_theta_prst,madmix_tau2_prst,madmix_sigma2_prst = madmix_aux.sas_constrain(thetau,tau2u,sigma2u)"
   ]
  },
  {
   "cell_type": "code",
   "execution_count": 258,
   "id": "f55396f9",
   "metadata": {},
   "outputs": [],
   "source": [
    "# calculate ELBO\n",
    "lp = sas_lposterior(madmix_pi_prst,madmix_theta_prst,madmix_tau2_prst,madmix_sigma2_prst,madmix_beta_prst,\n",
    "                    prst_dat_x,prst_dat_y)\n",
    "madmix_elbos[0] = np.nanmean(mad_lq_prst-lp)"
   ]
  },
  {
   "cell_type": "markdown",
   "id": "85cfae9d",
   "metadata": {},
   "source": [
    "### Mean-field"
   ]
  },
  {
   "cell_type": "code",
   "execution_count": 43,
   "id": "e9e47da8",
   "metadata": {},
   "outputs": [],
   "source": [
    "####################\n",
    "####################\n",
    "#   import data    #\n",
    "####################\n",
    "####################\n",
    "mf_prst_results = np.genfromtxt('results/mf_prst_results.csv', \n",
    "                                delimiter=\",\",\n",
    "                                skip_header=1)"
   ]
  },
  {
   "cell_type": "code",
   "execution_count": 213,
   "id": "9d09fb06",
   "metadata": {},
   "outputs": [],
   "source": [
    "mf_elbos = -np.inf*np.ones(2)\n",
    "mf_elbos[0] = meanfield_sas_elbo(B=10000,mu=mf_prst_results[:,0],sigma=mf_prst_results[:,1],pi=mf_prst_results[:,2],\n",
    "            nu=10.,x=prst_dat_x,y=prst_dat_y)"
   ]
  },
  {
   "cell_type": "markdown",
   "id": "fcc2d065",
   "metadata": {},
   "source": [
    "### Dequantization"
   ]
  },
  {
   "cell_type": "code",
   "execution_count": 65,
   "id": "21d258df",
   "metadata": {},
   "outputs": [
    {
     "name": "stdout",
     "output_type": "stream",
     "text": [
      "Total training time: 30.727250164868053 hours\n"
     ]
    }
   ],
   "source": [
    "########################\n",
    "########################\n",
    "#    dequantization    #\n",
    "########################\n",
    "########################\n",
    "dequant_flows_prst     = aux.pkl_load('sockeye/dequantization/prostatecancer/sas_flows_dequant')\n",
    "dequant_losses_prst    = aux.pkl_load('sockeye/dequantization/prostatecancer/sas_losses_dequant')\n",
    "dequant_cpu_times_prst = aux.pkl_load('sockeye/dequantization/prostatecancer/sas_cpu_times_dequant')\n",
    "dequant_densitycput  = np.zeros((2,len(dequant_flows_prst)))\n",
    "dequant_sim_size_prst  = len(dequant_flows_prst)\n",
    "dequant_max_iters_prst = dequant_losses_prst.shape[-1]\n",
    "print('Total training time: '+str(dequant_cpu_times_prst.sum()/3600)+' hours')"
   ]
  },
  {
   "cell_type": "code",
   "execution_count": 66,
   "id": "7fdb9c0a",
   "metadata": {},
   "outputs": [
    {
     "data": {
      "text/plain": [
       "Text(0.5, 1.0, 'Dequantization RealNVP training loss traceplots')"
      ]
     },
     "execution_count": 66,
     "metadata": {},
     "output_type": "execute_result"
    },
    {
     "data": {
      "image/png": "[encoded data removed]",
      "text/plain": [
       "<Figure size 1500x750 with 1 Axes>"
      ]
     },
     "metadata": {},
     "output_type": "display_data"
    }
   ],
   "source": [
    "# loss traceplot\n",
    "threshold=np.inf\n",
    "for i in range(dequant_sim_size_prst): plt.plot(np.arange(dequant_max_iters_prst)[dequant_losses_prst[i,:]<threshold],dequant_losses_prst[i,dequant_losses_prst[i,:]<threshold],'-k',alpha=0.5)\n",
    "plt.xlabel('Iteration')\n",
    "plt.ylabel('Loss')\n",
    "plt.title('Dequantization RealNVP training loss traceplots')"
   ]
  },
  {
   "cell_type": "code",
   "execution_count": 67,
   "id": "5177e65e",
   "metadata": {},
   "outputs": [
    {
     "name": "stdout",
     "output_type": "stream",
     "text": [
      "1/36\r",
      "2/36\r",
      "3/36\r",
      "4/36\r",
      "5/36\r",
      "6/36\r",
      "7/36\r",
      "8/36\r",
      "9/36\r",
      "10/36\r"
     ]
    },
    {
     "name": "stderr",
     "output_type": "stream",
     "text": [
      "/var/folders/k3/24b0dzl557v5m0_0658q2cxr0000gn/T/ipykernel_95831/735616984.py:30: RuntimeWarning: invalid value encountered in add\n",
      "  lp += stats.gamma(a=a1,scale=1./a2).logpdf(sigma2)\n",
      "/var/folders/k3/24b0dzl557v5m0_0658q2cxr0000gn/T/ipykernel_95831/735616984.py:31: RuntimeWarning: divide by zero encountered in log1p\n",
      "  lp += np.sum(np.log(theta)*pi + np.log1p(-theta)*(1-pi),axis=0)\n",
      "/var/folders/k3/24b0dzl557v5m0_0658q2cxr0000gn/T/ipykernel_95831/735616984.py:31: RuntimeWarning: invalid value encountered in multiply\n",
      "  lp += np.sum(np.log(theta)*pi + np.log1p(-theta)*(1-pi),axis=0)\n",
      "/var/folders/k3/24b0dzl557v5m0_0658q2cxr0000gn/T/ipykernel_95831/735616984.py:32: RuntimeWarning: invalid value encountered in multiply\n",
      "  lp += -0.5*K*np.log(2*np.pi*sigma2*tau2)-0.5*np.sum(beta**2,axis=0)/sigma2*tau2\n",
      "/var/folders/k3/24b0dzl557v5m0_0658q2cxr0000gn/T/ipykernel_95831/735616984.py:32: RuntimeWarning: divide by zero encountered in log\n",
      "  lp += -0.5*K*np.log(2*np.pi*sigma2*tau2)-0.5*np.sum(beta**2,axis=0)/sigma2*tau2\n",
      "/var/folders/k3/24b0dzl557v5m0_0658q2cxr0000gn/T/ipykernel_95831/735616984.py:32: RuntimeWarning: divide by zero encountered in divide\n",
      "  lp += -0.5*K*np.log(2*np.pi*sigma2*tau2)-0.5*np.sum(beta**2,axis=0)/sigma2*tau2\n",
      "/var/folders/k3/24b0dzl557v5m0_0658q2cxr0000gn/T/ipykernel_95831/735616984.py:32: RuntimeWarning: overflow encountered in divide\n",
      "  lp += -0.5*K*np.log(2*np.pi*sigma2*tau2)-0.5*np.sum(beta**2,axis=0)/sigma2*tau2\n",
      "/var/folders/k3/24b0dzl557v5m0_0658q2cxr0000gn/T/ipykernel_95831/735616984.py:32: RuntimeWarning: overflow encountered in multiply\n",
      "  lp += -0.5*K*np.log(2*np.pi*sigma2*tau2)-0.5*np.sum(beta**2,axis=0)/sigma2*tau2\n",
      "/var/folders/k3/24b0dzl557v5m0_0658q2cxr0000gn/T/ipykernel_95831/735616984.py:32: RuntimeWarning: invalid value encountered in subtract\n",
      "  lp += -0.5*K*np.log(2*np.pi*sigma2*tau2)-0.5*np.sum(beta**2,axis=0)/sigma2*tau2\n",
      "/var/folders/k3/24b0dzl557v5m0_0658q2cxr0000gn/T/ipykernel_95831/735616984.py:33: RuntimeWarning: divide by zero encountered in log\n",
      "  lp += -0.5*np.log(2*np.pi*sigma2) # log likelihood part 1\n",
      "/var/folders/k3/24b0dzl557v5m0_0658q2cxr0000gn/T/ipykernel_95831/735616984.py:34: RuntimeWarning: divide by zero encountered in divide\n",
      "  lp += -0.5*np.sum(y[None,:]-np.squeeze(np.matmul(x[None,:,:],beta.T[:,:,None])),axis=1)/sigma2 # ll part 2\n",
      "/var/folders/k3/24b0dzl557v5m0_0658q2cxr0000gn/T/ipykernel_95831/4145633204.py:40: UserWarning: Warning: converting a masked element to nan.\n",
      "  dequant_elbos_prst[i]=-np.mean(np.ma.masked_invalid(dequant_densities_prst[i,:] - llp))\n",
      "/Users/giankdiluvi/Library/Python/3.9/lib/python/site-packages/scipy/stats/_distn_infrastructure.py:2126: RuntimeWarning: overflow encountered in divide\n",
      "  x = np.asarray((x - loc)/scale, dtype=dtyp)\n",
      "/var/folders/k3/24b0dzl557v5m0_0658q2cxr0000gn/T/ipykernel_95831/735616984.py:31: RuntimeWarning: divide by zero encountered in log\n",
      "  lp += np.sum(np.log(theta)*pi + np.log1p(-theta)*(1-pi),axis=0)\n",
      "/var/folders/k3/24b0dzl557v5m0_0658q2cxr0000gn/T/ipykernel_95831/735616984.py:32: RuntimeWarning: invalid value encountered in add\n",
      "  lp += -0.5*K*np.log(2*np.pi*sigma2*tau2)-0.5*np.sum(beta**2,axis=0)/sigma2*tau2\n",
      "/var/folders/k3/24b0dzl557v5m0_0658q2cxr0000gn/T/ipykernel_95831/735616984.py:33: RuntimeWarning: overflow encountered in multiply\n",
      "  lp += -0.5*np.log(2*np.pi*sigma2) # log likelihood part 1\n"
     ]
    },
    {
     "name": "stdout",
     "output_type": "stream",
     "text": [
      "11/36\r",
      "12/36\r",
      "13/36\r",
      "14/36\r",
      "15/36\r",
      "16/36\r"
     ]
    },
    {
     "name": "stderr",
     "output_type": "stream",
     "text": [
      "/var/folders/k3/24b0dzl557v5m0_0658q2cxr0000gn/T/ipykernel_95831/735616984.py:32: RuntimeWarning: overflow encountered in square\n",
      "  lp += -0.5*K*np.log(2*np.pi*sigma2*tau2)-0.5*np.sum(beta**2,axis=0)/sigma2*tau2\n",
      "/var/folders/k3/24b0dzl557v5m0_0658q2cxr0000gn/T/ipykernel_95831/735616984.py:32: RuntimeWarning: invalid value encountered in divide\n",
      "  lp += -0.5*K*np.log(2*np.pi*sigma2*tau2)-0.5*np.sum(beta**2,axis=0)/sigma2*tau2\n"
     ]
    },
    {
     "name": "stdout",
     "output_type": "stream",
     "text": [
      "36/36\r"
     ]
    },
    {
     "data": {
      "text/plain": [
       "<Figure size 1500x750 with 0 Axes>"
      ]
     },
     "metadata": {},
     "output_type": "display_data"
    }
   ],
   "source": [
    "#########################\n",
    "#########################\n",
    "# get samples and elbos #\n",
    "#########################\n",
    "#########################\n",
    "torch.manual_seed(1)\n",
    "sample_size=1000\n",
    "Kp=int(K+3+K)\n",
    "dequant_samples_prst=np.zeros((dequant_sim_size_prst,sample_size,Kp))\n",
    "dequant_densities_prst=np.zeros((dequant_sim_size_prst,sample_size))\n",
    "dequant_elbos_prst=-np.inf*np.ones(dequant_sim_size_prst)\n",
    "\n",
    "for i in range(dequant_sim_size_prst):\n",
    "    print(str(i+1)+'/'+str(dequant_sim_size_prst),end='\\r')\n",
    "    tmp_flow=dequant_flows_prst[i]\n",
    "    if isinstance(tmp_flow, int): continue\n",
    "    \n",
    "    try:\n",
    "        # generate sample\n",
    "        tmp_sample=tmp_flow.sample(sample_size)\n",
    "        dequant_samples_prst[i,:,:] = tmp_sample.detach().numpy()\n",
    "    \n",
    "        # unpack and quantize sample\n",
    "        xd,xc = dequantization.sas_unpack_torch(tmp_sample.T,K)\n",
    "        thetau,tau2u,sigma2u,beta = dequantization.sas_unflatten_torch(xc)\n",
    "        theta,tau2,sigma2 = dequantization.sas_constrain_torch(thetau,tau2u,sigma2u)\n",
    "        theta,tau2,sigma2=theta.detach().numpy(),tau2.detach().numpy(),sigma2.detach().numpy()\n",
    "        beta = beta.detach().numpy()\n",
    "        pi = np.floor(xd.detach().numpy()).astype(int)\n",
    "        pi[pi<0] = 0\n",
    "        pi[pi>1] = 1\n",
    "    \n",
    "        # compute density\n",
    "        t0=time.perf_counter()\n",
    "        dequant_densities_prst[i,:]=tmp_flow.log_prob(tmp_sample).detach().numpy()\n",
    "        dequant_densitycput[0,i]=time.perf_counter()-t0\n",
    "    \n",
    "        # estimate elbo\n",
    "        llp = sas_lposterior(pi,theta,tau2,sigma2,beta,prst_dat_x,prst_dat_y)\n",
    "        dequant_elbos_prst[i]=-np.mean(np.ma.masked_invalid(dequant_densities_prst[i,:] - llp))\n",
    "        \n",
    "    except Exception: continue\n",
    "# end for\n",
    "plt.clf()"
   ]
  },
  {
   "cell_type": "code",
   "execution_count": 68,
   "id": "22e1c65b",
   "metadata": {},
   "outputs": [
    {
     "name": "stdout",
     "output_type": "stream",
     "text": [
      "Optimal flow: 10\n"
     ]
    }
   ],
   "source": [
    "i_star=np.nanargmax(dequant_elbos_prst)\n",
    "print('Optimal flow: '+str(i_star))"
   ]
  },
  {
   "cell_type": "code",
   "execution_count": 69,
   "id": "a463ee12",
   "metadata": {},
   "outputs": [],
   "source": [
    "xd,xc = dequantization.sas_unpack_torch(dequant_flows_prst[i_star].sample(10000).T,K)\n",
    "thetau,tau2u,sigma2u,beta = dequantization.sas_unflatten_torch(xc)\n",
    "theta,tau2,sigma2 = dequantization.sas_constrain_torch(thetau,tau2u,sigma2u)\n",
    "pi = np.floor(xd.detach().numpy()).astype(int)\n",
    "pi[pi<0] = 0\n",
    "pi[pi>1] = 1"
   ]
  },
  {
   "cell_type": "code",
   "execution_count": 70,
   "id": "c73974c9",
   "metadata": {},
   "outputs": [
    {
     "data": {
      "text/plain": [
       "array([0.1621, 0.1311, 0.1155, 0.2375, 0.1377, 0.1389, 0.2022, 0.1305])"
      ]
     },
     "execution_count": 70,
     "metadata": {},
     "output_type": "execute_result"
    }
   ],
   "source": [
    "np.mean(pi,axis=1)"
   ]
  },
  {
   "cell_type": "code",
   "execution_count": 71,
   "id": "c564c176",
   "metadata": {},
   "outputs": [
    {
     "data": {
      "text/plain": [
       "tensor([ 0.7837, -0.5979,  0.5353,  0.7268,  0.2076,  1.7640,  0.2532, -1.4555],\n",
       "       grad_fn=<MeanBackward1>)"
      ]
     },
     "execution_count": 71,
     "metadata": {},
     "output_type": "execute_result"
    }
   ],
   "source": [
    "torch.mean(beta,axis=1)"
   ]
  },
  {
   "cell_type": "markdown",
   "id": "f8bbad25",
   "metadata": {},
   "source": [
    "## Superconductivity data"
   ]
  },
  {
   "cell_type": "code",
   "execution_count": 43,
   "id": "0b3e742a",
   "metadata": {},
   "outputs": [
    {
     "data": {
      "text/html": [
       "<div>\n",
       "<style scoped>\n",
       "    .dataframe tbody tr th:only-of-type {\n",
       "        vertical-align: middle;\n",
       "    }\n",
       "\n",
       "    .dataframe tbody tr th {\n",
       "        vertical-align: top;\n",
       "    }\n",
       "\n",
       "    .dataframe thead th {\n",
       "        text-align: right;\n",
       "    }\n",
       "</style>\n",
       "<table border=\"1\" class=\"dataframe\">\n",
       "  <thead>\n",
       "    <tr style=\"text-align: right;\">\n",
       "      <th></th>\n",
       "      <th>number_of_elements</th>\n",
       "      <th>mean_atomic_mass</th>\n",
       "      <th>wtd_mean_atomic_mass</th>\n",
       "      <th>gmean_atomic_mass</th>\n",
       "      <th>wtd_gmean_atomic_mass</th>\n",
       "      <th>entropy_atomic_mass</th>\n",
       "      <th>wtd_entropy_atomic_mass</th>\n",
       "      <th>range_atomic_mass</th>\n",
       "      <th>wtd_range_atomic_mass</th>\n",
       "      <th>std_atomic_mass</th>\n",
       "      <th>...</th>\n",
       "      <th>wtd_mean_Valence</th>\n",
       "      <th>gmean_Valence</th>\n",
       "      <th>wtd_gmean_Valence</th>\n",
       "      <th>entropy_Valence</th>\n",
       "      <th>wtd_entropy_Valence</th>\n",
       "      <th>range_Valence</th>\n",
       "      <th>wtd_range_Valence</th>\n",
       "      <th>std_Valence</th>\n",
       "      <th>wtd_std_Valence</th>\n",
       "      <th>critical_temp</th>\n",
       "    </tr>\n",
       "  </thead>\n",
       "  <tbody>\n",
       "    <tr>\n",
       "      <th>0</th>\n",
       "      <td>4</td>\n",
       "      <td>88.944468</td>\n",
       "      <td>57.862692</td>\n",
       "      <td>66.361592</td>\n",
       "      <td>36.116612</td>\n",
       "      <td>1.181795</td>\n",
       "      <td>1.062396</td>\n",
       "      <td>122.90607</td>\n",
       "      <td>31.794921</td>\n",
       "      <td>51.968828</td>\n",
       "      <td>...</td>\n",
       "      <td>2.257143</td>\n",
       "      <td>2.213364</td>\n",
       "      <td>2.219783</td>\n",
       "      <td>1.368922</td>\n",
       "      <td>1.066221</td>\n",
       "      <td>1</td>\n",
       "      <td>1.085714</td>\n",
       "      <td>0.433013</td>\n",
       "      <td>0.437059</td>\n",
       "      <td>29.00</td>\n",
       "    </tr>\n",
       "    <tr>\n",
       "      <th>1</th>\n",
       "      <td>5</td>\n",
       "      <td>92.729214</td>\n",
       "      <td>58.518416</td>\n",
       "      <td>73.132787</td>\n",
       "      <td>36.396602</td>\n",
       "      <td>1.449309</td>\n",
       "      <td>1.057755</td>\n",
       "      <td>122.90607</td>\n",
       "      <td>36.161939</td>\n",
       "      <td>47.094633</td>\n",
       "      <td>...</td>\n",
       "      <td>2.257143</td>\n",
       "      <td>1.888175</td>\n",
       "      <td>2.210679</td>\n",
       "      <td>1.557113</td>\n",
       "      <td>1.047221</td>\n",
       "      <td>2</td>\n",
       "      <td>1.128571</td>\n",
       "      <td>0.632456</td>\n",
       "      <td>0.468606</td>\n",
       "      <td>26.00</td>\n",
       "    </tr>\n",
       "    <tr>\n",
       "      <th>2</th>\n",
       "      <td>4</td>\n",
       "      <td>88.944468</td>\n",
       "      <td>57.885242</td>\n",
       "      <td>66.361592</td>\n",
       "      <td>36.122509</td>\n",
       "      <td>1.181795</td>\n",
       "      <td>0.975980</td>\n",
       "      <td>122.90607</td>\n",
       "      <td>35.741099</td>\n",
       "      <td>51.968828</td>\n",
       "      <td>...</td>\n",
       "      <td>2.271429</td>\n",
       "      <td>2.213364</td>\n",
       "      <td>2.232679</td>\n",
       "      <td>1.368922</td>\n",
       "      <td>1.029175</td>\n",
       "      <td>1</td>\n",
       "      <td>1.114286</td>\n",
       "      <td>0.433013</td>\n",
       "      <td>0.444697</td>\n",
       "      <td>19.00</td>\n",
       "    </tr>\n",
       "    <tr>\n",
       "      <th>3</th>\n",
       "      <td>4</td>\n",
       "      <td>88.944468</td>\n",
       "      <td>57.873967</td>\n",
       "      <td>66.361592</td>\n",
       "      <td>36.119560</td>\n",
       "      <td>1.181795</td>\n",
       "      <td>1.022291</td>\n",
       "      <td>122.90607</td>\n",
       "      <td>33.768010</td>\n",
       "      <td>51.968828</td>\n",
       "      <td>...</td>\n",
       "      <td>2.264286</td>\n",
       "      <td>2.213364</td>\n",
       "      <td>2.226222</td>\n",
       "      <td>1.368922</td>\n",
       "      <td>1.048834</td>\n",
       "      <td>1</td>\n",
       "      <td>1.100000</td>\n",
       "      <td>0.433013</td>\n",
       "      <td>0.440952</td>\n",
       "      <td>22.00</td>\n",
       "    </tr>\n",
       "    <tr>\n",
       "      <th>4</th>\n",
       "      <td>4</td>\n",
       "      <td>88.944468</td>\n",
       "      <td>57.840143</td>\n",
       "      <td>66.361592</td>\n",
       "      <td>36.110716</td>\n",
       "      <td>1.181795</td>\n",
       "      <td>1.129224</td>\n",
       "      <td>122.90607</td>\n",
       "      <td>27.848743</td>\n",
       "      <td>51.968828</td>\n",
       "      <td>...</td>\n",
       "      <td>2.242857</td>\n",
       "      <td>2.213364</td>\n",
       "      <td>2.206963</td>\n",
       "      <td>1.368922</td>\n",
       "      <td>1.096052</td>\n",
       "      <td>1</td>\n",
       "      <td>1.057143</td>\n",
       "      <td>0.433013</td>\n",
       "      <td>0.428809</td>\n",
       "      <td>23.00</td>\n",
       "    </tr>\n",
       "    <tr>\n",
       "      <th>...</th>\n",
       "      <td>...</td>\n",
       "      <td>...</td>\n",
       "      <td>...</td>\n",
       "      <td>...</td>\n",
       "      <td>...</td>\n",
       "      <td>...</td>\n",
       "      <td>...</td>\n",
       "      <td>...</td>\n",
       "      <td>...</td>\n",
       "      <td>...</td>\n",
       "      <td>...</td>\n",
       "      <td>...</td>\n",
       "      <td>...</td>\n",
       "      <td>...</td>\n",
       "      <td>...</td>\n",
       "      <td>...</td>\n",
       "      <td>...</td>\n",
       "      <td>...</td>\n",
       "      <td>...</td>\n",
       "      <td>...</td>\n",
       "      <td>...</td>\n",
       "    </tr>\n",
       "    <tr>\n",
       "      <th>21258</th>\n",
       "      <td>4</td>\n",
       "      <td>106.957877</td>\n",
       "      <td>53.095769</td>\n",
       "      <td>82.515384</td>\n",
       "      <td>43.135565</td>\n",
       "      <td>1.177145</td>\n",
       "      <td>1.254119</td>\n",
       "      <td>146.88130</td>\n",
       "      <td>15.504479</td>\n",
       "      <td>65.764081</td>\n",
       "      <td>...</td>\n",
       "      <td>3.555556</td>\n",
       "      <td>3.223710</td>\n",
       "      <td>3.519911</td>\n",
       "      <td>1.377820</td>\n",
       "      <td>0.913658</td>\n",
       "      <td>1</td>\n",
       "      <td>2.168889</td>\n",
       "      <td>0.433013</td>\n",
       "      <td>0.496904</td>\n",
       "      <td>2.44</td>\n",
       "    </tr>\n",
       "    <tr>\n",
       "      <th>21259</th>\n",
       "      <td>5</td>\n",
       "      <td>92.266740</td>\n",
       "      <td>49.021367</td>\n",
       "      <td>64.812662</td>\n",
       "      <td>32.867748</td>\n",
       "      <td>1.323287</td>\n",
       "      <td>1.571630</td>\n",
       "      <td>188.38390</td>\n",
       "      <td>7.353333</td>\n",
       "      <td>69.232655</td>\n",
       "      <td>...</td>\n",
       "      <td>2.047619</td>\n",
       "      <td>2.168944</td>\n",
       "      <td>2.038991</td>\n",
       "      <td>1.594167</td>\n",
       "      <td>1.337246</td>\n",
       "      <td>1</td>\n",
       "      <td>0.904762</td>\n",
       "      <td>0.400000</td>\n",
       "      <td>0.212959</td>\n",
       "      <td>122.10</td>\n",
       "    </tr>\n",
       "    <tr>\n",
       "      <th>21260</th>\n",
       "      <td>2</td>\n",
       "      <td>99.663190</td>\n",
       "      <td>95.609104</td>\n",
       "      <td>99.433882</td>\n",
       "      <td>95.464320</td>\n",
       "      <td>0.690847</td>\n",
       "      <td>0.530198</td>\n",
       "      <td>13.51362</td>\n",
       "      <td>53.041104</td>\n",
       "      <td>6.756810</td>\n",
       "      <td>...</td>\n",
       "      <td>4.800000</td>\n",
       "      <td>4.472136</td>\n",
       "      <td>4.781762</td>\n",
       "      <td>0.686962</td>\n",
       "      <td>0.450561</td>\n",
       "      <td>1</td>\n",
       "      <td>3.200000</td>\n",
       "      <td>0.500000</td>\n",
       "      <td>0.400000</td>\n",
       "      <td>1.98</td>\n",
       "    </tr>\n",
       "    <tr>\n",
       "      <th>21261</th>\n",
       "      <td>2</td>\n",
       "      <td>99.663190</td>\n",
       "      <td>97.095602</td>\n",
       "      <td>99.433882</td>\n",
       "      <td>96.901083</td>\n",
       "      <td>0.690847</td>\n",
       "      <td>0.640883</td>\n",
       "      <td>13.51362</td>\n",
       "      <td>31.115202</td>\n",
       "      <td>6.756810</td>\n",
       "      <td>...</td>\n",
       "      <td>4.690000</td>\n",
       "      <td>4.472136</td>\n",
       "      <td>4.665819</td>\n",
       "      <td>0.686962</td>\n",
       "      <td>0.577601</td>\n",
       "      <td>1</td>\n",
       "      <td>2.210000</td>\n",
       "      <td>0.500000</td>\n",
       "      <td>0.462493</td>\n",
       "      <td>1.84</td>\n",
       "    </tr>\n",
       "    <tr>\n",
       "      <th>21262</th>\n",
       "      <td>3</td>\n",
       "      <td>87.468333</td>\n",
       "      <td>86.858500</td>\n",
       "      <td>82.555758</td>\n",
       "      <td>80.458722</td>\n",
       "      <td>1.041270</td>\n",
       "      <td>0.895229</td>\n",
       "      <td>71.75500</td>\n",
       "      <td>43.144000</td>\n",
       "      <td>29.905282</td>\n",
       "      <td>...</td>\n",
       "      <td>4.500000</td>\n",
       "      <td>4.762203</td>\n",
       "      <td>4.242641</td>\n",
       "      <td>1.054920</td>\n",
       "      <td>0.970116</td>\n",
       "      <td>3</td>\n",
       "      <td>1.800000</td>\n",
       "      <td>1.414214</td>\n",
       "      <td>1.500000</td>\n",
       "      <td>12.80</td>\n",
       "    </tr>\n",
       "  </tbody>\n",
       "</table>\n",
       "<p>21263 rows × 82 columns</p>\n",
       "</div>"
      ],
      "text/plain": [
       "       number_of_elements  mean_atomic_mass  wtd_mean_atomic_mass  \\\n",
       "0                       4         88.944468             57.862692   \n",
       "1                       5         92.729214             58.518416   \n",
       "2                       4         88.944468             57.885242   \n",
       "3                       4         88.944468             57.873967   \n",
       "4                       4         88.944468             57.840143   \n",
       "...                   ...               ...                   ...   \n",
       "21258                   4        106.957877             53.095769   \n",
       "21259                   5         92.266740             49.021367   \n",
       "21260                   2         99.663190             95.609104   \n",
       "21261                   2         99.663190             97.095602   \n",
       "21262                   3         87.468333             86.858500   \n",
       "\n",
       "       gmean_atomic_mass  wtd_gmean_atomic_mass  entropy_atomic_mass  \\\n",
       "0              66.361592              36.116612             1.181795   \n",
       "1              73.132787              36.396602             1.449309   \n",
       "2              66.361592              36.122509             1.181795   \n",
       "3              66.361592              36.119560             1.181795   \n",
       "4              66.361592              36.110716             1.181795   \n",
       "...                  ...                    ...                  ...   \n",
       "21258          82.515384              43.135565             1.177145   \n",
       "21259          64.812662              32.867748             1.323287   \n",
       "21260          99.433882              95.464320             0.690847   \n",
       "21261          99.433882              96.901083             0.690847   \n",
       "21262          82.555758              80.458722             1.041270   \n",
       "\n",
       "       wtd_entropy_atomic_mass  range_atomic_mass  wtd_range_atomic_mass  \\\n",
       "0                     1.062396          122.90607              31.794921   \n",
       "1                     1.057755          122.90607              36.161939   \n",
       "2                     0.975980          122.90607              35.741099   \n",
       "3                     1.022291          122.90607              33.768010   \n",
       "4                     1.129224          122.90607              27.848743   \n",
       "...                        ...                ...                    ...   \n",
       "21258                 1.254119          146.88130              15.504479   \n",
       "21259                 1.571630          188.38390               7.353333   \n",
       "21260                 0.530198           13.51362              53.041104   \n",
       "21261                 0.640883           13.51362              31.115202   \n",
       "21262                 0.895229           71.75500              43.144000   \n",
       "\n",
       "       std_atomic_mass  ...  wtd_mean_Valence  gmean_Valence  \\\n",
       "0            51.968828  ...          2.257143       2.213364   \n",
       "1            47.094633  ...          2.257143       1.888175   \n",
       "2            51.968828  ...          2.271429       2.213364   \n",
       "3            51.968828  ...          2.264286       2.213364   \n",
       "4            51.968828  ...          2.242857       2.213364   \n",
       "...                ...  ...               ...            ...   \n",
       "21258        65.764081  ...          3.555556       3.223710   \n",
       "21259        69.232655  ...          2.047619       2.168944   \n",
       "21260         6.756810  ...          4.800000       4.472136   \n",
       "21261         6.756810  ...          4.690000       4.472136   \n",
       "21262        29.905282  ...          4.500000       4.762203   \n",
       "\n",
       "       wtd_gmean_Valence  entropy_Valence  wtd_entropy_Valence  range_Valence  \\\n",
       "0               2.219783         1.368922             1.066221              1   \n",
       "1               2.210679         1.557113             1.047221              2   \n",
       "2               2.232679         1.368922             1.029175              1   \n",
       "3               2.226222         1.368922             1.048834              1   \n",
       "4               2.206963         1.368922             1.096052              1   \n",
       "...                  ...              ...                  ...            ...   \n",
       "21258           3.519911         1.377820             0.913658              1   \n",
       "21259           2.038991         1.594167             1.337246              1   \n",
       "21260           4.781762         0.686962             0.450561              1   \n",
       "21261           4.665819         0.686962             0.577601              1   \n",
       "21262           4.242641         1.054920             0.970116              3   \n",
       "\n",
       "       wtd_range_Valence  std_Valence  wtd_std_Valence  critical_temp  \n",
       "0               1.085714     0.433013         0.437059          29.00  \n",
       "1               1.128571     0.632456         0.468606          26.00  \n",
       "2               1.114286     0.433013         0.444697          19.00  \n",
       "3               1.100000     0.433013         0.440952          22.00  \n",
       "4               1.057143     0.433013         0.428809          23.00  \n",
       "...                  ...          ...              ...            ...  \n",
       "21258           2.168889     0.433013         0.496904           2.44  \n",
       "21259           0.904762     0.400000         0.212959         122.10  \n",
       "21260           3.200000     0.500000         0.400000           1.98  \n",
       "21261           2.210000     0.500000         0.462493           1.84  \n",
       "21262           1.800000     1.414214         1.500000          12.80  \n",
       "\n",
       "[21263 rows x 82 columns]"
      ]
     },
     "execution_count": 43,
     "metadata": {},
     "output_type": "execute_result"
    }
   ],
   "source": [
    "spr_dat_raw = pd.read_csv('dat/train.csv')\n",
    "spr_dat_raw"
   ]
  },
  {
   "cell_type": "code",
   "execution_count": 44,
   "id": "f31938bf",
   "metadata": {},
   "outputs": [],
   "source": [
    "# subsample and rm missing values (code from MixFlows by Xu et al.)\n",
    "spr_dat_raw = spr_dat_raw.loc[np.random.choice(spr_dat_raw.index, 100, replace=False)]\n",
    "spr_dat_raw = spr_dat_raw.replace('?', np.nan)\n",
    "spr_dat_raw = spr_dat_raw.dropna()"
   ]
  },
  {
   "cell_type": "code",
   "execution_count": 45,
   "id": "340e65ca",
   "metadata": {},
   "outputs": [],
   "source": [
    "# normalize data\n",
    "spr_dat_x = np.array(spr_dat_raw[spr_dat_raw.columns.difference(['critical_temp'])])\n",
    "spr_dat_x = (spr_dat_x-np.mean(spr_dat_x,axis=1)[:,None])/np.std(spr_dat_x,axis=1)[:,None]\n",
    "spr_dat_y = np.array(spr_dat_raw['critical_temp'])\n",
    "spr_dat_y = (spr_dat_y-np.mean(spr_dat_y))/np.std(spr_dat_y)\n",
    "K = spr_dat_x.shape[1]"
   ]
  },
  {
   "cell_type": "code",
   "execution_count": 46,
   "id": "5aecbe0d",
   "metadata": {},
   "outputs": [],
   "source": [
    "# save data\n",
    "np.savetxt(\"dat/spr_dat_x.csv\", spr_dat_x, delimiter=\",\")\n",
    "np.savetxt(\"dat/spr_dat_y.csv\", spr_dat_y, delimiter=\",\")"
   ]
  },
  {
   "cell_type": "markdown",
   "id": "dc634052",
   "metadata": {},
   "source": [
    "### Gibbs sampling"
   ]
  },
  {
   "cell_type": "code",
   "execution_count": 27,
   "id": "d023f9fd",
   "metadata": {},
   "outputs": [],
   "source": [
    "####################\n",
    "####################\n",
    "#      setup       #\n",
    "####################\n",
    "####################\n",
    "steps = 5000\n",
    "burnin_pct = 0.8"
   ]
  },
  {
   "cell_type": "code",
   "execution_count": 28,
   "id": "d3437f37",
   "metadata": {},
   "outputs": [
    {
     "name": "stdout",
     "output_type": "stream",
     "text": [
      "Sampling: 5000/50000\r"
     ]
    }
   ],
   "source": [
    "####################\n",
    "####################\n",
    "#   run sampler    #\n",
    "####################\n",
    "####################\n",
    "seed=1\n",
    "\n",
    "t0=time.perf_counter()\n",
    "gpis_spr,gbetas_spr,gthetas_spr,gsigmas2_spr,gtaus2_spr = gibbs.gibbs_sas(\n",
    "    y=spr_dat_y,x=spr_dat_x,steps=steps,burnin_pct=burnin_pct,seed=seed\n",
    ")\n",
    "gibbs_cput[1]=time.perf_counter()-t0"
   ]
  },
  {
   "cell_type": "code",
   "execution_count": 32,
   "id": "0227198c",
   "metadata": {},
   "outputs": [],
   "source": [
    "####################\n",
    "####################\n",
    "#    save data     #\n",
    "####################\n",
    "####################\n",
    "aux.pkl_save(gpis_spr,'sockeye_run/superconductivity/pred_pi')\n",
    "aux.pkl_save(gbetas_spr,'sockeye_run/superconductivity/pred_beta')\n",
    "aux.pkl_save(gthetas_spr,'sockeye_run/superconductivity/pred_theta')\n",
    "aux.pkl_save(gsigmas2_spr,'sockeye_run/superconductivity/pred_sigma2')\n",
    "aux.pkl_save(gtaus2_spr,'sockeye_run/superconductivity/pred_tau2')"
   ]
  },
  {
   "cell_type": "markdown",
   "id": "452bb6ed",
   "metadata": {},
   "source": [
    "### MAD Mix"
   ]
  },
  {
   "cell_type": "code",
   "execution_count": 261,
   "id": "0df92c26",
   "metadata": {},
   "outputs": [],
   "source": [
    "####################\n",
    "####################\n",
    "#      setup       #\n",
    "####################\n",
    "####################\n",
    "size = 100\n",
    "N = 500\n",
    "L = 15\n",
    "epsilon = 0.001\n",
    "xi = np.pi/16\n",
    "nu2 = 10\n",
    "\n",
    "# relevant functions\n",
    "lp = madmix_aux.sas_gen_lp(spr_dat_x,spr_dat_y)\n",
    "grad_lp = madmix_aux.sas_gen_grad_lp(spr_dat_x,spr_dat_y)\n",
    "lq0 = madmix_aux.sas_gen_lq0(spr_dat_x,spr_dat_y,nu2)\n",
    "randq0 = madmix_aux.sas_gen_randq0(spr_dat_x,spr_dat_y,nu2)"
   ]
  },
  {
   "cell_type": "code",
   "execution_count": 262,
   "id": "3364f513",
   "metadata": {},
   "outputs": [
    {
     "name": "stdout",
     "output_type": "stream",
     "text": [
      "Importing cached results\n",
      "Importing cached log density\n",
      "Done!\n"
     ]
    }
   ],
   "source": [
    "RUN=False # to control whether to run or to import saved results\n",
    "\n",
    "if RUN:\n",
    "    print('Sampling')\n",
    "    t0=time.perf_counter()\n",
    "    xd_,ud_,xc_,rho_,uc_=madmix.randqN(size,N,randq0,L,epsilon,lp,grad_lp,xi)\n",
    "    madmix_cput[1]=time.perf_counter()-t0\n",
    "    \n",
    "    mad_spr_results=madmix_aux.sas_pack(xd_,ud_,xc_,rho_,uc_)\n",
    "    print('Done!')\n",
    "    print('Saving sampling results')\n",
    "    aux.pkl_save(mad_spr_results,'results/mad_spr_results')\n",
    "    \n",
    "    print('Evaluating log density')\n",
    "    mad_lq_spr = madmix.lqN(xd_.astype(int),ud_,xc_,rho_,uc_,N,lq0,L,epsilon,lp,grad_lp,xi)\n",
    "    print('Saving log density results')\n",
    "    aux.pkl_save(mad_lq_spr,'results/mad_spr_lq')\n",
    "    print('Done!')\n",
    "else:\n",
    "    print('Importing cached results')\n",
    "    mad_spr_results=aux.pkl_load('results/mad_spr_results')\n",
    "    \n",
    "    print('Importing cached log density')\n",
    "    mad_lq_spr=aux.pkl_load('results/mad_spr_lq')\n",
    "    xd_,ud_,xc_,rho_,uc_=madmix_aux.sas_unpack(mad_spr_results,K=spr_dat_x.shape[1])\n",
    "    print('Done!')\n",
    "# end if"
   ]
  },
  {
   "cell_type": "code",
   "execution_count": 263,
   "id": "c4d6b094",
   "metadata": {},
   "outputs": [],
   "source": [
    "# format results\n",
    "madmix_pi_spr = np.copy(xd_)\n",
    "thetau,tau2u,sigma2u,madmix_beta_spr = madmix_aux.sas_unflatten(xc_)\n",
    "madmix_theta_spr,madmix_tau2_spr,madmix_sigma2_spr = madmix_aux.sas_constrain(thetau,tau2u,sigma2u)"
   ]
  },
  {
   "cell_type": "code",
   "execution_count": 264,
   "id": "19402219",
   "metadata": {},
   "outputs": [],
   "source": [
    "# calculate ELBO\n",
    "lp = sas_lposterior(madmix_pi_spr,madmix_theta_spr,madmix_tau2_spr,madmix_sigma2_spr,madmix_beta_spr,\n",
    "                    spr_dat_x,spr_dat_y)\n",
    "madmix_elbos[1] = np.nanmean(mad_lq_spr-lp)"
   ]
  },
  {
   "cell_type": "markdown",
   "id": "8a5b086a",
   "metadata": {},
   "source": [
    "### Mean-field"
   ]
  },
  {
   "cell_type": "code",
   "execution_count": 200,
   "id": "03ec2e33",
   "metadata": {},
   "outputs": [],
   "source": [
    "####################\n",
    "####################\n",
    "#   import data    #\n",
    "####################\n",
    "####################\n",
    "mf_spr_results = np.genfromtxt('results/mf_spr_results.csv', \n",
    "                                delimiter=\",\",\n",
    "                                skip_header=1)"
   ]
  },
  {
   "cell_type": "code",
   "execution_count": 214,
   "id": "3e0b6254",
   "metadata": {},
   "outputs": [],
   "source": [
    "mf_elbos[1]=meanfield_sas_elbo(B=10000,mu=mf_spr_results[:,0],sigma=mf_spr_results[:,1],pi=mf_spr_results[:,2],\n",
    "            nu=10.,x=spr_dat_x,y=spr_dat_y)"
   ]
  },
  {
   "cell_type": "markdown",
   "id": "dd9d6ca7",
   "metadata": {},
   "source": [
    "### Dequantization"
   ]
  },
  {
   "cell_type": "code",
   "execution_count": 40,
   "id": "3d357f94",
   "metadata": {},
   "outputs": [
    {
     "name": "stdout",
     "output_type": "stream",
     "text": [
      "Total training time: 1.2044220364152716 hours\n"
     ]
    }
   ],
   "source": [
    "########################\n",
    "########################\n",
    "#    dequantization    #\n",
    "########################\n",
    "########################\n",
    "dequant_flows_spr     = aux.pkl_load('sockeye/dequantization/superconductivity/sas_flows_dequant')\n",
    "dequant_losses_spr    = aux.pkl_load('sockeye/dequantization/superconductivity/sas_losses_dequant')\n",
    "dequant_cpu_times_spr = aux.pkl_load('sockeye/dequantization/superconductivity/sas_cpu_times_dequant')\n",
    "dequant_sim_size_spr  = len(dequant_flows_spr)\n",
    "dequant_max_iters_spr = dequant_losses_spr.shape[-1]\n",
    "print('Total training time: '+str(dequant_cpu_times_spr.sum()/3600)+' hours')"
   ]
  },
  {
   "cell_type": "code",
   "execution_count": 41,
   "id": "b01bccc5",
   "metadata": {},
   "outputs": [
    {
     "data": {
      "text/plain": [
       "Text(0.5, 1.0, 'Dequantization RealNVP training loss traceplots')"
      ]
     },
     "execution_count": 41,
     "metadata": {},
     "output_type": "execute_result"
    },
    {
     "data": {
      "image/png": "[encoded data removed]",
      "text/plain": [
       "<Figure size 1500x750 with 1 Axes>"
      ]
     },
     "metadata": {},
     "output_type": "display_data"
    }
   ],
   "source": [
    "# loss traceplot\n",
    "threshold=np.inf\n",
    "for i in range(dequant_sim_size_spr): plt.plot(np.arange(dequant_max_iters_spr)[dequant_losses_spr[i,:]<threshold],dequant_losses_spr[i,dequant_losses_spr[i,:]<threshold],'-k',alpha=0.5)\n",
    "plt.xlabel('Iteration')\n",
    "plt.ylabel('Loss')\n",
    "plt.title('Dequantization RealNVP training loss traceplots')"
   ]
  },
  {
   "cell_type": "code",
   "execution_count": 48,
   "id": "0a74da83",
   "metadata": {},
   "outputs": [
    {
     "name": "stdout",
     "output_type": "stream",
     "text": [
      "36/36\r"
     ]
    },
    {
     "name": "stderr",
     "output_type": "stream",
     "text": [
      "/var/folders/k3/24b0dzl557v5m0_0658q2cxr0000gn/T/ipykernel_95831/735616984.py:31: RuntimeWarning: divide by zero encountered in log\n",
      "  lp += np.sum(np.log(theta)*pi + np.log1p(-theta)*(1-pi),axis=0)\n",
      "/var/folders/k3/24b0dzl557v5m0_0658q2cxr0000gn/T/ipykernel_95831/735616984.py:31: RuntimeWarning: invalid value encountered in multiply\n",
      "  lp += np.sum(np.log(theta)*pi + np.log1p(-theta)*(1-pi),axis=0)\n",
      "/var/folders/k3/24b0dzl557v5m0_0658q2cxr0000gn/T/ipykernel_95831/735616984.py:32: RuntimeWarning: invalid value encountered in multiply\n",
      "  lp += -0.5*K*np.log(2*np.pi*sigma2*tau2)-0.5*np.sum(beta**2,axis=0)/sigma2*tau2\n",
      "/var/folders/k3/24b0dzl557v5m0_0658q2cxr0000gn/T/ipykernel_95831/1789219826.py:40: UserWarning: Warning: converting a masked element to nan.\n",
      "  dequant_elbos_spr[i]=-np.mean(np.ma.masked_invalid(dequant_densities_spr[i,:] - llp))\n",
      "/var/folders/k3/24b0dzl557v5m0_0658q2cxr0000gn/T/ipykernel_95831/735616984.py:30: RuntimeWarning: invalid value encountered in add\n",
      "  lp += stats.gamma(a=a1,scale=1./a2).logpdf(sigma2)\n",
      "/var/folders/k3/24b0dzl557v5m0_0658q2cxr0000gn/T/ipykernel_95831/735616984.py:32: RuntimeWarning: divide by zero encountered in log\n",
      "  lp += -0.5*K*np.log(2*np.pi*sigma2*tau2)-0.5*np.sum(beta**2,axis=0)/sigma2*tau2\n",
      "/var/folders/k3/24b0dzl557v5m0_0658q2cxr0000gn/T/ipykernel_95831/735616984.py:32: RuntimeWarning: divide by zero encountered in divide\n",
      "  lp += -0.5*K*np.log(2*np.pi*sigma2*tau2)-0.5*np.sum(beta**2,axis=0)/sigma2*tau2\n",
      "/var/folders/k3/24b0dzl557v5m0_0658q2cxr0000gn/T/ipykernel_95831/735616984.py:33: RuntimeWarning: divide by zero encountered in log\n",
      "  lp += -0.5*np.log(2*np.pi*sigma2) # log likelihood part 1\n",
      "/var/folders/k3/24b0dzl557v5m0_0658q2cxr0000gn/T/ipykernel_95831/735616984.py:34: RuntimeWarning: divide by zero encountered in divide\n",
      "  lp += -0.5*np.sum(y[None,:]-np.squeeze(np.matmul(x[None,:,:],beta.T[:,:,None])),axis=1)/sigma2 # ll part 2\n"
     ]
    },
    {
     "data": {
      "text/plain": [
       "<Figure size 1500x750 with 0 Axes>"
      ]
     },
     "metadata": {},
     "output_type": "display_data"
    }
   ],
   "source": [
    "#########################\n",
    "#########################\n",
    "# get samples and elbos #\n",
    "#########################\n",
    "#########################\n",
    "torch.manual_seed(1)\n",
    "sample_size=1000\n",
    "Kp=int(K+3+K)\n",
    "dequant_samples_spr=np.zeros((dequant_sim_size_spr,sample_size,Kp))\n",
    "dequant_densities_spr=np.zeros((dequant_sim_size_spr,sample_size))\n",
    "dequant_elbos_spr=-np.inf*np.ones(dequant_sim_size_spr)\n",
    "\n",
    "for i in range(dequant_sim_size_spr):\n",
    "    print(str(i+1)+'/'+str(dequant_sim_size_spr),end='\\r')\n",
    "    tmp_flow=dequant_flows_spr[i]\n",
    "    if isinstance(tmp_flow, int): continue\n",
    "    \n",
    "    try:\n",
    "        # generate sample\n",
    "        tmp_sample=tmp_flow.sample(sample_size)\n",
    "        dequant_samples_spr[i,:,:] = tmp_sample.detach().numpy()\n",
    "    \n",
    "        # unpack and quantize sample\n",
    "        xd,xc = dequantization.sas_unpack_torch(tmp_sample.T,K)\n",
    "        thetau,tau2u,sigma2u,beta = dequantization.sas_unflatten_torch(xc)\n",
    "        theta,tau2,sigma2 = dequantization.sas_constrain_torch(thetau,tau2u,sigma2u)\n",
    "        theta,tau2,sigma2=theta.detach().numpy(),tau2.detach().numpy(),sigma2.detach().numpy()\n",
    "        beta = beta.detach().numpy()\n",
    "        pi = np.floor(xd.detach().numpy()).astype(int)\n",
    "        pi[pi<0] = 0\n",
    "        pi[pi>1] = 1\n",
    "    \n",
    "        # compute density\n",
    "        t0=time.perf_counter()\n",
    "        dequant_densities_spr[i,:]=tmp_flow.log_prob(tmp_sample).detach().numpy()\n",
    "        dequant_densitycput[1,i]=time.perf_counter()-t0\n",
    "    \n",
    "        # estimate elbo\n",
    "        llp = sas_lposterior(pi,theta,tau2,sigma2,beta,spr_dat_x,spr_dat_y)\n",
    "        dequant_elbos_spr[i]=-np.mean(np.ma.masked_invalid(dequant_densities_spr[i,:] - llp))\n",
    "        \n",
    "    except Exception: continue\n",
    "# end for\n",
    "plt.clf()"
   ]
  },
  {
   "cell_type": "code",
   "execution_count": 50,
   "id": "4cbead0c",
   "metadata": {},
   "outputs": [
    {
     "name": "stdout",
     "output_type": "stream",
     "text": [
      "Optimal flow: 1\n"
     ]
    }
   ],
   "source": [
    "i_star=np.nanargmax(dequant_elbos_spr)\n",
    "print('Optimal flow: '+str(i_star))"
   ]
  },
  {
   "cell_type": "code",
   "execution_count": 51,
   "id": "c8ae2c04",
   "metadata": {},
   "outputs": [],
   "source": [
    "xd,xc = dequantization.sas_unpack_torch(dequant_flows_spr[i_star].sample(10000).T,K)\n",
    "thetau,tau2u,sigma2u,beta = dequantization.sas_unflatten_torch(xc)\n",
    "theta,tau2,sigma2 = dequantization.sas_constrain_torch(thetau,tau2u,sigma2u)\n",
    "pi = np.floor(xd.detach().numpy()).astype(int)\n",
    "pi[pi<0] = 0\n",
    "pi[pi>1] = 1"
   ]
  },
  {
   "cell_type": "code",
   "execution_count": 52,
   "id": "6b33798d",
   "metadata": {},
   "outputs": [
    {
     "data": {
      "text/plain": [
       "array([0.9161, 0.9189, 0.9244, 0.9132, 0.9124, 0.9244, 0.9169, 0.9188,\n",
       "       0.9137, 0.916 , 0.9144, 0.9223, 0.9118, 0.9197, 0.9166, 0.905 ,\n",
       "       0.8969, 0.9189, 0.9112, 0.9085, 0.9126, 0.9252, 0.9191, 0.9169,\n",
       "       0.9118, 0.9171, 0.9173, 0.9224, 0.9172, 0.918 , 0.9111, 0.9205,\n",
       "       0.9084, 0.912 , 0.924 , 0.9059, 0.9153, 0.9173, 0.9222, 0.921 ,\n",
       "       0.917 , 0.9225, 0.9082, 0.9169, 0.9189, 0.9184, 0.9216, 0.9102,\n",
       "       0.9143, 0.9055, 0.9122, 0.9127, 0.9156, 0.914 , 0.9224, 0.9053,\n",
       "       0.9124, 0.8972, 0.9248, 0.9144, 0.916 , 0.9171, 0.9156, 0.9108,\n",
       "       0.9044, 0.9009, 0.9143, 0.9122, 0.9254, 0.9166, 0.913 , 0.9125,\n",
       "       0.9056, 0.9023, 0.9154, 0.9105, 0.9135, 0.9163, 0.9088, 0.9166,\n",
       "       0.909 ])"
      ]
     },
     "execution_count": 52,
     "metadata": {},
     "output_type": "execute_result"
    }
   ],
   "source": [
    "np.mean(pi,axis=1)"
   ]
  },
  {
   "cell_type": "code",
   "execution_count": 53,
   "id": "94e3d8f9",
   "metadata": {},
   "outputs": [
    {
     "data": {
      "text/plain": [
       "tensor([ 0.0017,  0.0083,  0.0059,  0.0044,  0.0064, -0.0012, -0.0017, -0.0011,\n",
       "        -0.1206, -0.0206, -0.0034,  0.0065, -0.0046,  0.0141,  0.0232, -0.0677,\n",
       "        -0.0133, -0.0054, -0.0032,  0.0481,  0.0024,  0.0048,  0.0155, -0.0802,\n",
       "         0.0022,  0.1632, -0.0319, -0.0064,  0.1757,  0.0132,  0.0296,  0.0435,\n",
       "         0.0092, -0.2102, -0.0073, -0.0022,  0.0613,  0.0033,  0.0063,  0.0012,\n",
       "        -0.0352, -0.0065, -0.0043,  0.0069, -0.0091,  0.0070,  0.0032, -0.0010,\n",
       "        -0.0017, -0.1434, -0.0058,  0.0095, -0.0019, -0.0071,  0.0055,  0.0096,\n",
       "        -0.0207,  0.0658, -0.0060, -0.0015,  0.0769,  0.0032,  0.0006,  0.0164,\n",
       "        -0.0269, -0.0964, -0.0030, -0.0121,  0.0719,  0.0078, -0.0050, -0.0222,\n",
       "         0.0110, -0.0108, -0.0047, -0.0019,  0.0942, -0.0005,  0.0077, -0.0086,\n",
       "        -0.0034], grad_fn=<MeanBackward1>)"
      ]
     },
     "execution_count": 53,
     "metadata": {},
     "output_type": "execute_result"
    }
   ],
   "source": [
    "torch.mean(beta,axis=1)"
   ]
  },
  {
   "cell_type": "markdown",
   "id": "4d75c8c9",
   "metadata": {},
   "source": [
    "## Save results"
   ]
  },
  {
   "cell_type": "code",
   "execution_count": 266,
   "id": "74006b9a",
   "metadata": {},
   "outputs": [],
   "source": [
    "# MAD Mix\n",
    "aux.pkl_save(madmix_elbos, '../summary/results/madmix_elbos_sas')\n",
    "aux.pkl_save(madmix_cput, '../summary/results/madmix_cput_sas')\n",
    "\n",
    "# Gibbs\n",
    "aux.pkl_save(gibbs_cput, '../summary/results/gibbs_cput_sas')\n",
    "\n",
    "# mean field\n",
    "mf_cput = np.genfromtxt('results/mf_cput.csv', \n",
    "                                delimiter=\",\",\n",
    "                                skip_header=1)\n",
    "aux.pkl_save(mf_cput, '../summary/results/meanfield_cput_sas')\n",
    "aux.pkl_save(mf_elbos, '../summary/results/meanfield_elbos_sas')\n",
    "\n",
    "# dequantization\n",
    "dequant_elbos=np.vstack((dequant_elbos_prst,dequant_elbos_spr))\n",
    "dequant_cpu_times=np.vstack((dequant_cpu_times_prst,dequant_cpu_times_spr))\n",
    "aux.pkl_save(dequant_elbos,'../summary/results/dequant_elbos_sas')\n",
    "aux.pkl_save(dequant_cput,'../summary/results/dequant_cput_sas')\n",
    "aux.pkl_save(dequant_densitycput,'../summary/results/dequant_densitycput_sas')"
   ]
  }
 ],
 "metadata": {
  "kernelspec": {
   "display_name": "Python 3 (ipykernel)",
   "language": "python",
   "name": "python3"
  },
  "language_info": {
   "codemirror_mode": {
    "name": "ipython",
    "version": 3
   },
   "file_extension": ".py",
   "mimetype": "text/x-python",
   "name": "python",
   "nbconvert_exporter": "python",
   "pygments_lexer": "ipython3",
   "version": "3.9.6"
  }
 },
 "nbformat": 4,
 "nbformat_minor": 5
}
