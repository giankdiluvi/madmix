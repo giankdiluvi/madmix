{
 "cells": [
  {
   "cell_type": "markdown",
   "id": "bd6492be",
   "metadata": {},
   "source": [
    "# Spike and Slab examples"
   ]
  },
  {
   "cell_type": "code",
   "execution_count": 1,
   "id": "76954f2a",
   "metadata": {},
   "outputs": [],
   "source": [
    "import numpy as np\n",
    "import pandas as pd\n",
    "import matplotlib.pyplot as plt\n",
    "import scipy.stats as stats\n",
    "import os,sys,time\n",
    "\n",
    "sys.path.insert(1, '../../src/')\n",
    "import madmix\n",
    "import madmix_aux\n",
    "import gibbs\n",
    "from concrete import *\n",
    "import dequantization\n",
    "import meanfield\n",
    "import aux\n",
    "\n",
    "plt.rcParams.update({'figure.max_open_warning': 0})\n",
    "plt.rcParams[\"figure.figsize\"]=15,7.5\n",
    "plt.rcParams.update({'font.size': 40})\n",
    "fig_path='fig/'\n",
    "fig_path='../../../madmix-tex/fig/'"
   ]
  },
  {
   "cell_type": "code",
   "execution_count": 81,
   "id": "16940f3b",
   "metadata": {},
   "outputs": [],
   "source": [
    "def sas_lposterior(pi,theta,tau2,sigma2,beta,x,y):\n",
    "    \"\"\"\n",
    "    Evaluate the posterior log density of a spike and slab model\n",
    "    K = # of covariates\n",
    "    B = # of points to evaluate log pdf at\n",
    "    \n",
    "    Inputs:\n",
    "        pi     : (K,B) array, inclusion indicators of regression coefficients (one of {0,1})\n",
    "        theta  : (B,) array, Categorical probs\n",
    "        tau2   : (B,) array, beta variances\n",
    "        sigma2 : (B,) array, obs variances\n",
    "        beta   : (K,B) array, regression coefficients\n",
    "        x      : (N,K) array, covariates (N is no. of observations, K is no. of covariates)\n",
    "        y      : (N,) array, observations\n",
    "    \n",
    "    Outputs:\n",
    "        lp     : (B,) array, posterior \n",
    "    \"\"\"\n",
    "    K,B = pi.shape\n",
    "    N = x.shape[0]\n",
    "    \n",
    "    # set hyperparams\n",
    "    a,b=1.,1.\n",
    "    a1,a2=0.1,0.1\n",
    "    s=0.5\n",
    "    \n",
    "    lp  = np.zeros(B)\n",
    "    print('Initial: '+str(lp))\n",
    "    lp += stats.beta(a,b).logpdf(theta)\n",
    "    print('theta: '+str(lp))\n",
    "    lp += stats.invgamma(a=0.5,scale=s**2/2).logpdf(tau2)\n",
    "    print('tau2: '+str(lp))\n",
    "    lp += stats.gamma(a=a1,scale=1./a2).logpdf(sigma2)\n",
    "    print('sigma2: '+str(lp))\n",
    "    lp += np.sum(np.log(theta)*pi + np.log1p(-theta)*(1-pi),axis=0)\n",
    "    print('pi: '+str(lp))\n",
    "    lp += -0.5*K*np.log(2*np.pi*sigma2*tau2)-0.5*np.sum(beta**2,axis=0)/sigma2*tau2\n",
    "    print('beta: '+str(lp))\n",
    "    lp += -0.5*np.log(2*np.pi*sigma2) # log likelihood part 1\n",
    "    lp += -0.5*np.sum(y[None,:]-np.squeeze(np.matmul(x[None,:,:],beta.T[:,:,None])),axis=1)/sigma2 # ll part 2\n",
    "    print('ll: '+str(lp))\n",
    "    \n",
    "    return lp"
   ]
  },
  {
   "cell_type": "markdown",
   "id": "2d198896",
   "metadata": {},
   "source": [
    "## Prostate cancer data"
   ]
  },
  {
   "cell_type": "code",
   "execution_count": 3,
   "id": "49a08325",
   "metadata": {},
   "outputs": [
    {
     "data": {
      "text/html": [
       "<div>\n",
       "<style scoped>\n",
       "    .dataframe tbody tr th:only-of-type {\n",
       "        vertical-align: middle;\n",
       "    }\n",
       "\n",
       "    .dataframe tbody tr th {\n",
       "        vertical-align: top;\n",
       "    }\n",
       "\n",
       "    .dataframe thead th {\n",
       "        text-align: right;\n",
       "    }\n",
       "</style>\n",
       "<table border=\"1\" class=\"dataframe\">\n",
       "  <thead>\n",
       "    <tr style=\"text-align: right;\">\n",
       "      <th></th>\n",
       "      <th>Unnamed: 0</th>\n",
       "      <th>lcavol</th>\n",
       "      <th>lweight</th>\n",
       "      <th>age</th>\n",
       "      <th>lbph</th>\n",
       "      <th>svi</th>\n",
       "      <th>lcp</th>\n",
       "      <th>gleason</th>\n",
       "      <th>pgg45</th>\n",
       "      <th>lpsa</th>\n",
       "      <th>train</th>\n",
       "    </tr>\n",
       "  </thead>\n",
       "  <tbody>\n",
       "    <tr>\n",
       "      <th>0</th>\n",
       "      <td>1</td>\n",
       "      <td>-0.579818</td>\n",
       "      <td>2.769459</td>\n",
       "      <td>50</td>\n",
       "      <td>-1.386294</td>\n",
       "      <td>0</td>\n",
       "      <td>-1.386294</td>\n",
       "      <td>6</td>\n",
       "      <td>0</td>\n",
       "      <td>-0.430783</td>\n",
       "      <td>T</td>\n",
       "    </tr>\n",
       "    <tr>\n",
       "      <th>1</th>\n",
       "      <td>2</td>\n",
       "      <td>-0.994252</td>\n",
       "      <td>3.319626</td>\n",
       "      <td>58</td>\n",
       "      <td>-1.386294</td>\n",
       "      <td>0</td>\n",
       "      <td>-1.386294</td>\n",
       "      <td>6</td>\n",
       "      <td>0</td>\n",
       "      <td>-0.162519</td>\n",
       "      <td>T</td>\n",
       "    </tr>\n",
       "    <tr>\n",
       "      <th>2</th>\n",
       "      <td>3</td>\n",
       "      <td>-0.510826</td>\n",
       "      <td>2.691243</td>\n",
       "      <td>74</td>\n",
       "      <td>-1.386294</td>\n",
       "      <td>0</td>\n",
       "      <td>-1.386294</td>\n",
       "      <td>7</td>\n",
       "      <td>20</td>\n",
       "      <td>-0.162519</td>\n",
       "      <td>T</td>\n",
       "    </tr>\n",
       "    <tr>\n",
       "      <th>3</th>\n",
       "      <td>4</td>\n",
       "      <td>-1.203973</td>\n",
       "      <td>3.282789</td>\n",
       "      <td>58</td>\n",
       "      <td>-1.386294</td>\n",
       "      <td>0</td>\n",
       "      <td>-1.386294</td>\n",
       "      <td>6</td>\n",
       "      <td>0</td>\n",
       "      <td>-0.162519</td>\n",
       "      <td>T</td>\n",
       "    </tr>\n",
       "    <tr>\n",
       "      <th>4</th>\n",
       "      <td>5</td>\n",
       "      <td>0.751416</td>\n",
       "      <td>3.432373</td>\n",
       "      <td>62</td>\n",
       "      <td>-1.386294</td>\n",
       "      <td>0</td>\n",
       "      <td>-1.386294</td>\n",
       "      <td>6</td>\n",
       "      <td>0</td>\n",
       "      <td>0.371564</td>\n",
       "      <td>T</td>\n",
       "    </tr>\n",
       "    <tr>\n",
       "      <th>...</th>\n",
       "      <td>...</td>\n",
       "      <td>...</td>\n",
       "      <td>...</td>\n",
       "      <td>...</td>\n",
       "      <td>...</td>\n",
       "      <td>...</td>\n",
       "      <td>...</td>\n",
       "      <td>...</td>\n",
       "      <td>...</td>\n",
       "      <td>...</td>\n",
       "      <td>...</td>\n",
       "    </tr>\n",
       "    <tr>\n",
       "      <th>92</th>\n",
       "      <td>93</td>\n",
       "      <td>2.830268</td>\n",
       "      <td>3.876396</td>\n",
       "      <td>68</td>\n",
       "      <td>-1.386294</td>\n",
       "      <td>1</td>\n",
       "      <td>1.321756</td>\n",
       "      <td>7</td>\n",
       "      <td>60</td>\n",
       "      <td>4.385147</td>\n",
       "      <td>T</td>\n",
       "    </tr>\n",
       "    <tr>\n",
       "      <th>93</th>\n",
       "      <td>94</td>\n",
       "      <td>3.821004</td>\n",
       "      <td>3.896909</td>\n",
       "      <td>44</td>\n",
       "      <td>-1.386294</td>\n",
       "      <td>1</td>\n",
       "      <td>2.169054</td>\n",
       "      <td>7</td>\n",
       "      <td>40</td>\n",
       "      <td>4.684443</td>\n",
       "      <td>T</td>\n",
       "    </tr>\n",
       "    <tr>\n",
       "      <th>94</th>\n",
       "      <td>95</td>\n",
       "      <td>2.907447</td>\n",
       "      <td>3.396185</td>\n",
       "      <td>52</td>\n",
       "      <td>-1.386294</td>\n",
       "      <td>1</td>\n",
       "      <td>2.463853</td>\n",
       "      <td>7</td>\n",
       "      <td>10</td>\n",
       "      <td>5.143124</td>\n",
       "      <td>F</td>\n",
       "    </tr>\n",
       "    <tr>\n",
       "      <th>95</th>\n",
       "      <td>96</td>\n",
       "      <td>2.882564</td>\n",
       "      <td>3.773910</td>\n",
       "      <td>68</td>\n",
       "      <td>1.558145</td>\n",
       "      <td>1</td>\n",
       "      <td>1.558145</td>\n",
       "      <td>7</td>\n",
       "      <td>80</td>\n",
       "      <td>5.477509</td>\n",
       "      <td>T</td>\n",
       "    </tr>\n",
       "    <tr>\n",
       "      <th>96</th>\n",
       "      <td>97</td>\n",
       "      <td>3.471966</td>\n",
       "      <td>3.974998</td>\n",
       "      <td>68</td>\n",
       "      <td>0.438255</td>\n",
       "      <td>1</td>\n",
       "      <td>2.904165</td>\n",
       "      <td>7</td>\n",
       "      <td>20</td>\n",
       "      <td>5.582932</td>\n",
       "      <td>F</td>\n",
       "    </tr>\n",
       "  </tbody>\n",
       "</table>\n",
       "<p>97 rows × 11 columns</p>\n",
       "</div>"
      ],
      "text/plain": [
       "    Unnamed: 0    lcavol   lweight  age      lbph  svi       lcp  gleason  \\\n",
       "0            1 -0.579818  2.769459   50 -1.386294    0 -1.386294        6   \n",
       "1            2 -0.994252  3.319626   58 -1.386294    0 -1.386294        6   \n",
       "2            3 -0.510826  2.691243   74 -1.386294    0 -1.386294        7   \n",
       "3            4 -1.203973  3.282789   58 -1.386294    0 -1.386294        6   \n",
       "4            5  0.751416  3.432373   62 -1.386294    0 -1.386294        6   \n",
       "..         ...       ...       ...  ...       ...  ...       ...      ...   \n",
       "92          93  2.830268  3.876396   68 -1.386294    1  1.321756        7   \n",
       "93          94  3.821004  3.896909   44 -1.386294    1  2.169054        7   \n",
       "94          95  2.907447  3.396185   52 -1.386294    1  2.463853        7   \n",
       "95          96  2.882564  3.773910   68  1.558145    1  1.558145        7   \n",
       "96          97  3.471966  3.974998   68  0.438255    1  2.904165        7   \n",
       "\n",
       "    pgg45      lpsa train  \n",
       "0       0 -0.430783     T  \n",
       "1       0 -0.162519     T  \n",
       "2      20 -0.162519     T  \n",
       "3       0 -0.162519     T  \n",
       "4       0  0.371564     T  \n",
       "..    ...       ...   ...  \n",
       "92     60  4.385147     T  \n",
       "93     40  4.684443     T  \n",
       "94     10  5.143124     F  \n",
       "95     80  5.477509     T  \n",
       "96     20  5.582932     F  \n",
       "\n",
       "[97 rows x 11 columns]"
      ]
     },
     "execution_count": 3,
     "metadata": {},
     "output_type": "execute_result"
    }
   ],
   "source": [
    "prst_dat_raw = pd.read_table('https://hastie.su.domains/ElemStatLearn/datasets/prostate.data')\n",
    "prst_dat_raw"
   ]
  },
  {
   "cell_type": "code",
   "execution_count": 4,
   "id": "f819ede3",
   "metadata": {},
   "outputs": [],
   "source": [
    "# normalize data\n",
    "prst_dat_x = np.array(prst_dat_raw[prst_dat_raw.columns.difference(['Unnamed: 0','lpsa','train'])])\n",
    "prst_dat_x = (prst_dat_x-np.mean(prst_dat_x,axis=1)[:,None])/np.std(prst_dat_x,axis=1)[:,None]\n",
    "prst_dat_y = np.array(prst_dat_raw['lpsa'])\n",
    "prst_dat_y = (prst_dat_y-np.mean(prst_dat_y))/np.std(prst_dat_y)\n",
    "K = prst_dat_x.shape[1]"
   ]
  },
  {
   "cell_type": "code",
   "execution_count": 5,
   "id": "8625e05a",
   "metadata": {},
   "outputs": [],
   "source": [
    "# save data\n",
    "np.savetxt(\"dat/prst_dat_x.csv\", prst_dat_x, delimiter=\",\")\n",
    "np.savetxt(\"dat/prst_dat_y.csv\", prst_dat_y, delimiter=\",\")"
   ]
  },
  {
   "cell_type": "markdown",
   "id": "2e1aa740",
   "metadata": {},
   "source": [
    "### Gibbs sampling"
   ]
  },
  {
   "cell_type": "code",
   "execution_count": 6,
   "id": "88fa2c64",
   "metadata": {},
   "outputs": [],
   "source": [
    "####################\n",
    "####################\n",
    "#      setup       #\n",
    "####################\n",
    "####################\n",
    "gibbs_cput  =  np.inf*np.ones(2)\n",
    "\n",
    "steps = 5000\n",
    "burnin_pct = 0.8"
   ]
  },
  {
   "cell_type": "code",
   "execution_count": 7,
   "id": "7a94833b",
   "metadata": {},
   "outputs": [
    {
     "name": "stdout",
     "output_type": "stream",
     "text": [
      "Burn-in: 1/20000\r",
      "Burn-in: 2/20000\r",
      "Burn-in: 3/20000\r",
      "Burn-in: 4/20000\r",
      "Burn-in: 5/20000\r",
      "Burn-in: 6/20000\r",
      "Burn-in: 7/20000\r",
      "Burn-in: 8/20000\r",
      "Burn-in: 9/20000\r",
      "Burn-in: 10/20000\r",
      "Burn-in: 11/20000\r",
      "Burn-in: 12/20000\r",
      "Burn-in: 13/20000\r",
      "Burn-in: 14/20000\r",
      "Burn-in: 15/20000\r",
      "Burn-in: 16/20000\r",
      "Burn-in: 17/20000\r",
      "Burn-in: 18/20000\r",
      "Burn-in: 19/20000\r",
      "Burn-in: 20/20000\r",
      "Burn-in: 21/20000\r",
      "Burn-in: 22/20000\r",
      "Burn-in: 23/20000\r",
      "Burn-in: 24/20000\r",
      "Burn-in: 25/20000\r",
      "Burn-in: 26/20000\r",
      "Burn-in: 27/20000\r",
      "Burn-in: 28/20000\r",
      "Burn-in: 29/20000\r",
      "Burn-in: 30/20000\r",
      "Burn-in: 31/20000\r",
      "Burn-in: 32/20000\r",
      "Burn-in: 33/20000\r",
      "Burn-in: 34/20000\r",
      "Burn-in: 35/20000\r",
      "Burn-in: 36/20000\r",
      "Burn-in: 37/20000\r",
      "Burn-in: 38/20000\r",
      "Burn-in: 39/20000\r",
      "Burn-in: 40/20000\r",
      "Burn-in: 41/20000\r",
      "Burn-in: 42/20000\r",
      "Burn-in: 43/20000\r",
      "Burn-in: 44/20000\r",
      "Burn-in: 45/20000\r",
      "Burn-in: 46/20000\r",
      "Burn-in: 47/20000\r",
      "Burn-in: 48/20000\r",
      "Burn-in: 49/20000\r",
      "Burn-in: 50/20000\r",
      "Burn-in: 51/20000\r",
      "Burn-in: 52/20000\r",
      "Burn-in: 53/20000\r",
      "Burn-in: 54/20000\r",
      "Burn-in: 55/20000\r",
      "Burn-in: 56/20000\r",
      "Burn-in: 57/20000\r",
      "Burn-in: 58/20000\r",
      "Burn-in: 59/20000\r",
      "Burn-in: 60/20000\r",
      "Burn-in: 61/20000\r",
      "Burn-in: 62/20000\r",
      "Burn-in: 63/20000\r",
      "Burn-in: 64/20000\r",
      "Burn-in: 65/20000\r",
      "Burn-in: 66/20000\r",
      "Burn-in: 67/20000\r",
      "Burn-in: 68/20000\r",
      "Burn-in: 69/20000\r",
      "Burn-in: 70/20000\r",
      "Burn-in: 71/20000\r",
      "Burn-in: 72/20000\r",
      "Burn-in: 73/20000\r",
      "Burn-in: 74/20000\r",
      "Burn-in: 75/20000\r",
      "Burn-in: 76/20000\r",
      "Burn-in: 77/20000\r",
      "Burn-in: 78/20000\r",
      "Burn-in: 79/20000\r",
      "Burn-in: 80/20000\r",
      "Burn-in: 81/20000\r",
      "Burn-in: 82/20000\r",
      "Burn-in: 83/20000\r",
      "Burn-in: 84/20000\r",
      "Burn-in: 85/20000\r",
      "Burn-in: 86/20000\r",
      "Burn-in: 87/20000\r",
      "Burn-in: 88/20000\r",
      "Burn-in: 89/20000\r",
      "Burn-in: 90/20000\r",
      "Burn-in: 91/20000\r",
      "Burn-in: 92/20000\r",
      "Burn-in: 93/20000\r",
      "Burn-in: 94/20000\r",
      "Burn-in: 95/20000\r",
      "Burn-in: 96/20000\r",
      "Burn-in: 97/20000\r",
      "Burn-in: 98/20000\r",
      "Burn-in: 99/20000\r",
      "Burn-in: 100/20000\r",
      "Burn-in: 101/20000\r",
      "Burn-in: 102/20000\r",
      "Burn-in: 103/20000\r",
      "Burn-in: 104/20000\r",
      "Burn-in: 105/20000\r",
      "Burn-in: 106/20000\r",
      "Burn-in: 107/20000\r",
      "Burn-in: 108/20000\r",
      "Burn-in: 109/20000\r",
      "Burn-in: 110/20000\r",
      "Burn-in: 111/20000\r",
      "Burn-in: 112/20000\r",
      "Burn-in: 113/20000\r",
      "Burn-in: 114/20000\r",
      "Burn-in: 115/20000\r",
      "Burn-in: 116/20000\r",
      "Burn-in: 117/20000\r",
      "Burn-in: 118/20000\r",
      "Burn-in: 119/20000\r",
      "Burn-in: 120/20000\r",
      "Burn-in: 121/20000\r",
      "Burn-in: 122/20000\r",
      "Burn-in: 123/20000\r",
      "Burn-in: 124/20000\r",
      "Burn-in: 125/20000\r",
      "Burn-in: 126/20000\r",
      "Burn-in: 127/20000\r",
      "Burn-in: 128/20000\r",
      "Burn-in: 129/20000\r",
      "Burn-in: 130/20000\r",
      "Burn-in: 131/20000\r",
      "Burn-in: 132/20000\r",
      "Burn-in: 133/20000\r"
     ]
    },
    {
     "name": "stderr",
     "output_type": "stream",
     "text": [
      "/Users/giankdiluvi/Library/CloudStorage/Dropbox/Documents/ubc/repos/madmix/madmix/examples/SpikeAndSlab/../../src/gibbs.py:276: RuntimeWarning: covariance is not positive-semidefinite.\n",
      "  betas[t+1,:]=np.random.multivariate_normal(mean=ridge_hat@(x.T@y)/sigmas2[t+1],cov=ridge_hat,size=1)\n"
     ]
    },
    {
     "name": "stdout",
     "output_type": "stream",
     "text": [
      "Sampling: 5000/50000\r"
     ]
    }
   ],
   "source": [
    "####################\n",
    "####################\n",
    "#   run sampler    #\n",
    "####################\n",
    "####################\n",
    "seed=1\n",
    "\n",
    "t0=time.perf_counter()\n",
    "pis_prst,gbetas_prst,gthetas_prst,gsigmas2_prst,gtaus2_prst = gibbs.gibbs_sas(\n",
    "    y=prst_dat_y,x=prst_dat_x,steps=steps,burnin_pct=burnin_pct,seed=seed\n",
    ")\n",
    "gibbs_cput[0]=time.perf_counter()-t0"
   ]
  },
  {
   "cell_type": "code",
   "execution_count": 8,
   "id": "db50c5c7",
   "metadata": {},
   "outputs": [],
   "source": [
    "####################\n",
    "####################\n",
    "#    save data     #\n",
    "####################\n",
    "####################\n",
    "aux.pkl_save(pis_prst,'sockeye_run/prostatecancer/pred_pi')\n",
    "aux.pkl_save(gbetas_prst,'sockeye_run/prostatecancer/pred_beta')\n",
    "aux.pkl_save(gthetas_prst,'sockeye_run/prostatecancer/pred_theta')\n",
    "aux.pkl_save(gsigmas2_prst,'sockeye_run/prostatecancer/pred_sigma2')\n",
    "aux.pkl_save(gtaus2_prst,'sockeye_run/prostatecancer/pred_tau2')"
   ]
  },
  {
   "cell_type": "markdown",
   "id": "1d18cefa",
   "metadata": {},
   "source": [
    "### MAD Mix"
   ]
  },
  {
   "cell_type": "code",
   "execution_count": 9,
   "id": "515c27ea",
   "metadata": {},
   "outputs": [],
   "source": [
    "####################\n",
    "####################\n",
    "#      setup       #\n",
    "####################\n",
    "####################\n",
    "size = 100\n",
    "N = 500\n",
    "L = 15\n",
    "epsilon = 0.001\n",
    "xi = np.pi/16\n",
    "nu2 = 10\n",
    "\n",
    "# relevant functions\n",
    "lp = madmix_aux.sas_gen_lp(prst_dat_x,prst_dat_y)\n",
    "grad_lp = madmix_aux.sas_gen_grad_lp(prst_dat_x,prst_dat_y)\n",
    "lq0 = madmix_aux.sas_gen_lq0(prst_dat_x,prst_dat_y,nu2)\n",
    "randq0 = madmix_aux.sas_gen_randq0(prst_dat_x,prst_dat_y,nu2)"
   ]
  },
  {
   "cell_type": "code",
   "execution_count": 64,
   "id": "d57849cd",
   "metadata": {},
   "outputs": [
    {
     "name": "stdout",
     "output_type": "stream",
     "text": [
      "Importing cached results\n",
      "Importing cached log density\n",
      "Done!\n"
     ]
    }
   ],
   "source": [
    "RUN=False # to control whether to run or to import saved results\n",
    "madmix_elbos = -np.inf*np.ones(2)\n",
    "\n",
    "if RUN:\n",
    "    madmix_cput  =  np.inf*np.ones(2)\n",
    "    \n",
    "    print('Sampling')\n",
    "    t0=time.perf_counter()\n",
    "    xd_,ud_,xc_,rho_,uc_=madmix.randqN(size,N,randq0,L,epsilon,lp,grad_lp,xi)\n",
    "    madmix_cput[0]=time.perf_counter()-t0\n",
    "    \n",
    "    mad_prst_results=madmix_aux.sas_pack(xd_,ud_,xc_,rho_,uc_)\n",
    "    print('Done!')\n",
    "    print('Saving sampling results')\n",
    "    aux.pkl_save(mad_prst_results,'results/mad_prst_results')\n",
    "    \n",
    "    print('Evaluating log density')\n",
    "    mad_lq_prst = madmix.lqN(xd_.astype(int),ud_,xc_,rho_,uc_,N,lq0,L,epsilon,lp,grad_lp,xi)\n",
    "    print('Saving log density results')\n",
    "    aux.pkl_save(mad_lq_prst,'results/mad_prst_lq')\n",
    "    print('Done!')\n",
    "else:\n",
    "    print('Importing cached results')\n",
    "    mad_prst_results=aux.pkl_load('results/mad_prst_results')\n",
    "    \n",
    "    print('Importing cached log density')\n",
    "    mad_lq_prst=aux.pkl_load('results/mad_prst_lq')\n",
    "    xd_,ud_,xc_,rho_,uc_=madmix_aux.sas_unpack(mad_prst_results,K=prst_dat_x.shape[1])\n",
    "    print('Done!')\n",
    "# end if"
   ]
  },
  {
   "cell_type": "code",
   "execution_count": 65,
   "id": "b954c4dd",
   "metadata": {},
   "outputs": [],
   "source": [
    "# format results\n",
    "madmix_pi_prst = np.copy(xd_)\n",
    "thetau,tau2u,sigma2u,madmix_beta_prst = madmix_aux.sas_unflatten(xc_)\n",
    "madmix_theta_prst,madmix_tau2_prst,madmix_sigma2_prst = madmix_aux.sas_constrain(thetau,tau2u,sigma2u)"
   ]
  },
  {
   "cell_type": "code",
   "execution_count": 66,
   "id": "90e21317",
   "metadata": {},
   "outputs": [],
   "source": [
    "# calculate ELBO\n",
    "lp = sas_lposterior(madmix_pi_prst,madmix_theta_prst,madmix_tau2_prst,madmix_sigma2_prst,madmix_beta_prst,\n",
    "                    prst_dat_x,prst_dat_y)\n",
    "madmix_elbos[0] = np.nanmean(mad_lq_prst-lp)"
   ]
  },
  {
   "cell_type": "markdown",
   "id": "5fd6cbbb",
   "metadata": {},
   "source": [
    "### Mean-field"
   ]
  },
  {
   "cell_type": "code",
   "execution_count": 13,
   "id": "bd128144",
   "metadata": {},
   "outputs": [],
   "source": [
    "####################\n",
    "####################\n",
    "#   import data    #\n",
    "####################\n",
    "####################\n",
    "mf_prst_results = np.genfromtxt('results/mf_prst_results.csv', \n",
    "                                delimiter=\",\",\n",
    "                                skip_header=1)"
   ]
  },
  {
   "cell_type": "code",
   "execution_count": 14,
   "id": "0d13eaf1",
   "metadata": {},
   "outputs": [],
   "source": [
    "mf_elbos = -np.inf*np.ones(2)\n",
    "mf_elbos[0] = meanfield.meanfield_sas_elbo(B=10000,mu=mf_prst_results[:,0],sigma=mf_prst_results[:,1],pi=mf_prst_results[:,2],\n",
    "            nu=10.,x=prst_dat_x,y=prst_dat_y)"
   ]
  },
  {
   "cell_type": "markdown",
   "id": "24015d2b",
   "metadata": {},
   "source": [
    "### Dequantization"
   ]
  },
  {
   "cell_type": "code",
   "execution_count": 15,
   "id": "14445b8d",
   "metadata": {},
   "outputs": [
    {
     "name": "stdout",
     "output_type": "stream",
     "text": [
      "Total training time: 30.727250164868053 hours\n"
     ]
    }
   ],
   "source": [
    "########################\n",
    "########################\n",
    "#    dequantization    #\n",
    "########################\n",
    "########################\n",
    "dequant_flows_prst     = aux.pkl_load('sockeye/dequantization/prostatecancer/sas_flows_dequant')\n",
    "dequant_losses_prst    = aux.pkl_load('sockeye/dequantization/prostatecancer/sas_losses_dequant')\n",
    "dequant_cpu_times_prst = aux.pkl_load('sockeye/dequantization/prostatecancer/sas_cpu_times_dequant')\n",
    "dequant_densitycput  = np.zeros((2,len(dequant_flows_prst)))\n",
    "dequant_sim_size_prst  = len(dequant_flows_prst)\n",
    "dequant_max_iters_prst = dequant_losses_prst.shape[-1]\n",
    "print('Total training time: '+str(dequant_cpu_times_prst.sum()/3600)+' hours')"
   ]
  },
  {
   "cell_type": "code",
   "execution_count": 16,
   "id": "0d17e0d5",
   "metadata": {},
   "outputs": [
    {
     "data": {
      "text/plain": [
       "Text(0.5, 1.0, 'Dequantization RealNVP training loss traceplots')"
      ]
     },
     "execution_count": 16,
     "metadata": {},
     "output_type": "execute_result"
    },
    {
     "data": {
      "image/png": "[encoded data removed]",
      "text/plain": [
       "<Figure size 1500x750 with 1 Axes>"
      ]
     },
     "metadata": {},
     "output_type": "display_data"
    }
   ],
   "source": [
    "# loss traceplot\n",
    "threshold=np.inf\n",
    "for i in range(dequant_sim_size_prst): plt.plot(np.arange(dequant_max_iters_prst)[dequant_losses_prst[i,:]<threshold],dequant_losses_prst[i,dequant_losses_prst[i,:]<threshold],'-k',alpha=0.5)\n",
    "plt.xlabel('Iteration')\n",
    "plt.ylabel('Loss')\n",
    "plt.title('Dequantization RealNVP training loss traceplots')"
   ]
  },
  {
   "cell_type": "code",
   "execution_count": 17,
   "id": "3caeddf0",
   "metadata": {},
   "outputs": [
    {
     "name": "stdout",
     "output_type": "stream",
     "text": [
      "1/36\r",
      "2/36\r",
      "3/36\r",
      "4/36\r",
      "5/36\r",
      "6/36\r",
      "7/36\r",
      "8/36\r",
      "9/36\r",
      "10/36\r",
      "11/36\r"
     ]
    },
    {
     "name": "stderr",
     "output_type": "stream",
     "text": [
      "/var/folders/k3/24b0dzl557v5m0_0658q2cxr0000gn/T/ipykernel_39374/735616984.py:30: RuntimeWarning: invalid value encountered in add\n",
      "  lp += stats.gamma(a=a1,scale=1./a2).logpdf(sigma2)\n",
      "/var/folders/k3/24b0dzl557v5m0_0658q2cxr0000gn/T/ipykernel_39374/735616984.py:31: RuntimeWarning: divide by zero encountered in log1p\n",
      "  lp += np.sum(np.log(theta)*pi + np.log1p(-theta)*(1-pi),axis=0)\n",
      "/var/folders/k3/24b0dzl557v5m0_0658q2cxr0000gn/T/ipykernel_39374/735616984.py:31: RuntimeWarning: invalid value encountered in multiply\n",
      "  lp += np.sum(np.log(theta)*pi + np.log1p(-theta)*(1-pi),axis=0)\n",
      "/var/folders/k3/24b0dzl557v5m0_0658q2cxr0000gn/T/ipykernel_39374/735616984.py:32: RuntimeWarning: invalid value encountered in multiply\n",
      "  lp += -0.5*K*np.log(2*np.pi*sigma2*tau2)-0.5*np.sum(beta**2,axis=0)/sigma2*tau2\n",
      "/var/folders/k3/24b0dzl557v5m0_0658q2cxr0000gn/T/ipykernel_39374/735616984.py:32: RuntimeWarning: divide by zero encountered in log\n",
      "  lp += -0.5*K*np.log(2*np.pi*sigma2*tau2)-0.5*np.sum(beta**2,axis=0)/sigma2*tau2\n",
      "/var/folders/k3/24b0dzl557v5m0_0658q2cxr0000gn/T/ipykernel_39374/735616984.py:32: RuntimeWarning: divide by zero encountered in divide\n",
      "  lp += -0.5*K*np.log(2*np.pi*sigma2*tau2)-0.5*np.sum(beta**2,axis=0)/sigma2*tau2\n",
      "/var/folders/k3/24b0dzl557v5m0_0658q2cxr0000gn/T/ipykernel_39374/735616984.py:32: RuntimeWarning: overflow encountered in divide\n",
      "  lp += -0.5*K*np.log(2*np.pi*sigma2*tau2)-0.5*np.sum(beta**2,axis=0)/sigma2*tau2\n",
      "/var/folders/k3/24b0dzl557v5m0_0658q2cxr0000gn/T/ipykernel_39374/735616984.py:32: RuntimeWarning: overflow encountered in multiply\n",
      "  lp += -0.5*K*np.log(2*np.pi*sigma2*tau2)-0.5*np.sum(beta**2,axis=0)/sigma2*tau2\n",
      "/var/folders/k3/24b0dzl557v5m0_0658q2cxr0000gn/T/ipykernel_39374/735616984.py:32: RuntimeWarning: invalid value encountered in subtract\n",
      "  lp += -0.5*K*np.log(2*np.pi*sigma2*tau2)-0.5*np.sum(beta**2,axis=0)/sigma2*tau2\n",
      "/var/folders/k3/24b0dzl557v5m0_0658q2cxr0000gn/T/ipykernel_39374/735616984.py:33: RuntimeWarning: divide by zero encountered in log\n",
      "  lp += -0.5*np.log(2*np.pi*sigma2) # log likelihood part 1\n",
      "/var/folders/k3/24b0dzl557v5m0_0658q2cxr0000gn/T/ipykernel_39374/735616984.py:34: RuntimeWarning: divide by zero encountered in divide\n",
      "  lp += -0.5*np.sum(y[None,:]-np.squeeze(np.matmul(x[None,:,:],beta.T[:,:,None])),axis=1)/sigma2 # ll part 2\n",
      "/var/folders/k3/24b0dzl557v5m0_0658q2cxr0000gn/T/ipykernel_39374/4145633204.py:40: UserWarning: Warning: converting a masked element to nan.\n",
      "  dequant_elbos_prst[i]=-np.mean(np.ma.masked_invalid(dequant_densities_prst[i,:] - llp))\n",
      "/Users/giankdiluvi/Library/Python/3.9/lib/python/site-packages/scipy/stats/_distn_infrastructure.py:2126: RuntimeWarning: overflow encountered in divide\n",
      "  x = np.asarray((x - loc)/scale, dtype=dtyp)\n",
      "/var/folders/k3/24b0dzl557v5m0_0658q2cxr0000gn/T/ipykernel_39374/735616984.py:31: RuntimeWarning: divide by zero encountered in log\n",
      "  lp += np.sum(np.log(theta)*pi + np.log1p(-theta)*(1-pi),axis=0)\n",
      "/var/folders/k3/24b0dzl557v5m0_0658q2cxr0000gn/T/ipykernel_39374/735616984.py:32: RuntimeWarning: invalid value encountered in add\n",
      "  lp += -0.5*K*np.log(2*np.pi*sigma2*tau2)-0.5*np.sum(beta**2,axis=0)/sigma2*tau2\n",
      "/var/folders/k3/24b0dzl557v5m0_0658q2cxr0000gn/T/ipykernel_39374/735616984.py:33: RuntimeWarning: overflow encountered in multiply\n",
      "  lp += -0.5*np.log(2*np.pi*sigma2) # log likelihood part 1\n"
     ]
    },
    {
     "name": "stdout",
     "output_type": "stream",
     "text": [
      "12/36\r",
      "13/36\r",
      "14/36\r",
      "15/36\r",
      "16/36\r",
      "17/36\r"
     ]
    },
    {
     "name": "stderr",
     "output_type": "stream",
     "text": [
      "/var/folders/k3/24b0dzl557v5m0_0658q2cxr0000gn/T/ipykernel_39374/735616984.py:32: RuntimeWarning: overflow encountered in square\n",
      "  lp += -0.5*K*np.log(2*np.pi*sigma2*tau2)-0.5*np.sum(beta**2,axis=0)/sigma2*tau2\n",
      "/var/folders/k3/24b0dzl557v5m0_0658q2cxr0000gn/T/ipykernel_39374/735616984.py:32: RuntimeWarning: invalid value encountered in divide\n",
      "  lp += -0.5*K*np.log(2*np.pi*sigma2*tau2)-0.5*np.sum(beta**2,axis=0)/sigma2*tau2\n"
     ]
    },
    {
     "name": "stdout",
     "output_type": "stream",
     "text": [
      "36/36\r"
     ]
    },
    {
     "data": {
      "text/plain": [
       "<Figure size 1500x750 with 0 Axes>"
      ]
     },
     "metadata": {},
     "output_type": "display_data"
    }
   ],
   "source": [
    "#########################\n",
    "#########################\n",
    "# get samples and elbos #\n",
    "#########################\n",
    "#########################\n",
    "torch.manual_seed(1)\n",
    "sample_size=1000\n",
    "Kp=int(K+3+K)\n",
    "dequant_samples_prst=np.zeros((dequant_sim_size_prst,sample_size,Kp))\n",
    "dequant_densities_prst=np.zeros((dequant_sim_size_prst,sample_size))\n",
    "dequant_elbos_prst=-np.inf*np.ones(dequant_sim_size_prst)\n",
    "\n",
    "for i in range(dequant_sim_size_prst):\n",
    "    print(str(i+1)+'/'+str(dequant_sim_size_prst),end='\\r')\n",
    "    tmp_flow=dequant_flows_prst[i]\n",
    "    if isinstance(tmp_flow, int): continue\n",
    "    \n",
    "    try:\n",
    "        # generate sample\n",
    "        tmp_sample=tmp_flow.sample(sample_size)\n",
    "        dequant_samples_prst[i,:,:] = tmp_sample.detach().numpy()\n",
    "    \n",
    "        # unpack and quantize sample\n",
    "        xd,xc = dequantization.sas_unpack_torch(tmp_sample.T,K)\n",
    "        thetau,tau2u,sigma2u,beta = dequantization.sas_unflatten_torch(xc)\n",
    "        theta,tau2,sigma2 = dequantization.sas_constrain_torch(thetau,tau2u,sigma2u)\n",
    "        theta,tau2,sigma2=theta.detach().numpy(),tau2.detach().numpy(),sigma2.detach().numpy()\n",
    "        beta = beta.detach().numpy()\n",
    "        pi = np.floor(xd.detach().numpy()).astype(int)\n",
    "        pi[pi<0] = 0\n",
    "        pi[pi>1] = 1\n",
    "    \n",
    "        # compute density\n",
    "        t0=time.perf_counter()\n",
    "        dequant_densities_prst[i,:]=tmp_flow.log_prob(tmp_sample).detach().numpy()\n",
    "        dequant_densitycput[0,i]=time.perf_counter()-t0\n",
    "    \n",
    "        # estimate elbo\n",
    "        llp = sas_lposterior(pi,theta,tau2,sigma2,beta,prst_dat_x,prst_dat_y)\n",
    "        dequant_elbos_prst[i]=-np.mean(np.ma.masked_invalid(dequant_densities_prst[i,:] - llp))\n",
    "        \n",
    "    except Exception: continue\n",
    "# end for\n",
    "plt.clf()"
   ]
  },
  {
   "cell_type": "code",
   "execution_count": 18,
   "id": "2aca212e",
   "metadata": {},
   "outputs": [
    {
     "name": "stdout",
     "output_type": "stream",
     "text": [
      "Optimal flow: 10\n"
     ]
    }
   ],
   "source": [
    "i_star=np.nanargmax(dequant_elbos_prst)\n",
    "print('Optimal flow: '+str(i_star))"
   ]
  },
  {
   "cell_type": "code",
   "execution_count": 19,
   "id": "adbaac5c",
   "metadata": {},
   "outputs": [],
   "source": [
    "xd,xc = dequantization.sas_unpack_torch(dequant_flows_prst[i_star].sample(10000).T,K)\n",
    "thetau,tau2u,sigma2u,beta = dequantization.sas_unflatten_torch(xc)\n",
    "theta,tau2,sigma2 = dequantization.sas_constrain_torch(thetau,tau2u,sigma2u)\n",
    "pi = np.floor(xd.detach().numpy()).astype(int)\n",
    "pi[pi<0] = 0\n",
    "pi[pi>1] = 1"
   ]
  },
  {
   "cell_type": "markdown",
   "id": "ba355929",
   "metadata": {},
   "source": [
    "### Concrete"
   ]
  },
  {
   "cell_type": "code",
   "execution_count": 7,
   "id": "a14a6bdb",
   "metadata": {},
   "outputs": [
    {
     "name": "stdout",
     "output_type": "stream",
     "text": [
      "Total training time: 70.98156718736352 hours\n"
     ]
    }
   ],
   "source": [
    "########################\n",
    "########################\n",
    "#       concrete       #\n",
    "########################\n",
    "########################\n",
    "#concrete_flows_prst     = aux.pkl_load('sockeye/prostatecancer/sas_flows')\n",
    "concrete_losses_prst    = aux.pkl_load('sockeye/prostatecancer/sas_losses')\n",
    "concrete_cpu_times_prst = aux.pkl_load('sockeye/prostatecancer/sas_cpu_times')\n",
    "concrete_densitycput  = np.zeros((2,len(concrete_losses_prst)))\n",
    "concrete_sim_size_prst  = len(concrete_losses_prst)\n",
    "concrete_max_iters_prst = concrete_losses_prst.shape[-1]\n",
    "print('Total training time: '+str(concrete_cpu_times_prst.sum()/3600)+' hours')"
   ]
  },
  {
   "cell_type": "code",
   "execution_count": 14,
   "id": "dd419a56",
   "metadata": {},
   "outputs": [
    {
     "name": "stdout",
     "output_type": "stream",
     "text": [
      "128/128\r"
     ]
    }
   ],
   "source": [
    "####################\n",
    "####################\n",
    "#    load flows    #\n",
    "####################\n",
    "####################\n",
    "\n",
    "# manually loading flows due to data corruption (that's why you always cache!)\n",
    "path='sockeye/prostatecancer/cache/'\n",
    "files=os.listdir(path)\n",
    "flows_files=[file[:-4] for file in files if 'flows' in file] # only get name without extension\n",
    "\n",
    "concrete_flows_prst=[0 for i in range(concrete_sim_size_prst)]\n",
    "for i in range(len(flows_files)):  \n",
    "    print(str(i+1)+'/'+str(len(flows_files)),end='\\r')\n",
    "    concrete_flows_prst[i]=aux.pkl_load(path+flows_files[i])"
   ]
  },
  {
   "cell_type": "code",
   "execution_count": 15,
   "id": "d3f06086",
   "metadata": {},
   "outputs": [
    {
     "data": {
      "text/plain": [
       "Text(0.5, 1.0, 'Concrete RealNVP training loss traceplots')"
      ]
     },
     "execution_count": 15,
     "metadata": {},
     "output_type": "execute_result"
    },
    {
     "data": {
      "image/png": "[encoded data removed]",
      "text/plain": [
       "<Figure size 1500x750 with 1 Axes>"
      ]
     },
     "metadata": {},
     "output_type": "display_data"
    }
   ],
   "source": [
    "# loss traceplot\n",
    "threshold=10000\n",
    "for i in range(concrete_sim_size_prst): plt.plot(np.arange(concrete_max_iters_prst)[concrete_losses_prst[i,:]<threshold],concrete_losses_prst[i,concrete_losses_prst[i,:]<threshold],'-k',alpha=0.5)\n",
    "plt.xlabel('Iteration')\n",
    "plt.ylabel('Loss')\n",
    "plt.title('Concrete RealNVP training loss traceplots')"
   ]
  },
  {
   "cell_type": "code",
   "execution_count": 16,
   "id": "4292e1b8",
   "metadata": {},
   "outputs": [
    {
     "name": "stdout",
     "output_type": "stream",
     "text": [
      "1/144\r",
      "2/144\r",
      "3/144\r"
     ]
    },
    {
     "name": "stderr",
     "output_type": "stream",
     "text": [
      "/var/folders/k3/24b0dzl557v5m0_0658q2cxr0000gn/T/ipykernel_44407/735616984.py:32: RuntimeWarning: overflow encountered in multiply\n",
      "  lp += -0.5*K*np.log(2*np.pi*sigma2*tau2)-0.5*np.sum(beta**2,axis=0)/sigma2*tau2\n",
      "/var/folders/k3/24b0dzl557v5m0_0658q2cxr0000gn/T/ipykernel_44407/735616984.py:32: RuntimeWarning: overflow encountered in divide\n",
      "  lp += -0.5*K*np.log(2*np.pi*sigma2*tau2)-0.5*np.sum(beta**2,axis=0)/sigma2*tau2\n",
      "/var/folders/k3/24b0dzl557v5m0_0658q2cxr0000gn/T/ipykernel_44407/2503215977.py:30: RuntimeWarning: overflow encountered in exp\n",
      "  xd = np.exp(xd).reshape(K,2,sample_size)\n",
      "/var/folders/k3/24b0dzl557v5m0_0658q2cxr0000gn/T/ipykernel_44407/735616984.py:30: RuntimeWarning: invalid value encountered in add\n",
      "  lp += stats.gamma(a=a1,scale=1./a2).logpdf(sigma2)\n",
      "/var/folders/k3/24b0dzl557v5m0_0658q2cxr0000gn/T/ipykernel_44407/735616984.py:31: RuntimeWarning: divide by zero encountered in log\n",
      "  lp += np.sum(np.log(theta)*pi + np.log1p(-theta)*(1-pi),axis=0)\n",
      "/var/folders/k3/24b0dzl557v5m0_0658q2cxr0000gn/T/ipykernel_44407/735616984.py:31: RuntimeWarning: invalid value encountered in multiply\n",
      "  lp += np.sum(np.log(theta)*pi + np.log1p(-theta)*(1-pi),axis=0)\n",
      "/var/folders/k3/24b0dzl557v5m0_0658q2cxr0000gn/T/ipykernel_44407/735616984.py:31: RuntimeWarning: divide by zero encountered in log1p\n",
      "  lp += np.sum(np.log(theta)*pi + np.log1p(-theta)*(1-pi),axis=0)\n",
      "/var/folders/k3/24b0dzl557v5m0_0658q2cxr0000gn/T/ipykernel_44407/735616984.py:32: RuntimeWarning: invalid value encountered in multiply\n",
      "  lp += -0.5*K*np.log(2*np.pi*sigma2*tau2)-0.5*np.sum(beta**2,axis=0)/sigma2*tau2\n",
      "/var/folders/k3/24b0dzl557v5m0_0658q2cxr0000gn/T/ipykernel_44407/735616984.py:32: RuntimeWarning: divide by zero encountered in log\n",
      "  lp += -0.5*K*np.log(2*np.pi*sigma2*tau2)-0.5*np.sum(beta**2,axis=0)/sigma2*tau2\n",
      "/var/folders/k3/24b0dzl557v5m0_0658q2cxr0000gn/T/ipykernel_44407/735616984.py:32: RuntimeWarning: divide by zero encountered in divide\n",
      "  lp += -0.5*K*np.log(2*np.pi*sigma2*tau2)-0.5*np.sum(beta**2,axis=0)/sigma2*tau2\n",
      "/var/folders/k3/24b0dzl557v5m0_0658q2cxr0000gn/T/ipykernel_44407/735616984.py:32: RuntimeWarning: invalid value encountered in subtract\n",
      "  lp += -0.5*K*np.log(2*np.pi*sigma2*tau2)-0.5*np.sum(beta**2,axis=0)/sigma2*tau2\n",
      "/var/folders/k3/24b0dzl557v5m0_0658q2cxr0000gn/T/ipykernel_44407/735616984.py:33: RuntimeWarning: divide by zero encountered in log\n",
      "  lp += -0.5*np.log(2*np.pi*sigma2) # log likelihood part 1\n",
      "/var/folders/k3/24b0dzl557v5m0_0658q2cxr0000gn/T/ipykernel_44407/735616984.py:34: RuntimeWarning: divide by zero encountered in divide\n",
      "  lp += -0.5*np.sum(y[None,:]-np.squeeze(np.matmul(x[None,:,:],beta.T[:,:,None])),axis=1)/sigma2 # ll part 2\n",
      "/var/folders/k3/24b0dzl557v5m0_0658q2cxr0000gn/T/ipykernel_44407/2503215977.py:40: UserWarning: Warning: converting a masked element to nan.\n",
      "  concrete_elbos_prst[i]=-np.mean(np.ma.masked_invalid(concrete_densities_prst[i,:] - llp))\n"
     ]
    },
    {
     "name": "stdout",
     "output_type": "stream",
     "text": [
      "4/144\r",
      "5/144\r",
      "6/144\r",
      "7/144\r"
     ]
    },
    {
     "name": "stderr",
     "output_type": "stream",
     "text": [
      "/var/folders/k3/24b0dzl557v5m0_0658q2cxr0000gn/T/ipykernel_44407/735616984.py:32: RuntimeWarning: invalid value encountered in add\n",
      "  lp += -0.5*K*np.log(2*np.pi*sigma2*tau2)-0.5*np.sum(beta**2,axis=0)/sigma2*tau2\n"
     ]
    },
    {
     "name": "stdout",
     "output_type": "stream",
     "text": [
      "13/144\r"
     ]
    },
    {
     "name": "stderr",
     "output_type": "stream",
     "text": [
      "/Users/giankdiluvi/Library/Python/3.9/lib/python/site-packages/scipy/stats/_distn_infrastructure.py:2126: RuntimeWarning: overflow encountered in divide\n",
      "  x = np.asarray((x - loc)/scale, dtype=dtyp)\n"
     ]
    },
    {
     "name": "stdout",
     "output_type": "stream",
     "text": [
      "14/144\r",
      "15/144\r"
     ]
    },
    {
     "name": "stderr",
     "output_type": "stream",
     "text": [
      "/var/folders/k3/24b0dzl557v5m0_0658q2cxr0000gn/T/ipykernel_44407/735616984.py:33: RuntimeWarning: overflow encountered in multiply\n",
      "  lp += -0.5*np.log(2*np.pi*sigma2) # log likelihood part 1\n"
     ]
    },
    {
     "name": "stdout",
     "output_type": "stream",
     "text": [
      "35/144\r"
     ]
    },
    {
     "name": "stderr",
     "output_type": "stream",
     "text": [
      "/var/folders/k3/24b0dzl557v5m0_0658q2cxr0000gn/T/ipykernel_44407/735616984.py:32: RuntimeWarning: overflow encountered in square\n",
      "  lp += -0.5*K*np.log(2*np.pi*sigma2*tau2)-0.5*np.sum(beta**2,axis=0)/sigma2*tau2\n",
      "/Users/giankdiluvi/Library/Python/3.9/lib/python/site-packages/numpy/core/fromnumeric.py:86: RuntimeWarning: overflow encountered in reduce\n",
      "  return ufunc.reduce(obj, axis, dtype, out, **passkwargs)\n",
      "/var/folders/k3/24b0dzl557v5m0_0658q2cxr0000gn/T/ipykernel_44407/735616984.py:32: RuntimeWarning: invalid value encountered in divide\n",
      "  lp += -0.5*K*np.log(2*np.pi*sigma2*tau2)-0.5*np.sum(beta**2,axis=0)/sigma2*tau2\n"
     ]
    },
    {
     "name": "stdout",
     "output_type": "stream",
     "text": [
      "94/144\r"
     ]
    },
    {
     "name": "stderr",
     "output_type": "stream",
     "text": [
      "/var/folders/k3/24b0dzl557v5m0_0658q2cxr0000gn/T/ipykernel_44407/735616984.py:31: RuntimeWarning: invalid value encountered in add\n",
      "  lp += np.sum(np.log(theta)*pi + np.log1p(-theta)*(1-pi),axis=0)\n"
     ]
    },
    {
     "name": "stdout",
     "output_type": "stream",
     "text": [
      "144/144\r"
     ]
    },
    {
     "data": {
      "text/plain": [
       "<Figure size 1500x750 with 0 Axes>"
      ]
     },
     "metadata": {},
     "output_type": "display_data"
    }
   ],
   "source": [
    "#########################\n",
    "#########################\n",
    "# get samples and elbos #\n",
    "#########################\n",
    "#########################\n",
    "torch.manual_seed(1)\n",
    "sample_size=1000\n",
    "Kp=int(2*K+3+K)\n",
    "concrete_samples_prst=np.zeros((concrete_sim_size_prst,sample_size,Kp))\n",
    "concrete_densities_prst=np.zeros((concrete_sim_size_prst,sample_size))\n",
    "concrete_elbos_prst=-np.inf*np.ones(concrete_sim_size_prst)\n",
    "\n",
    "for i in range(concrete_sim_size_prst):\n",
    "    print(str(i+1)+'/'+str(concrete_sim_size_prst),end='\\r')\n",
    "    tmp_flow=concrete_flows_prst[i]\n",
    "    if isinstance(tmp_flow, int): continue\n",
    "    \n",
    "    try:\n",
    "        # generate sample\n",
    "        tmp_sample=tmp_flow.sample(sample_size)\n",
    "        concrete_samples_prst[i,:,:] = tmp_sample.detach().numpy()\n",
    "    \n",
    "        # unpack and quantize sample\n",
    "        xd,xc = sas_unpack_torch_concrete(tmp_sample.T,K)\n",
    "        thetau,tau2u,sigma2u,beta = sas_unflatten_torch_concrete(xc)\n",
    "        theta,tau2,sigma2 = sas_constrain_torch_concrete(thetau,tau2u,sigma2u)\n",
    "        theta,tau2,sigma2=theta.detach().numpy(),tau2.detach().numpy(),sigma2.detach().numpy()\n",
    "        beta = beta.detach().numpy()\n",
    "        xd = xd.detach().numpy()\n",
    "        xd = np.exp(xd).reshape(K,2,sample_size)\n",
    "        pi = np.argmax(xd,axis=1)\n",
    "    \n",
    "        # compute density\n",
    "        t0=time.perf_counter()\n",
    "        concrete_densities_prst[i,:]=tmp_flow.log_prob(tmp_sample).detach().numpy()\n",
    "        concrete_densitycput[0,i]=time.perf_counter()-t0\n",
    "    \n",
    "        # estimate elbo\n",
    "        llp = sas_lposterior(pi,theta,tau2,sigma2,beta,prst_dat_x,prst_dat_y)\n",
    "        concrete_elbos_prst[i]=-np.mean(np.ma.masked_invalid(concrete_densities_prst[i,:] - llp))\n",
    "        \n",
    "    except Exception: continue\n",
    "# end for\n",
    "plt.clf()"
   ]
  },
  {
   "cell_type": "markdown",
   "id": "d1b98386",
   "metadata": {},
   "source": [
    "## Superconductivity data"
   ]
  },
  {
   "cell_type": "code",
   "execution_count": 44,
   "id": "f3915a43",
   "metadata": {},
   "outputs": [
    {
     "data": {
      "text/html": [
       "<div>\n",
       "<style scoped>\n",
       "    .dataframe tbody tr th:only-of-type {\n",
       "        vertical-align: middle;\n",
       "    }\n",
       "\n",
       "    .dataframe tbody tr th {\n",
       "        vertical-align: top;\n",
       "    }\n",
       "\n",
       "    .dataframe thead th {\n",
       "        text-align: right;\n",
       "    }\n",
       "</style>\n",
       "<table border=\"1\" class=\"dataframe\">\n",
       "  <thead>\n",
       "    <tr style=\"text-align: right;\">\n",
       "      <th></th>\n",
       "      <th>number_of_elements</th>\n",
       "      <th>mean_atomic_mass</th>\n",
       "      <th>wtd_mean_atomic_mass</th>\n",
       "      <th>gmean_atomic_mass</th>\n",
       "      <th>wtd_gmean_atomic_mass</th>\n",
       "      <th>entropy_atomic_mass</th>\n",
       "      <th>wtd_entropy_atomic_mass</th>\n",
       "      <th>range_atomic_mass</th>\n",
       "      <th>wtd_range_atomic_mass</th>\n",
       "      <th>std_atomic_mass</th>\n",
       "      <th>...</th>\n",
       "      <th>wtd_mean_Valence</th>\n",
       "      <th>gmean_Valence</th>\n",
       "      <th>wtd_gmean_Valence</th>\n",
       "      <th>entropy_Valence</th>\n",
       "      <th>wtd_entropy_Valence</th>\n",
       "      <th>range_Valence</th>\n",
       "      <th>wtd_range_Valence</th>\n",
       "      <th>std_Valence</th>\n",
       "      <th>wtd_std_Valence</th>\n",
       "      <th>critical_temp</th>\n",
       "    </tr>\n",
       "  </thead>\n",
       "  <tbody>\n",
       "    <tr>\n",
       "      <th>0</th>\n",
       "      <td>4</td>\n",
       "      <td>88.944468</td>\n",
       "      <td>57.862692</td>\n",
       "      <td>66.361592</td>\n",
       "      <td>36.116612</td>\n",
       "      <td>1.181795</td>\n",
       "      <td>1.062396</td>\n",
       "      <td>122.90607</td>\n",
       "      <td>31.794921</td>\n",
       "      <td>51.968828</td>\n",
       "      <td>...</td>\n",
       "      <td>2.257143</td>\n",
       "      <td>2.213364</td>\n",
       "      <td>2.219783</td>\n",
       "      <td>1.368922</td>\n",
       "      <td>1.066221</td>\n",
       "      <td>1</td>\n",
       "      <td>1.085714</td>\n",
       "      <td>0.433013</td>\n",
       "      <td>0.437059</td>\n",
       "      <td>29.00</td>\n",
       "    </tr>\n",
       "    <tr>\n",
       "      <th>1</th>\n",
       "      <td>5</td>\n",
       "      <td>92.729214</td>\n",
       "      <td>58.518416</td>\n",
       "      <td>73.132787</td>\n",
       "      <td>36.396602</td>\n",
       "      <td>1.449309</td>\n",
       "      <td>1.057755</td>\n",
       "      <td>122.90607</td>\n",
       "      <td>36.161939</td>\n",
       "      <td>47.094633</td>\n",
       "      <td>...</td>\n",
       "      <td>2.257143</td>\n",
       "      <td>1.888175</td>\n",
       "      <td>2.210679</td>\n",
       "      <td>1.557113</td>\n",
       "      <td>1.047221</td>\n",
       "      <td>2</td>\n",
       "      <td>1.128571</td>\n",
       "      <td>0.632456</td>\n",
       "      <td>0.468606</td>\n",
       "      <td>26.00</td>\n",
       "    </tr>\n",
       "    <tr>\n",
       "      <th>2</th>\n",
       "      <td>4</td>\n",
       "      <td>88.944468</td>\n",
       "      <td>57.885242</td>\n",
       "      <td>66.361592</td>\n",
       "      <td>36.122509</td>\n",
       "      <td>1.181795</td>\n",
       "      <td>0.975980</td>\n",
       "      <td>122.90607</td>\n",
       "      <td>35.741099</td>\n",
       "      <td>51.968828</td>\n",
       "      <td>...</td>\n",
       "      <td>2.271429</td>\n",
       "      <td>2.213364</td>\n",
       "      <td>2.232679</td>\n",
       "      <td>1.368922</td>\n",
       "      <td>1.029175</td>\n",
       "      <td>1</td>\n",
       "      <td>1.114286</td>\n",
       "      <td>0.433013</td>\n",
       "      <td>0.444697</td>\n",
       "      <td>19.00</td>\n",
       "    </tr>\n",
       "    <tr>\n",
       "      <th>3</th>\n",
       "      <td>4</td>\n",
       "      <td>88.944468</td>\n",
       "      <td>57.873967</td>\n",
       "      <td>66.361592</td>\n",
       "      <td>36.119560</td>\n",
       "      <td>1.181795</td>\n",
       "      <td>1.022291</td>\n",
       "      <td>122.90607</td>\n",
       "      <td>33.768010</td>\n",
       "      <td>51.968828</td>\n",
       "      <td>...</td>\n",
       "      <td>2.264286</td>\n",
       "      <td>2.213364</td>\n",
       "      <td>2.226222</td>\n",
       "      <td>1.368922</td>\n",
       "      <td>1.048834</td>\n",
       "      <td>1</td>\n",
       "      <td>1.100000</td>\n",
       "      <td>0.433013</td>\n",
       "      <td>0.440952</td>\n",
       "      <td>22.00</td>\n",
       "    </tr>\n",
       "    <tr>\n",
       "      <th>4</th>\n",
       "      <td>4</td>\n",
       "      <td>88.944468</td>\n",
       "      <td>57.840143</td>\n",
       "      <td>66.361592</td>\n",
       "      <td>36.110716</td>\n",
       "      <td>1.181795</td>\n",
       "      <td>1.129224</td>\n",
       "      <td>122.90607</td>\n",
       "      <td>27.848743</td>\n",
       "      <td>51.968828</td>\n",
       "      <td>...</td>\n",
       "      <td>2.242857</td>\n",
       "      <td>2.213364</td>\n",
       "      <td>2.206963</td>\n",
       "      <td>1.368922</td>\n",
       "      <td>1.096052</td>\n",
       "      <td>1</td>\n",
       "      <td>1.057143</td>\n",
       "      <td>0.433013</td>\n",
       "      <td>0.428809</td>\n",
       "      <td>23.00</td>\n",
       "    </tr>\n",
       "    <tr>\n",
       "      <th>...</th>\n",
       "      <td>...</td>\n",
       "      <td>...</td>\n",
       "      <td>...</td>\n",
       "      <td>...</td>\n",
       "      <td>...</td>\n",
       "      <td>...</td>\n",
       "      <td>...</td>\n",
       "      <td>...</td>\n",
       "      <td>...</td>\n",
       "      <td>...</td>\n",
       "      <td>...</td>\n",
       "      <td>...</td>\n",
       "      <td>...</td>\n",
       "      <td>...</td>\n",
       "      <td>...</td>\n",
       "      <td>...</td>\n",
       "      <td>...</td>\n",
       "      <td>...</td>\n",
       "      <td>...</td>\n",
       "      <td>...</td>\n",
       "      <td>...</td>\n",
       "    </tr>\n",
       "    <tr>\n",
       "      <th>21258</th>\n",
       "      <td>4</td>\n",
       "      <td>106.957877</td>\n",
       "      <td>53.095769</td>\n",
       "      <td>82.515384</td>\n",
       "      <td>43.135565</td>\n",
       "      <td>1.177145</td>\n",
       "      <td>1.254119</td>\n",
       "      <td>146.88130</td>\n",
       "      <td>15.504479</td>\n",
       "      <td>65.764081</td>\n",
       "      <td>...</td>\n",
       "      <td>3.555556</td>\n",
       "      <td>3.223710</td>\n",
       "      <td>3.519911</td>\n",
       "      <td>1.377820</td>\n",
       "      <td>0.913658</td>\n",
       "      <td>1</td>\n",
       "      <td>2.168889</td>\n",
       "      <td>0.433013</td>\n",
       "      <td>0.496904</td>\n",
       "      <td>2.44</td>\n",
       "    </tr>\n",
       "    <tr>\n",
       "      <th>21259</th>\n",
       "      <td>5</td>\n",
       "      <td>92.266740</td>\n",
       "      <td>49.021367</td>\n",
       "      <td>64.812662</td>\n",
       "      <td>32.867748</td>\n",
       "      <td>1.323287</td>\n",
       "      <td>1.571630</td>\n",
       "      <td>188.38390</td>\n",
       "      <td>7.353333</td>\n",
       "      <td>69.232655</td>\n",
       "      <td>...</td>\n",
       "      <td>2.047619</td>\n",
       "      <td>2.168944</td>\n",
       "      <td>2.038991</td>\n",
       "      <td>1.594167</td>\n",
       "      <td>1.337246</td>\n",
       "      <td>1</td>\n",
       "      <td>0.904762</td>\n",
       "      <td>0.400000</td>\n",
       "      <td>0.212959</td>\n",
       "      <td>122.10</td>\n",
       "    </tr>\n",
       "    <tr>\n",
       "      <th>21260</th>\n",
       "      <td>2</td>\n",
       "      <td>99.663190</td>\n",
       "      <td>95.609104</td>\n",
       "      <td>99.433882</td>\n",
       "      <td>95.464320</td>\n",
       "      <td>0.690847</td>\n",
       "      <td>0.530198</td>\n",
       "      <td>13.51362</td>\n",
       "      <td>53.041104</td>\n",
       "      <td>6.756810</td>\n",
       "      <td>...</td>\n",
       "      <td>4.800000</td>\n",
       "      <td>4.472136</td>\n",
       "      <td>4.781762</td>\n",
       "      <td>0.686962</td>\n",
       "      <td>0.450561</td>\n",
       "      <td>1</td>\n",
       "      <td>3.200000</td>\n",
       "      <td>0.500000</td>\n",
       "      <td>0.400000</td>\n",
       "      <td>1.98</td>\n",
       "    </tr>\n",
       "    <tr>\n",
       "      <th>21261</th>\n",
       "      <td>2</td>\n",
       "      <td>99.663190</td>\n",
       "      <td>97.095602</td>\n",
       "      <td>99.433882</td>\n",
       "      <td>96.901083</td>\n",
       "      <td>0.690847</td>\n",
       "      <td>0.640883</td>\n",
       "      <td>13.51362</td>\n",
       "      <td>31.115202</td>\n",
       "      <td>6.756810</td>\n",
       "      <td>...</td>\n",
       "      <td>4.690000</td>\n",
       "      <td>4.472136</td>\n",
       "      <td>4.665819</td>\n",
       "      <td>0.686962</td>\n",
       "      <td>0.577601</td>\n",
       "      <td>1</td>\n",
       "      <td>2.210000</td>\n",
       "      <td>0.500000</td>\n",
       "      <td>0.462493</td>\n",
       "      <td>1.84</td>\n",
       "    </tr>\n",
       "    <tr>\n",
       "      <th>21262</th>\n",
       "      <td>3</td>\n",
       "      <td>87.468333</td>\n",
       "      <td>86.858500</td>\n",
       "      <td>82.555758</td>\n",
       "      <td>80.458722</td>\n",
       "      <td>1.041270</td>\n",
       "      <td>0.895229</td>\n",
       "      <td>71.75500</td>\n",
       "      <td>43.144000</td>\n",
       "      <td>29.905282</td>\n",
       "      <td>...</td>\n",
       "      <td>4.500000</td>\n",
       "      <td>4.762203</td>\n",
       "      <td>4.242641</td>\n",
       "      <td>1.054920</td>\n",
       "      <td>0.970116</td>\n",
       "      <td>3</td>\n",
       "      <td>1.800000</td>\n",
       "      <td>1.414214</td>\n",
       "      <td>1.500000</td>\n",
       "      <td>12.80</td>\n",
       "    </tr>\n",
       "  </tbody>\n",
       "</table>\n",
       "<p>21263 rows × 82 columns</p>\n",
       "</div>"
      ],
      "text/plain": [
       "       number_of_elements  mean_atomic_mass  wtd_mean_atomic_mass  \\\n",
       "0                       4         88.944468             57.862692   \n",
       "1                       5         92.729214             58.518416   \n",
       "2                       4         88.944468             57.885242   \n",
       "3                       4         88.944468             57.873967   \n",
       "4                       4         88.944468             57.840143   \n",
       "...                   ...               ...                   ...   \n",
       "21258                   4        106.957877             53.095769   \n",
       "21259                   5         92.266740             49.021367   \n",
       "21260                   2         99.663190             95.609104   \n",
       "21261                   2         99.663190             97.095602   \n",
       "21262                   3         87.468333             86.858500   \n",
       "\n",
       "       gmean_atomic_mass  wtd_gmean_atomic_mass  entropy_atomic_mass  \\\n",
       "0              66.361592              36.116612             1.181795   \n",
       "1              73.132787              36.396602             1.449309   \n",
       "2              66.361592              36.122509             1.181795   \n",
       "3              66.361592              36.119560             1.181795   \n",
       "4              66.361592              36.110716             1.181795   \n",
       "...                  ...                    ...                  ...   \n",
       "21258          82.515384              43.135565             1.177145   \n",
       "21259          64.812662              32.867748             1.323287   \n",
       "21260          99.433882              95.464320             0.690847   \n",
       "21261          99.433882              96.901083             0.690847   \n",
       "21262          82.555758              80.458722             1.041270   \n",
       "\n",
       "       wtd_entropy_atomic_mass  range_atomic_mass  wtd_range_atomic_mass  \\\n",
       "0                     1.062396          122.90607              31.794921   \n",
       "1                     1.057755          122.90607              36.161939   \n",
       "2                     0.975980          122.90607              35.741099   \n",
       "3                     1.022291          122.90607              33.768010   \n",
       "4                     1.129224          122.90607              27.848743   \n",
       "...                        ...                ...                    ...   \n",
       "21258                 1.254119          146.88130              15.504479   \n",
       "21259                 1.571630          188.38390               7.353333   \n",
       "21260                 0.530198           13.51362              53.041104   \n",
       "21261                 0.640883           13.51362              31.115202   \n",
       "21262                 0.895229           71.75500              43.144000   \n",
       "\n",
       "       std_atomic_mass  ...  wtd_mean_Valence  gmean_Valence  \\\n",
       "0            51.968828  ...          2.257143       2.213364   \n",
       "1            47.094633  ...          2.257143       1.888175   \n",
       "2            51.968828  ...          2.271429       2.213364   \n",
       "3            51.968828  ...          2.264286       2.213364   \n",
       "4            51.968828  ...          2.242857       2.213364   \n",
       "...                ...  ...               ...            ...   \n",
       "21258        65.764081  ...          3.555556       3.223710   \n",
       "21259        69.232655  ...          2.047619       2.168944   \n",
       "21260         6.756810  ...          4.800000       4.472136   \n",
       "21261         6.756810  ...          4.690000       4.472136   \n",
       "21262        29.905282  ...          4.500000       4.762203   \n",
       "\n",
       "       wtd_gmean_Valence  entropy_Valence  wtd_entropy_Valence  range_Valence  \\\n",
       "0               2.219783         1.368922             1.066221              1   \n",
       "1               2.210679         1.557113             1.047221              2   \n",
       "2               2.232679         1.368922             1.029175              1   \n",
       "3               2.226222         1.368922             1.048834              1   \n",
       "4               2.206963         1.368922             1.096052              1   \n",
       "...                  ...              ...                  ...            ...   \n",
       "21258           3.519911         1.377820             0.913658              1   \n",
       "21259           2.038991         1.594167             1.337246              1   \n",
       "21260           4.781762         0.686962             0.450561              1   \n",
       "21261           4.665819         0.686962             0.577601              1   \n",
       "21262           4.242641         1.054920             0.970116              3   \n",
       "\n",
       "       wtd_range_Valence  std_Valence  wtd_std_Valence  critical_temp  \n",
       "0               1.085714     0.433013         0.437059          29.00  \n",
       "1               1.128571     0.632456         0.468606          26.00  \n",
       "2               1.114286     0.433013         0.444697          19.00  \n",
       "3               1.100000     0.433013         0.440952          22.00  \n",
       "4               1.057143     0.433013         0.428809          23.00  \n",
       "...                  ...          ...              ...            ...  \n",
       "21258           2.168889     0.433013         0.496904           2.44  \n",
       "21259           0.904762     0.400000         0.212959         122.10  \n",
       "21260           3.200000     0.500000         0.400000           1.98  \n",
       "21261           2.210000     0.500000         0.462493           1.84  \n",
       "21262           1.800000     1.414214         1.500000          12.80  \n",
       "\n",
       "[21263 rows x 82 columns]"
      ]
     },
     "execution_count": 44,
     "metadata": {},
     "output_type": "execute_result"
    }
   ],
   "source": [
    "spr_dat_raw = pd.read_csv('dat/train.csv')\n",
    "spr_dat_raw"
   ]
  },
  {
   "cell_type": "code",
   "execution_count": 45,
   "id": "1e41b161",
   "metadata": {},
   "outputs": [],
   "source": [
    "# subsample and rm missing values (code from MixFlows by Xu et al.)\n",
    "spr_dat_raw = spr_dat_raw.loc[np.random.choice(spr_dat_raw.index, 100, replace=False)]\n",
    "spr_dat_raw = spr_dat_raw.replace('?', np.nan)\n",
    "spr_dat_raw = spr_dat_raw.dropna()"
   ]
  },
  {
   "cell_type": "code",
   "execution_count": 46,
   "id": "01cc179b",
   "metadata": {},
   "outputs": [],
   "source": [
    "# normalize data\n",
    "spr_dat_x = np.array(spr_dat_raw[spr_dat_raw.columns.difference(['critical_temp'])])\n",
    "spr_dat_x = (spr_dat_x-np.mean(spr_dat_x,axis=1)[:,None])/np.std(spr_dat_x,axis=1)[:,None]\n",
    "spr_dat_y = np.array(spr_dat_raw['critical_temp'])\n",
    "spr_dat_y = (spr_dat_y-np.mean(spr_dat_y))/np.std(spr_dat_y)\n",
    "K = spr_dat_x.shape[1]"
   ]
  },
  {
   "cell_type": "code",
   "execution_count": 47,
   "id": "0da0a62f",
   "metadata": {},
   "outputs": [],
   "source": [
    "# save data\n",
    "np.savetxt(\"dat/spr_dat_x.csv\", spr_dat_x, delimiter=\",\")\n",
    "np.savetxt(\"dat/spr_dat_y.csv\", spr_dat_y, delimiter=\",\")"
   ]
  },
  {
   "cell_type": "markdown",
   "id": "2183bfb9",
   "metadata": {},
   "source": [
    "### Gibbs sampling"
   ]
  },
  {
   "cell_type": "code",
   "execution_count": null,
   "id": "4a89b202",
   "metadata": {},
   "outputs": [],
   "source": [
    "####################\n",
    "####################\n",
    "#      setup       #\n",
    "####################\n",
    "####################\n",
    "steps = 5000\n",
    "burnin_pct = 0.8"
   ]
  },
  {
   "cell_type": "code",
   "execution_count": null,
   "id": "185bbf44",
   "metadata": {},
   "outputs": [],
   "source": [
    "####################\n",
    "####################\n",
    "#   run sampler    #\n",
    "####################\n",
    "####################\n",
    "seed=1\n",
    "\n",
    "t0=time.perf_counter()\n",
    "gpis_spr,gbetas_spr,gthetas_spr,gsigmas2_spr,gtaus2_spr = gibbs.gibbs_sas(\n",
    "    y=spr_dat_y,x=spr_dat_x,steps=steps,burnin_pct=burnin_pct,seed=seed\n",
    ")\n",
    "gibbs_cput[1]=time.perf_counter()-t0"
   ]
  },
  {
   "cell_type": "code",
   "execution_count": null,
   "id": "55d16b31",
   "metadata": {},
   "outputs": [],
   "source": [
    "####################\n",
    "####################\n",
    "#    save data     #\n",
    "####################\n",
    "####################\n",
    "aux.pkl_save(gpis_spr,'sockeye_run/superconductivity/pred_pi')\n",
    "aux.pkl_save(gbetas_spr,'sockeye_run/superconductivity/pred_beta')\n",
    "aux.pkl_save(gthetas_spr,'sockeye_run/superconductivity/pred_theta')\n",
    "aux.pkl_save(gsigmas2_spr,'sockeye_run/superconductivity/pred_sigma2')\n",
    "aux.pkl_save(gtaus2_spr,'sockeye_run/superconductivity/pred_tau2')"
   ]
  },
  {
   "cell_type": "markdown",
   "id": "1e07586b",
   "metadata": {},
   "source": [
    "### MAD Mix"
   ]
  },
  {
   "cell_type": "code",
   "execution_count": 89,
   "id": "3e42d410",
   "metadata": {},
   "outputs": [],
   "source": [
    "####################\n",
    "####################\n",
    "#      setup       #\n",
    "####################\n",
    "####################\n",
    "size = 100\n",
    "N = 500\n",
    "L = 15\n",
    "epsilon = 0.001\n",
    "xi = np.pi/16\n",
    "nu2 = 10\n",
    "\n",
    "# relevant functions\n",
    "lp = madmix_aux.sas_gen_lp(spr_dat_x,spr_dat_y)\n",
    "grad_lp = madmix_aux.sas_gen_grad_lp(spr_dat_x,spr_dat_y)\n",
    "lq0 = madmix_aux.sas_gen_lq0(spr_dat_x,spr_dat_y,nu2)\n",
    "randq0 = madmix_aux.sas_gen_randq0(spr_dat_x,spr_dat_y,nu2)"
   ]
  },
  {
   "cell_type": "code",
   "execution_count": 68,
   "id": "e5f4446a",
   "metadata": {},
   "outputs": [
    {
     "name": "stdout",
     "output_type": "stream",
     "text": [
      "Importing cached results\n",
      "Importing cached log density\n",
      "Done!\n"
     ]
    }
   ],
   "source": [
    "RUN=False # to control whether to run or to import saved results\n",
    "\n",
    "if RUN:\n",
    "    print('Sampling')\n",
    "    t0=time.perf_counter()\n",
    "    xd_,ud_,xc_,rho_,uc_=madmix.randqN(size,N,randq0,L,epsilon,lp,grad_lp,xi)\n",
    "    madmix_cput[1]=time.perf_counter()-t0\n",
    "    \n",
    "    mad_spr_results=madmix_aux.sas_pack(xd_,ud_,xc_,rho_,uc_)\n",
    "    print('Done!')\n",
    "    print('Saving sampling results')\n",
    "    aux.pkl_save(mad_spr_results,'results/mad_spr_results')\n",
    "    \n",
    "    print('Evaluating log density')\n",
    "    mad_lq_spr = madmix.lqN(xd_.astype(int),ud_,xc_,rho_,uc_,N,lq0,L,epsilon,lp,grad_lp,xi)\n",
    "    print('Saving log density results')\n",
    "    aux.pkl_save(mad_lq_spr,'results/mad_spr_lq')\n",
    "    print('Done!')\n",
    "else:\n",
    "    print('Importing cached results')\n",
    "    mad_spr_results=aux.pkl_load('results/mad_spr_results')\n",
    "    \n",
    "    print('Importing cached log density')\n",
    "    mad_lq_spr=aux.pkl_load('results/mad_spr_lq')\n",
    "    xd_,ud_,xc_,rho_,uc_=madmix_aux.sas_unpack(mad_spr_results,K=spr_dat_x.shape[1])\n",
    "    print('Done!')\n",
    "# end if"
   ]
  },
  {
   "cell_type": "code",
   "execution_count": 69,
   "id": "0942eb7c",
   "metadata": {},
   "outputs": [],
   "source": [
    "# format results\n",
    "madmix_pi_spr = np.copy(xd_)\n",
    "thetau,tau2u,sigma2u,madmix_beta_spr = madmix_aux.sas_unflatten(xc_)\n",
    "madmix_theta_spr,madmix_tau2_spr,madmix_sigma2_spr = madmix_aux.sas_constrain(thetau,tau2u,sigma2u)"
   ]
  },
  {
   "cell_type": "code",
   "execution_count": 98,
   "id": "53a37214",
   "metadata": {},
   "outputs": [
    {
     "data": {
      "text/plain": [
       "array([  65295.12712081,   38169.27167431,   17262.5475529 ,\n",
       "         40123.82049278,   84080.28460224,   37848.31494683,\n",
       "        128551.08654362, -109489.40500891,   39542.91295965,\n",
       "         39505.97183338,   39426.83405066,   39531.69238309,\n",
       "         62614.53828538,   39773.02584173,   38592.10118836,\n",
       "         39447.43865142,   39542.66601206,   39539.1243399 ,\n",
       "         39452.49047376,   39590.71580731,   10389.6316809 ,\n",
       "         39406.84602986,   40464.04430172,   39674.67207372,\n",
       "         41850.03829379,   39542.05504336,   39491.17715246,\n",
       "         39395.57277696,   39541.85525599,   40247.13555553,\n",
       "         39523.26645543,   39677.65668772,   39524.94608232,\n",
       "         39545.52340934,   39840.62083716,   39913.60445464,\n",
       "         39487.96103242,   53072.82737975,   39655.45976375,\n",
       "         39121.92665817,   39539.83172144,   37507.1697666 ,\n",
       "         34802.76024359,   46250.84306577,   35101.50767415,\n",
       "         47145.81072897,   32063.72080813,   53609.96791982,\n",
       "         43331.33201722,   39542.90420669,   39368.03276808,\n",
       "         40343.56696042,   39481.73295842,  -11510.86679636,\n",
       "         39259.34662847,   39961.65802032,   39468.01512362,\n",
       "         39541.23858741,   39672.79651961,   39392.77625234,\n",
       "         39572.0753617 ,  101325.75609072,   39776.1750036 ,\n",
       "         39040.84460857,   39583.26352635,   39542.70825504,\n",
       "         39507.64142459,   39410.57751757,   39518.96787644,\n",
       "         34892.91682345,   39491.52223042,   39651.61015962,\n",
       "         39567.19454276,   39541.26833177,   39362.37685026,\n",
       "         39360.69851477,   39578.59155891,   24064.06682834,\n",
       "         39389.49788698,   39625.09288241,   39520.11473699])"
      ]
     },
     "execution_count": 98,
     "metadata": {},
     "output_type": "execute_result"
    }
   ],
   "source": [
    "np.linalg.inv(spr_dat_x.T@spr_dat_x)@(spr_dat_x.T@spr_dat_y)"
   ]
  },
  {
   "cell_type": "code",
   "execution_count": 106,
   "id": "37f0682a",
   "metadata": {},
   "outputs": [
    {
     "name": "stderr",
     "output_type": "stream",
     "text": [
      "/var/folders/k3/24b0dzl557v5m0_0658q2cxr0000gn/T/ipykernel_44407/690496575.py:1: FutureWarning: `rcond` parameter will change to the default of machine precision times ``max(M, N)`` where M and N are the input matrix dimensions.\n",
      "To use the future default and silence this warning we advise to pass `rcond=None`, to keep using the old, explicitly pass `rcond=-1`.\n",
      "  np.linalg.lstsq(spr_dat_x,spr_dat_y)\n"
     ]
    },
    {
     "data": {
      "text/plain": [
       "(array([-2.65423091e+11, -2.65423082e+11, -2.65423103e+11, -2.65423091e+11,\n",
       "        -2.65423041e+11, -2.65423105e+11, -2.65423128e+11, -2.65423128e+11,\n",
       "        -2.65423095e+11, -2.65423095e+11, -2.65423095e+11, -2.65423094e+11,\n",
       "        -2.65423073e+11, -2.65423094e+11, -2.65423095e+11, -2.65423095e+11,\n",
       "        -2.65423095e+11, -2.65423095e+11, -2.65423094e+11, -2.65423095e+11,\n",
       "        -2.65423122e+11, -2.65423095e+11, -2.65423094e+11, -2.65423094e+11,\n",
       "        -2.65423093e+11, -2.65423095e+11, -2.65423095e+11, -2.65423095e+11,\n",
       "        -2.65423095e+11, -2.65423095e+11, -2.65423095e+11, -2.65423094e+11,\n",
       "        -2.65423095e+11, -2.65423095e+11, -2.65423094e+11, -2.65423094e+11,\n",
       "        -2.65423095e+11, -2.65423078e+11, -2.65423094e+11, -2.65423095e+11,\n",
       "        -2.65423095e+11, -2.65423090e+11, -2.65423103e+11, -2.65423090e+11,\n",
       "        -2.65423097e+11, -2.65423090e+11, -2.65423099e+11, -2.65423089e+11,\n",
       "        -2.65423086e+11, -2.65423095e+11, -2.65423095e+11, -2.65423094e+11,\n",
       "        -2.65423095e+11, -2.65423147e+11, -2.65423095e+11, -2.65423094e+11,\n",
       "        -2.65423095e+11, -2.65423095e+11, -2.65423094e+11, -2.65423095e+11,\n",
       "        -2.65423095e+11, -2.65423033e+11, -2.65423094e+11, -2.65423095e+11,\n",
       "        -2.65423095e+11, -2.65423095e+11, -2.65423095e+11, -2.65423095e+11,\n",
       "        -2.65423095e+11, -2.65423099e+11, -2.65423095e+11, -2.65423094e+11,\n",
       "        -2.65423095e+11, -2.65423095e+11, -2.65423095e+11, -2.65423095e+11,\n",
       "        -2.65423095e+11, -2.65423110e+11, -2.65423095e+11, -2.65423094e+11,\n",
       "        -2.65423095e+11]),\n",
       " array([3.81788416]),\n",
       " 81,\n",
       " array([8.30220437e+01, 3.23516213e+01, 8.68766970e+00, 5.26400730e+00,\n",
       "        5.14271908e+00, 3.77218359e+00, 3.16953624e+00, 1.75867704e+00,\n",
       "        1.30713962e+00, 8.57489873e-01, 5.88321848e-01, 5.39335527e-01,\n",
       "        4.48408514e-01, 3.55087149e-01, 2.62448343e-01, 2.32166193e-01,\n",
       "        2.12408875e-01, 1.82046942e-01, 1.45165877e-01, 1.30257068e-01,\n",
       "        1.19658144e-01, 9.81879561e-02, 8.81764776e-02, 8.19317823e-02,\n",
       "        7.27209086e-02, 6.41420236e-02, 5.66701628e-02, 5.33988267e-02,\n",
       "        4.43925693e-02, 3.94804719e-02, 3.65788488e-02, 3.29165769e-02,\n",
       "        3.13824692e-02, 2.57971196e-02, 2.34962487e-02, 2.29025991e-02,\n",
       "        1.86219746e-02, 1.65940928e-02, 1.48534902e-02, 1.38131904e-02,\n",
       "        1.32887921e-02, 1.17264882e-02, 1.08353557e-02, 1.05122650e-02,\n",
       "        9.44221148e-03, 8.39516607e-03, 7.93105435e-03, 5.52599434e-03,\n",
       "        4.70995547e-03, 3.88746207e-03, 3.62801961e-03, 3.06882684e-03,\n",
       "        2.80416238e-03, 1.61838956e-03, 1.51868175e-03, 1.29085967e-03,\n",
       "        1.07298232e-03, 1.01944110e-03, 7.41717767e-04, 5.52767222e-04,\n",
       "        4.29501561e-04, 3.40893778e-04, 3.15371537e-04, 2.31548499e-04,\n",
       "        1.99507587e-04, 1.63279333e-04, 1.52002100e-04, 1.29314656e-04,\n",
       "        1.14344597e-04, 1.00251561e-04, 8.24277495e-05, 6.18704261e-05,\n",
       "        5.95656939e-05, 5.33955595e-05, 4.03357194e-05, 3.59545139e-05,\n",
       "        2.71155273e-05, 1.31784941e-05, 1.09185228e-05, 6.43426577e-06,\n",
       "        2.93026789e-13]))"
      ]
     },
     "execution_count": 106,
     "metadata": {},
     "output_type": "execute_result"
    }
   ],
   "source": [
    "np.linalg.lstsq(spr_dat_x,spr_dat_y)"
   ]
  },
  {
   "cell_type": "code",
   "execution_count": 107,
   "id": "c6dcddea",
   "metadata": {},
   "outputs": [
    {
     "data": {
      "text/plain": [
       "array([ 43127.12260006,  52561.02587587,  30607.77218862,  42859.27945731,\n",
       "        92845.42605021,  29532.86790433,   5220.04290865,   6361.28625471,\n",
       "        39542.71544084,  39520.27133967,  39143.58235921,  39618.34575382,\n",
       "        61170.99152279,  39915.64078995,  39003.12339771,  39429.21636981,\n",
       "        39541.76544962,  39549.15456106,  39681.0271581 ,  39528.09685126,\n",
       "        12252.97827124,  39281.00608346,  40111.69504091,  39677.16572744,\n",
       "        41466.48764373,  39542.0243453 ,  39486.44734805,  39445.38046908,\n",
       "        39561.29392015,  38958.59614492,  39509.36436255,  39655.73907721,\n",
       "        39534.97924019,  39544.81367475,  39816.49481131,  39708.35386789,\n",
       "        39478.83749706,  56545.8381696 ,  39701.04167879,  39118.87942331,\n",
       "        39542.31368743,  43969.90652519,  31358.60486721,  43865.91864433,\n",
       "        36712.0070251 ,  43951.22368703,  35070.50645208,  44848.14743556,\n",
       "        47973.21168274,  39542.90882516,  39393.83445059,  40054.25633948,\n",
       "        39467.49649583, -12963.88102032,  39095.2711277 ,  39994.92976307,\n",
       "        39485.12420739,  39541.27858599,  39641.30018854,  39518.08579893,\n",
       "        39591.85137626, 101594.48677684,  39954.99517669,  38975.30605568,\n",
       "        39575.78985843,  39542.68093107,  39507.55995156,  39410.2063636 ,\n",
       "        39519.07015779,  34903.51166918,  39491.40488899,  39651.4611596 ,\n",
       "        39567.07649603,  39541.21437231,  39362.51153077,  39360.24621376,\n",
       "        39578.43569726,  24063.8536713 ,  39389.31138704,  39625.04730481,\n",
       "        39520.09124002])"
      ]
     },
     "execution_count": 107,
     "metadata": {},
     "output_type": "execute_result"
    }
   ],
   "source": [
    "np.linalg.solve(np.dot(spr_dat_x.T, spr_dat_x), np.dot(spr_dat_x.T, spr_dat_y))"
   ]
  },
  {
   "cell_type": "code",
   "execution_count": 104,
   "id": "3f073831",
   "metadata": {},
   "outputs": [
    {
     "name": "stdout",
     "output_type": "stream",
     "text": [
      "                                 OLS Regression Results                                \n",
      "=======================================================================================\n",
      "Dep. Variable:                      y   R-squared (uncentered):                   0.957\n",
      "Model:                            OLS   Adj. R-squared (uncentered):              0.785\n",
      "Method:                 Least Squares   F-statistic:                              5.553\n",
      "Date:                Thu, 28 Sep 2023   Prob (F-statistic):                    3.85e-05\n",
      "Time:                        13:58:25   Log-Likelihood:                          15.343\n",
      "No. Observations:                 100   AIC:                                      129.3\n",
      "Df Residuals:                      20   BIC:                                      337.7\n",
      "Df Model:                          80                                                  \n",
      "Covariance Type:            nonrobust                                                  \n",
      "==============================================================================\n",
      "                 coef    std err          t      P>|t|      [0.025      0.975]\n",
      "------------------------------------------------------------------------------\n",
      "x1          3579.3280   9246.463      0.387      0.703   -1.57e+04    2.29e+04\n",
      "x2          1.302e+04   5891.215      2.210      0.039     729.585    2.53e+04\n",
      "x3         -8934.6136   4378.938     -2.040      0.055   -1.81e+04     199.690\n",
      "x4          3319.7418   4237.881      0.783      0.443   -5520.324    1.22e+04\n",
      "x5          5.331e+04   3.39e+04      1.575      0.131   -1.73e+04    1.24e+05\n",
      "x6         -1.001e+04   1.28e+04     -0.779      0.445   -3.68e+04    1.68e+04\n",
      "x7         -3.424e+04      5e+04     -0.685      0.501   -1.38e+05       7e+04\n",
      "x8         -3.327e+04   5.57e+04     -0.597      0.557    -1.5e+05     8.3e+04\n",
      "x9             0.1875      1.344      0.140      0.890      -2.615       2.990\n",
      "x10          -22.2293     56.887     -0.391      0.700    -140.894      96.435\n",
      "x11         -398.8841    934.613     -0.427      0.674   -2348.453    1550.685\n",
      "x12           75.7796     57.990      1.307      0.206     -45.186     196.746\n",
      "x13         2.161e+04   1.51e+04      1.430      0.168   -9914.224    5.31e+04\n",
      "x14          372.9777    311.336      1.198      0.245    -276.457    1022.413\n",
      "x15         -539.4126    469.110     -1.150      0.264   -1517.959     439.134\n",
      "x16         -113.1974    150.510     -0.752      0.461    -427.156     200.762\n",
      "x17           -0.7610      1.232     -0.618      0.544      -3.330       1.808\n",
      "x18            6.5966     73.650      0.090      0.930    -147.035     160.228\n",
      "x19          138.5442    825.542      0.168      0.868   -1583.507    1860.595\n",
      "x20          -14.4326     41.254     -0.350      0.730    -100.486      71.621\n",
      "x21        -2.727e+04   1.56e+04     -1.743      0.097   -5.99e+04    5363.885\n",
      "x22         -261.4198    267.562     -0.977      0.340    -819.545     296.705\n",
      "x23          569.1005    432.781      1.315      0.203    -333.664    1471.865\n",
      "x24          134.5354    144.258      0.933      0.362    -166.381     435.452\n",
      "x25         1923.2087   1389.455      1.384      0.182    -975.143    4821.561\n",
      "x26           -0.5028      0.542     -0.927      0.365      -1.634       0.629\n",
      "x27          -56.0633     31.633     -1.772      0.092    -122.049       9.923\n",
      "x28          -97.2588    139.042     -0.699      0.492    -387.296     192.778\n",
      "x29           18.7476     30.346      0.618      0.544     -44.554      82.049\n",
      "x30         -582.9016   1213.695     -0.480      0.636   -3114.625    1948.822\n",
      "x31          -33.1500     30.323     -1.093      0.287     -96.403      30.104\n",
      "x32          113.2220     39.125      2.894      0.009      31.608     194.836\n",
      "x33           -7.5601     10.661     -0.709      0.486     -29.798      14.678\n",
      "x34            2.2842      2.717      0.841      0.410      -3.383       7.952\n",
      "x35          273.9544    134.235      2.041      0.055      -6.056     553.964\n",
      "x36          165.9990    770.490      0.215      0.832   -1441.214    1773.212\n",
      "x37          -63.6287     76.392     -0.833      0.415    -222.981      95.723\n",
      "x38           1.7e+04   5961.642      2.851      0.010    4561.976    2.94e+04\n",
      "x39          158.4971    168.257      0.942      0.357    -192.481     509.475\n",
      "x40         -423.5429    204.375     -2.072      0.051    -849.862       2.776\n",
      "x41           -0.2039     49.386     -0.004      0.997    -103.222     102.814\n",
      "x42         4423.6608   7175.071      0.617      0.544   -1.05e+04    1.94e+04\n",
      "x43        -8179.7673   6424.253     -1.273      0.218   -2.16e+04    5220.989\n",
      "x44         4321.6467   6594.013      0.655      0.520   -9433.224    1.81e+04\n",
      "x45        -2833.1917   3607.504     -0.785      0.441   -1.04e+04    4691.930\n",
      "x46         4403.9778   1.15e+04      0.384      0.705   -1.95e+04    2.83e+04\n",
      "x47        -4476.1960   7597.201     -0.589      0.562   -2.03e+04    1.14e+04\n",
      "x48         5319.5844   1.31e+04      0.406      0.689    -2.2e+04    3.26e+04\n",
      "x49         8425.7278   1.07e+04      0.787      0.441   -1.39e+04    3.08e+04\n",
      "x50            0.3820      2.031      0.188      0.853      -3.855       4.619\n",
      "x51         -148.6828     86.665     -1.716      0.102    -329.462      32.097\n",
      "x52          511.5695    930.101      0.550      0.588   -1428.586    2451.725\n",
      "x53          -75.0159     56.060     -1.338      0.196    -191.954      41.922\n",
      "x54        -5.248e+04   2.04e+04     -2.568      0.018   -9.51e+04   -9846.168\n",
      "x55         -447.0679    400.278     -1.117      0.277   -1282.033     387.898\n",
      "x56          451.9510    468.900      0.964      0.347    -526.158    1430.060\n",
      "x57          -57.3405    210.686     -0.272      0.788    -496.823     382.142\n",
      "x58           -1.2500      2.299     -0.544      0.593      -6.047       3.547\n",
      "x59           98.7399     83.990      1.176      0.254     -76.461     273.941\n",
      "x60          -24.3277    770.372     -0.032      0.975   -1631.295    1582.640\n",
      "x61           49.3151     47.890      1.030      0.315     -50.581     149.212\n",
      "x62         6.203e+04   2.22e+04      2.800      0.011    1.58e+04    1.08e+05\n",
      "x63          412.3124    387.606      1.064      0.300    -396.219    1220.844\n",
      "x64         -566.6884    499.387     -1.135      0.270   -1608.392     475.015\n",
      "x65           33.1996    204.722      0.162      0.873    -393.844     460.243\n",
      "x66            0.1532      0.556      0.276      0.786      -1.006       1.312\n",
      "x67          -34.9441     63.273     -0.552      0.587    -166.930      97.042\n",
      "x68         -132.3360    203.764     -0.649      0.523    -557.380     292.708\n",
      "x69          -23.4634     37.935     -0.619      0.543    -102.594      55.667\n",
      "x70        -4638.5908   2090.811     -2.219      0.038   -8999.945    -277.236\n",
      "x71          -51.1527     62.338     -0.821      0.422    -181.187      78.882\n",
      "x72          108.9399     44.941      2.424      0.025      15.195     202.685\n",
      "x73           24.5421     12.751      1.925      0.069      -2.055      51.139\n",
      "x74           -1.3123      1.905     -0.689      0.499      -5.287       2.662\n",
      "x75         -180.0184     75.069     -2.398      0.026    -336.609     -23.427\n",
      "x76         -182.1884    756.950     -0.241      0.812   -1761.158    1396.782\n",
      "x77           35.8979     58.075      0.618      0.543     -85.245     157.041\n",
      "x78        -1.547e+04   5010.706     -3.088      0.006   -2.59e+04   -5022.812\n",
      "x79         -153.1756    177.479     -0.863      0.398    -523.390     217.039\n",
      "x80           82.3743    169.393      0.486      0.632    -270.973     435.722\n",
      "x81          -22.4155     59.492     -0.377      0.710    -146.513     101.682\n",
      "==============================================================================\n",
      "Omnibus:                       17.692   Durbin-Watson:                   2.052\n",
      "Prob(Omnibus):                  0.000   Jarque-Bera (JB):               67.044\n",
      "Skew:                           0.349   Prob(JB):                     2.76e-15\n",
      "Kurtosis:                       6.950   Cond. No.                     2.27e+15\n",
      "==============================================================================\n",
      "\n",
      "Notes:\n",
      "[1] R² is computed without centering (uncentered) since the model does not contain a constant.\n",
      "[2] Standard Errors assume that the covariance matrix of the errors is correctly specified.\n",
      "[3] The smallest eigenvalue is 1.34e-27. This might indicate that there are\n",
      "strong multicollinearity problems or that the design matrix is singular.\n"
     ]
    }
   ],
   "source": [
    "import statsmodels.api as sm\n",
    "model = sm.OLS(spr_dat_y, spr_dat_x)\n",
    "results = model.fit()\n",
    "print(results.summary())"
   ]
  },
  {
   "cell_type": "code",
   "execution_count": 105,
   "id": "8c8075af",
   "metadata": {},
   "outputs": [
    {
     "data": {
      "text/plain": [
       "array([  65293.68257621,   38164.24601794,   17266.11746662,\n",
       "         40125.58420778,   84079.60053285,   37849.97471072,\n",
       "        128544.82684546, -109487.98500629,   39540.74638153,\n",
       "         39510.22191674,   39427.9944701 ,   39535.00386235,\n",
       "         62616.40510588,   39771.84896312,   38593.55116386,\n",
       "         39448.87255882,   39543.15020734,   39542.15023674,\n",
       "         39451.38557406,   39587.75674736,   10388.39192901,\n",
       "         39404.60634289,   40464.41041543,   39676.66110627,\n",
       "         41851.80548639,   39540.80479636,   39492.34856208,\n",
       "         39395.92191548,   39542.23756376,   40251.96571205,\n",
       "         39524.2144663 ,   39676.07602996,   39527.57045001,\n",
       "         39545.65017998,   39846.33863547,   39912.06352475,\n",
       "         39495.14796719,   53071.29826408,   39655.49397252,\n",
       "         39117.45561284,   39539.8484822 ,   37509.75244908,\n",
       "         34809.95794162,   46249.02402668,   35100.74965957,\n",
       "         47146.17744528,   32061.21096138,   53607.02105412,\n",
       "         43328.14580082,   39540.74147563,   39364.26471195,\n",
       "         40347.23568281,   39485.28549734,  -11512.10308777,\n",
       "         39260.93569422,   39965.73566895,   39465.59832989,\n",
       "         39544.34377117,   39668.67261557,   39395.1229869 ,\n",
       "         39573.1196826 ,  101329.85797284,   39776.24576505,\n",
       "         39041.57777497,   39581.77954291,   39542.09966233,\n",
       "         39501.64188584,   39409.55231971,   39525.27553905,\n",
       "         34893.82569488,   39487.9886398 ,   39648.78508777,\n",
       "         39565.61929727,   39539.41669216,   39360.81462208,\n",
       "         39358.24887328,   39574.77215177,   24063.91813487,\n",
       "         39387.30037536,   39621.03525752,   39519.90640444])"
      ]
     },
     "execution_count": 105,
     "metadata": {},
     "output_type": "execute_result"
    }
   ],
   "source": [
    "rxd,rud,rxc,rrho,ruc = randq0(10)\n",
    "rxc[3:,0]"
   ]
  },
  {
   "cell_type": "code",
   "execution_count": 82,
   "id": "74e7e343",
   "metadata": {},
   "outputs": [
    {
     "name": "stdout",
     "output_type": "stream",
     "text": [
      "Initial: [0. 0. 0. 0. 0. 0. 0. 0. 0. 0. 0. 0. 0. 0. 0. 0. 0. 0. 0. 0. 0. 0. 0. 0.\n",
      " 0. 0. 0. 0. 0. 0. 0. 0. 0. 0. 0. 0. 0. 0. 0. 0. 0. 0. 0. 0. 0. 0. 0. 0.\n",
      " 0. 0. 0. 0. 0. 0. 0. 0. 0. 0. 0. 0. 0. 0. 0. 0. 0. 0. 0. 0. 0. 0. 0. 0.\n",
      " 0. 0. 0. 0. 0. 0. 0. 0. 0. 0. 0. 0. 0. 0. 0. 0. 0. 0. 0. 0. 0. 0. 0. 0.\n",
      " 0. 0. 0. 0.]\n",
      "theta: [0. 0. 0. 0. 0. 0. 0. 0. 0. 0. 0. 0. 0. 0. 0. 0. 0. 0. 0. 0. 0. 0. 0. 0.\n",
      " 0. 0. 0. 0. 0. 0. 0. 0. 0. 0. 0. 0. 0. 0. 0. 0. 0. 0. 0. 0. 0. 0. 0. 0.\n",
      " 0. 0. 0. 0. 0. 0. 0. 0. 0. 0. 0. 0. 0. 0. 0. 0. 0. 0. 0. 0. 0. 0. 0. 0.\n",
      " 0. 0. 0. 0. 0. 0. 0. 0. 0. 0. 0. 0. 0. 0. 0. 0. 0. 0. 0. 0. 0. 0. 0. 0.\n",
      " 0. 0. 0. 0.]\n",
      "tau2: [ -4.03477012  -6.86168336  -7.7559623   -4.53213693  -6.58573497\n",
      "  -9.0791078   -5.92379886  -2.11894891  -8.80548856  -8.26392487\n",
      " -10.69737811  -4.11178421  -4.74554999  -5.99124354  -2.16115042\n",
      " -11.06632588  -2.93513297  -4.90051144 -13.77780823  -5.00281636\n",
      "  -3.89442879 -15.74098324  -4.33384993 -11.28018603  -9.33562025\n",
      "  -8.04065257  -3.15227843  -4.1175122  -12.34959469  -6.57827436\n",
      "  -6.38518666  -8.38127629  -9.62513292  -9.10197014  -6.51107993\n",
      "  -5.0035812  -11.29273777 -11.70044749  -7.71783614  -1.58332784\n",
      "  -2.9501352   -7.58411536  -5.63708305  -2.43976376 -13.63904426\n",
      "  -9.25277301  -7.02730373  -8.38631023  -7.95976042  -5.78651747\n",
      "  -6.7971768   -3.53333653  -4.73400715  -7.25241294  -2.495548\n",
      "  -6.38060863  -2.74852446  -8.57990271 -10.26778305  -3.53829034\n",
      " -12.20621662  -9.82849571 -10.85049815 -12.71178235  -5.65261229\n",
      " -12.47541052 -10.01893428  -2.82820693  -3.29519625 -10.28198914\n",
      "  -7.04746103  -5.80123759 -14.49205773  -3.66875551 -13.73133088\n",
      " -12.30810693  -7.86344822  -9.43178846 -10.79311143  -2.96979639\n",
      " -12.26779474 -12.66413875  -7.00534047  -8.78906732 -11.93937148\n",
      " -12.99374652 -12.61277304  -9.51739677 -10.74063168 -11.07098034\n",
      "  -2.95727724  -2.16700974  -6.20968889  -7.62461169  -2.56054243\n",
      "  -5.97758715 -14.16457329  -6.53172094 -13.9676293  -10.36077723]\n",
      "sigma2: [  -5.79100103  -14.87971806  -14.32543946   -7.77812498  -10.66755125\n",
      "  -30.67964175  -13.32994961   -5.64375754  -19.79352491  -18.20729845\n",
      "  -13.99068029   -7.78593152   -6.96456782   -8.1817899    -2.13869307\n",
      "  -25.6099107    -4.4338234    -8.73633149  -65.16919613   -5.8268516\n",
      "   -7.06798047 -177.20147775   -9.6198424   -37.91526994  -13.92290033\n",
      "  -10.32993649   -6.17056121   -8.44521161  -33.03752539  -10.88536833\n",
      "  -10.53783208  -39.19953837 -158.47065695  -12.18834811  -12.06493582\n",
      "  -11.7148089  -106.96957647 -134.36631994  -12.18682574   -4.47853206\n",
      "   -8.80006159  -16.11083032  -10.98423121   -5.44433769  -88.51358493\n",
      "  -67.97165755  -11.74880509  -27.57194169  -12.01057058  -11.48606794\n",
      "   -9.84288709   -7.93089317   -9.16701518  -12.94312507   -3.60643714\n",
      "  -13.83462129   -6.0172383   -10.62834131  -60.92116837   -9.25181999\n",
      " -351.87396472  -21.72953123  -14.49100238 -102.74565639  -29.19567855\n",
      " -153.07741103  -52.44649058   -7.48397166   -7.14209153  -36.51892045\n",
      "  -10.8784364   -10.36972534  -18.10394801   -4.0645165   -54.64714567\n",
      "  -15.46045239  -14.35007148  -60.77168867  -21.61562789   -5.33782152\n",
      "  -34.15749896  -39.64925818  -12.45284303  -14.80261605  -45.48670428\n",
      "  -39.05647635  -66.72192623  -22.48672932  -43.0660104  -119.27843961\n",
      "   -7.55966253   -5.48978396  -16.61993851   -8.34094005   -5.28575448\n",
      "   -9.03551205 -148.45910454   -9.82378384  -97.03015824  -14.325164  ]\n",
      "pi: [ -28.94822001 -262.76427523 -226.9544308  -156.8241371  -132.80661151\n",
      " -296.87487285  -37.26324682  -18.08724985  -55.43460282 -147.37546546\n",
      "  -88.21804713  -26.4308328   -19.70060038  -32.5758604  -435.68139279\n",
      "  -27.02477124  -16.27461561 -123.79773492 -117.53214524  -18.29730749\n",
      "  -72.77799316 -281.15664371  -92.50601917 -160.28156401 -128.62915903\n",
      "  -46.0791295   -85.17121903  -10.18725797  -84.77844012  -33.78767732\n",
      " -141.85906418 -578.53759014 -202.14341044 -428.38996618  -15.8821623\n",
      "  -96.20993212 -118.76160158 -266.22890984  -38.10927419  -20.26689508\n",
      "  -96.87036078  -35.54149187  -28.06277529   -7.79117878 -250.11043751\n",
      " -205.20487591 -111.05962682  -40.09565963  -53.98393021  -90.49137586\n",
      "  -31.40492294 -140.7727111  -208.92302277 -108.65845057   -8.08687583\n",
      " -165.21397133 -211.66216845 -171.70390312 -107.85039683  -46.61112003\n",
      " -478.56005105  -69.91580526 -138.69730781 -177.88376506 -224.78655826\n",
      " -194.59968839 -183.71196039 -130.03867404  -71.77825766 -196.08264071\n",
      " -243.67921201  -43.17892266 -100.12547152  -11.12638054  -93.49447722\n",
      " -145.58908777  -32.80523365  -99.97185269 -110.7158321   -71.05911174\n",
      " -118.90207753 -183.93251068 -134.36276875  -32.78264765  -94.71473485\n",
      " -168.60316771  -97.7128781  -244.69055761  -58.30883146 -263.415463\n",
      "  -59.5829469  -149.95327687  -49.13226467  -24.89468778  -85.08819754\n",
      " -138.81867419 -275.9324075   -68.88497687 -225.14485416 -165.87514717]\n",
      "beta: [-1.28060955e+11 -1.39799748e+10 -4.14638206e+10 -4.03000398e+10\n",
      " -7.85368376e+10 -1.09242017e+10 -8.99962904e+09 -5.96777911e+09\n",
      " -2.67024028e+10 -2.25464992e+10 -2.38059724e+12 -2.07667132e+10\n",
      " -1.27455305e+11 -3.02977415e+11 -2.43380846e+11 -7.42045091e+10\n",
      " -7.94598970e+10 -3.08985916e+10 -8.44222892e+10 -6.72807938e+11\n",
      " -2.79799788e+10 -8.90860608e+10 -7.72643573e+09 -3.57284709e+10\n",
      " -3.40097858e+11 -1.07659275e+12 -1.95037024e+10 -1.24210959e+10\n",
      " -1.02745365e+11 -6.58802538e+10 -6.50251227e+10 -4.28277889e+09\n",
      " -1.64479010e+09 -9.95071478e+11 -2.87959298e+10 -6.21250099e+09\n",
      " -8.02925528e+09 -8.06313448e+09 -1.25490486e+11 -7.24272005e+09\n",
      " -2.23575074e+09 -1.97339619e+10 -1.79386921e+10 -1.20473930e+10\n",
      " -5.02363745e+10 -3.54404713e+09 -6.65686690e+10 -8.14060448e+09\n",
      " -2.01477829e+11 -1.64463076e+10 -2.22014167e+11 -7.93538920e+09\n",
      " -1.74529543e+10 -4.40372254e+10 -8.89365551e+10 -1.20297539e+10\n",
      " -1.16813843e+10 -1.98003595e+12 -8.26623789e+09 -3.58158952e+09\n",
      " -3.89798956e+09 -4.56776877e+10 -1.93973278e+12 -2.20976117e+10\n",
      " -9.83370109e+08 -1.16885133e+10 -8.62502923e+09 -4.08175552e+09\n",
      " -1.03059262e+10 -1.87305581e+10 -1.30703598e+11 -3.25047407e+10\n",
      " -2.25329743e+13 -4.36476926e+11 -1.07058209e+11 -7.93365365e+12\n",
      " -4.60657109e+10 -4.65958762e+09 -1.03425737e+11 -3.26794450e+10\n",
      " -8.99177994e+10 -8.83791494e+10 -4.24102679e+10 -1.05011471e+11\n",
      " -4.13103204e+10 -1.15242406e+11 -3.65742701e+10 -3.19469866e+10\n",
      " -1.94562835e+10 -6.06222920e+09 -4.62754428e+09 -7.39296460e+09\n",
      " -5.22540674e+09 -4.37733107e+12 -1.71859992e+10 -1.26807670e+11\n",
      " -3.78497175e+10 -1.47832678e+11 -5.57665964e+10 -1.07017460e+12]\n",
      "ll: [-1.28060954e+11 -1.39799748e+10 -4.14638206e+10 -4.03000392e+10\n",
      " -7.85368376e+10 -1.09242017e+10 -8.99962904e+09 -5.96777953e+09\n",
      " -2.67024028e+10 -2.25464992e+10 -2.38059724e+12 -2.07667132e+10\n",
      " -1.27455305e+11 -3.02977415e+11 -2.43380861e+11 -7.42045091e+10\n",
      " -7.94598934e+10 -3.08985913e+10 -8.44222892e+10 -6.72807938e+11\n",
      " -2.79799786e+10 -8.90860608e+10 -7.72643576e+09 -3.57284709e+10\n",
      " -3.40097858e+11 -1.07659275e+12 -1.95037028e+10 -1.24210957e+10\n",
      " -1.02745365e+11 -6.58802538e+10 -6.50251227e+10 -4.28277890e+09\n",
      " -1.64479010e+09 -9.95071478e+11 -2.87959298e+10 -6.21250100e+09\n",
      " -8.02925529e+09 -8.06313448e+09 -1.25490486e+11 -7.24272172e+09\n",
      " -2.23575070e+09 -1.97339619e+10 -1.79386920e+10 -1.20473936e+10\n",
      " -5.02363745e+10 -3.54404713e+09 -6.65686690e+10 -8.14060448e+09\n",
      " -2.01477829e+11 -1.64463076e+10 -2.22014167e+11 -7.93538919e+09\n",
      " -1.74529541e+10 -4.40372254e+10 -8.89365561e+10 -1.20297539e+10\n",
      " -1.16813845e+10 -1.98003595e+12 -8.26623790e+09 -3.58158955e+09\n",
      " -3.89798956e+09 -4.56776877e+10 -1.93973278e+12 -2.20976117e+10\n",
      " -9.83370113e+08 -1.16885133e+10 -8.62502923e+09 -4.08175555e+09\n",
      " -1.03059263e+10 -1.87305581e+10 -1.30703598e+11 -3.25047407e+10\n",
      " -2.25329743e+13 -4.36476925e+11 -1.07058209e+11 -7.93365365e+12\n",
      " -4.60657109e+10 -4.65958762e+09 -1.03425737e+11 -3.26794445e+10\n",
      " -8.99177994e+10 -8.83791494e+10 -4.24102679e+10 -1.05011471e+11\n",
      " -4.13103204e+10 -1.15242406e+11 -3.65742701e+10 -3.19469866e+10\n",
      " -1.94562835e+10 -6.06222920e+09 -4.62754438e+09 -7.39296387e+09\n",
      " -5.22540675e+09 -4.37733107e+12 -1.71860007e+10 -1.26807671e+11\n",
      " -3.78497175e+10 -1.47832678e+11 -5.57665964e+10 -1.07017460e+12]\n"
     ]
    }
   ],
   "source": [
    "# calculate ELBO\n",
    "lp = sas_lposterior(madmix_pi_spr,madmix_theta_spr,madmix_tau2_spr,madmix_sigma2_spr,madmix_beta_spr,\n",
    "                    spr_dat_x,spr_dat_y)\n",
    "madmix_elbos[1] = np.nanmean(mad_lq_spr-lp)"
   ]
  },
  {
   "cell_type": "code",
   "execution_count": 79,
   "id": "3704ea1e",
   "metadata": {},
   "outputs": [
    {
     "data": {
      "text/plain": [
       "array([ -660.55423972,  -825.94276161,  -466.91402861,  -650.22996569,\n",
       "        -536.87282827,  -470.9830979 , -1336.23000589,  -700.96885536,\n",
       "        -543.5990751 ,  -515.10931374,  -575.60037338,  -493.25253106])"
      ]
     },
     "execution_count": 79,
     "metadata": {},
     "output_type": "execute_result"
    }
   ],
   "source": [
    "idx = np.isnan(mad_lq_spr)\n",
    "mad_tmp = mad_lq_spr[~idx]\n",
    "mad_tmp"
   ]
  },
  {
   "cell_type": "code",
   "execution_count": 80,
   "id": "4efc49ad",
   "metadata": {},
   "outputs": [
    {
     "data": {
      "text/plain": [
       "array([-1.09242017e+10, -4.28277890e+09, -9.95071478e+11, -8.14060448e+09,\n",
       "       -4.56776877e+10, -1.93973278e+12, -2.20976117e+10, -1.87305581e+10,\n",
       "       -1.03425737e+11, -1.05011471e+11, -3.19469866e+10, -1.07017460e+12])"
      ]
     },
     "execution_count": 80,
     "metadata": {},
     "output_type": "execute_result"
    }
   ],
   "source": [
    "lp[~idx]"
   ]
  },
  {
   "cell_type": "code",
   "execution_count": 108,
   "id": "41a4c4e4",
   "metadata": {},
   "outputs": [
    {
     "ename": "NameError",
     "evalue": "name 'meanfield_elbos' is not defined",
     "output_type": "error",
     "traceback": [
      "\u001b[0;31m---------------------------------------------------------------------------\u001b[0m",
      "\u001b[0;31mNameError\u001b[0m                                 Traceback (most recent call last)",
      "Cell \u001b[0;32mIn [108], line 1\u001b[0m\n\u001b[0;32m----> 1\u001b[0m \u001b[43mmeanfield_elbos\u001b[49m\n",
      "\u001b[0;31mNameError\u001b[0m: name 'meanfield_elbos' is not defined"
     ]
    }
   ],
   "source": [
    "madmix_elbos"
   ]
  },
  {
   "cell_type": "markdown",
   "id": "aaf75e2c",
   "metadata": {},
   "source": [
    "### Mean-field"
   ]
  },
  {
   "cell_type": "code",
   "execution_count": null,
   "id": "3b18443e",
   "metadata": {},
   "outputs": [],
   "source": [
    "####################\n",
    "####################\n",
    "#   import data    #\n",
    "####################\n",
    "####################\n",
    "mf_spr_results = np.genfromtxt('results/mf_spr_results.csv', \n",
    "                                delimiter=\",\",\n",
    "                                skip_header=1)"
   ]
  },
  {
   "cell_type": "code",
   "execution_count": null,
   "id": "48d7f120",
   "metadata": {},
   "outputs": [],
   "source": [
    "mf_elbos[1]=meanfield.meanfield_sas_elbo(B=10000,mu=mf_spr_results[:,0],sigma=mf_spr_results[:,1],pi=mf_spr_results[:,2],\n",
    "            nu=10.,x=spr_dat_x,y=spr_dat_y)"
   ]
  },
  {
   "cell_type": "markdown",
   "id": "2380dab9",
   "metadata": {},
   "source": [
    "### Dequantization"
   ]
  },
  {
   "cell_type": "code",
   "execution_count": null,
   "id": "4c6e619a",
   "metadata": {},
   "outputs": [],
   "source": [
    "########################\n",
    "########################\n",
    "#    dequantization    #\n",
    "########################\n",
    "########################\n",
    "dequant_flows_spr     = aux.pkl_load('sockeye/dequantization/superconductivity/sas_flows_dequant')\n",
    "dequant_losses_spr    = aux.pkl_load('sockeye/dequantization/superconductivity/sas_losses_dequant')\n",
    "dequant_cpu_times_spr = aux.pkl_load('sockeye/dequantization/superconductivity/sas_cpu_times_dequant')\n",
    "dequant_sim_size_spr  = len(dequant_flows_spr)\n",
    "dequant_max_iters_spr = dequant_losses_spr.shape[-1]\n",
    "print('Total training time: '+str(dequant_cpu_times_spr.sum()/3600)+' hours')"
   ]
  },
  {
   "cell_type": "code",
   "execution_count": null,
   "id": "7c2e6d06",
   "metadata": {},
   "outputs": [],
   "source": [
    "# loss traceplot\n",
    "threshold=1000\n",
    "for i in range(dequant_sim_size_spr): plt.plot(np.arange(dequant_max_iters_spr)[dequant_losses_spr[i,:]<threshold],dequant_losses_spr[i,dequant_losses_spr[i,:]<threshold],'-k',alpha=0.5)\n",
    "plt.xlabel('Iteration')\n",
    "plt.ylabel('Loss')\n",
    "plt.title('Dequantization RealNVP training loss traceplots')"
   ]
  },
  {
   "cell_type": "code",
   "execution_count": null,
   "id": "a5c7a68b",
   "metadata": {},
   "outputs": [],
   "source": [
    "#########################\n",
    "#########################\n",
    "# get samples and elbos #\n",
    "#########################\n",
    "#########################\n",
    "torch.manual_seed(1)\n",
    "sample_size=1000\n",
    "Kp=int(K+3+K)\n",
    "dequant_samples_spr=np.zeros((dequant_sim_size_spr,sample_size,Kp))\n",
    "dequant_densities_spr=np.zeros((dequant_sim_size_spr,sample_size))\n",
    "dequant_elbos_spr=-np.inf*np.ones(dequant_sim_size_spr)\n",
    "\n",
    "for i in range(dequant_sim_size_spr):\n",
    "    print(str(i+1)+'/'+str(dequant_sim_size_spr),end='\\r')\n",
    "    tmp_flow=dequant_flows_spr[i]\n",
    "    if isinstance(tmp_flow, int): continue\n",
    "    \n",
    "    try:\n",
    "        # generate sample\n",
    "        tmp_sample=tmp_flow.sample(sample_size)\n",
    "        dequant_samples_spr[i,:,:] = tmp_sample.detach().numpy()\n",
    "    \n",
    "        # unpack and quantize sample\n",
    "        xd,xc = dequantization.sas_unpack_torch(tmp_sample.T,K)\n",
    "        thetau,tau2u,sigma2u,beta = dequantization.sas_unflatten_torch(xc)\n",
    "        theta,tau2,sigma2 = dequantization.sas_constrain_torch(thetau,tau2u,sigma2u)\n",
    "        theta,tau2,sigma2=theta.detach().numpy(),tau2.detach().numpy(),sigma2.detach().numpy()\n",
    "        beta = beta.detach().numpy()\n",
    "        pi = np.floor(xd.detach().numpy()).astype(int)\n",
    "        pi[pi<0] = 0\n",
    "        pi[pi>1] = 1\n",
    "    \n",
    "        # compute density\n",
    "        t0=time.perf_counter()\n",
    "        dequant_densities_spr[i,:]=tmp_flow.log_prob(tmp_sample).detach().numpy()\n",
    "        dequant_densitycput[1,i]=time.perf_counter()-t0\n",
    "    \n",
    "        # estimate elbo\n",
    "        llp = sas_lposterior(pi,theta,tau2,sigma2,beta,spr_dat_x,spr_dat_y)\n",
    "        dequant_elbos_spr[i]=-np.mean(np.ma.masked_invalid(dequant_densities_spr[i,:] - llp))\n",
    "        \n",
    "    except Exception: continue\n",
    "# end for\n",
    "plt.clf()"
   ]
  },
  {
   "cell_type": "code",
   "execution_count": null,
   "id": "22150bf8",
   "metadata": {},
   "outputs": [],
   "source": [
    "i_star=np.nanargmax(dequant_elbos_spr)\n",
    "print('Optimal flow: '+str(i_star))"
   ]
  },
  {
   "cell_type": "code",
   "execution_count": null,
   "id": "28a8feff",
   "metadata": {},
   "outputs": [],
   "source": [
    "xd,xc = dequantization.sas_unpack_torch(dequant_flows_spr[i_star].sample(10000).T,K)\n",
    "thetau,tau2u,sigma2u,beta = dequantization.sas_unflatten_torch(xc)\n",
    "theta,tau2,sigma2 = dequantization.sas_constrain_torch(thetau,tau2u,sigma2u)\n",
    "pi = np.floor(xd.detach().numpy()).astype(int)\n",
    "pi[pi<0] = 0\n",
    "pi[pi>1] = 1"
   ]
  },
  {
   "cell_type": "code",
   "execution_count": null,
   "id": "29e96ac0",
   "metadata": {},
   "outputs": [],
   "source": [
    "np.mean(pi,axis=1)"
   ]
  },
  {
   "cell_type": "code",
   "execution_count": null,
   "id": "e1cc650a",
   "metadata": {},
   "outputs": [],
   "source": [
    "torch.mean(beta,axis=1)"
   ]
  },
  {
   "cell_type": "markdown",
   "id": "677d611f",
   "metadata": {},
   "source": [
    "### Concrete"
   ]
  },
  {
   "cell_type": "code",
   "execution_count": 48,
   "id": "b35ba061",
   "metadata": {},
   "outputs": [
    {
     "name": "stdout",
     "output_type": "stream",
     "text": [
      "Total training time: 164.49230128540785 hours\n"
     ]
    }
   ],
   "source": [
    "########################\n",
    "########################\n",
    "#       concrete       #\n",
    "########################\n",
    "########################\n",
    "concrete_flows_spr     = aux.pkl_load('sockeye/superconductivity/sas_flows')\n",
    "concrete_losses_spr    = aux.pkl_load('sockeye/superconductivity/sas_losses')\n",
    "concrete_cpu_times_spr = aux.pkl_load('sockeye/superconductivity/sas_cpu_times')\n",
    "concrete_sim_size_spr  = len(concrete_losses_spr)\n",
    "concrete_max_iters_spr = concrete_losses_spr.shape[-1]\n",
    "print('Total training time: '+str(concrete_cpu_times_spr.sum()/3600)+' hours')"
   ]
  },
  {
   "cell_type": "code",
   "execution_count": 49,
   "id": "e8649d65",
   "metadata": {},
   "outputs": [
    {
     "data": {
      "text/plain": [
       "Text(0.5, 1.0, 'Concrete RealNVP training loss traceplots')"
      ]
     },
     "execution_count": 49,
     "metadata": {},
     "output_type": "execute_result"
    },
    {
     "data": {
      "image/png": "[encoded data removed]",
      "text/plain": [
       "<Figure size 1500x750 with 1 Axes>"
      ]
     },
     "metadata": {},
     "output_type": "display_data"
    }
   ],
   "source": [
    "# loss traceplot\n",
    "threshold=10000\n",
    "for i in range(concrete_sim_size_spr): plt.plot(np.arange(concrete_max_iters_spr)[concrete_losses_spr[i,:]<threshold],concrete_losses_spr[i,concrete_losses_spr[i,:]<threshold],'-k',alpha=0.5)\n",
    "plt.xlabel('Iteration')\n",
    "plt.ylabel('Loss')\n",
    "plt.title('Concrete RealNVP training loss traceplots')"
   ]
  },
  {
   "cell_type": "code",
   "execution_count": 50,
   "id": "10a1ba16",
   "metadata": {},
   "outputs": [
    {
     "name": "stdout",
     "output_type": "stream",
     "text": [
      "5/144\r"
     ]
    },
    {
     "name": "stderr",
     "output_type": "stream",
     "text": [
      "/var/folders/k3/24b0dzl557v5m0_0658q2cxr0000gn/T/ipykernel_44407/1045059887.py:30: RuntimeWarning: overflow encountered in exp\n",
      "  xd = np.exp(xd).reshape(K,2,sample_size)\n",
      "/var/folders/k3/24b0dzl557v5m0_0658q2cxr0000gn/T/ipykernel_44407/735616984.py:31: RuntimeWarning: divide by zero encountered in log1p\n",
      "  lp += np.sum(np.log(theta)*pi + np.log1p(-theta)*(1-pi),axis=0)\n",
      "/var/folders/k3/24b0dzl557v5m0_0658q2cxr0000gn/T/ipykernel_44407/735616984.py:31: RuntimeWarning: invalid value encountered in multiply\n",
      "  lp += np.sum(np.log(theta)*pi + np.log1p(-theta)*(1-pi),axis=0)\n",
      "/var/folders/k3/24b0dzl557v5m0_0658q2cxr0000gn/T/ipykernel_44407/735616984.py:31: RuntimeWarning: divide by zero encountered in log\n",
      "  lp += np.sum(np.log(theta)*pi + np.log1p(-theta)*(1-pi),axis=0)\n",
      "/var/folders/k3/24b0dzl557v5m0_0658q2cxr0000gn/T/ipykernel_44407/735616984.py:32: RuntimeWarning: overflow encountered in square\n",
      "  lp += -0.5*K*np.log(2*np.pi*sigma2*tau2)-0.5*np.sum(beta**2,axis=0)/sigma2*tau2\n",
      "/var/folders/k3/24b0dzl557v5m0_0658q2cxr0000gn/T/ipykernel_44407/735616984.py:32: RuntimeWarning: invalid value encountered in divide\n",
      "  lp += -0.5*K*np.log(2*np.pi*sigma2*tau2)-0.5*np.sum(beta**2,axis=0)/sigma2*tau2\n",
      "/var/folders/k3/24b0dzl557v5m0_0658q2cxr0000gn/T/ipykernel_44407/1045059887.py:40: UserWarning: Warning: converting a masked element to nan.\n",
      "  concrete_elbos_spr[i]=-np.mean(np.ma.masked_invalid(concrete_densities_spr[i,:] - llp))\n"
     ]
    },
    {
     "name": "stdout",
     "output_type": "stream",
     "text": [
      "6/144\r",
      "7/144\r",
      "8/144\r"
     ]
    },
    {
     "name": "stderr",
     "output_type": "stream",
     "text": [
      "/var/folders/k3/24b0dzl557v5m0_0658q2cxr0000gn/T/ipykernel_44407/735616984.py:30: RuntimeWarning: invalid value encountered in add\n",
      "  lp += stats.gamma(a=a1,scale=1./a2).logpdf(sigma2)\n",
      "/var/folders/k3/24b0dzl557v5m0_0658q2cxr0000gn/T/ipykernel_44407/735616984.py:32: RuntimeWarning: divide by zero encountered in log\n",
      "  lp += -0.5*K*np.log(2*np.pi*sigma2*tau2)-0.5*np.sum(beta**2,axis=0)/sigma2*tau2\n",
      "/var/folders/k3/24b0dzl557v5m0_0658q2cxr0000gn/T/ipykernel_44407/735616984.py:32: RuntimeWarning: invalid value encountered in multiply\n",
      "  lp += -0.5*K*np.log(2*np.pi*sigma2*tau2)-0.5*np.sum(beta**2,axis=0)/sigma2*tau2\n",
      "/var/folders/k3/24b0dzl557v5m0_0658q2cxr0000gn/T/ipykernel_44407/735616984.py:33: RuntimeWarning: divide by zero encountered in log\n",
      "  lp += -0.5*np.log(2*np.pi*sigma2) # log likelihood part 1\n",
      "/var/folders/k3/24b0dzl557v5m0_0658q2cxr0000gn/T/ipykernel_44407/735616984.py:34: RuntimeWarning: divide by zero encountered in divide\n",
      "  lp += -0.5*np.sum(y[None,:]-np.squeeze(np.matmul(x[None,:,:],beta.T[:,:,None])),axis=1)/sigma2 # ll part 2\n"
     ]
    },
    {
     "name": "stdout",
     "output_type": "stream",
     "text": [
      "14/144\r"
     ]
    },
    {
     "name": "stderr",
     "output_type": "stream",
     "text": [
      "/var/folders/k3/24b0dzl557v5m0_0658q2cxr0000gn/T/ipykernel_44407/735616984.py:32: RuntimeWarning: divide by zero encountered in divide\n",
      "  lp += -0.5*K*np.log(2*np.pi*sigma2*tau2)-0.5*np.sum(beta**2,axis=0)/sigma2*tau2\n",
      "/var/folders/k3/24b0dzl557v5m0_0658q2cxr0000gn/T/ipykernel_44407/735616984.py:32: RuntimeWarning: overflow encountered in divide\n",
      "  lp += -0.5*K*np.log(2*np.pi*sigma2*tau2)-0.5*np.sum(beta**2,axis=0)/sigma2*tau2\n"
     ]
    },
    {
     "name": "stdout",
     "output_type": "stream",
     "text": [
      "15/144\r",
      "16/144\r",
      "17/144\r"
     ]
    },
    {
     "name": "stderr",
     "output_type": "stream",
     "text": [
      "/var/folders/k3/24b0dzl557v5m0_0658q2cxr0000gn/T/ipykernel_44407/735616984.py:32: RuntimeWarning: invalid value encountered in subtract\n",
      "  lp += -0.5*K*np.log(2*np.pi*sigma2*tau2)-0.5*np.sum(beta**2,axis=0)/sigma2*tau2\n"
     ]
    },
    {
     "name": "stdout",
     "output_type": "stream",
     "text": [
      "40/144\r"
     ]
    },
    {
     "name": "stderr",
     "output_type": "stream",
     "text": [
      "/var/folders/k3/24b0dzl557v5m0_0658q2cxr0000gn/T/ipykernel_44407/735616984.py:32: RuntimeWarning: overflow encountered in multiply\n",
      "  lp += -0.5*K*np.log(2*np.pi*sigma2*tau2)-0.5*np.sum(beta**2,axis=0)/sigma2*tau2\n"
     ]
    },
    {
     "name": "stdout",
     "output_type": "stream",
     "text": [
      "50/144\r"
     ]
    },
    {
     "name": "stderr",
     "output_type": "stream",
     "text": [
      "/var/folders/k3/24b0dzl557v5m0_0658q2cxr0000gn/T/ipykernel_44407/735616984.py:32: RuntimeWarning: invalid value encountered in add\n",
      "  lp += -0.5*K*np.log(2*np.pi*sigma2*tau2)-0.5*np.sum(beta**2,axis=0)/sigma2*tau2\n"
     ]
    },
    {
     "name": "stdout",
     "output_type": "stream",
     "text": [
      "51/144\r"
     ]
    },
    {
     "name": "stderr",
     "output_type": "stream",
     "text": [
      "/var/folders/k3/24b0dzl557v5m0_0658q2cxr0000gn/T/ipykernel_44407/735616984.py:33: RuntimeWarning: overflow encountered in multiply\n",
      "  lp += -0.5*np.log(2*np.pi*sigma2) # log likelihood part 1\n"
     ]
    },
    {
     "name": "stdout",
     "output_type": "stream",
     "text": [
      "59/144\r"
     ]
    },
    {
     "name": "stderr",
     "output_type": "stream",
     "text": [
      "/Users/giankdiluvi/Library/Python/3.9/lib/python/site-packages/scipy/stats/_distn_infrastructure.py:2126: RuntimeWarning: overflow encountered in divide\n",
      "  x = np.asarray((x - loc)/scale, dtype=dtyp)\n"
     ]
    },
    {
     "name": "stdout",
     "output_type": "stream",
     "text": [
      "144/144\r"
     ]
    },
    {
     "data": {
      "text/plain": [
       "<Figure size 1500x750 with 0 Axes>"
      ]
     },
     "metadata": {},
     "output_type": "display_data"
    }
   ],
   "source": [
    "#########################\n",
    "#########################\n",
    "# get samples and elbos #\n",
    "#########################\n",
    "#########################\n",
    "torch.manual_seed(1)\n",
    "sample_size=1000\n",
    "Kp=int(2*K+3+K)\n",
    "concrete_samples_spr=np.zeros((concrete_sim_size_spr,sample_size,Kp))\n",
    "concrete_densities_spr=np.zeros((concrete_sim_size_spr,sample_size))\n",
    "concrete_elbos_spr=-np.inf*np.ones(concrete_sim_size_spr)\n",
    "\n",
    "for i in range(concrete_sim_size_spr):\n",
    "    print(str(i+1)+'/'+str(concrete_sim_size_spr),end='\\r')\n",
    "    tmp_flow=concrete_flows_spr[i]\n",
    "    if isinstance(tmp_flow, int): continue\n",
    "    \n",
    "    try:\n",
    "        # generate sample\n",
    "        tmp_sample=tmp_flow.sample(sample_size)\n",
    "        concrete_samples_spr[i,:,:] = tmp_sample.detach().numpy()\n",
    "    \n",
    "        # unpack and quantize sample\n",
    "        xd,xc = sas_unpack_torch_concrete(tmp_sample.T,K)\n",
    "        thetau,tau2u,sigma2u,beta = sas_unflatten_torch_concrete(xc)\n",
    "        theta,tau2,sigma2 = sas_constrain_torch_concrete(thetau,tau2u,sigma2u)\n",
    "        theta,tau2,sigma2=theta.detach().numpy(),tau2.detach().numpy(),sigma2.detach().numpy()\n",
    "        beta = beta.detach().numpy()\n",
    "        xd = xd.detach().numpy()\n",
    "        xd = np.exp(xd).reshape(K,2,sample_size)\n",
    "        pi = np.argmax(xd,axis=1)\n",
    "    \n",
    "        # compute density\n",
    "        t0=time.perf_counter()\n",
    "        concrete_densities_spr[i,:]=tmp_flow.log_prob(tmp_sample).detach().numpy()\n",
    "        concrete_densitycput[1,i]=time.perf_counter()-t0\n",
    "    \n",
    "        # estimate elbo\n",
    "        llp = sas_lposterior(pi,theta,tau2,sigma2,beta,spr_dat_x,spr_dat_y)\n",
    "        concrete_elbos_spr[i]=-np.mean(np.ma.masked_invalid(concrete_densities_spr[i,:] - llp))\n",
    "        \n",
    "    except Exception: continue\n",
    "# end for\n",
    "plt.clf()"
   ]
  },
  {
   "cell_type": "code",
   "execution_count": 63,
   "id": "2c01b11c",
   "metadata": {},
   "outputs": [
    {
     "data": {
      "text/plain": [
       "array([-1.99613763e+32, -9.82790172e+20, -1.58950691e+02, -7.53347358e+01,\n",
       "       -5.99714996e+01, -5.66087006e+01, -5.61957234e+01, -4.71669884e+01,\n",
       "       -3.85270246e+01,  3.82666695e+00,  6.64707614e+00,  7.09776323e+00,\n",
       "        2.16531204e+01,  3.62719692e+01,  5.31932293e+01,  5.48346404e+01,\n",
       "        7.76433713e+01,  1.27653981e+02,  1.53005809e+02,  1.57387939e+02,\n",
       "        2.00310763e+02,  2.03966860e+02,  2.03981136e+02,  2.25343222e+02,\n",
       "        2.31867177e+02,  2.51869830e+02,  2.58509413e+02,  2.61715935e+02,\n",
       "        2.71019518e+02,  2.72700713e+02,  2.97773979e+02,  3.30406914e+02,\n",
       "        3.35779138e+02,  3.67034977e+02,  3.68169280e+02,  3.82783062e+02,\n",
       "        4.06482507e+02,  4.70752402e+02,  4.76500625e+02,  5.37291030e+02,\n",
       "        5.40695408e+02,  5.81266946e+02,  5.90317143e+02,  5.94633076e+02,\n",
       "        6.00180327e+02,  6.00513828e+02,  6.07765607e+02,  8.41248603e+02,\n",
       "        1.08092753e+03,  5.37398096e+04])"
      ]
     },
     "execution_count": 63,
     "metadata": {},
     "output_type": "execute_result"
    }
   ],
   "source": [
    "tmp = np.copy(concrete_elbos_spr)\n",
    "tmp = tmp[-tmp<5*1e5]\n",
    "np.sort(-tmp)"
   ]
  },
  {
   "cell_type": "code",
   "execution_count": null,
   "id": "efeba5d2",
   "metadata": {},
   "outputs": [],
   "source": []
  },
  {
   "cell_type": "markdown",
   "id": "60d9f620",
   "metadata": {},
   "source": [
    "## Save results"
   ]
  },
  {
   "cell_type": "code",
   "execution_count": null,
   "id": "4098326c",
   "metadata": {},
   "outputs": [],
   "source": [
    "# MAD Mix\n",
    "aux.pkl_save(madmix_elbos, '../summary/results/madmix_elbos_sas')\n",
    "if RUN: aux.pkl_save(madmix_cput, '../summary/results/madmix_cput_sas')\n",
    "\n",
    "# Gibbs\n",
    "aux.pkl_save(gibbs_cput, '../summary/results/gibbs_cput_sas')\n",
    "\n",
    "# mean field\n",
    "mf_cput = np.genfromtxt('results/mf_cput.csv', \n",
    "                                delimiter=\",\",\n",
    "                                skip_header=1)\n",
    "aux.pkl_save(mf_cput, '../summary/results/meanfield_cput_sas')\n",
    "aux.pkl_save(mf_elbos, '../summary/results/meanfield_elbos_sas')\n",
    "\n",
    "# dequantization\n",
    "dequant_elbos=np.vstack((dequant_elbos_prst,dequant_elbos_spr))\n",
    "dequant_cpu_times=np.vstack((dequant_cpu_times_prst,dequant_cpu_times_spr))\n",
    "aux.pkl_save(dequant_elbos,'../summary/results/dequant_elbos_sas')\n",
    "aux.pkl_save(dequant_cpu_times,'../summary/results/dequant_cput_sas')\n",
    "aux.pkl_save(dequant_densitycput,'../summary/results/dequant_densitycput_sas')\n",
    "\n",
    "# concrete\n",
    "concrete_elbos=np.vstack((concrete_elbos_prst,concrete_elbos_spr))\n",
    "concrete_cpu_times=np.vstack((concrete_cpu_times_prst,concrete_cpu_times_spr))\n",
    "aux.pkl_save(concrete_elbos,'../summary/results/concrete_elbos_sas')\n",
    "aux.pkl_save(concrete_cpu_times,'../summary/results/concrete_cput_sas')\n",
    "aux.pkl_save(concrete_densitycput,'../summary/results/concrete_densitycput_sas')"
   ]
  }
 ],
 "metadata": {
  "kernelspec": {
   "display_name": "Python 3 (ipykernel)",
   "language": "python",
   "name": "python3"
  },
  "language_info": {
   "codemirror_mode": {
    "name": "ipython",
    "version": 3
   },
   "file_extension": ".py",
   "mimetype": "text/x-python",
   "name": "python",
   "nbconvert_exporter": "python",
   "pygments_lexer": "ipython3",
   "version": "3.9.6"
  }
 },
 "nbformat": 4,
 "nbformat_minor": 5
}
