{
 "cells": [
  {
   "cell_type": "markdown",
   "id": "0c398ded",
   "metadata": {},
   "source": [
    "# Spike and Slab examples"
   ]
  },
  {
   "cell_type": "code",
   "execution_count": 1,
   "id": "742df22e",
   "metadata": {},
   "outputs": [],
   "source": [
    "import numpy as np\n",
    "import pandas as pd\n",
    "import matplotlib.pyplot as plt\n",
    "import scipy.stats as stats\n",
    "import os,sys,time\n",
    "\n",
    "sys.path.insert(1, '../../src/')\n",
    "import madmix\n",
    "import madmix_aux\n",
    "import gibbs\n",
    "from concrete import *\n",
    "import dequantization\n",
    "import meanfield\n",
    "import aux\n",
    "\n",
    "plt.rcParams.update({'figure.max_open_warning': 0})\n",
    "plt.rcParams[\"figure.figsize\"]=15,7.5\n",
    "plt.rcParams.update({'font.size': 40})\n",
    "fig_path='fig/'\n",
    "fig_path='../../../madmix-tex/fig/'"
   ]
  },
  {
   "cell_type": "code",
   "execution_count": 2,
   "id": "3eedd6e4",
   "metadata": {},
   "outputs": [],
   "source": [
    "def sas_lposterior(pi,theta,tau2,sigma2,beta,x,y):\n",
    "    \"\"\"\n",
    "    Evaluate the posterior log density of a spike and slab model\n",
    "    K = # of covariates\n",
    "    B = # of points to evaluate log pdf at\n",
    "    \n",
    "    Inputs:\n",
    "        pi     : (K,B) array, inclusion indicators of regression coefficients (one of {0,1})\n",
    "        theta  : (B,) array, Categorical probs\n",
    "        tau2   : (B,) array, beta variances\n",
    "        sigma2 : (B,) array, obs variances\n",
    "        beta   : (K,B) array, regression coefficients\n",
    "        x      : (N,K) array, covariates (N is no. of observations, K is no. of covariates)\n",
    "        y      : (N,) array, observations\n",
    "    \n",
    "    Outputs:\n",
    "        lp     : (B,) array, posterior \n",
    "    \"\"\"\n",
    "    K,B = pi.shape\n",
    "    N = x.shape[0]\n",
    "    \n",
    "    # set hyperparams\n",
    "    a,b=1.,1.\n",
    "    a1,a2=0.1,0.1\n",
    "    s=0.5\n",
    "    \n",
    "    lp  = np.zeros(B)\n",
    "    lp += stats.beta(a,b).logpdf(theta)\n",
    "    lp += stats.invgamma(a=0.5,scale=s**2/2).logpdf(tau2)\n",
    "    lp += stats.gamma(a=a1,scale=1./a2).logpdf(sigma2)\n",
    "    lp += np.sum(np.log(theta)*pi + np.log1p(-theta)*(1-pi),axis=0)\n",
    "    lp += -0.5*K*np.log(2*np.pi*sigma2*tau2)-0.5*np.sum(beta**2,axis=0)/sigma2*tau2\n",
    "    lp += -0.5*np.log(2*np.pi*sigma2) # log likelihood part 1\n",
    "    lp += -0.5*np.sum(y[None,:]-np.squeeze(np.matmul(x[None,:,:],beta.T[:,:,None])),axis=1)/sigma2 # ll part 2\n",
    "    \n",
    "    return lp"
   ]
  },
  {
   "cell_type": "markdown",
   "id": "e7d1fe65",
   "metadata": {},
   "source": [
    "## Prostate cancer data"
   ]
  },
  {
   "cell_type": "code",
   "execution_count": 3,
   "id": "ad4ab122",
   "metadata": {},
   "outputs": [
    {
     "data": {
      "text/html": [
       "<div>\n",
       "<style scoped>\n",
       "    .dataframe tbody tr th:only-of-type {\n",
       "        vertical-align: middle;\n",
       "    }\n",
       "\n",
       "    .dataframe tbody tr th {\n",
       "        vertical-align: top;\n",
       "    }\n",
       "\n",
       "    .dataframe thead th {\n",
       "        text-align: right;\n",
       "    }\n",
       "</style>\n",
       "<table border=\"1\" class=\"dataframe\">\n",
       "  <thead>\n",
       "    <tr style=\"text-align: right;\">\n",
       "      <th></th>\n",
       "      <th>Unnamed: 0</th>\n",
       "      <th>lcavol</th>\n",
       "      <th>lweight</th>\n",
       "      <th>age</th>\n",
       "      <th>lbph</th>\n",
       "      <th>svi</th>\n",
       "      <th>lcp</th>\n",
       "      <th>gleason</th>\n",
       "      <th>pgg45</th>\n",
       "      <th>lpsa</th>\n",
       "      <th>train</th>\n",
       "    </tr>\n",
       "  </thead>\n",
       "  <tbody>\n",
       "    <tr>\n",
       "      <th>0</th>\n",
       "      <td>1</td>\n",
       "      <td>-0.579818</td>\n",
       "      <td>2.769459</td>\n",
       "      <td>50</td>\n",
       "      <td>-1.386294</td>\n",
       "      <td>0</td>\n",
       "      <td>-1.386294</td>\n",
       "      <td>6</td>\n",
       "      <td>0</td>\n",
       "      <td>-0.430783</td>\n",
       "      <td>T</td>\n",
       "    </tr>\n",
       "    <tr>\n",
       "      <th>1</th>\n",
       "      <td>2</td>\n",
       "      <td>-0.994252</td>\n",
       "      <td>3.319626</td>\n",
       "      <td>58</td>\n",
       "      <td>-1.386294</td>\n",
       "      <td>0</td>\n",
       "      <td>-1.386294</td>\n",
       "      <td>6</td>\n",
       "      <td>0</td>\n",
       "      <td>-0.162519</td>\n",
       "      <td>T</td>\n",
       "    </tr>\n",
       "    <tr>\n",
       "      <th>2</th>\n",
       "      <td>3</td>\n",
       "      <td>-0.510826</td>\n",
       "      <td>2.691243</td>\n",
       "      <td>74</td>\n",
       "      <td>-1.386294</td>\n",
       "      <td>0</td>\n",
       "      <td>-1.386294</td>\n",
       "      <td>7</td>\n",
       "      <td>20</td>\n",
       "      <td>-0.162519</td>\n",
       "      <td>T</td>\n",
       "    </tr>\n",
       "    <tr>\n",
       "      <th>3</th>\n",
       "      <td>4</td>\n",
       "      <td>-1.203973</td>\n",
       "      <td>3.282789</td>\n",
       "      <td>58</td>\n",
       "      <td>-1.386294</td>\n",
       "      <td>0</td>\n",
       "      <td>-1.386294</td>\n",
       "      <td>6</td>\n",
       "      <td>0</td>\n",
       "      <td>-0.162519</td>\n",
       "      <td>T</td>\n",
       "    </tr>\n",
       "    <tr>\n",
       "      <th>4</th>\n",
       "      <td>5</td>\n",
       "      <td>0.751416</td>\n",
       "      <td>3.432373</td>\n",
       "      <td>62</td>\n",
       "      <td>-1.386294</td>\n",
       "      <td>0</td>\n",
       "      <td>-1.386294</td>\n",
       "      <td>6</td>\n",
       "      <td>0</td>\n",
       "      <td>0.371564</td>\n",
       "      <td>T</td>\n",
       "    </tr>\n",
       "    <tr>\n",
       "      <th>...</th>\n",
       "      <td>...</td>\n",
       "      <td>...</td>\n",
       "      <td>...</td>\n",
       "      <td>...</td>\n",
       "      <td>...</td>\n",
       "      <td>...</td>\n",
       "      <td>...</td>\n",
       "      <td>...</td>\n",
       "      <td>...</td>\n",
       "      <td>...</td>\n",
       "      <td>...</td>\n",
       "    </tr>\n",
       "    <tr>\n",
       "      <th>92</th>\n",
       "      <td>93</td>\n",
       "      <td>2.830268</td>\n",
       "      <td>3.876396</td>\n",
       "      <td>68</td>\n",
       "      <td>-1.386294</td>\n",
       "      <td>1</td>\n",
       "      <td>1.321756</td>\n",
       "      <td>7</td>\n",
       "      <td>60</td>\n",
       "      <td>4.385147</td>\n",
       "      <td>T</td>\n",
       "    </tr>\n",
       "    <tr>\n",
       "      <th>93</th>\n",
       "      <td>94</td>\n",
       "      <td>3.821004</td>\n",
       "      <td>3.896909</td>\n",
       "      <td>44</td>\n",
       "      <td>-1.386294</td>\n",
       "      <td>1</td>\n",
       "      <td>2.169054</td>\n",
       "      <td>7</td>\n",
       "      <td>40</td>\n",
       "      <td>4.684443</td>\n",
       "      <td>T</td>\n",
       "    </tr>\n",
       "    <tr>\n",
       "      <th>94</th>\n",
       "      <td>95</td>\n",
       "      <td>2.907447</td>\n",
       "      <td>3.396185</td>\n",
       "      <td>52</td>\n",
       "      <td>-1.386294</td>\n",
       "      <td>1</td>\n",
       "      <td>2.463853</td>\n",
       "      <td>7</td>\n",
       "      <td>10</td>\n",
       "      <td>5.143124</td>\n",
       "      <td>F</td>\n",
       "    </tr>\n",
       "    <tr>\n",
       "      <th>95</th>\n",
       "      <td>96</td>\n",
       "      <td>2.882564</td>\n",
       "      <td>3.773910</td>\n",
       "      <td>68</td>\n",
       "      <td>1.558145</td>\n",
       "      <td>1</td>\n",
       "      <td>1.558145</td>\n",
       "      <td>7</td>\n",
       "      <td>80</td>\n",
       "      <td>5.477509</td>\n",
       "      <td>T</td>\n",
       "    </tr>\n",
       "    <tr>\n",
       "      <th>96</th>\n",
       "      <td>97</td>\n",
       "      <td>3.471966</td>\n",
       "      <td>3.974998</td>\n",
       "      <td>68</td>\n",
       "      <td>0.438255</td>\n",
       "      <td>1</td>\n",
       "      <td>2.904165</td>\n",
       "      <td>7</td>\n",
       "      <td>20</td>\n",
       "      <td>5.582932</td>\n",
       "      <td>F</td>\n",
       "    </tr>\n",
       "  </tbody>\n",
       "</table>\n",
       "<p>97 rows × 11 columns</p>\n",
       "</div>"
      ],
      "text/plain": [
       "    Unnamed: 0    lcavol   lweight  age      lbph  svi       lcp  gleason  \\\n",
       "0            1 -0.579818  2.769459   50 -1.386294    0 -1.386294        6   \n",
       "1            2 -0.994252  3.319626   58 -1.386294    0 -1.386294        6   \n",
       "2            3 -0.510826  2.691243   74 -1.386294    0 -1.386294        7   \n",
       "3            4 -1.203973  3.282789   58 -1.386294    0 -1.386294        6   \n",
       "4            5  0.751416  3.432373   62 -1.386294    0 -1.386294        6   \n",
       "..         ...       ...       ...  ...       ...  ...       ...      ...   \n",
       "92          93  2.830268  3.876396   68 -1.386294    1  1.321756        7   \n",
       "93          94  3.821004  3.896909   44 -1.386294    1  2.169054        7   \n",
       "94          95  2.907447  3.396185   52 -1.386294    1  2.463853        7   \n",
       "95          96  2.882564  3.773910   68  1.558145    1  1.558145        7   \n",
       "96          97  3.471966  3.974998   68  0.438255    1  2.904165        7   \n",
       "\n",
       "    pgg45      lpsa train  \n",
       "0       0 -0.430783     T  \n",
       "1       0 -0.162519     T  \n",
       "2      20 -0.162519     T  \n",
       "3       0 -0.162519     T  \n",
       "4       0  0.371564     T  \n",
       "..    ...       ...   ...  \n",
       "92     60  4.385147     T  \n",
       "93     40  4.684443     T  \n",
       "94     10  5.143124     F  \n",
       "95     80  5.477509     T  \n",
       "96     20  5.582932     F  \n",
       "\n",
       "[97 rows x 11 columns]"
      ]
     },
     "execution_count": 3,
     "metadata": {},
     "output_type": "execute_result"
    }
   ],
   "source": [
    "prst_dat_raw = pd.read_table('https://hastie.su.domains/ElemStatLearn/datasets/prostate.data')\n",
    "prst_dat_raw"
   ]
  },
  {
   "cell_type": "code",
   "execution_count": 4,
   "id": "451bbc52",
   "metadata": {},
   "outputs": [],
   "source": [
    "# normalize data\n",
    "prst_dat_x = np.array(prst_dat_raw[prst_dat_raw.columns.difference(['Unnamed: 0','lpsa','train'])])\n",
    "prst_dat_x = (prst_dat_x-np.mean(prst_dat_x,axis=1)[:,None])/np.std(prst_dat_x,axis=1)[:,None]\n",
    "prst_dat_y = np.array(prst_dat_raw['lpsa'])\n",
    "prst_dat_y = (prst_dat_y-np.mean(prst_dat_y))/np.std(prst_dat_y)\n",
    "K = prst_dat_x.shape[1]"
   ]
  },
  {
   "cell_type": "code",
   "execution_count": 5,
   "id": "7b00479c",
   "metadata": {},
   "outputs": [],
   "source": [
    "# save data\n",
    "np.savetxt(\"dat/prst_dat_x.csv\", prst_dat_x, delimiter=\",\")\n",
    "np.savetxt(\"dat/prst_dat_y.csv\", prst_dat_y, delimiter=\",\")"
   ]
  },
  {
   "cell_type": "markdown",
   "id": "efe7e902",
   "metadata": {},
   "source": [
    "### Gibbs sampling"
   ]
  },
  {
   "cell_type": "code",
   "execution_count": 6,
   "id": "63de89dd",
   "metadata": {},
   "outputs": [],
   "source": [
    "####################\n",
    "####################\n",
    "#      setup       #\n",
    "####################\n",
    "####################\n",
    "gibbs_cput  =  np.inf*np.ones(2)\n",
    "\n",
    "steps = 5000\n",
    "burnin_pct = 0.8"
   ]
  },
  {
   "cell_type": "code",
   "execution_count": 7,
   "id": "33143720",
   "metadata": {},
   "outputs": [
    {
     "name": "stdout",
     "output_type": "stream",
     "text": [
      "Burn-in: 1/20000\r",
      "Burn-in: 2/20000\r",
      "Burn-in: 3/20000\r",
      "Burn-in: 4/20000\r",
      "Burn-in: 5/20000\r",
      "Burn-in: 6/20000\r",
      "Burn-in: 7/20000\r",
      "Burn-in: 8/20000\r",
      "Burn-in: 9/20000\r",
      "Burn-in: 10/20000\r",
      "Burn-in: 11/20000\r",
      "Burn-in: 12/20000\r",
      "Burn-in: 13/20000\r",
      "Burn-in: 14/20000\r",
      "Burn-in: 15/20000\r",
      "Burn-in: 16/20000\r",
      "Burn-in: 17/20000\r",
      "Burn-in: 18/20000\r",
      "Burn-in: 19/20000\r",
      "Burn-in: 20/20000\r",
      "Burn-in: 21/20000\r",
      "Burn-in: 22/20000\r",
      "Burn-in: 23/20000\r",
      "Burn-in: 24/20000\r",
      "Burn-in: 25/20000\r",
      "Burn-in: 26/20000\r",
      "Burn-in: 27/20000\r",
      "Burn-in: 28/20000\r",
      "Burn-in: 29/20000\r",
      "Burn-in: 30/20000\r",
      "Burn-in: 31/20000\r",
      "Burn-in: 32/20000\r",
      "Burn-in: 33/20000\r",
      "Burn-in: 34/20000\r",
      "Burn-in: 35/20000\r",
      "Burn-in: 36/20000\r",
      "Burn-in: 37/20000\r",
      "Burn-in: 38/20000\r",
      "Burn-in: 39/20000\r",
      "Burn-in: 40/20000\r",
      "Burn-in: 41/20000\r",
      "Burn-in: 42/20000\r",
      "Burn-in: 43/20000\r",
      "Burn-in: 44/20000\r",
      "Burn-in: 45/20000\r",
      "Burn-in: 46/20000\r",
      "Burn-in: 47/20000\r",
      "Burn-in: 48/20000\r",
      "Burn-in: 49/20000\r",
      "Burn-in: 50/20000\r",
      "Burn-in: 51/20000\r",
      "Burn-in: 52/20000\r",
      "Burn-in: 53/20000\r",
      "Burn-in: 54/20000\r",
      "Burn-in: 55/20000\r",
      "Burn-in: 56/20000\r",
      "Burn-in: 57/20000\r",
      "Burn-in: 58/20000\r",
      "Burn-in: 59/20000\r",
      "Burn-in: 60/20000\r",
      "Burn-in: 61/20000\r",
      "Burn-in: 62/20000\r",
      "Burn-in: 63/20000\r",
      "Burn-in: 64/20000\r",
      "Burn-in: 65/20000\r",
      "Burn-in: 66/20000\r",
      "Burn-in: 67/20000\r",
      "Burn-in: 68/20000\r",
      "Burn-in: 69/20000\r",
      "Burn-in: 70/20000\r",
      "Burn-in: 71/20000\r",
      "Burn-in: 72/20000\r",
      "Burn-in: 73/20000\r",
      "Burn-in: 74/20000\r",
      "Burn-in: 75/20000\r",
      "Burn-in: 76/20000\r",
      "Burn-in: 77/20000\r",
      "Burn-in: 78/20000\r",
      "Burn-in: 79/20000\r",
      "Burn-in: 80/20000\r",
      "Burn-in: 81/20000\r",
      "Burn-in: 82/20000\r",
      "Burn-in: 83/20000\r",
      "Burn-in: 84/20000\r",
      "Burn-in: 85/20000\r",
      "Burn-in: 86/20000\r",
      "Burn-in: 87/20000\r",
      "Burn-in: 88/20000\r",
      "Burn-in: 89/20000\r",
      "Burn-in: 90/20000\r",
      "Burn-in: 91/20000\r",
      "Burn-in: 92/20000\r",
      "Burn-in: 93/20000\r",
      "Burn-in: 94/20000\r",
      "Burn-in: 95/20000\r",
      "Burn-in: 96/20000\r",
      "Burn-in: 97/20000\r",
      "Burn-in: 98/20000\r",
      "Burn-in: 99/20000\r",
      "Burn-in: 100/20000\r",
      "Burn-in: 101/20000\r",
      "Burn-in: 102/20000\r",
      "Burn-in: 103/20000\r",
      "Burn-in: 104/20000\r",
      "Burn-in: 105/20000\r",
      "Burn-in: 106/20000\r",
      "Burn-in: 107/20000\r",
      "Burn-in: 108/20000\r",
      "Burn-in: 109/20000\r",
      "Burn-in: 110/20000\r",
      "Burn-in: 111/20000\r",
      "Burn-in: 112/20000\r",
      "Burn-in: 113/20000\r",
      "Burn-in: 114/20000\r",
      "Burn-in: 115/20000\r",
      "Burn-in: 116/20000\r",
      "Burn-in: 117/20000\r",
      "Burn-in: 118/20000\r",
      "Burn-in: 119/20000\r",
      "Burn-in: 120/20000\r",
      "Burn-in: 121/20000\r",
      "Burn-in: 122/20000\r",
      "Burn-in: 123/20000\r",
      "Burn-in: 124/20000\r",
      "Burn-in: 125/20000\r",
      "Burn-in: 126/20000\r",
      "Burn-in: 127/20000\r",
      "Burn-in: 128/20000\r",
      "Burn-in: 129/20000\r",
      "Burn-in: 130/20000\r",
      "Burn-in: 131/20000\r",
      "Burn-in: 132/20000\r",
      "Burn-in: 133/20000\r"
     ]
    },
    {
     "name": "stderr",
     "output_type": "stream",
     "text": [
      "/Users/giankdiluvi/Library/CloudStorage/Dropbox/Documents/ubc/repos/madmix/madmix/examples/SpikeAndSlab/../../src/gibbs.py:276: RuntimeWarning: covariance is not positive-semidefinite.\n",
      "  betas[t+1,:]=np.random.multivariate_normal(mean=ridge_hat@(x.T@y)/sigmas2[t+1],cov=ridge_hat,size=1)\n"
     ]
    },
    {
     "name": "stdout",
     "output_type": "stream",
     "text": [
      "Sampling: 5000/50000\r"
     ]
    }
   ],
   "source": [
    "####################\n",
    "####################\n",
    "#   run sampler    #\n",
    "####################\n",
    "####################\n",
    "seed=1\n",
    "\n",
    "t0=time.perf_counter()\n",
    "pis_prst,gbetas_prst,gthetas_prst,gsigmas2_prst,gtaus2_prst = gibbs.gibbs_sas(\n",
    "    y=prst_dat_y,x=prst_dat_x,steps=steps,burnin_pct=burnin_pct,seed=seed\n",
    ")\n",
    "gibbs_cput[0]=time.perf_counter()-t0"
   ]
  },
  {
   "cell_type": "code",
   "execution_count": 8,
   "id": "11c2c82a",
   "metadata": {},
   "outputs": [],
   "source": [
    "####################\n",
    "####################\n",
    "#    save data     #\n",
    "####################\n",
    "####################\n",
    "aux.pkl_save(pis_prst,'sockeye_run/prostatecancer/pred_pi')\n",
    "aux.pkl_save(gbetas_prst,'sockeye_run/prostatecancer/pred_beta')\n",
    "aux.pkl_save(gthetas_prst,'sockeye_run/prostatecancer/pred_theta')\n",
    "aux.pkl_save(gsigmas2_prst,'sockeye_run/prostatecancer/pred_sigma2')\n",
    "aux.pkl_save(gtaus2_prst,'sockeye_run/prostatecancer/pred_tau2')"
   ]
  },
  {
   "cell_type": "markdown",
   "id": "ef8473ab",
   "metadata": {},
   "source": [
    "### MAD Mix"
   ]
  },
  {
   "cell_type": "code",
   "execution_count": 9,
   "id": "5d32265c",
   "metadata": {},
   "outputs": [],
   "source": [
    "####################\n",
    "####################\n",
    "#      setup       #\n",
    "####################\n",
    "####################\n",
    "size = 100\n",
    "N = 500\n",
    "L = 15\n",
    "epsilon = 0.001\n",
    "xi = np.pi/16\n",
    "nu2 = 10\n",
    "\n",
    "# relevant functions\n",
    "lp = madmix_aux.sas_gen_lp(prst_dat_x,prst_dat_y)\n",
    "grad_lp = madmix_aux.sas_gen_grad_lp(prst_dat_x,prst_dat_y)\n",
    "lq0 = madmix_aux.sas_gen_lq0(prst_dat_x,prst_dat_y,nu2)\n",
    "randq0 = madmix_aux.sas_gen_randq0(prst_dat_x,prst_dat_y,nu2)"
   ]
  },
  {
   "cell_type": "code",
   "execution_count": 10,
   "id": "95924b70",
   "metadata": {},
   "outputs": [
    {
     "name": "stdout",
     "output_type": "stream",
     "text": [
      "Importing cached results\n",
      "Importing cached log density\n",
      "Done!\n"
     ]
    }
   ],
   "source": [
    "RUN=False # to control whether to run or to import saved results\n",
    "madmix_elbos = -np.inf*np.ones(2)\n",
    "\n",
    "if RUN:\n",
    "    madmix_cput  =  np.inf*np.ones(2)\n",
    "    \n",
    "    print('Sampling')\n",
    "    t0=time.perf_counter()\n",
    "    xd_,ud_,xc_,rho_,uc_=madmix.randqN(size,N,randq0,L,epsilon,lp,grad_lp,xi)\n",
    "    madmix_cput[0]=time.perf_counter()-t0\n",
    "    \n",
    "    mad_prst_results=madmix_aux.sas_pack(xd_,ud_,xc_,rho_,uc_)\n",
    "    print('Done!')\n",
    "    print('Saving sampling results')\n",
    "    aux.pkl_save(mad_prst_results,'results/mad_prst_results')\n",
    "    \n",
    "    print('Evaluating log density')\n",
    "    mad_lq_prst = madmix.lqN(xd_.astype(int),ud_,xc_,rho_,uc_,N,lq0,L,epsilon,lp,grad_lp,xi)\n",
    "    print('Saving log density results')\n",
    "    aux.pkl_save(mad_lq_prst,'results/mad_prst_lq')\n",
    "    print('Done!')\n",
    "else:\n",
    "    print('Importing cached results')\n",
    "    mad_prst_results=aux.pkl_load('results/mad_prst_results')\n",
    "    \n",
    "    print('Importing cached log density')\n",
    "    mad_lq_prst=aux.pkl_load('results/mad_prst_lq')\n",
    "    xd_,ud_,xc_,rho_,uc_=madmix_aux.sas_unpack(mad_prst_results,K=prst_dat_x.shape[1])\n",
    "    print('Done!')\n",
    "# end if"
   ]
  },
  {
   "cell_type": "code",
   "execution_count": 11,
   "id": "739d427a",
   "metadata": {},
   "outputs": [],
   "source": [
    "# format results\n",
    "madmix_pi_prst = np.copy(xd_)\n",
    "thetau,tau2u,sigma2u,madmix_beta_prst = madmix_aux.sas_unflatten(xc_)\n",
    "madmix_theta_prst,madmix_tau2_prst,madmix_sigma2_prst = madmix_aux.sas_constrain(thetau,tau2u,sigma2u)"
   ]
  },
  {
   "cell_type": "code",
   "execution_count": 12,
   "id": "31c6aff9",
   "metadata": {},
   "outputs": [],
   "source": [
    "# calculate ELBO\n",
    "lp = sas_lposterior(madmix_pi_prst,madmix_theta_prst,madmix_tau2_prst,madmix_sigma2_prst,madmix_beta_prst,\n",
    "                    prst_dat_x,prst_dat_y)\n",
    "madmix_elbos[0] = np.nanmean(mad_lq_prst-lp)"
   ]
  },
  {
   "cell_type": "markdown",
   "id": "6fe3c478",
   "metadata": {},
   "source": [
    "### Mean-field"
   ]
  },
  {
   "cell_type": "code",
   "execution_count": 13,
   "id": "09336c46",
   "metadata": {},
   "outputs": [],
   "source": [
    "####################\n",
    "####################\n",
    "#   import data    #\n",
    "####################\n",
    "####################\n",
    "mf_prst_results = np.genfromtxt('results/mf_prst_results.csv', \n",
    "                                delimiter=\",\",\n",
    "                                skip_header=1)"
   ]
  },
  {
   "cell_type": "code",
   "execution_count": 14,
   "id": "86528ab5",
   "metadata": {},
   "outputs": [],
   "source": [
    "mf_elbos = -np.inf*np.ones(2)\n",
    "mf_elbos[0] = meanfield.meanfield_sas_elbo(B=10000,mu=mf_prst_results[:,0],sigma=mf_prst_results[:,1],pi=mf_prst_results[:,2],\n",
    "            nu=10.,x=prst_dat_x,y=prst_dat_y)"
   ]
  },
  {
   "cell_type": "markdown",
   "id": "706ce395",
   "metadata": {},
   "source": [
    "### Dequantization"
   ]
  },
  {
   "cell_type": "code",
   "execution_count": 15,
   "id": "dfb6f79d",
   "metadata": {},
   "outputs": [
    {
     "name": "stdout",
     "output_type": "stream",
     "text": [
      "Total training time: 30.727250164868053 hours\n"
     ]
    }
   ],
   "source": [
    "########################\n",
    "########################\n",
    "#    dequantization    #\n",
    "########################\n",
    "########################\n",
    "dequant_flows_prst     = aux.pkl_load('sockeye/dequantization/prostatecancer/sas_flows_dequant')\n",
    "dequant_losses_prst    = aux.pkl_load('sockeye/dequantization/prostatecancer/sas_losses_dequant')\n",
    "dequant_cpu_times_prst = aux.pkl_load('sockeye/dequantization/prostatecancer/sas_cpu_times_dequant')\n",
    "dequant_densitycput  = np.zeros((2,len(dequant_flows_prst)))\n",
    "dequant_sim_size_prst  = len(dequant_flows_prst)\n",
    "dequant_max_iters_prst = dequant_losses_prst.shape[-1]\n",
    "print('Total training time: '+str(dequant_cpu_times_prst.sum()/3600)+' hours')"
   ]
  },
  {
   "cell_type": "code",
   "execution_count": 16,
   "id": "03d65818",
   "metadata": {},
   "outputs": [
    {
     "data": {
      "text/plain": [
       "Text(0.5, 1.0, 'Dequantization RealNVP training loss traceplots')"
      ]
     },
     "execution_count": 16,
     "metadata": {},
     "output_type": "execute_result"
    },
    {
     "data": {
      "image/png": "[encoded data removed]",
      "text/plain": [
       "<Figure size 1500x750 with 1 Axes>"
      ]
     },
     "metadata": {},
     "output_type": "display_data"
    }
   ],
   "source": [
    "# loss traceplot\n",
    "threshold=np.inf\n",
    "for i in range(dequant_sim_size_prst): plt.plot(np.arange(dequant_max_iters_prst)[dequant_losses_prst[i,:]<threshold],dequant_losses_prst[i,dequant_losses_prst[i,:]<threshold],'-k',alpha=0.5)\n",
    "plt.xlabel('Iteration')\n",
    "plt.ylabel('Loss')\n",
    "plt.title('Dequantization RealNVP training loss traceplots')"
   ]
  },
  {
   "cell_type": "code",
   "execution_count": 17,
   "id": "248e3a54",
   "metadata": {},
   "outputs": [
    {
     "name": "stdout",
     "output_type": "stream",
     "text": [
      "1/36\r",
      "2/36\r",
      "3/36\r",
      "4/36\r",
      "5/36\r",
      "6/36\r",
      "7/36\r",
      "8/36\r",
      "9/36\r",
      "10/36\r",
      "11/36\r"
     ]
    },
    {
     "name": "stderr",
     "output_type": "stream",
     "text": [
      "/var/folders/k3/24b0dzl557v5m0_0658q2cxr0000gn/T/ipykernel_39374/735616984.py:30: RuntimeWarning: invalid value encountered in add\n",
      "  lp += stats.gamma(a=a1,scale=1./a2).logpdf(sigma2)\n",
      "/var/folders/k3/24b0dzl557v5m0_0658q2cxr0000gn/T/ipykernel_39374/735616984.py:31: RuntimeWarning: divide by zero encountered in log1p\n",
      "  lp += np.sum(np.log(theta)*pi + np.log1p(-theta)*(1-pi),axis=0)\n",
      "/var/folders/k3/24b0dzl557v5m0_0658q2cxr0000gn/T/ipykernel_39374/735616984.py:31: RuntimeWarning: invalid value encountered in multiply\n",
      "  lp += np.sum(np.log(theta)*pi + np.log1p(-theta)*(1-pi),axis=0)\n",
      "/var/folders/k3/24b0dzl557v5m0_0658q2cxr0000gn/T/ipykernel_39374/735616984.py:32: RuntimeWarning: invalid value encountered in multiply\n",
      "  lp += -0.5*K*np.log(2*np.pi*sigma2*tau2)-0.5*np.sum(beta**2,axis=0)/sigma2*tau2\n",
      "/var/folders/k3/24b0dzl557v5m0_0658q2cxr0000gn/T/ipykernel_39374/735616984.py:32: RuntimeWarning: divide by zero encountered in log\n",
      "  lp += -0.5*K*np.log(2*np.pi*sigma2*tau2)-0.5*np.sum(beta**2,axis=0)/sigma2*tau2\n",
      "/var/folders/k3/24b0dzl557v5m0_0658q2cxr0000gn/T/ipykernel_39374/735616984.py:32: RuntimeWarning: divide by zero encountered in divide\n",
      "  lp += -0.5*K*np.log(2*np.pi*sigma2*tau2)-0.5*np.sum(beta**2,axis=0)/sigma2*tau2\n",
      "/var/folders/k3/24b0dzl557v5m0_0658q2cxr0000gn/T/ipykernel_39374/735616984.py:32: RuntimeWarning: overflow encountered in divide\n",
      "  lp += -0.5*K*np.log(2*np.pi*sigma2*tau2)-0.5*np.sum(beta**2,axis=0)/sigma2*tau2\n",
      "/var/folders/k3/24b0dzl557v5m0_0658q2cxr0000gn/T/ipykernel_39374/735616984.py:32: RuntimeWarning: overflow encountered in multiply\n",
      "  lp += -0.5*K*np.log(2*np.pi*sigma2*tau2)-0.5*np.sum(beta**2,axis=0)/sigma2*tau2\n",
      "/var/folders/k3/24b0dzl557v5m0_0658q2cxr0000gn/T/ipykernel_39374/735616984.py:32: RuntimeWarning: invalid value encountered in subtract\n",
      "  lp += -0.5*K*np.log(2*np.pi*sigma2*tau2)-0.5*np.sum(beta**2,axis=0)/sigma2*tau2\n",
      "/var/folders/k3/24b0dzl557v5m0_0658q2cxr0000gn/T/ipykernel_39374/735616984.py:33: RuntimeWarning: divide by zero encountered in log\n",
      "  lp += -0.5*np.log(2*np.pi*sigma2) # log likelihood part 1\n",
      "/var/folders/k3/24b0dzl557v5m0_0658q2cxr0000gn/T/ipykernel_39374/735616984.py:34: RuntimeWarning: divide by zero encountered in divide\n",
      "  lp += -0.5*np.sum(y[None,:]-np.squeeze(np.matmul(x[None,:,:],beta.T[:,:,None])),axis=1)/sigma2 # ll part 2\n",
      "/var/folders/k3/24b0dzl557v5m0_0658q2cxr0000gn/T/ipykernel_39374/4145633204.py:40: UserWarning: Warning: converting a masked element to nan.\n",
      "  dequant_elbos_prst[i]=-np.mean(np.ma.masked_invalid(dequant_densities_prst[i,:] - llp))\n",
      "/Users/giankdiluvi/Library/Python/3.9/lib/python/site-packages/scipy/stats/_distn_infrastructure.py:2126: RuntimeWarning: overflow encountered in divide\n",
      "  x = np.asarray((x - loc)/scale, dtype=dtyp)\n",
      "/var/folders/k3/24b0dzl557v5m0_0658q2cxr0000gn/T/ipykernel_39374/735616984.py:31: RuntimeWarning: divide by zero encountered in log\n",
      "  lp += np.sum(np.log(theta)*pi + np.log1p(-theta)*(1-pi),axis=0)\n",
      "/var/folders/k3/24b0dzl557v5m0_0658q2cxr0000gn/T/ipykernel_39374/735616984.py:32: RuntimeWarning: invalid value encountered in add\n",
      "  lp += -0.5*K*np.log(2*np.pi*sigma2*tau2)-0.5*np.sum(beta**2,axis=0)/sigma2*tau2\n",
      "/var/folders/k3/24b0dzl557v5m0_0658q2cxr0000gn/T/ipykernel_39374/735616984.py:33: RuntimeWarning: overflow encountered in multiply\n",
      "  lp += -0.5*np.log(2*np.pi*sigma2) # log likelihood part 1\n"
     ]
    },
    {
     "name": "stdout",
     "output_type": "stream",
     "text": [
      "12/36\r",
      "13/36\r",
      "14/36\r",
      "15/36\r",
      "16/36\r",
      "17/36\r"
     ]
    },
    {
     "name": "stderr",
     "output_type": "stream",
     "text": [
      "/var/folders/k3/24b0dzl557v5m0_0658q2cxr0000gn/T/ipykernel_39374/735616984.py:32: RuntimeWarning: overflow encountered in square\n",
      "  lp += -0.5*K*np.log(2*np.pi*sigma2*tau2)-0.5*np.sum(beta**2,axis=0)/sigma2*tau2\n",
      "/var/folders/k3/24b0dzl557v5m0_0658q2cxr0000gn/T/ipykernel_39374/735616984.py:32: RuntimeWarning: invalid value encountered in divide\n",
      "  lp += -0.5*K*np.log(2*np.pi*sigma2*tau2)-0.5*np.sum(beta**2,axis=0)/sigma2*tau2\n"
     ]
    },
    {
     "name": "stdout",
     "output_type": "stream",
     "text": [
      "36/36\r"
     ]
    },
    {
     "data": {
      "text/plain": [
       "<Figure size 1500x750 with 0 Axes>"
      ]
     },
     "metadata": {},
     "output_type": "display_data"
    }
   ],
   "source": [
    "#########################\n",
    "#########################\n",
    "# get samples and elbos #\n",
    "#########################\n",
    "#########################\n",
    "torch.manual_seed(1)\n",
    "sample_size=1000\n",
    "Kp=int(K+3+K)\n",
    "dequant_samples_prst=np.zeros((dequant_sim_size_prst,sample_size,Kp))\n",
    "dequant_densities_prst=np.zeros((dequant_sim_size_prst,sample_size))\n",
    "dequant_elbos_prst=-np.inf*np.ones(dequant_sim_size_prst)\n",
    "\n",
    "for i in range(dequant_sim_size_prst):\n",
    "    print(str(i+1)+'/'+str(dequant_sim_size_prst),end='\\r')\n",
    "    tmp_flow=dequant_flows_prst[i]\n",
    "    if isinstance(tmp_flow, int): continue\n",
    "    \n",
    "    try:\n",
    "        # generate sample\n",
    "        tmp_sample=tmp_flow.sample(sample_size)\n",
    "        dequant_samples_prst[i,:,:] = tmp_sample.detach().numpy()\n",
    "    \n",
    "        # unpack and quantize sample\n",
    "        xd,xc = dequantization.sas_unpack_torch(tmp_sample.T,K)\n",
    "        thetau,tau2u,sigma2u,beta = dequantization.sas_unflatten_torch(xc)\n",
    "        theta,tau2,sigma2 = dequantization.sas_constrain_torch(thetau,tau2u,sigma2u)\n",
    "        theta,tau2,sigma2=theta.detach().numpy(),tau2.detach().numpy(),sigma2.detach().numpy()\n",
    "        beta = beta.detach().numpy()\n",
    "        pi = np.floor(xd.detach().numpy()).astype(int)\n",
    "        pi[pi<0] = 0\n",
    "        pi[pi>1] = 1\n",
    "    \n",
    "        # compute density\n",
    "        t0=time.perf_counter()\n",
    "        dequant_densities_prst[i,:]=tmp_flow.log_prob(tmp_sample).detach().numpy()\n",
    "        dequant_densitycput[0,i]=time.perf_counter()-t0\n",
    "    \n",
    "        # estimate elbo\n",
    "        llp = sas_lposterior(pi,theta,tau2,sigma2,beta,prst_dat_x,prst_dat_y)\n",
    "        dequant_elbos_prst[i]=-np.mean(np.ma.masked_invalid(dequant_densities_prst[i,:] - llp))\n",
    "        \n",
    "    except Exception: continue\n",
    "# end for\n",
    "plt.clf()"
   ]
  },
  {
   "cell_type": "code",
   "execution_count": 18,
   "id": "e1abf54b",
   "metadata": {},
   "outputs": [
    {
     "name": "stdout",
     "output_type": "stream",
     "text": [
      "Optimal flow: 10\n"
     ]
    }
   ],
   "source": [
    "i_star=np.nanargmax(dequant_elbos_prst)\n",
    "print('Optimal flow: '+str(i_star))"
   ]
  },
  {
   "cell_type": "code",
   "execution_count": 19,
   "id": "1bff88c9",
   "metadata": {},
   "outputs": [],
   "source": [
    "xd,xc = dequantization.sas_unpack_torch(dequant_flows_prst[i_star].sample(10000).T,K)\n",
    "thetau,tau2u,sigma2u,beta = dequantization.sas_unflatten_torch(xc)\n",
    "theta,tau2,sigma2 = dequantization.sas_constrain_torch(thetau,tau2u,sigma2u)\n",
    "pi = np.floor(xd.detach().numpy()).astype(int)\n",
    "pi[pi<0] = 0\n",
    "pi[pi>1] = 1"
   ]
  },
  {
   "cell_type": "code",
   "execution_count": 20,
   "id": "2c95581b",
   "metadata": {},
   "outputs": [
    {
     "data": {
      "text/plain": [
       "array([0.1621, 0.1311, 0.1155, 0.2375, 0.1377, 0.1389, 0.2022, 0.1305])"
      ]
     },
     "execution_count": 20,
     "metadata": {},
     "output_type": "execute_result"
    }
   ],
   "source": [
    "np.mean(pi,axis=1)"
   ]
  },
  {
   "cell_type": "code",
   "execution_count": 21,
   "id": "d0152eb6",
   "metadata": {},
   "outputs": [
    {
     "data": {
      "text/plain": [
       "tensor([ 0.7837, -0.5979,  0.5353,  0.7268,  0.2076,  1.7640,  0.2532, -1.4555],\n",
       "       grad_fn=<MeanBackward1>)"
      ]
     },
     "execution_count": 21,
     "metadata": {},
     "output_type": "execute_result"
    }
   ],
   "source": [
    "torch.mean(beta,axis=1)"
   ]
  },
  {
   "cell_type": "markdown",
   "id": "9c387a34",
   "metadata": {},
   "source": [
    "### Concrete"
   ]
  },
  {
   "cell_type": "code",
   "execution_count": 7,
   "id": "3f9f5502",
   "metadata": {},
   "outputs": [
    {
     "name": "stdout",
     "output_type": "stream",
     "text": [
      "Total training time: 70.98156718736352 hours\n"
     ]
    }
   ],
   "source": [
    "########################\n",
    "########################\n",
    "#       concrete       #\n",
    "########################\n",
    "########################\n",
    "#concrete_flows_prst     = aux.pkl_load('sockeye/prostatecancer/sas_flows')\n",
    "concrete_losses_prst    = aux.pkl_load('sockeye/prostatecancer/sas_losses')\n",
    "concrete_cpu_times_prst = aux.pkl_load('sockeye/prostatecancer/sas_cpu_times')\n",
    "concrete_densitycput  = np.zeros((2,len(concrete_losses_prst)))\n",
    "concrete_sim_size_prst  = len(concrete_losses_prst)\n",
    "concrete_max_iters_prst = concrete_losses_prst.shape[-1]\n",
    "print('Total training time: '+str(concrete_cpu_times_prst.sum()/3600)+' hours')"
   ]
  },
  {
   "cell_type": "code",
   "execution_count": 14,
   "id": "bd74c958",
   "metadata": {},
   "outputs": [
    {
     "name": "stdout",
     "output_type": "stream",
     "text": [
      "128/128\r"
     ]
    }
   ],
   "source": [
    "####################\n",
    "####################\n",
    "#    load flows    #\n",
    "####################\n",
    "####################\n",
    "\n",
    "# manually loading flows due to data corruption (that's why you always cache!)\n",
    "path='sockeye/prostatecancer/cache/'\n",
    "files=os.listdir(path)\n",
    "flows_files=[file[:-4] for file in files if 'flows' in file] # only get name without extension\n",
    "\n",
    "concrete_flows_prst=[0 for i in range(concrete_sim_size_prst)]\n",
    "for i in range(len(flows_files)):  \n",
    "    print(str(i+1)+'/'+str(len(flows_files)),end='\\r')\n",
    "    concrete_flows_prst[i]=aux.pkl_load(path+flows_files[i])"
   ]
  },
  {
   "cell_type": "code",
   "execution_count": 15,
   "id": "227042b0",
   "metadata": {},
   "outputs": [
    {
     "data": {
      "text/plain": [
       "Text(0.5, 1.0, 'Concrete RealNVP training loss traceplots')"
      ]
     },
     "execution_count": 15,
     "metadata": {},
     "output_type": "execute_result"
    },
    {
     "data": {
      "image/png": "[encoded data removed]",
      "text/plain": [
       "<Figure size 1500x750 with 1 Axes>"
      ]
     },
     "metadata": {},
     "output_type": "display_data"
    }
   ],
   "source": [
    "# loss traceplot\n",
    "threshold=10000\n",
    "for i in range(concrete_sim_size_prst): plt.plot(np.arange(concrete_max_iters_prst)[concrete_losses_prst[i,:]<threshold],concrete_losses_prst[i,concrete_losses_prst[i,:]<threshold],'-k',alpha=0.5)\n",
    "plt.xlabel('Iteration')\n",
    "plt.ylabel('Loss')\n",
    "plt.title('Concrete RealNVP training loss traceplots')"
   ]
  },
  {
   "cell_type": "code",
   "execution_count": 16,
   "id": "2aaac955",
   "metadata": {},
   "outputs": [
    {
     "name": "stdout",
     "output_type": "stream",
     "text": [
      "1/144\r",
      "2/144\r",
      "3/144\r"
     ]
    },
    {
     "name": "stderr",
     "output_type": "stream",
     "text": [
      "/var/folders/k3/24b0dzl557v5m0_0658q2cxr0000gn/T/ipykernel_44407/735616984.py:32: RuntimeWarning: overflow encountered in multiply\n",
      "  lp += -0.5*K*np.log(2*np.pi*sigma2*tau2)-0.5*np.sum(beta**2,axis=0)/sigma2*tau2\n",
      "/var/folders/k3/24b0dzl557v5m0_0658q2cxr0000gn/T/ipykernel_44407/735616984.py:32: RuntimeWarning: overflow encountered in divide\n",
      "  lp += -0.5*K*np.log(2*np.pi*sigma2*tau2)-0.5*np.sum(beta**2,axis=0)/sigma2*tau2\n",
      "/var/folders/k3/24b0dzl557v5m0_0658q2cxr0000gn/T/ipykernel_44407/2503215977.py:30: RuntimeWarning: overflow encountered in exp\n",
      "  xd = np.exp(xd).reshape(K,2,sample_size)\n",
      "/var/folders/k3/24b0dzl557v5m0_0658q2cxr0000gn/T/ipykernel_44407/735616984.py:30: RuntimeWarning: invalid value encountered in add\n",
      "  lp += stats.gamma(a=a1,scale=1./a2).logpdf(sigma2)\n",
      "/var/folders/k3/24b0dzl557v5m0_0658q2cxr0000gn/T/ipykernel_44407/735616984.py:31: RuntimeWarning: divide by zero encountered in log\n",
      "  lp += np.sum(np.log(theta)*pi + np.log1p(-theta)*(1-pi),axis=0)\n",
      "/var/folders/k3/24b0dzl557v5m0_0658q2cxr0000gn/T/ipykernel_44407/735616984.py:31: RuntimeWarning: invalid value encountered in multiply\n",
      "  lp += np.sum(np.log(theta)*pi + np.log1p(-theta)*(1-pi),axis=0)\n",
      "/var/folders/k3/24b0dzl557v5m0_0658q2cxr0000gn/T/ipykernel_44407/735616984.py:31: RuntimeWarning: divide by zero encountered in log1p\n",
      "  lp += np.sum(np.log(theta)*pi + np.log1p(-theta)*(1-pi),axis=0)\n",
      "/var/folders/k3/24b0dzl557v5m0_0658q2cxr0000gn/T/ipykernel_44407/735616984.py:32: RuntimeWarning: invalid value encountered in multiply\n",
      "  lp += -0.5*K*np.log(2*np.pi*sigma2*tau2)-0.5*np.sum(beta**2,axis=0)/sigma2*tau2\n",
      "/var/folders/k3/24b0dzl557v5m0_0658q2cxr0000gn/T/ipykernel_44407/735616984.py:32: RuntimeWarning: divide by zero encountered in log\n",
      "  lp += -0.5*K*np.log(2*np.pi*sigma2*tau2)-0.5*np.sum(beta**2,axis=0)/sigma2*tau2\n",
      "/var/folders/k3/24b0dzl557v5m0_0658q2cxr0000gn/T/ipykernel_44407/735616984.py:32: RuntimeWarning: divide by zero encountered in divide\n",
      "  lp += -0.5*K*np.log(2*np.pi*sigma2*tau2)-0.5*np.sum(beta**2,axis=0)/sigma2*tau2\n",
      "/var/folders/k3/24b0dzl557v5m0_0658q2cxr0000gn/T/ipykernel_44407/735616984.py:32: RuntimeWarning: invalid value encountered in subtract\n",
      "  lp += -0.5*K*np.log(2*np.pi*sigma2*tau2)-0.5*np.sum(beta**2,axis=0)/sigma2*tau2\n",
      "/var/folders/k3/24b0dzl557v5m0_0658q2cxr0000gn/T/ipykernel_44407/735616984.py:33: RuntimeWarning: divide by zero encountered in log\n",
      "  lp += -0.5*np.log(2*np.pi*sigma2) # log likelihood part 1\n",
      "/var/folders/k3/24b0dzl557v5m0_0658q2cxr0000gn/T/ipykernel_44407/735616984.py:34: RuntimeWarning: divide by zero encountered in divide\n",
      "  lp += -0.5*np.sum(y[None,:]-np.squeeze(np.matmul(x[None,:,:],beta.T[:,:,None])),axis=1)/sigma2 # ll part 2\n",
      "/var/folders/k3/24b0dzl557v5m0_0658q2cxr0000gn/T/ipykernel_44407/2503215977.py:40: UserWarning: Warning: converting a masked element to nan.\n",
      "  concrete_elbos_prst[i]=-np.mean(np.ma.masked_invalid(concrete_densities_prst[i,:] - llp))\n"
     ]
    },
    {
     "name": "stdout",
     "output_type": "stream",
     "text": [
      "4/144\r",
      "5/144\r",
      "6/144\r",
      "7/144\r"
     ]
    },
    {
     "name": "stderr",
     "output_type": "stream",
     "text": [
      "/var/folders/k3/24b0dzl557v5m0_0658q2cxr0000gn/T/ipykernel_44407/735616984.py:32: RuntimeWarning: invalid value encountered in add\n",
      "  lp += -0.5*K*np.log(2*np.pi*sigma2*tau2)-0.5*np.sum(beta**2,axis=0)/sigma2*tau2\n"
     ]
    },
    {
     "name": "stdout",
     "output_type": "stream",
     "text": [
      "13/144\r"
     ]
    },
    {
     "name": "stderr",
     "output_type": "stream",
     "text": [
      "/Users/giankdiluvi/Library/Python/3.9/lib/python/site-packages/scipy/stats/_distn_infrastructure.py:2126: RuntimeWarning: overflow encountered in divide\n",
      "  x = np.asarray((x - loc)/scale, dtype=dtyp)\n"
     ]
    },
    {
     "name": "stdout",
     "output_type": "stream",
     "text": [
      "14/144\r",
      "15/144\r"
     ]
    },
    {
     "name": "stderr",
     "output_type": "stream",
     "text": [
      "/var/folders/k3/24b0dzl557v5m0_0658q2cxr0000gn/T/ipykernel_44407/735616984.py:33: RuntimeWarning: overflow encountered in multiply\n",
      "  lp += -0.5*np.log(2*np.pi*sigma2) # log likelihood part 1\n"
     ]
    },
    {
     "name": "stdout",
     "output_type": "stream",
     "text": [
      "35/144\r"
     ]
    },
    {
     "name": "stderr",
     "output_type": "stream",
     "text": [
      "/var/folders/k3/24b0dzl557v5m0_0658q2cxr0000gn/T/ipykernel_44407/735616984.py:32: RuntimeWarning: overflow encountered in square\n",
      "  lp += -0.5*K*np.log(2*np.pi*sigma2*tau2)-0.5*np.sum(beta**2,axis=0)/sigma2*tau2\n",
      "/Users/giankdiluvi/Library/Python/3.9/lib/python/site-packages/numpy/core/fromnumeric.py:86: RuntimeWarning: overflow encountered in reduce\n",
      "  return ufunc.reduce(obj, axis, dtype, out, **passkwargs)\n",
      "/var/folders/k3/24b0dzl557v5m0_0658q2cxr0000gn/T/ipykernel_44407/735616984.py:32: RuntimeWarning: invalid value encountered in divide\n",
      "  lp += -0.5*K*np.log(2*np.pi*sigma2*tau2)-0.5*np.sum(beta**2,axis=0)/sigma2*tau2\n"
     ]
    },
    {
     "name": "stdout",
     "output_type": "stream",
     "text": [
      "94/144\r"
     ]
    },
    {
     "name": "stderr",
     "output_type": "stream",
     "text": [
      "/var/folders/k3/24b0dzl557v5m0_0658q2cxr0000gn/T/ipykernel_44407/735616984.py:31: RuntimeWarning: invalid value encountered in add\n",
      "  lp += np.sum(np.log(theta)*pi + np.log1p(-theta)*(1-pi),axis=0)\n"
     ]
    },
    {
     "name": "stdout",
     "output_type": "stream",
     "text": [
      "144/144\r"
     ]
    },
    {
     "data": {
      "text/plain": [
       "<Figure size 1500x750 with 0 Axes>"
      ]
     },
     "metadata": {},
     "output_type": "display_data"
    }
   ],
   "source": [
    "#########################\n",
    "#########################\n",
    "# get samples and elbos #\n",
    "#########################\n",
    "#########################\n",
    "torch.manual_seed(1)\n",
    "sample_size=1000\n",
    "Kp=int(2*K+3+K)\n",
    "concrete_samples_prst=np.zeros((concrete_sim_size_prst,sample_size,Kp))\n",
    "concrete_densities_prst=np.zeros((concrete_sim_size_prst,sample_size))\n",
    "concrete_elbos_prst=-np.inf*np.ones(concrete_sim_size_prst)\n",
    "\n",
    "for i in range(concrete_sim_size_prst):\n",
    "    print(str(i+1)+'/'+str(concrete_sim_size_prst),end='\\r')\n",
    "    tmp_flow=concrete_flows_prst[i]\n",
    "    if isinstance(tmp_flow, int): continue\n",
    "    \n",
    "    try:\n",
    "        # generate sample\n",
    "        tmp_sample=tmp_flow.sample(sample_size)\n",
    "        concrete_samples_prst[i,:,:] = tmp_sample.detach().numpy()\n",
    "    \n",
    "        # unpack and quantize sample\n",
    "        xd,xc = sas_unpack_torch_concrete(tmp_sample.T,K)\n",
    "        thetau,tau2u,sigma2u,beta = sas_unflatten_torch_concrete(xc)\n",
    "        theta,tau2,sigma2 = sas_constrain_torch_concrete(thetau,tau2u,sigma2u)\n",
    "        theta,tau2,sigma2=theta.detach().numpy(),tau2.detach().numpy(),sigma2.detach().numpy()\n",
    "        beta = beta.detach().numpy()\n",
    "        xd = xd.detach().numpy()\n",
    "        xd = np.exp(xd).reshape(K,2,sample_size)\n",
    "        pi = np.argmax(xd,axis=1)\n",
    "    \n",
    "        # compute density\n",
    "        t0=time.perf_counter()\n",
    "        concrete_densities_prst[i,:]=tmp_flow.log_prob(tmp_sample).detach().numpy()\n",
    "        concrete_densitycput[0,i]=time.perf_counter()-t0\n",
    "    \n",
    "        # estimate elbo\n",
    "        llp = sas_lposterior(pi,theta,tau2,sigma2,beta,prst_dat_x,prst_dat_y)\n",
    "        concrete_elbos_prst[i]=-np.mean(np.ma.masked_invalid(concrete_densities_prst[i,:] - llp))\n",
    "        \n",
    "    except Exception: continue\n",
    "# end for\n",
    "plt.clf()"
   ]
  },
  {
   "cell_type": "code",
   "execution_count": 17,
   "id": "f12f0d1b",
   "metadata": {},
   "outputs": [
    {
     "name": "stdout",
     "output_type": "stream",
     "text": [
      "Optimal flow: 58\n"
     ]
    }
   ],
   "source": [
    "i_star=np.nanargmax(concrete_elbos_prst)\n",
    "print('Optimal flow: '+str(i_star))"
   ]
  },
  {
   "cell_type": "code",
   "execution_count": 18,
   "id": "4b11d476",
   "metadata": {},
   "outputs": [
    {
     "name": "stderr",
     "output_type": "stream",
     "text": [
      "/var/folders/k3/24b0dzl557v5m0_0658q2cxr0000gn/T/ipykernel_44407/2309370967.py:6: RuntimeWarning: overflow encountered in exp\n",
      "  xd = np.exp(xd).reshape(K,2,sample_size)\n"
     ]
    }
   ],
   "source": [
    "sample_size=10000\n",
    "xd,xc = sas_unpack_torch_concrete(concrete_flows_prst[i_star].sample(sample_size).T,K)\n",
    "thetau,tau2u,sigma2u,beta = sas_unflatten_torch_concrete(xc)\n",
    "theta,tau2,sigma2 = sas_constrain_torch_concrete(thetau,tau2u,sigma2u)\n",
    "xd = xd.detach().numpy()\n",
    "xd = np.exp(xd).reshape(K,2,sample_size)\n",
    "pi = np.argmax(xd,axis=1)"
   ]
  },
  {
   "cell_type": "code",
   "execution_count": 19,
   "id": "ce8a740a",
   "metadata": {},
   "outputs": [
    {
     "data": {
      "text/plain": [
       "array([0.4295, 0.5381, 0.5649, 0.294 , 0.3597, 0.5357, 0.53  , 0.237 ])"
      ]
     },
     "execution_count": 19,
     "metadata": {},
     "output_type": "execute_result"
    }
   ],
   "source": [
    "np.mean(pi,axis=1)"
   ]
  },
  {
   "cell_type": "code",
   "execution_count": 20,
   "id": "5e0c177c",
   "metadata": {},
   "outputs": [
    {
     "data": {
      "text/plain": [
       "tensor([ 11286.1348,  53824.8633,  -5641.6592,   1316.9355, -34359.9023,\n",
       "         -6148.6206,  12734.0732, -89582.0000], grad_fn=<MeanBackward1>)"
      ]
     },
     "execution_count": 20,
     "metadata": {},
     "output_type": "execute_result"
    }
   ],
   "source": [
    "torch.mean(beta,axis=1)"
   ]
  },
  {
   "cell_type": "markdown",
   "id": "0f23cdb8",
   "metadata": {},
   "source": [
    "## Superconductivity data"
   ]
  },
  {
   "cell_type": "code",
   "execution_count": null,
   "id": "3ae31a39",
   "metadata": {},
   "outputs": [],
   "source": [
    "spr_dat_raw = pd.read_csv('dat/train.csv')\n",
    "spr_dat_raw"
   ]
  },
  {
   "cell_type": "code",
   "execution_count": null,
   "id": "3bf88c26",
   "metadata": {},
   "outputs": [],
   "source": [
    "# subsample and rm missing values (code from MixFlows by Xu et al.)\n",
    "spr_dat_raw = spr_dat_raw.loc[np.random.choice(spr_dat_raw.index, 100, replace=False)]\n",
    "spr_dat_raw = spr_dat_raw.replace('?', np.nan)\n",
    "spr_dat_raw = spr_dat_raw.dropna()"
   ]
  },
  {
   "cell_type": "code",
   "execution_count": null,
   "id": "011b4eaf",
   "metadata": {},
   "outputs": [],
   "source": [
    "# normalize data\n",
    "spr_dat_x = np.array(spr_dat_raw[spr_dat_raw.columns.difference(['critical_temp'])])\n",
    "spr_dat_x = (spr_dat_x-np.mean(spr_dat_x,axis=1)[:,None])/np.std(spr_dat_x,axis=1)[:,None]\n",
    "spr_dat_y = np.array(spr_dat_raw['critical_temp'])\n",
    "spr_dat_y = (spr_dat_y-np.mean(spr_dat_y))/np.std(spr_dat_y)\n",
    "K = spr_dat_x.shape[1]"
   ]
  },
  {
   "cell_type": "code",
   "execution_count": null,
   "id": "c3d116d8",
   "metadata": {},
   "outputs": [],
   "source": [
    "# save data\n",
    "np.savetxt(\"dat/spr_dat_x.csv\", spr_dat_x, delimiter=\",\")\n",
    "np.savetxt(\"dat/spr_dat_y.csv\", spr_dat_y, delimiter=\",\")"
   ]
  },
  {
   "cell_type": "markdown",
   "id": "b0e4f234",
   "metadata": {},
   "source": [
    "### Gibbs sampling"
   ]
  },
  {
   "cell_type": "code",
   "execution_count": null,
   "id": "c17e6c5d",
   "metadata": {},
   "outputs": [],
   "source": [
    "####################\n",
    "####################\n",
    "#      setup       #\n",
    "####################\n",
    "####################\n",
    "steps = 5000\n",
    "burnin_pct = 0.8"
   ]
  },
  {
   "cell_type": "code",
   "execution_count": null,
   "id": "489cd50a",
   "metadata": {},
   "outputs": [],
   "source": [
    "####################\n",
    "####################\n",
    "#   run sampler    #\n",
    "####################\n",
    "####################\n",
    "seed=1\n",
    "\n",
    "t0=time.perf_counter()\n",
    "gpis_spr,gbetas_spr,gthetas_spr,gsigmas2_spr,gtaus2_spr = gibbs.gibbs_sas(\n",
    "    y=spr_dat_y,x=spr_dat_x,steps=steps,burnin_pct=burnin_pct,seed=seed\n",
    ")\n",
    "gibbs_cput[1]=time.perf_counter()-t0"
   ]
  },
  {
   "cell_type": "code",
   "execution_count": null,
   "id": "9b178e20",
   "metadata": {},
   "outputs": [],
   "source": [
    "####################\n",
    "####################\n",
    "#    save data     #\n",
    "####################\n",
    "####################\n",
    "aux.pkl_save(gpis_spr,'sockeye_run/superconductivity/pred_pi')\n",
    "aux.pkl_save(gbetas_spr,'sockeye_run/superconductivity/pred_beta')\n",
    "aux.pkl_save(gthetas_spr,'sockeye_run/superconductivity/pred_theta')\n",
    "aux.pkl_save(gsigmas2_spr,'sockeye_run/superconductivity/pred_sigma2')\n",
    "aux.pkl_save(gtaus2_spr,'sockeye_run/superconductivity/pred_tau2')"
   ]
  },
  {
   "cell_type": "markdown",
   "id": "2c74a2f5",
   "metadata": {},
   "source": [
    "### MAD Mix"
   ]
  },
  {
   "cell_type": "code",
   "execution_count": null,
   "id": "f0eb6c60",
   "metadata": {},
   "outputs": [],
   "source": [
    "####################\n",
    "####################\n",
    "#      setup       #\n",
    "####################\n",
    "####################\n",
    "size = 100\n",
    "N = 500\n",
    "L = 15\n",
    "epsilon = 0.001\n",
    "xi = np.pi/16\n",
    "nu2 = 10\n",
    "\n",
    "# relevant functions\n",
    "lp = madmix_aux.sas_gen_lp(spr_dat_x,spr_dat_y)\n",
    "grad_lp = madmix_aux.sas_gen_grad_lp(spr_dat_x,spr_dat_y)\n",
    "lq0 = madmix_aux.sas_gen_lq0(spr_dat_x,spr_dat_y,nu2)\n",
    "randq0 = madmix_aux.sas_gen_randq0(spr_dat_x,spr_dat_y,nu2)"
   ]
  },
  {
   "cell_type": "code",
   "execution_count": null,
   "id": "54e973f2",
   "metadata": {},
   "outputs": [],
   "source": [
    "RUN=False # to control whether to run or to import saved results\n",
    "\n",
    "if RUN:\n",
    "    print('Sampling')\n",
    "    t0=time.perf_counter()\n",
    "    xd_,ud_,xc_,rho_,uc_=madmix.randqN(size,N,randq0,L,epsilon,lp,grad_lp,xi)\n",
    "    madmix_cput[1]=time.perf_counter()-t0\n",
    "    \n",
    "    mad_spr_results=madmix_aux.sas_pack(xd_,ud_,xc_,rho_,uc_)\n",
    "    print('Done!')\n",
    "    print('Saving sampling results')\n",
    "    aux.pkl_save(mad_spr_results,'results/mad_spr_results')\n",
    "    \n",
    "    print('Evaluating log density')\n",
    "    mad_lq_spr = madmix.lqN(xd_.astype(int),ud_,xc_,rho_,uc_,N,lq0,L,epsilon,lp,grad_lp,xi)\n",
    "    print('Saving log density results')\n",
    "    aux.pkl_save(mad_lq_spr,'results/mad_spr_lq')\n",
    "    print('Done!')\n",
    "else:\n",
    "    print('Importing cached results')\n",
    "    mad_spr_results=aux.pkl_load('results/mad_spr_results')\n",
    "    \n",
    "    print('Importing cached log density')\n",
    "    mad_lq_spr=aux.pkl_load('results/mad_spr_lq')\n",
    "    xd_,ud_,xc_,rho_,uc_=madmix_aux.sas_unpack(mad_spr_results,K=spr_dat_x.shape[1])\n",
    "    print('Done!')\n",
    "# end if"
   ]
  },
  {
   "cell_type": "code",
   "execution_count": null,
   "id": "129b138c",
   "metadata": {},
   "outputs": [],
   "source": [
    "# format results\n",
    "madmix_pi_spr = np.copy(xd_)\n",
    "thetau,tau2u,sigma2u,madmix_beta_spr = madmix_aux.sas_unflatten(xc_)\n",
    "madmix_theta_spr,madmix_tau2_spr,madmix_sigma2_spr = madmix_aux.sas_constrain(thetau,tau2u,sigma2u)"
   ]
  },
  {
   "cell_type": "code",
   "execution_count": null,
   "id": "e395d88c",
   "metadata": {},
   "outputs": [],
   "source": [
    "# calculate ELBO\n",
    "lp = sas_lposterior(madmix_pi_spr,madmix_theta_spr,madmix_tau2_spr,madmix_sigma2_spr,madmix_beta_spr,\n",
    "                    spr_dat_x,spr_dat_y)\n",
    "madmix_elbos[1] = np.nanmean(mad_lq_spr-lp)"
   ]
  },
  {
   "cell_type": "markdown",
   "id": "a6e65a1b",
   "metadata": {},
   "source": [
    "### Mean-field"
   ]
  },
  {
   "cell_type": "code",
   "execution_count": null,
   "id": "b0790893",
   "metadata": {},
   "outputs": [],
   "source": [
    "####################\n",
    "####################\n",
    "#   import data    #\n",
    "####################\n",
    "####################\n",
    "mf_spr_results = np.genfromtxt('results/mf_spr_results.csv', \n",
    "                                delimiter=\",\",\n",
    "                                skip_header=1)"
   ]
  },
  {
   "cell_type": "code",
   "execution_count": null,
   "id": "ab39c762",
   "metadata": {},
   "outputs": [],
   "source": [
    "mf_elbos[1]=meanfield.meanfield_sas_elbo(B=10000,mu=mf_spr_results[:,0],sigma=mf_spr_results[:,1],pi=mf_spr_results[:,2],\n",
    "            nu=10.,x=spr_dat_x,y=spr_dat_y)"
   ]
  },
  {
   "cell_type": "markdown",
   "id": "eab1c7ce",
   "metadata": {},
   "source": [
    "### Dequantization"
   ]
  },
  {
   "cell_type": "code",
   "execution_count": null,
   "id": "555b8fb6",
   "metadata": {},
   "outputs": [],
   "source": [
    "########################\n",
    "########################\n",
    "#    dequantization    #\n",
    "########################\n",
    "########################\n",
    "dequant_flows_spr     = aux.pkl_load('sockeye/dequantization/superconductivity/sas_flows_dequant')\n",
    "dequant_losses_spr    = aux.pkl_load('sockeye/dequantization/superconductivity/sas_losses_dequant')\n",
    "dequant_cpu_times_spr = aux.pkl_load('sockeye/dequantization/superconductivity/sas_cpu_times_dequant')\n",
    "dequant_sim_size_spr  = len(dequant_flows_spr)\n",
    "dequant_max_iters_spr = dequant_losses_spr.shape[-1]\n",
    "print('Total training time: '+str(dequant_cpu_times_spr.sum()/3600)+' hours')"
   ]
  },
  {
   "cell_type": "code",
   "execution_count": null,
   "id": "04c01c93",
   "metadata": {},
   "outputs": [],
   "source": [
    "# loss traceplot\n",
    "threshold=1000\n",
    "for i in range(dequant_sim_size_spr): plt.plot(np.arange(dequant_max_iters_spr)[dequant_losses_spr[i,:]<threshold],dequant_losses_spr[i,dequant_losses_spr[i,:]<threshold],'-k',alpha=0.5)\n",
    "plt.xlabel('Iteration')\n",
    "plt.ylabel('Loss')\n",
    "plt.title('Dequantization RealNVP training loss traceplots')"
   ]
  },
  {
   "cell_type": "code",
   "execution_count": null,
   "id": "933c9e69",
   "metadata": {},
   "outputs": [],
   "source": [
    "#########################\n",
    "#########################\n",
    "# get samples and elbos #\n",
    "#########################\n",
    "#########################\n",
    "torch.manual_seed(1)\n",
    "sample_size=1000\n",
    "Kp=int(K+3+K)\n",
    "dequant_samples_spr=np.zeros((dequant_sim_size_spr,sample_size,Kp))\n",
    "dequant_densities_spr=np.zeros((dequant_sim_size_spr,sample_size))\n",
    "dequant_elbos_spr=-np.inf*np.ones(dequant_sim_size_spr)\n",
    "\n",
    "for i in range(dequant_sim_size_spr):\n",
    "    print(str(i+1)+'/'+str(dequant_sim_size_spr),end='\\r')\n",
    "    tmp_flow=dequant_flows_spr[i]\n",
    "    if isinstance(tmp_flow, int): continue\n",
    "    \n",
    "    try:\n",
    "        # generate sample\n",
    "        tmp_sample=tmp_flow.sample(sample_size)\n",
    "        dequant_samples_spr[i,:,:] = tmp_sample.detach().numpy()\n",
    "    \n",
    "        # unpack and quantize sample\n",
    "        xd,xc = dequantization.sas_unpack_torch(tmp_sample.T,K)\n",
    "        thetau,tau2u,sigma2u,beta = dequantization.sas_unflatten_torch(xc)\n",
    "        theta,tau2,sigma2 = dequantization.sas_constrain_torch(thetau,tau2u,sigma2u)\n",
    "        theta,tau2,sigma2=theta.detach().numpy(),tau2.detach().numpy(),sigma2.detach().numpy()\n",
    "        beta = beta.detach().numpy()\n",
    "        pi = np.floor(xd.detach().numpy()).astype(int)\n",
    "        pi[pi<0] = 0\n",
    "        pi[pi>1] = 1\n",
    "    \n",
    "        # compute density\n",
    "        t0=time.perf_counter()\n",
    "        dequant_densities_spr[i,:]=tmp_flow.log_prob(tmp_sample).detach().numpy()\n",
    "        dequant_densitycput[1,i]=time.perf_counter()-t0\n",
    "    \n",
    "        # estimate elbo\n",
    "        llp = sas_lposterior(pi,theta,tau2,sigma2,beta,spr_dat_x,spr_dat_y)\n",
    "        dequant_elbos_spr[i]=-np.mean(np.ma.masked_invalid(dequant_densities_spr[i,:] - llp))\n",
    "        \n",
    "    except Exception: continue\n",
    "# end for\n",
    "plt.clf()"
   ]
  },
  {
   "cell_type": "code",
   "execution_count": null,
   "id": "b47ab3b6",
   "metadata": {},
   "outputs": [],
   "source": [
    "i_star=np.nanargmax(dequant_elbos_spr)\n",
    "print('Optimal flow: '+str(i_star))"
   ]
  },
  {
   "cell_type": "code",
   "execution_count": null,
   "id": "bef15dec",
   "metadata": {},
   "outputs": [],
   "source": [
    "xd,xc = dequantization.sas_unpack_torch(dequant_flows_spr[i_star].sample(10000).T,K)\n",
    "thetau,tau2u,sigma2u,beta = dequantization.sas_unflatten_torch(xc)\n",
    "theta,tau2,sigma2 = dequantization.sas_constrain_torch(thetau,tau2u,sigma2u)\n",
    "pi = np.floor(xd.detach().numpy()).astype(int)\n",
    "pi[pi<0] = 0\n",
    "pi[pi>1] = 1"
   ]
  },
  {
   "cell_type": "code",
   "execution_count": null,
   "id": "51ead81e",
   "metadata": {},
   "outputs": [],
   "source": [
    "np.mean(pi,axis=1)"
   ]
  },
  {
   "cell_type": "code",
   "execution_count": null,
   "id": "a5745956",
   "metadata": {},
   "outputs": [],
   "source": [
    "torch.mean(beta,axis=1)"
   ]
  },
  {
   "cell_type": "markdown",
   "id": "afd2c807",
   "metadata": {},
   "source": [
    "## Save results"
   ]
  },
  {
   "cell_type": "code",
   "execution_count": null,
   "id": "588d8fc1",
   "metadata": {},
   "outputs": [],
   "source": [
    "# MAD Mix\n",
    "aux.pkl_save(madmix_elbos, '../summary/results/madmix_elbos_sas')\n",
    "if RUN: aux.pkl_save(madmix_cput, '../summary/results/madmix_cput_sas')\n",
    "\n",
    "# Gibbs\n",
    "aux.pkl_save(gibbs_cput, '../summary/results/gibbs_cput_sas')\n",
    "\n",
    "# mean field\n",
    "mf_cput = np.genfromtxt('results/mf_cput.csv', \n",
    "                                delimiter=\",\",\n",
    "                                skip_header=1)\n",
    "aux.pkl_save(mf_cput, '../summary/results/meanfield_cput_sas')\n",
    "aux.pkl_save(mf_elbos, '../summary/results/meanfield_elbos_sas')\n",
    "\n",
    "# dequantization\n",
    "dequant_elbos=np.vstack((dequant_elbos_prst,dequant_elbos_spr))\n",
    "dequant_cpu_times=np.vstack((dequant_cpu_times_prst,dequant_cpu_times_spr))\n",
    "aux.pkl_save(dequant_elbos,'../summary/results/dequant_elbos_sas')\n",
    "aux.pkl_save(dequant_cpu_times,'../summary/results/dequant_cput_sas')\n",
    "aux.pkl_save(dequant_densitycput,'../summary/results/dequant_densitycput_sas')\n",
    "\n",
    "# concrete\n",
    "concrete_elbos=np.vstack((concrete_elbos_prst,concrete_elbos_spr))\n",
    "concrete_cpu_times=np.vstack((concrete_cpu_times_prst,concrete_cpu_times_spr))\n",
    "aux.pkl_save(concrete_elbos,'../summary/results/concrete_elbos_sas')\n",
    "aux.pkl_save(concrete_cpu_times,'../summary/results/concrete_cput_sas')\n",
    "aux.pkl_save(concrete_densitycput,'../summary/results/concrete_densitycput_sas')"
   ]
  }
 ],
 "metadata": {
  "kernelspec": {
   "display_name": "Python 3 (ipykernel)",
   "language": "python",
   "name": "python3"
  },
  "language_info": {
   "codemirror_mode": {
    "name": "ipython",
    "version": 3
   },
   "file_extension": ".py",
   "mimetype": "text/x-python",
   "name": "python",
   "nbconvert_exporter": "python",
   "pygments_lexer": "ipython3",
   "version": "3.9.6"
  }
 },
 "nbformat": 4,
 "nbformat_minor": 5
}
