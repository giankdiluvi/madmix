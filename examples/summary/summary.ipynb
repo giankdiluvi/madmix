{
 "cells": [
  {
   "cell_type": "markdown",
   "id": "7b62538f",
   "metadata": {},
   "source": [
    "# Summary of experiments"
   ]
  },
  {
   "cell_type": "code",
   "execution_count": 2,
   "id": "002b9f65",
   "metadata": {},
   "outputs": [],
   "source": [
    "import numpy as np\n",
    "import pandas as pd\n",
    "import matplotlib.pyplot as plt\n",
    "import sys, time, pickle\n",
    "\n",
    "sys.path.insert(1, '../../src/')\n",
    "from aux import *\n",
    "\n",
    "plt.rcParams.update({'figure.max_open_warning': 0})\n",
    "plt.rcParams[\"figure.figsize\"]=15,7.5\n",
    "plt.rcParams.update({'font.size': 40})\n",
    "fig_path='fig/'\n",
    "fig_path='../../../discrete-ergodic-flows-tex/fig/'"
   ]
  },
  {
   "cell_type": "code",
   "execution_count": 17,
   "id": "04401dab",
   "metadata": {},
   "outputs": [],
   "source": [
    "########################\n",
    "########################\n",
    "#    import results    #\n",
    "########################\n",
    "########################\n",
    "\n",
    "# mad mix\n",
    "madmix_elbos=pkl_load('results/madmix_elbos_toydiscrete')\n",
    "madmix_elbos=np.hstack((madmix_elbos,pkl_load('results/madmix_elbos_ising')))\n",
    "madmix_elbos=madmix_elbos[-madmix_elbos<np.inf]\n",
    "\n",
    "madmix_cput=pkl_load('results/madmix_cput_toydiscrete')\n",
    "madmix_cput=np.hstack((madmix_cput,pkl_load('results/madmix_cput_ising')))\n",
    "\n",
    "\n",
    "# gibbs\n",
    "gibbs_elbos=pkl_load('results/gibbs_elbos_toydiscrete')\n",
    "gibbs_elbos=np.hstack((gibbs_elbos,pkl_load('results/gibbs_elbos_ising')))\n",
    "gibbs_elbos=gibbs_elbos[-gibbs_elbos<np.inf]\n",
    "\n",
    "gibbs_cput=pkl_load('results/gibbs_cput_toydiscrete')\n",
    "gibbs_cput=np.hstack((gibbs_cput,pkl_load('results/gibbs_cput_ising')))\n",
    "\n",
    "\n",
    "# concrete\n",
    "concrete_elbos=pkl_load('results/concrete_elbos_toydiscrete')\n",
    "concrete_elbos=np.vstack((concrete_elbos,pkl_load('results/concrete_elbos_ising'))).flatten()\n",
    "concrete_elbos=concrete_elbos[-concrete_elbos<np.inf]\n",
    "\n",
    "concrete_cput=pkl_load('results/concrete_cput_toydiscrete')\n",
    "concrete_cput=np.vstack((concrete_cput,pkl_load('results/concrete_cput_ising'))).flatten()"
   ]
  }
 ],
 "metadata": {
  "kernelspec": {
   "display_name": "Python 3 (ipykernel)",
   "language": "python",
   "name": "python3"
  },
  "language_info": {
   "codemirror_mode": {
    "name": "ipython",
    "version": 3
   },
   "file_extension": ".py",
   "mimetype": "text/x-python",
   "name": "python",
   "nbconvert_exporter": "python",
   "pygments_lexer": "ipython3",
   "version": "3.9.6"
  }
 },
 "nbformat": 4,
 "nbformat_minor": 5
}
