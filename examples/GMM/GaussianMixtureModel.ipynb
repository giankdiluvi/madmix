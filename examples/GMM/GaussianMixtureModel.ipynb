{
 "cells": [
  {
   "cell_type": "markdown",
   "id": "d92f1d5f",
   "metadata": {},
   "source": [
    "# Gaussian Mixture Model examples"
   ]
  },
  {
   "cell_type": "code",
   "execution_count": 2,
   "id": "2780aebb",
   "metadata": {},
   "outputs": [],
   "source": [
    "import numpy as np\n",
    "import pandas as pd\n",
    "import matplotlib.pyplot as plt\n",
    "import scipy.stats as stats\n",
    "from sklearn.metrics import confusion_matrix\n",
    "import sys,time\n",
    "sys.path.insert(1, '../../src/')\n",
    "import madmix\n",
    "import gibbs\n",
    "from concrete import *\n",
    "import aux\n",
    "\n",
    "plt.rcParams.update({'figure.max_open_warning': 0})\n",
    "plt.rcParams[\"figure.figsize\"]=15,7.5\n",
    "plt.rcParams.update({'font.size': 40})\n",
    "fig_path='fig/'\n",
    "fig_path='../../../madmix-tex/fig/'"
   ]
  },
  {
   "cell_type": "code",
   "execution_count": null,
   "id": "da43b4f0",
   "metadata": {},
   "outputs": [],
   "source": []
  }
 ],
 "metadata": {
  "kernelspec": {
   "display_name": "Python 3 (ipykernel)",
   "language": "python",
   "name": "python3"
  },
  "language_info": {
   "codemirror_mode": {
    "name": "ipython",
    "version": 3
   },
   "file_extension": ".py",
   "mimetype": "text/x-python",
   "name": "python",
   "nbconvert_exporter": "python",
   "pygments_lexer": "ipython3",
   "version": "3.9.6"
  }
 },
 "nbformat": 4,
 "nbformat_minor": 5
}
