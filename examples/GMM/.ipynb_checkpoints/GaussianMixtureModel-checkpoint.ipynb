{
 "cells": [
  {
   "cell_type": "markdown",
   "id": "69fcf65e",
   "metadata": {},
   "source": [
    "# Gaussian Mixture Model examples"
   ]
  },
  {
   "cell_type": "code",
   "execution_count": null,
   "id": "0756c3cf",
   "metadata": {},
   "outputs": [],
   "source": [
    "import numpy as np\n",
    "import pandas as pd\n",
    "import matplotlib.pyplot as plt\n",
    "import scipy.stats as stats\n",
    "from sklearn.metrics import confusion_matrix\n",
    "import os,sys,time\n",
    "sys.path.insert(1, '../../src/')\n",
    "import madmix\n",
    "import gibbs\n",
    "from concrete import *\n",
    "import aux\n",
    "\n",
    "plt.rcParams.update({'figure.max_open_warning': 0})\n",
    "plt.rcParams[\"figure.figsize\"]=15,7.5\n",
    "plt.rcParams.update({'font.size': 40})\n",
    "fig_path='fig/'\n",
    "fig_path='../../../madmix-tex/fig/'"
   ]
  },
  {
   "cell_type": "markdown",
   "id": "7a2a42c9",
   "metadata": {},
   "source": [
    "## Old Faithful\n",
    "\n",
    "Example 1 of 3 (not included in manuscript)."
   ]
  },
  {
   "cell_type": "code",
   "execution_count": null,
   "id": "81e75a1c",
   "metadata": {},
   "outputs": [],
   "source": [
    "####################\n",
    "####################\n",
    "#  data wrangling  #\n",
    "####################\n",
    "####################\n",
    "of_dat=pd.read_table('https://gist.githubusercontent.com/curran/4b59d1046d9e66f2787780ad51a1cd87/raw/9ec906b78a98cf300947a37b56cfe70d01183200/data.tsv')\n",
    "dat=np.array(of_dat)\n",
    "K=2"
   ]
  },
  {
   "cell_type": "code",
   "execution_count": null,
   "id": "4a519908",
   "metadata": {},
   "outputs": [],
   "source": [
    "of_dat.plot.scatter('eruptions','waiting')"
   ]
  },
  {
   "cell_type": "markdown",
   "id": "b594f592",
   "metadata": {},
   "source": [
    "### Gibbs sampler\n",
    "\n",
    "Now we run a Gibbs sampler for 1,000 steps after burn-in \n",
    "(which will consist of 90% of the total steps taken,\n",
    "i.e., we run the sampler for 10,000 steps and take \n",
    "the last 1,000 as the sample)."
   ]
  },
  {
   "cell_type": "code",
   "execution_count": null,
   "id": "a04d2dc1",
   "metadata": {},
   "outputs": [],
   "source": [
    "####################\n",
    "####################\n",
    "#      setup       #\n",
    "####################\n",
    "####################\n",
    "\n",
    "# settings\n",
    "steps=1000\n",
    "burnin_pct=0.9\n",
    "D=dat.shape[1]\n",
    "\n",
    "# initial arrays\n",
    "mu0=np.array([[2,50],[5,80]])\n",
    "sigma0=np.zeros((K,D,D))\n",
    "for k in range(K): sigma0[k,:,:]=5.*np.eye(D)\n",
    "w0=np.ones(K)/K"
   ]
  },
  {
   "cell_type": "code",
   "execution_count": null,
   "id": "5cc2ac4f",
   "metadata": {},
   "outputs": [],
   "source": [
    "####################\n",
    "####################\n",
    "#   run sampler    #\n",
    "####################\n",
    "####################\n",
    "xs,ws,mus,sigmas=gibbs.gibbs_gmm(y=np.array(of_dat),mu0=mu0,sigma0=sigma0,w0=w0,steps=steps,burnin_pct=burnin_pct)"
   ]
  },
  {
   "cell_type": "code",
   "execution_count": null,
   "id": "de753886",
   "metadata": {},
   "outputs": [],
   "source": [
    "####################\n",
    "####################\n",
    "#     results      #\n",
    "####################\n",
    "####################\n",
    "plt.scatter(dat[:,0],dat[:,1],c=xs[-1,:])\n",
    "plt.plot(np.mean(mus,axis=0)[:,0],np.mean(mus,axis=0)[:,1],'*r',ms=10)\n",
    "\n",
    "xx, yy = np.mgrid[1:6:.1, 35:100:.1]\n",
    "data = np.dstack((xx, yy))\n",
    "for k in range(K):\n",
    "    rv = stats.multivariate_normal(np.mean(mus,axis=0)[k,:], np.mean(sigmas,axis=0)[k,:,:])\n",
    "    zz = rv.pdf(data)\n",
    "    plt.contour(xx, yy, zz,levels=4,colors='grey')\n",
    "\n",
    "    \n",
    "plt.xlabel('Eruptions')\n",
    "plt.ylabel('Wait time')"
   ]
  },
  {
   "cell_type": "markdown",
   "id": "84e8c199",
   "metadata": {},
   "source": [
    "## Palmer penguin data set"
   ]
  },
  {
   "cell_type": "code",
   "execution_count": null,
   "id": "1f78df47",
   "metadata": {},
   "outputs": [],
   "source": [
    "from palmerpenguins import load_penguins\n",
    "penguins = load_penguins().dropna()\n",
    "std_penguins=(penguins-penguins.mean())/penguins.std() # normalize data\n",
    "K=3"
   ]
  },
  {
   "cell_type": "code",
   "execution_count": null,
   "id": "5e02f286",
   "metadata": {},
   "outputs": [],
   "source": [
    "colors=np.squeeze(np.array(penguins[['species']]))\n",
    "colors[colors=='Adelie']='#7ad151'\n",
    "colors[colors=='Gentoo']='#2a788e'\n",
    "colors[colors=='Chinstrap']='#440154'\n",
    "pd.plotting.scatter_matrix(std_penguins[['bill_length_mm','bill_depth_mm','flipper_length_mm','body_mass_g']],c=colors);"
   ]
  },
  {
   "cell_type": "code",
   "execution_count": null,
   "id": "4562cb94",
   "metadata": {},
   "outputs": [],
   "source": [
    "pg_dat=np.array(std_penguins[['bill_length_mm','bill_depth_mm','flipper_length_mm','body_mass_g']])"
   ]
  },
  {
   "cell_type": "markdown",
   "id": "c07364c1",
   "metadata": {},
   "source": [
    "### Gibbs sampling"
   ]
  },
  {
   "cell_type": "code",
   "execution_count": null,
   "id": "90a05e4f",
   "metadata": {},
   "outputs": [],
   "source": [
    "####################\n",
    "####################\n",
    "#      setup       #\n",
    "####################\n",
    "####################\n",
    "\n",
    "# settings\n",
    "steps=1000\n",
    "burnin_pct=0.9\n",
    "D=pg_dat.shape[1]\n",
    "\n",
    "# initial arrays\n",
    "#mu0=np.array([[35.,25.,175.,3500.],  # green\n",
    "#              [55.,17.,200.,4000.],  # purple \n",
    "#              [45.,10.,225.,5000.]]) # blue\n",
    "mu0=np.array([[-2.,1.,-1.,-1.],  # green\n",
    "             [1.,1.,-0.5,-0.5],  # purple\n",
    "             [1.,-1.5,1.5,2.]])  # blue\n",
    "sigma0=np.zeros((K,D,D))\n",
    "for k in range(K): sigma0[k,:,:]=0.5*np.eye(D)\n",
    "w0=np.ones(K)/K"
   ]
  },
  {
   "cell_type": "code",
   "execution_count": null,
   "id": "6dba981b",
   "metadata": {},
   "outputs": [],
   "source": [
    "####################\n",
    "####################\n",
    "#   run sampler    #\n",
    "####################\n",
    "####################\n",
    "seed=1\n",
    "xs,ws,mus,sigmas=gibbs.gibbs_gmm(y=pg_dat,mu0=mu0,sigma0=sigma0,w0=w0,steps=steps,burnin_pct=burnin_pct,seed=seed)"
   ]
  },
  {
   "cell_type": "code",
   "execution_count": null,
   "id": "a4875b30",
   "metadata": {},
   "outputs": [],
   "source": [
    "####################\n",
    "####################\n",
    "#    save data     #\n",
    "####################\n",
    "####################\n",
    "aux.pkl_save(xs,'sockeye_run/penguin/pred_x')\n",
    "aux.pkl_save(ws,'sockeye_run/penguin/pred_w')\n",
    "aux.pkl_save(mus,'sockeye_run/penguin/pred_mu')\n",
    "aux.pkl_save(sigmas,'sockeye_run/penguin/pred_sigma')"
   ]
  },
  {
   "cell_type": "code",
   "execution_count": null,
   "id": "6dd6eb56",
   "metadata": {},
   "outputs": [],
   "source": [
    "colors[xs[-1,:]==0]='#440154'\n",
    "colors[xs[-1,:]==1]='#7ad151'\n",
    "colors[xs[-1,:]==2]='#2a788e'\n",
    "pd.plotting.scatter_matrix(penguins[['bill_length_mm','bill_depth_mm','flipper_length_mm','body_mass_g']],c=colors);"
   ]
  },
  {
   "cell_type": "markdown",
   "id": "f257170e",
   "metadata": {},
   "source": [
    "### Concrete "
   ]
  },
  {
   "cell_type": "code",
   "execution_count": null,
   "id": "95ba4f56",
   "metadata": {},
   "outputs": [],
   "source": [
    "####################\n",
    "####################\n",
    "#    load data     #\n",
    "####################\n",
    "####################\n",
    "path='sockeye/penguin/cache/'\n",
    "files=os.listdir(path)\n",
    "losses_files=[file[:-4] for file in files if 'losses' in file] # only get name without extension\n",
    "flows_files=[file[:-4] for file in files if 'flows' in file]\n",
    "\n",
    "losses=np.zeros((len(losses_files),10001))\n",
    "flows=[None for i in range(len(losses_files))]\n",
    "for i in range(len(losses_files)): \n",
    "    losses[i]=aux.pkl_load(path+losses_files[i])\n",
    "    flows[i]=aux.pkl_load(path+flows_files[i])\n",
    "# end for"
   ]
  },
  {
   "cell_type": "code",
   "execution_count": null,
   "id": "61930cf3",
   "metadata": {},
   "outputs": [],
   "source": [
    "# loss traceplot\n",
    "threshold=10000\n",
    "plt_losses=np.copy(losses)\n",
    "plt_losses[plt_losses>threshold]=threshold\n",
    "for i in range(len(losses_files)): plt.plot(np.arange(10001),plt_losses[i,:],c='black',alpha=0.8)\n",
    "plt.xlabel('Iteration #')\n",
    "plt.ylabel('Loss')"
   ]
  },
  {
   "cell_type": "code",
   "execution_count": null,
   "id": "70d0899e",
   "metadata": {},
   "outputs": [],
   "source": [
    "# retrieve best flow\n",
    "i_star=np.argmin(losses[:,-1])\n",
    "best_flow=flows[i_star]\n",
    "print('Optimal flow: '+str(i_star))"
   ]
  },
  {
   "cell_type": "code",
   "execution_count": null,
   "id": "894a4c19",
   "metadata": {},
   "outputs": [],
   "source": [
    "# generate sample from optimal flow\n",
    "torch.manual_seed(1)\n",
    "flow_sample=best_flow.sample(10000)"
   ]
  },
  {
   "cell_type": "code",
   "execution_count": null,
   "id": "50a658f9",
   "metadata": {},
   "outputs": [],
   "source": [
    "# loss 124 is smallest\n",
    "# corresponds to: temp: 5, depth: 64, width: 100, lr: 1e-5\n",
    "# here we train it manually\n",
    "N,K,D=xs.shape[1],mus.shape[1],mus.shape[2]\n",
    "tau0=0.1\n",
    "\n",
    "temp = 5.\n",
    "depth = 64\n",
    "width = 100\n",
    "\n",
    "lr = 1e-5\n",
    "max_iters=10001"
   ]
  },
  {
   "cell_type": "code",
   "execution_count": null,
   "id": "a9a872bd",
   "metadata": {},
   "outputs": [],
   "source": [
    "# sample generation\n",
    "xs_concrete=torch.from_numpy(xs)\n",
    "ws_concrete=torch.from_numpy(ws)\n",
    "mus_concrete=torch.from_numpy(mus)\n",
    "sigmas_concrete=torch.from_numpy(sigmas)\n",
    "\n",
    "conc_sample=gmm_concrete_sample(xs_concrete,ws_concrete,mus_concrete,sigmas_concrete,temp)"
   ]
  },
  {
   "cell_type": "code",
   "execution_count": null,
   "id": "9937dcf1",
   "metadata": {},
   "outputs": [],
   "source": [
    "tmp_flow_penguin,tmp_loss_penguin=trainGMMRealNVP(\n",
    "    temp=temp,depth=depth,N=N,K=K,D=D,tau0=tau0,sample=conc_sample,width=width,max_iters=max_iters,lr=lr,seed=2023,verbose=True\n",
    ")"
   ]
  },
  {
   "cell_type": "markdown",
   "id": "1b2c8718",
   "metadata": {},
   "source": [
    "## Waveform data set"
   ]
  },
  {
   "cell_type": "code",
   "execution_count": null,
   "id": "6a745b14",
   "metadata": {},
   "outputs": [],
   "source": [
    "from sklearn.decomposition import PCA\n",
    "waveform_dat=pd.read_table('https://hastie.su.domains/ElemStatLearn/datasets/waveform.train')\n",
    "pca = PCA(n_components=4)\n",
    "pca.fit(waveform_dat[waveform_dat.columns.difference(['row.names','y'])])\n",
    "waveform_pca=np.array(waveform_dat[waveform_dat.columns.difference(['row.names','y'])])@pca.components_.T"
   ]
  },
  {
   "cell_type": "code",
   "execution_count": null,
   "id": "9cc38081",
   "metadata": {},
   "outputs": [],
   "source": [
    "plt.scatter(waveform_pca[:,0],waveform_pca[:,1],c=np.squeeze(np.array(waveform_dat[['y']])))"
   ]
  },
  {
   "cell_type": "code",
   "execution_count": null,
   "id": "6f03c2d8",
   "metadata": {},
   "outputs": [],
   "source": [
    "wf_dat=waveform_pca[:,:2]\n",
    "K=3"
   ]
  },
  {
   "cell_type": "markdown",
   "id": "7311cf8d",
   "metadata": {},
   "source": [
    "### Gibbs sampling"
   ]
  },
  {
   "cell_type": "code",
   "execution_count": null,
   "id": "cf522db3",
   "metadata": {},
   "outputs": [],
   "source": [
    "####################\n",
    "####################\n",
    "#      setup       #\n",
    "####################\n",
    "####################\n",
    "\n",
    "# settings\n",
    "steps=1000\n",
    "burnin_pct=0.9\n",
    "D=wf_dat.shape[1]\n",
    "\n",
    "# initial arrays\n",
    "mu0=np.array([[-3.,4.],  # blue\n",
    "              [ 5.,4.],  # purple \n",
    "              [ 0.,0.]]) # yellow\n",
    "sigma0=np.zeros((K,D,D))\n",
    "for k in range(K): sigma0[k,:,:]=5.*np.eye(D)\n",
    "w0=np.ones(K)/K"
   ]
  },
  {
   "cell_type": "code",
   "execution_count": null,
   "id": "4cb9cf4c",
   "metadata": {},
   "outputs": [],
   "source": [
    "####################\n",
    "####################\n",
    "#   run sampler    #\n",
    "####################\n",
    "####################\n",
    "seed=1\n",
    "xs,ws,mus,sigmas=gibbs.gibbs_gmm(y=wf_dat,mu0=mu0,sigma0=sigma0,w0=w0,steps=steps,burnin_pct=burnin_pct,seed=seed)"
   ]
  },
  {
   "cell_type": "code",
   "execution_count": null,
   "id": "7cf24c99",
   "metadata": {},
   "outputs": [],
   "source": [
    "####################\n",
    "####################\n",
    "#    save data     #\n",
    "####################\n",
    "####################\n",
    "aux.pkl_save(xs,'sockeye_run/waveform/pred_x')\n",
    "aux.pkl_save(ws,'sockeye_run/waveform/pred_w')\n",
    "aux.pkl_save(mus,'sockeye_run/waveform/pred_mu')\n",
    "aux.pkl_save(sigmas,'sockeye_run/waveform/pred_sigma')"
   ]
  },
  {
   "cell_type": "code",
   "execution_count": null,
   "id": "f8aae00f",
   "metadata": {},
   "outputs": [],
   "source": [
    "plt.scatter(waveform_pca[:,0],waveform_pca[:,1],c=np.mean(xs,axis=0))\n",
    "plt.plot(np.mean(mus,axis=0)[:,0],np.mean(mus,axis=0)[:,1],'*r',ms=10)\n",
    "\n",
    "\n",
    "xx, yy = np.mgrid[-10:15:.1, -5:10:.1]\n",
    "data = np.dstack((xx, yy))\n",
    "for k in range(K):\n",
    "    rv = stats.multivariate_normal(np.mean(mus,axis=0)[k,:], np.mean(sigmas,axis=0)[k,:,:])\n",
    "    zz = rv.pdf(data)\n",
    "    plt.contour(xx, yy, zz,levels=4,colors='grey')"
   ]
  },
  {
   "cell_type": "markdown",
   "id": "c043e87c",
   "metadata": {},
   "source": [
    "### Concrete"
   ]
  },
  {
   "cell_type": "code",
   "execution_count": null,
   "id": "5d7184a7",
   "metadata": {},
   "outputs": [],
   "source": [
    "####################\n",
    "####################\n",
    "#    load data     #\n",
    "####################\n",
    "####################\n",
    "path='sockeye/waveform/cache/'\n",
    "files=os.listdir(path)\n",
    "losses_files=[file[:-4] for file in files if 'losses' in file] # only get name without extension\n",
    "flows_files=[file[:-4] for file in files if 'flows' in file]\n",
    "\n",
    "losses=np.zeros((len(losses_files),10001))\n",
    "flows=[None for i in range(len(losses_files))]\n",
    "for i in range(len(losses_files)): \n",
    "    losses[i]=aux.pkl_load(path+losses_files[i])\n",
    "    flows[i]=aux.pkl_load(path+flows_files[i])\n",
    "# end for"
   ]
  },
  {
   "cell_type": "code",
   "execution_count": null,
   "id": "65735c3b",
   "metadata": {},
   "outputs": [],
   "source": [
    "# loss traceplot\n",
    "threshold=10000\n",
    "plt_losses=np.copy(losses)\n",
    "plt_losses[plt_losses>threshold]=threshold\n",
    "for i in range(len(losses_files)): plt.plot(np.arange(10001),plt_losses[i,:],c='black',alpha=0.8)\n",
    "plt.xlabel('Iteration #')\n",
    "plt.ylabel('Loss')"
   ]
  },
  {
   "cell_type": "code",
   "execution_count": null,
   "id": "ec7a33b5",
   "metadata": {},
   "outputs": [],
   "source": [
    "# retrieve best flow\n",
    "i_star=np.argmin(losses[:,-1])\n",
    "best_flow=flows[i_star]\n",
    "print('Optimal flow: '+str(i_star))"
   ]
  },
  {
   "cell_type": "code",
   "execution_count": null,
   "id": "098cd464",
   "metadata": {},
   "outputs": [],
   "source": [
    "# generate sample from optimal flow\n",
    "torch.manual_seed(1)\n",
    "flow_sample=best_flow.sample(10000)"
   ]
  },
  {
   "cell_type": "code",
   "execution_count": null,
   "id": "fc6ff415",
   "metadata": {},
   "outputs": [],
   "source": [
    "# loss 122 is smallest\n",
    "# corresponds to: temp: 5, depth: 64, width: 50, lr: 1e-03\n",
    "# here we train it manually\n",
    "N,K,D=xs.shape[1],mus.shape[1],mus.shape[2]\n",
    "tau0=0.1\n",
    "\n",
    "temp = 5.\n",
    "depth = 64\n",
    "width = 50\n",
    "\n",
    "lr = 1e-3\n",
    "max_iters=10001"
   ]
  },
  {
   "cell_type": "code",
   "execution_count": null,
   "id": "6d569c06",
   "metadata": {},
   "outputs": [],
   "source": [
    "# sample generation\n",
    "xs_concrete=torch.from_numpy(xs)\n",
    "ws_concrete=torch.from_numpy(ws)\n",
    "mus_concrete=torch.from_numpy(mus)\n",
    "sigmas_concrete=torch.from_numpy(sigmas)\n",
    "\n",
    "conc_sample=gmm_concrete_sample(xs_concrete,ws_concrete,mus_concrete,sigmas_concrete,temp)"
   ]
  },
  {
   "cell_type": "code",
   "execution_count": null,
   "id": "f0aece64",
   "metadata": {},
   "outputs": [],
   "source": [
    "tmp_flow_waveform,tmp_loss_waveform=trainGMMRealNVP(\n",
    "    temp=temp,depth=depth,N=N,K=K,D=D,tau0=tau0,sample=conc_sample,width=width,max_iters=max_iters,lr=lr,seed=2023,verbose=True\n",
    ")"
   ]
  }
 ],
 "metadata": {
  "kernelspec": {
   "display_name": "Python 3 (ipykernel)",
   "language": "python",
   "name": "python3"
  },
  "language_info": {
   "codemirror_mode": {
    "name": "ipython",
    "version": 3
   },
   "file_extension": ".py",
   "mimetype": "text/x-python",
   "name": "python",
   "nbconvert_exporter": "python",
   "pygments_lexer": "ipython3",
   "version": "3.9.6"
  }
 },
 "nbformat": 4,
 "nbformat_minor": 5
}
