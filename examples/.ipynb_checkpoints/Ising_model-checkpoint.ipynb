{
 "cells": [
  {
   "cell_type": "markdown",
   "id": "5ede0711",
   "metadata": {},
   "source": [
    "# Ising model\n",
    "\n",
    "Here we consider inference on an Ising model.\n",
    "First we import the code and set some plotting parameters."
   ]
  },
  {
   "cell_type": "code",
   "execution_count": 1,
   "id": "a769b5f2",
   "metadata": {},
   "outputs": [],
   "source": [
    "import numpy as np\n",
    "import pandas as pd\n",
    "import matplotlib.pyplot as plt\n",
    "import sys\n",
    "sys.path.insert(1, '../discrete_mixflows/')\n",
    "from discrete_mixflows import *\n",
    "\n",
    "plt.rcParams.update({'figure.max_open_warning': 0})\n",
    "plt.rcParams[\"figure.figsize\"]=15,7.5\n",
    "plt.rcParams.update({'font.size': 24})"
   ]
  },
  {
   "cell_type": "markdown",
   "id": "5a3e6043",
   "metadata": {},
   "source": [
    "## 1D model\n",
    "\n",
    "The one dimensional Ising model considers a target distribution $\\pi(x)$\n",
    "on $\\mathcal{X}=\\{-1,1\\}^M$ such that\n",
    "$$\n",
    "    \\pi(x)\\propto\\exp\\left\\{\\sum_{m=1}^{M-1} x_m x_{m+1}\\right\\}.\n",
    "$$\n",
    "The normalizing constant is intractable since it involves a sum over $2^M$ terms\n",
    "but the full conditionals $\\pi_m$ can be calculated in closed form.\n",
    "Specifically, for the particles $x_1$ and $x_M$ the full conditional\n",
    "only depends on their only neighbors:\n",
    "$$\n",
    "    \\pi_1(x)=\\frac{\\exp(x x_2)}{2\\cosh(1)},\\qquad\n",
    "    \\pi_M(x)=\\frac{\\exp(x x_{M-1})}{2\\cosh(1)}.\n",
    "$$\n",
    "The normalizing constant is tractable since it involves adding over two terms only.\n",
    "The probability for the particles with two neighbors \n",
    "$x_m,  m\\neq1,M$ is likewise given by\n",
    "$$\n",
    "    \\pi_m(x)=\\frac{\\exp(x x_{m-1})+\\exp(x x_{m+1})}{4\\cosh(1)}.\n",
    "$$\n",
    "\n",
    "We consider an instantiation with $M=10$ particles."
   ]
  },
  {
   "cell_type": "code",
   "execution_count": 9,
   "id": "ee581c21",
   "metadata": {},
   "outputs": [],
   "source": [
    "M=5\n",
    "logZ1=np.log(2*np.cosh(1)) # same for any value of x_2 and x_(M-1)\n",
    "logZ2=np.log(4*np.cosh(1)) # same for any value of x_m, m!=2,M-1\n",
    "def lp(x,axis=None):\n",
    "    # compute the univariate log joint and conditional target pmfs of the Ising model\n",
    "    #\n",
    "    # inputs:\n",
    "    #    x    : (M,d) array with state values\n",
    "    #    axis : int, variable to condition on; returns joint if None\n",
    "    # outputs:\n",
    "    #   ext_lprb : if axis is None, (d,) array with log joint; else, (d,2) array with d conditionals \n",
    "    \n",
    "    xc=np.copy(x)\n",
    "    xc[xc==0]=-1 # internally lowest x=0, but here we need lowest x=-1\n",
    "    if axis==None: \n",
    "        tmp_x=np.vstack((np.zeros((1,xc.shape[1])),np.copy(xc))) # add row with 0's at start of x\n",
    "        lag_x=np.vstack((np.copy(xc),np.zeros((1,xc.shape[1])))) # add row with 0's at end of x\n",
    "        return np.sum(tmp_xc*lag_xc,axis=0)\n",
    "    if axis==0: return np.vstack((-xc[1,:],xc[1,:])).T-logZ1\n",
    "    if axis==M-1: return np.vstack((-xc[-2,:],xc[-2,:])).T-logZ1\n",
    "    if axis>=M: raise Exception(\"Axis out of bounds\")\n",
    "    return np.log(np.vstack((np.exp(-xc[axis-1,:])+np.exp(-xc[axis+1,:]),\\\n",
    "                             np.exp(xc[axis-1,:])+np.exp(xc[axis+1,:])))).T-logZ2"
   ]
  },
  {
   "cell_type": "code",
   "execution_count": 10,
   "id": "196eb14f",
   "metadata": {},
   "outputs": [],
   "source": [
    "lq0 = lambda x,u : np.log(1/M)*np.ones(x.shape[1])\n",
    "def randq0(size): \n",
    "    tmpx=np.random.randint(low=0,high=2,size=(M,size))\n",
    "    return tmpx,np.random.rand(M,size)"
   ]
  },
  {
   "cell_type": "code",
   "execution_count": null,
   "id": "c0de8e86",
   "metadata": {},
   "outputs": [],
   "source": [
    "xsamples,usamples=randqN(20,N=1000,lp=lp,randq0=randq0,xi=np.pi/16)"
   ]
  },
  {
   "cell_type": "code",
   "execution_count": null,
   "id": "8a7468f5",
   "metadata": {},
   "outputs": [],
   "source": [
    "for m in range(usamples.shape[0]): plt.hist(usamples[m,:],density=True,alpha=0.3,ec='black',bins=10)"
   ]
  },
  {
   "cell_type": "code",
   "execution_count": null,
   "id": "cf0c35e8",
   "metadata": {},
   "outputs": [],
   "source": [
    "plt.scatter(2*xsamples[0,:]-1-0.5*jit+jit*np.random.rand(xsamples.shape[1]),\\\n",
    "            2*xsamples[1,:]-1-0.5*jit+jit*np.random.rand(xsamples.shape[1]))"
   ]
  },
  {
   "cell_type": "code",
   "execution_count": null,
   "id": "6c545f31",
   "metadata": {},
   "outputs": [],
   "source": [
    "jit=0.3 # to jitter scatterplot\n",
    "xcsamples=2.*xsamples-1. # to transform back to -1,1\n",
    "for m in range(M): xcsamples[m,:]=xcsamples[m,:]+jit*np.random.rand(xcsamples.shape[1])-0.5*jit\n",
    "df = pd.DataFrame(xcsamples.T)\n",
    "axes = pd.plotting.scatter_matrix(df, alpha=0.5,hist_kwds={'bins': 4})"
   ]
  }
 ],
 "metadata": {
  "kernelspec": {
   "display_name": "Python 3 (ipykernel)",
   "language": "python",
   "name": "python3"
  },
  "language_info": {
   "codemirror_mode": {
    "name": "ipython",
    "version": 3
   },
   "file_extension": ".py",
   "mimetype": "text/x-python",
   "name": "python",
   "nbconvert_exporter": "python",
   "pygments_lexer": "ipython3",
   "version": "3.9.6"
  }
 },
 "nbformat": 4,
 "nbformat_minor": 5
}
